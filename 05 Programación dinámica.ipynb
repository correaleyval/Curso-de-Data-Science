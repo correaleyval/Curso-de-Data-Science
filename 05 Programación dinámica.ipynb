{
 "cells": [
  {
   "cell_type": "markdown",
   "metadata": {},
   "source": [
    "# Programación Dinámica y Estocástica\n",
    "\n",
    "## Objetivos\n",
    "\n",
    "* Aprender cuándo utilizar programación dinámica y sus beneficios.\n",
    "* Entender las diferencias entre programas deterministas y estocásticos.\n",
    "* Aprender a utilizar Programación Estocástica\n",
    "* Aprender a crear simulaciones computacionales válidas."
   ]
  },
  {
   "cell_type": "markdown",
   "metadata": {},
   "source": [
    "## Programación dinámica\n",
    "\n",
    "En la década de los 50s Richard Bellman necesitaba financiamiento del gobierno para poder continuar con sus investigaciones, por lo que necesitaba un nombre rimbombante para que no fueran capaz de rechazar su solicitud, por lo que eligió programación dinámica. Las propias palabras de Bellman fueron:\n",
    "\n",
    "> “[El nombre] Programación Dinámica se escogió para esconder a patrocinadores gubernamentales el hecho que en realidad estaba haciendo Matemáticas. La frase Programación Dinámica es algo que ningún congresista puede oponerse.” - Richard Bellman.\n",
    "\n",
    "* **Subestructura Óptima**. Una solución global óptima se puede encontrar al combinar soluciones óptimas de subproblemas locales.\n",
    "\n",
    "* **Problemas empalmados**. Una solución óptima que involucra resolver el mismo problema en varias ocasiones.\n",
    "\n",
    "Los problemas que puede optimizar son aquellos que tienen una **subestructura óptima**, esto significa que una solución óptima global se puede encontrar al combinar soluciones óptimas de subproblemas locales. ej: Merge Sort.\n",
    "\n",
    "También nos podemos encontrar con los **problemas empalmados**, los cuales implican resolver el mismo problema en varias ocasiones para dar con una solución óptima. ej: Fibonacci.\n",
    "\n",
    "Una técnica para obtener una alta velocidad en nuestro programa es la **Memorización**, el cual consiste en guardar cómputos previos y evitar realizarlos nuevamente. Normalmente se utiliza un diccionario, donde las consultas se pueden hacer en $O(1)$, y para ello hacemos un cambio de tiempo por espacio."
   ]
  },
  {
   "cell_type": "markdown",
   "metadata": {},
   "source": [
    "## Optimización de Fibonacci\n",
    "\n",
    "$$F_n = F_{n-1} + F_{n-2}$$\n",
    "\n",
    "### Implementación recursiva"
   ]
  },
  {
   "cell_type": "code",
   "execution_count": 1,
   "metadata": {},
   "outputs": [],
   "source": [
    "def fibonacci_recursivo(n: int) -> int:\n",
    "    if n == 0 or n == 1:\n",
    "        return 1\n",
    "    else:\n",
    "        return fibonacci_recursivo(n-1) + fibonacci_recursivo(n-2)\n"
   ]
  },
  {
   "cell_type": "code",
   "execution_count": 2,
   "metadata": {},
   "outputs": [
    {
     "name": "stdout",
     "output_type": "stream",
     "text": [
      "CPU times: user 58.5 s, sys: 13.6 ms, total: 58.5 s\n",
      "Wall time: 58.8 s\n"
     ]
    },
    {
     "data": {
      "text/plain": [
       "165580141"
      ]
     },
     "execution_count": 2,
     "metadata": {},
     "output_type": "execute_result"
    }
   ],
   "source": [
    "%%time\n",
    "fibonacci_recursivo(40)"
   ]
  },
  {
   "cell_type": "markdown",
   "metadata": {},
   "source": [
    "### Implementación dinámica"
   ]
  },
  {
   "cell_type": "code",
   "execution_count": 3,
   "metadata": {},
   "outputs": [],
   "source": [
    "def fibonacci_dinamico(n: int, memo: dict) -> int:\n",
    "    if n == 0 or n == 1:\n",
    "        return 1\n",
    "    try:\n",
    "        return memo[n]\n",
    "    except KeyError:\n",
    "        result = fibonacci_dinamico(n-1, memo) + fibonacci_dinamico(n-2, memo)\n",
    "        memo[n] = result\n",
    "        return result"
   ]
  },
  {
   "cell_type": "code",
   "execution_count": 4,
   "metadata": {},
   "outputs": [
    {
     "name": "stdout",
     "output_type": "stream",
     "text": [
      "CPU times: user 86 µs, sys: 1 µs, total: 87 µs\n",
      "Wall time: 90.8 µs\n"
     ]
    },
    {
     "data": {
      "text/plain": [
       "165580141"
      ]
     },
     "execution_count": 4,
     "metadata": {},
     "output_type": "execute_result"
    }
   ],
   "source": [
    "%%time\n",
    "fibonacci_dinamico(40, {})"
   ]
  },
  {
   "cell_type": "code",
   "execution_count": 5,
   "metadata": {},
   "outputs": [
    {
     "name": "stderr",
     "output_type": "stream",
     "text": [
      "100%|████████████████████████████████████████████████████████████████████████████████████████████████████████████████████████████████████████████████████████████████████| 100000/100000 [00:01<00:00, 77533.58it/s]"
     ]
    },
    {
     "name": "stdout",
     "output_type": "stream",
     "text": [
      "CPU times: user 888 ms, sys: 388 ms, total: 1.28 s\n",
      "Wall time: 1.32 s\n"
     ]
    },
    {
     "name": "stderr",
     "output_type": "stream",
     "text": [
      "\n"
     ]
    }
   ],
   "source": [
    "%%time\n",
    "from tqdm import tqdm\n",
    "\n",
    "memo = {}\n",
    "\n",
    "for i in tqdm(range(100000)):\n",
    "    fibonacci_dinamico(i, memo)"
   ]
  },
  {
   "cell_type": "code",
   "execution_count": 6,
   "metadata": {},
   "outputs": [
    {
     "name": "stdout",
     "output_type": "stream",
     "text": [
      "225591516161936330872512695036072072046011324913758190588638866418474627738686883405015987052796968498626\n"
     ]
    }
   ],
   "source": [
    "print(memo[500])"
   ]
  },
  {
   "cell_type": "markdown",
   "metadata": {},
   "source": [
    "## Caminos aleatorios\n",
    "\n",
    "* Es un tipo de simulación que elige aleatoriamente una decisión dentro de un conjunto de decisiones válidas.\n",
    "* Se utiliza en muchos campos del conocimiento cuando los sistemas no son deterministas e incluyen elementos de aleatoriedad.\n",
    "\n",
    "### Camino de borrachos"
   ]
  },
  {
   "cell_type": "code",
   "execution_count": 7,
   "metadata": {},
   "outputs": [],
   "source": [
    "import random\n",
    "\n",
    "\n",
    "class Borracho:\n",
    "    def __init__(self, nombre: str):\n",
    "        self.nombre = nombre\n",
    "\n",
    "\n",
    "class BorrachoTradicional(Borracho):\n",
    "    def __init__(self, nombre: str):\n",
    "        super().__init__(nombre)\n",
    "\n",
    "    def camina(self) -> tuple:\n",
    "        return random.choice([(0, 1), (0, -1), (1, 0), (-1, 0)])\n"
   ]
  },
  {
   "cell_type": "code",
   "execution_count": 27,
   "metadata": {},
   "outputs": [],
   "source": [
    "coordenadas_x = [0]\n",
    "coordenadas_y = [0]\n",
    "\n",
    "class Coordenada:\n",
    "    def __init__(self, x, y):\n",
    "        self.x = x\n",
    "        self.y = y\n",
    "\n",
    "    def mover(self, delta_x: int, delta_y: int) -> 'Coordenada':\n",
    "        return Coordenada(self.x + delta_x, self.y + delta_y)\n",
    "\n",
    "    def distancia(self, otra_coordenada: 'Coordenada') -> float:\n",
    "        delta_x = self.x - otra_coordenada.x\n",
    "        delta_y = self.y - otra_coordenada.y\n",
    "        return (delta_x**2 + delta_y**2)**0.5\n",
    "\n",
    "\n",
    "class Campo:\n",
    "    def __init__(self):\n",
    "        self.coordenadas = {}\n",
    "\n",
    "    def anhadir_borracho(self, borracho: Borracho, coordenada: Coordenada):\n",
    "        self.coordenadas[borracho] = coordenada\n",
    "\n",
    "    def mover_borracho(self, borracho: Borracho):\n",
    "        delta_x, delta_y = borracho.camina()\n",
    "        \n",
    "        coordenada_actual = self.coordenadas[borracho]\n",
    "        coordenada_nueva = coordenada_actual.mover(delta_x, delta_y)\n",
    "        \n",
    "        coordenadas_x.append(coordenada_nueva.x)\n",
    "        coordenadas_y.append(coordenada_nueva.y)\n",
    "        \n",
    "        self.coordenadas[borracho] = coordenada_nueva\n",
    "\n",
    "    def obtener_coordenada(self, borracho: Borracho) -> Coordenada:\n",
    "        return self.coordenadas[borracho]\n"
   ]
  },
  {
   "cell_type": "code",
   "execution_count": 32,
   "metadata": {},
   "outputs": [],
   "source": [
    "from bokeh.io import output_notebook\n",
    "from bokeh.plotting import figure, show\n",
    "\n",
    "def caminata(campo: Campo, borracho: Borracho, pasos: int) -> float:\n",
    "    inicio = campo.obtener_coordenada(borracho)\n",
    "    for _ in range(pasos):\n",
    "        campo.mover_borracho(borracho)\n",
    "\n",
    "    return inicio.distancia(campo.obtener_coordenada(borracho))\n",
    "\n",
    "\n",
    "def simular_caminata(pasos: int, numero_intentos: int, tipo_de_borracho: type):\n",
    "    borracho = tipo_de_borracho('Juan')\n",
    "    origen = Coordenada(0, 0)\n",
    "    distancias = []\n",
    "\n",
    "    for _ in range(numero_intentos):\n",
    "        campo = Campo()\n",
    "        campo.anhadir_borracho(borracho, origen)\n",
    "        simulacion_caminata = caminata(campo, borracho, pasos)\n",
    "        distancias.append(round(simulacion_caminata, 1))\n",
    "\n",
    "    return distancias\n",
    "\n",
    "def graficar(x: list, y: list):\n",
    "    grafica = figure(title='Camino aleatorio', x_axis_label='pasos', y_axis_label='distancia')\n",
    "    grafica.line(x, y, legend_label='distancia media')\n",
    "\n",
    "    show(grafica)\n",
    "\n",
    "def simular(distancias_de_caminatas: list, numero_intentos: int, tipo_de_borracho: type, show_graph: bool = False):\n",
    "    distancia_media_por_caminata = []\n",
    "    caminos = {}\n",
    "    \n",
    "    for pasos in distancias_de_caminatas:\n",
    "        distancias = simular_caminata(pasos, numero_intentos, tipo_de_borracho)\n",
    "        distancia_media = round(sum(distancias)/len(distancias), 4)\n",
    "        distancia_maxima = max(distancias)\n",
    "        distancia_minima = min(distancias)\n",
    "\n",
    "        distancia_media_por_caminata.append(distancia_media)\n",
    "\n",
    "        print(f'{tipo_de_borracho.__name__} caminata de {pasos} pasos')\n",
    "        print(f'Media = {distancia_media}')\n",
    "        print(f'Max = {distancia_maxima}')\n",
    "        print(f'Min = {distancia_minima}')\n",
    "        print()\n",
    "    \n",
    "    if show_graph:\n",
    "        graficar(distancias_de_caminatas, distancia_media_por_caminata)"
   ]
  },
  {
   "cell_type": "code",
   "execution_count": 33,
   "metadata": {},
   "outputs": [
    {
     "data": {
      "text/html": [
       "\n",
       "    <div class=\"bk-root\">\n",
       "        <a href=\"https://bokeh.org\" target=\"_blank\" class=\"bk-logo bk-logo-small bk-logo-notebook\"></a>\n",
       "        <span id=\"2015\">Loading BokehJS ...</span>\n",
       "    </div>"
      ]
     },
     "metadata": {},
     "output_type": "display_data"
    },
    {
     "data": {
      "application/javascript": [
       "\n",
       "(function(root) {\n",
       "  function now() {\n",
       "    return new Date();\n",
       "  }\n",
       "\n",
       "  const force = true;\n",
       "\n",
       "  if (typeof root._bokeh_onload_callbacks === \"undefined\" || force === true) {\n",
       "    root._bokeh_onload_callbacks = [];\n",
       "    root._bokeh_is_loading = undefined;\n",
       "  }\n",
       "\n",
       "  const JS_MIME_TYPE = 'application/javascript';\n",
       "  const HTML_MIME_TYPE = 'text/html';\n",
       "  const EXEC_MIME_TYPE = 'application/vnd.bokehjs_exec.v0+json';\n",
       "  const CLASS_NAME = 'output_bokeh rendered_html';\n",
       "\n",
       "  /**\n",
       "   * Render data to the DOM node\n",
       "   */\n",
       "  function render(props, node) {\n",
       "    const script = document.createElement(\"script\");\n",
       "    node.appendChild(script);\n",
       "  }\n",
       "\n",
       "  /**\n",
       "   * Handle when an output is cleared or removed\n",
       "   */\n",
       "  function handleClearOutput(event, handle) {\n",
       "    const cell = handle.cell;\n",
       "\n",
       "    const id = cell.output_area._bokeh_element_id;\n",
       "    const server_id = cell.output_area._bokeh_server_id;\n",
       "    // Clean up Bokeh references\n",
       "    if (id != null && id in Bokeh.index) {\n",
       "      Bokeh.index[id].model.document.clear();\n",
       "      delete Bokeh.index[id];\n",
       "    }\n",
       "\n",
       "    if (server_id !== undefined) {\n",
       "      // Clean up Bokeh references\n",
       "      const cmd_clean = \"from bokeh.io.state import curstate; print(curstate().uuid_to_server['\" + server_id + \"'].get_sessions()[0].document.roots[0]._id)\";\n",
       "      cell.notebook.kernel.execute(cmd_clean, {\n",
       "        iopub: {\n",
       "          output: function(msg) {\n",
       "            const id = msg.content.text.trim();\n",
       "            if (id in Bokeh.index) {\n",
       "              Bokeh.index[id].model.document.clear();\n",
       "              delete Bokeh.index[id];\n",
       "            }\n",
       "          }\n",
       "        }\n",
       "      });\n",
       "      // Destroy server and session\n",
       "      const cmd_destroy = \"import bokeh.io.notebook as ion; ion.destroy_server('\" + server_id + \"')\";\n",
       "      cell.notebook.kernel.execute(cmd_destroy);\n",
       "    }\n",
       "  }\n",
       "\n",
       "  /**\n",
       "   * Handle when a new output is added\n",
       "   */\n",
       "  function handleAddOutput(event, handle) {\n",
       "    const output_area = handle.output_area;\n",
       "    const output = handle.output;\n",
       "\n",
       "    // limit handleAddOutput to display_data with EXEC_MIME_TYPE content only\n",
       "    if ((output.output_type != \"display_data\") || (!Object.prototype.hasOwnProperty.call(output.data, EXEC_MIME_TYPE))) {\n",
       "      return\n",
       "    }\n",
       "\n",
       "    const toinsert = output_area.element.find(\".\" + CLASS_NAME.split(' ')[0]);\n",
       "\n",
       "    if (output.metadata[EXEC_MIME_TYPE][\"id\"] !== undefined) {\n",
       "      toinsert[toinsert.length - 1].firstChild.textContent = output.data[JS_MIME_TYPE];\n",
       "      // store reference to embed id on output_area\n",
       "      output_area._bokeh_element_id = output.metadata[EXEC_MIME_TYPE][\"id\"];\n",
       "    }\n",
       "    if (output.metadata[EXEC_MIME_TYPE][\"server_id\"] !== undefined) {\n",
       "      const bk_div = document.createElement(\"div\");\n",
       "      bk_div.innerHTML = output.data[HTML_MIME_TYPE];\n",
       "      const script_attrs = bk_div.children[0].attributes;\n",
       "      for (let i = 0; i < script_attrs.length; i++) {\n",
       "        toinsert[toinsert.length - 1].firstChild.setAttribute(script_attrs[i].name, script_attrs[i].value);\n",
       "        toinsert[toinsert.length - 1].firstChild.textContent = bk_div.children[0].textContent\n",
       "      }\n",
       "      // store reference to server id on output_area\n",
       "      output_area._bokeh_server_id = output.metadata[EXEC_MIME_TYPE][\"server_id\"];\n",
       "    }\n",
       "  }\n",
       "\n",
       "  function register_renderer(events, OutputArea) {\n",
       "\n",
       "    function append_mime(data, metadata, element) {\n",
       "      // create a DOM node to render to\n",
       "      const toinsert = this.create_output_subarea(\n",
       "        metadata,\n",
       "        CLASS_NAME,\n",
       "        EXEC_MIME_TYPE\n",
       "      );\n",
       "      this.keyboard_manager.register_events(toinsert);\n",
       "      // Render to node\n",
       "      const props = {data: data, metadata: metadata[EXEC_MIME_TYPE]};\n",
       "      render(props, toinsert[toinsert.length - 1]);\n",
       "      element.append(toinsert);\n",
       "      return toinsert\n",
       "    }\n",
       "\n",
       "    /* Handle when an output is cleared or removed */\n",
       "    events.on('clear_output.CodeCell', handleClearOutput);\n",
       "    events.on('delete.Cell', handleClearOutput);\n",
       "\n",
       "    /* Handle when a new output is added */\n",
       "    events.on('output_added.OutputArea', handleAddOutput);\n",
       "\n",
       "    /**\n",
       "     * Register the mime type and append_mime function with output_area\n",
       "     */\n",
       "    OutputArea.prototype.register_mime_type(EXEC_MIME_TYPE, append_mime, {\n",
       "      /* Is output safe? */\n",
       "      safe: true,\n",
       "      /* Index of renderer in `output_area.display_order` */\n",
       "      index: 0\n",
       "    });\n",
       "  }\n",
       "\n",
       "  // register the mime type if in Jupyter Notebook environment and previously unregistered\n",
       "  if (root.Jupyter !== undefined) {\n",
       "    const events = require('base/js/events');\n",
       "    const OutputArea = require('notebook/js/outputarea').OutputArea;\n",
       "\n",
       "    if (OutputArea.prototype.mime_types().indexOf(EXEC_MIME_TYPE) == -1) {\n",
       "      register_renderer(events, OutputArea);\n",
       "    }\n",
       "  }\n",
       "\n",
       "  \n",
       "  if (typeof (root._bokeh_timeout) === \"undefined\" || force === true) {\n",
       "    root._bokeh_timeout = Date.now() + 5000;\n",
       "    root._bokeh_failed_load = false;\n",
       "  }\n",
       "\n",
       "  const NB_LOAD_WARNING = {'data': {'text/html':\n",
       "     \"<div style='background-color: #fdd'>\\n\"+\n",
       "     \"<p>\\n\"+\n",
       "     \"BokehJS does not appear to have successfully loaded. If loading BokehJS from CDN, this \\n\"+\n",
       "     \"may be due to a slow or bad network connection. Possible fixes:\\n\"+\n",
       "     \"</p>\\n\"+\n",
       "     \"<ul>\\n\"+\n",
       "     \"<li>re-rerun `output_notebook()` to attempt to load from CDN again, or</li>\\n\"+\n",
       "     \"<li>use INLINE resources instead, as so:</li>\\n\"+\n",
       "     \"</ul>\\n\"+\n",
       "     \"<code>\\n\"+\n",
       "     \"from bokeh.resources import INLINE\\n\"+\n",
       "     \"output_notebook(resources=INLINE)\\n\"+\n",
       "     \"</code>\\n\"+\n",
       "     \"</div>\"}};\n",
       "\n",
       "  function display_loaded() {\n",
       "    const el = document.getElementById(\"2015\");\n",
       "    if (el != null) {\n",
       "      el.textContent = \"BokehJS is loading...\";\n",
       "    }\n",
       "    if (root.Bokeh !== undefined) {\n",
       "      if (el != null) {\n",
       "        el.textContent = \"BokehJS \" + root.Bokeh.version + \" successfully loaded.\";\n",
       "      }\n",
       "    } else if (Date.now() < root._bokeh_timeout) {\n",
       "      setTimeout(display_loaded, 100)\n",
       "    }\n",
       "  }\n",
       "\n",
       "\n",
       "  function run_callbacks() {\n",
       "    try {\n",
       "      root._bokeh_onload_callbacks.forEach(function(callback) {\n",
       "        if (callback != null)\n",
       "          callback();\n",
       "      });\n",
       "    } finally {\n",
       "      delete root._bokeh_onload_callbacks\n",
       "    }\n",
       "    console.debug(\"Bokeh: all callbacks have finished\");\n",
       "  }\n",
       "\n",
       "  function load_libs(css_urls, js_urls, callback) {\n",
       "    if (css_urls == null) css_urls = [];\n",
       "    if (js_urls == null) js_urls = [];\n",
       "\n",
       "    root._bokeh_onload_callbacks.push(callback);\n",
       "    if (root._bokeh_is_loading > 0) {\n",
       "      console.debug(\"Bokeh: BokehJS is being loaded, scheduling callback at\", now());\n",
       "      return null;\n",
       "    }\n",
       "    if (js_urls == null || js_urls.length === 0) {\n",
       "      run_callbacks();\n",
       "      return null;\n",
       "    }\n",
       "    console.debug(\"Bokeh: BokehJS not loaded, scheduling load and callback at\", now());\n",
       "    root._bokeh_is_loading = css_urls.length + js_urls.length;\n",
       "\n",
       "    function on_load() {\n",
       "      root._bokeh_is_loading--;\n",
       "      if (root._bokeh_is_loading === 0) {\n",
       "        console.debug(\"Bokeh: all BokehJS libraries/stylesheets loaded\");\n",
       "        run_callbacks()\n",
       "      }\n",
       "    }\n",
       "\n",
       "    function on_error(url) {\n",
       "      console.error(\"failed to load \" + url);\n",
       "    }\n",
       "\n",
       "    for (let i = 0; i < css_urls.length; i++) {\n",
       "      const url = css_urls[i];\n",
       "      const element = document.createElement(\"link\");\n",
       "      element.onload = on_load;\n",
       "      element.onerror = on_error.bind(null, url);\n",
       "      element.rel = \"stylesheet\";\n",
       "      element.type = \"text/css\";\n",
       "      element.href = url;\n",
       "      console.debug(\"Bokeh: injecting link tag for BokehJS stylesheet: \", url);\n",
       "      document.body.appendChild(element);\n",
       "    }\n",
       "\n",
       "    for (let i = 0; i < js_urls.length; i++) {\n",
       "      const url = js_urls[i];\n",
       "      const element = document.createElement('script');\n",
       "      element.onload = on_load;\n",
       "      element.onerror = on_error.bind(null, url);\n",
       "      element.async = false;\n",
       "      element.src = url;\n",
       "      console.debug(\"Bokeh: injecting script tag for BokehJS library: \", url);\n",
       "      document.head.appendChild(element);\n",
       "    }\n",
       "  };\n",
       "\n",
       "  function inject_raw_css(css) {\n",
       "    const element = document.createElement(\"style\");\n",
       "    element.appendChild(document.createTextNode(css));\n",
       "    document.body.appendChild(element);\n",
       "  }\n",
       "\n",
       "  \n",
       "  const js_urls = [\"https://cdn.bokeh.org/bokeh/release/bokeh-2.4.2.min.js\", \"https://cdn.bokeh.org/bokeh/release/bokeh-gl-2.4.2.min.js\", \"https://cdn.bokeh.org/bokeh/release/bokeh-widgets-2.4.2.min.js\", \"https://cdn.bokeh.org/bokeh/release/bokeh-tables-2.4.2.min.js\", \"https://cdn.bokeh.org/bokeh/release/bokeh-mathjax-2.4.2.min.js\"];\n",
       "  const css_urls = [];\n",
       "  \n",
       "\n",
       "  const inline_js = [\n",
       "    function(Bokeh) {\n",
       "      Bokeh.set_log_level(\"info\");\n",
       "    },\n",
       "    function(Bokeh) {\n",
       "    \n",
       "    \n",
       "    }\n",
       "  ];\n",
       "\n",
       "  function run_inline_js() {\n",
       "    \n",
       "    if (root.Bokeh !== undefined || force === true) {\n",
       "      \n",
       "    for (let i = 0; i < inline_js.length; i++) {\n",
       "      inline_js[i].call(root, root.Bokeh);\n",
       "    }\n",
       "    if (force === true) {\n",
       "        display_loaded();\n",
       "      }} else if (Date.now() < root._bokeh_timeout) {\n",
       "      setTimeout(run_inline_js, 100);\n",
       "    } else if (!root._bokeh_failed_load) {\n",
       "      console.log(\"Bokeh: BokehJS failed to load within specified timeout.\");\n",
       "      root._bokeh_failed_load = true;\n",
       "    } else if (force !== true) {\n",
       "      const cell = $(document.getElementById(\"2015\")).parents('.cell').data().cell;\n",
       "      cell.output_area.append_execute_result(NB_LOAD_WARNING)\n",
       "    }\n",
       "\n",
       "  }\n",
       "\n",
       "  if (root._bokeh_is_loading === 0) {\n",
       "    console.debug(\"Bokeh: BokehJS loaded, going straight to plotting\");\n",
       "    run_inline_js();\n",
       "  } else {\n",
       "    load_libs(css_urls, js_urls, function() {\n",
       "      console.debug(\"Bokeh: BokehJS plotting callback run at\", now());\n",
       "      run_inline_js();\n",
       "    });\n",
       "  }\n",
       "}(window));"
      ],
      "application/vnd.bokehjs_load.v0+json": "\n(function(root) {\n  function now() {\n    return new Date();\n  }\n\n  const force = true;\n\n  if (typeof root._bokeh_onload_callbacks === \"undefined\" || force === true) {\n    root._bokeh_onload_callbacks = [];\n    root._bokeh_is_loading = undefined;\n  }\n\n  \n\n  \n  if (typeof (root._bokeh_timeout) === \"undefined\" || force === true) {\n    root._bokeh_timeout = Date.now() + 5000;\n    root._bokeh_failed_load = false;\n  }\n\n  const NB_LOAD_WARNING = {'data': {'text/html':\n     \"<div style='background-color: #fdd'>\\n\"+\n     \"<p>\\n\"+\n     \"BokehJS does not appear to have successfully loaded. If loading BokehJS from CDN, this \\n\"+\n     \"may be due to a slow or bad network connection. Possible fixes:\\n\"+\n     \"</p>\\n\"+\n     \"<ul>\\n\"+\n     \"<li>re-rerun `output_notebook()` to attempt to load from CDN again, or</li>\\n\"+\n     \"<li>use INLINE resources instead, as so:</li>\\n\"+\n     \"</ul>\\n\"+\n     \"<code>\\n\"+\n     \"from bokeh.resources import INLINE\\n\"+\n     \"output_notebook(resources=INLINE)\\n\"+\n     \"</code>\\n\"+\n     \"</div>\"}};\n\n  function display_loaded() {\n    const el = document.getElementById(\"2015\");\n    if (el != null) {\n      el.textContent = \"BokehJS is loading...\";\n    }\n    if (root.Bokeh !== undefined) {\n      if (el != null) {\n        el.textContent = \"BokehJS \" + root.Bokeh.version + \" successfully loaded.\";\n      }\n    } else if (Date.now() < root._bokeh_timeout) {\n      setTimeout(display_loaded, 100)\n    }\n  }\n\n\n  function run_callbacks() {\n    try {\n      root._bokeh_onload_callbacks.forEach(function(callback) {\n        if (callback != null)\n          callback();\n      });\n    } finally {\n      delete root._bokeh_onload_callbacks\n    }\n    console.debug(\"Bokeh: all callbacks have finished\");\n  }\n\n  function load_libs(css_urls, js_urls, callback) {\n    if (css_urls == null) css_urls = [];\n    if (js_urls == null) js_urls = [];\n\n    root._bokeh_onload_callbacks.push(callback);\n    if (root._bokeh_is_loading > 0) {\n      console.debug(\"Bokeh: BokehJS is being loaded, scheduling callback at\", now());\n      return null;\n    }\n    if (js_urls == null || js_urls.length === 0) {\n      run_callbacks();\n      return null;\n    }\n    console.debug(\"Bokeh: BokehJS not loaded, scheduling load and callback at\", now());\n    root._bokeh_is_loading = css_urls.length + js_urls.length;\n\n    function on_load() {\n      root._bokeh_is_loading--;\n      if (root._bokeh_is_loading === 0) {\n        console.debug(\"Bokeh: all BokehJS libraries/stylesheets loaded\");\n        run_callbacks()\n      }\n    }\n\n    function on_error(url) {\n      console.error(\"failed to load \" + url);\n    }\n\n    for (let i = 0; i < css_urls.length; i++) {\n      const url = css_urls[i];\n      const element = document.createElement(\"link\");\n      element.onload = on_load;\n      element.onerror = on_error.bind(null, url);\n      element.rel = \"stylesheet\";\n      element.type = \"text/css\";\n      element.href = url;\n      console.debug(\"Bokeh: injecting link tag for BokehJS stylesheet: \", url);\n      document.body.appendChild(element);\n    }\n\n    for (let i = 0; i < js_urls.length; i++) {\n      const url = js_urls[i];\n      const element = document.createElement('script');\n      element.onload = on_load;\n      element.onerror = on_error.bind(null, url);\n      element.async = false;\n      element.src = url;\n      console.debug(\"Bokeh: injecting script tag for BokehJS library: \", url);\n      document.head.appendChild(element);\n    }\n  };\n\n  function inject_raw_css(css) {\n    const element = document.createElement(\"style\");\n    element.appendChild(document.createTextNode(css));\n    document.body.appendChild(element);\n  }\n\n  \n  const js_urls = [\"https://cdn.bokeh.org/bokeh/release/bokeh-2.4.2.min.js\", \"https://cdn.bokeh.org/bokeh/release/bokeh-gl-2.4.2.min.js\", \"https://cdn.bokeh.org/bokeh/release/bokeh-widgets-2.4.2.min.js\", \"https://cdn.bokeh.org/bokeh/release/bokeh-tables-2.4.2.min.js\", \"https://cdn.bokeh.org/bokeh/release/bokeh-mathjax-2.4.2.min.js\"];\n  const css_urls = [];\n  \n\n  const inline_js = [\n    function(Bokeh) {\n      Bokeh.set_log_level(\"info\");\n    },\n    function(Bokeh) {\n    \n    \n    }\n  ];\n\n  function run_inline_js() {\n    \n    if (root.Bokeh !== undefined || force === true) {\n      \n    for (let i = 0; i < inline_js.length; i++) {\n      inline_js[i].call(root, root.Bokeh);\n    }\n    if (force === true) {\n        display_loaded();\n      }} else if (Date.now() < root._bokeh_timeout) {\n      setTimeout(run_inline_js, 100);\n    } else if (!root._bokeh_failed_load) {\n      console.log(\"Bokeh: BokehJS failed to load within specified timeout.\");\n      root._bokeh_failed_load = true;\n    } else if (force !== true) {\n      const cell = $(document.getElementById(\"2015\")).parents('.cell').data().cell;\n      cell.output_area.append_execute_result(NB_LOAD_WARNING)\n    }\n\n  }\n\n  if (root._bokeh_is_loading === 0) {\n    console.debug(\"Bokeh: BokehJS loaded, going straight to plotting\");\n    run_inline_js();\n  } else {\n    load_libs(css_urls, js_urls, function() {\n      console.debug(\"Bokeh: BokehJS plotting callback run at\", now());\n      run_inline_js();\n    });\n  }\n}(window));"
     },
     "metadata": {},
     "output_type": "display_data"
    },
    {
     "name": "stdout",
     "output_type": "stream",
     "text": [
      "BorrachoTradicional caminata de 10 pasos\n",
      "Media = 2.795\n",
      "Max = 7.6\n",
      "Min = 0.0\n",
      "\n",
      "BorrachoTradicional caminata de 100 pasos\n",
      "Media = 8.886\n",
      "Max = 22.1\n",
      "Min = 1.4\n",
      "\n",
      "BorrachoTradicional caminata de 1000 pasos\n",
      "Media = 26.759\n",
      "Max = 70.0\n",
      "Min = 3.2\n",
      "\n",
      "BorrachoTradicional caminata de 10000 pasos\n",
      "Media = 93.347\n",
      "Max = 195.9\n",
      "Min = 12.2\n",
      "\n"
     ]
    },
    {
     "data": {
      "text/html": [
       "\n",
       "\n",
       "\n",
       "\n",
       "\n",
       "\n",
       "  <div class=\"bk-root\" id=\"ab07a73a-6f37-437c-87e5-7c65b3d4f3ca\" data-root-id=\"2016\"></div>\n"
      ]
     },
     "metadata": {},
     "output_type": "display_data"
    },
    {
     "data": {
      "application/javascript": [
       "(function(root) {\n",
       "  function embed_document(root) {\n",
       "    \n",
       "  const docs_json = {\"9ec4fe9a-3c07-4c45-9f9e-06f64ebf7630\":{\"defs\":[],\"roots\":{\"references\":[{\"attributes\":{\"below\":[{\"id\":\"2027\"}],\"center\":[{\"id\":\"2030\"},{\"id\":\"2034\"},{\"id\":\"2065\"}],\"left\":[{\"id\":\"2031\"}],\"renderers\":[{\"id\":\"2053\"}],\"title\":{\"id\":\"2017\"},\"toolbar\":{\"id\":\"2042\"},\"x_range\":{\"id\":\"2019\"},\"x_scale\":{\"id\":\"2023\"},\"y_range\":{\"id\":\"2021\"},\"y_scale\":{\"id\":\"2025\"}},\"id\":\"2016\",\"subtype\":\"Figure\",\"type\":\"Plot\"},{\"attributes\":{\"axis_label\":\"distancia\",\"coordinates\":null,\"formatter\":{\"id\":\"2057\"},\"group\":null,\"major_label_policy\":{\"id\":\"2058\"},\"ticker\":{\"id\":\"2032\"}},\"id\":\"2031\",\"type\":\"LinearAxis\"},{\"attributes\":{\"tools\":[{\"id\":\"2035\"},{\"id\":\"2036\"},{\"id\":\"2037\"},{\"id\":\"2038\"},{\"id\":\"2039\"},{\"id\":\"2040\"}]},\"id\":\"2042\",\"type\":\"Toolbar\"},{\"attributes\":{},\"id\":\"2019\",\"type\":\"DataRange1d\"},{\"attributes\":{},\"id\":\"2039\",\"type\":\"ResetTool\"},{\"attributes\":{\"line_alpha\":0.2,\"line_color\":\"#1f77b4\",\"x\":{\"field\":\"x\"},\"y\":{\"field\":\"y\"}},\"id\":\"2052\",\"type\":\"Line\"},{\"attributes\":{\"bottom_units\":\"screen\",\"coordinates\":null,\"fill_alpha\":0.5,\"fill_color\":\"lightgrey\",\"group\":null,\"left_units\":\"screen\",\"level\":\"overlay\",\"line_alpha\":1.0,\"line_color\":\"black\",\"line_dash\":[4,4],\"line_width\":2,\"right_units\":\"screen\",\"syncable\":false,\"top_units\":\"screen\"},\"id\":\"2041\",\"type\":\"BoxAnnotation\"},{\"attributes\":{\"source\":{\"id\":\"2049\"}},\"id\":\"2054\",\"type\":\"CDSView\"},{\"attributes\":{},\"id\":\"2062\",\"type\":\"UnionRenderers\"},{\"attributes\":{},\"id\":\"2021\",\"type\":\"DataRange1d\"},{\"attributes\":{\"coordinates\":null,\"data_source\":{\"id\":\"2049\"},\"glyph\":{\"id\":\"2050\"},\"group\":null,\"hover_glyph\":null,\"muted_glyph\":{\"id\":\"2052\"},\"nonselection_glyph\":{\"id\":\"2051\"},\"view\":{\"id\":\"2054\"}},\"id\":\"2053\",\"type\":\"GlyphRenderer\"},{\"attributes\":{},\"id\":\"2028\",\"type\":\"BasicTicker\"},{\"attributes\":{},\"id\":\"2035\",\"type\":\"PanTool\"},{\"attributes\":{},\"id\":\"2063\",\"type\":\"Selection\"},{\"attributes\":{},\"id\":\"2032\",\"type\":\"BasicTicker\"},{\"attributes\":{},\"id\":\"2025\",\"type\":\"LinearScale\"},{\"attributes\":{},\"id\":\"2057\",\"type\":\"BasicTickFormatter\"},{\"attributes\":{\"data\":{\"x\":[10,100,1000,10000],\"y\":[2.795,8.886,26.759,93.347]},\"selected\":{\"id\":\"2063\"},\"selection_policy\":{\"id\":\"2062\"}},\"id\":\"2049\",\"type\":\"ColumnDataSource\"},{\"attributes\":{\"label\":{\"value\":\"distancia media\"},\"renderers\":[{\"id\":\"2053\"}]},\"id\":\"2066\",\"type\":\"LegendItem\"},{\"attributes\":{\"line_color\":\"#1f77b4\",\"x\":{\"field\":\"x\"},\"y\":{\"field\":\"y\"}},\"id\":\"2050\",\"type\":\"Line\"},{\"attributes\":{\"overlay\":{\"id\":\"2041\"}},\"id\":\"2037\",\"type\":\"BoxZoomTool\"},{\"attributes\":{\"axis\":{\"id\":\"2027\"},\"coordinates\":null,\"group\":null,\"ticker\":null},\"id\":\"2030\",\"type\":\"Grid\"},{\"attributes\":{\"axis\":{\"id\":\"2031\"},\"coordinates\":null,\"dimension\":1,\"group\":null,\"ticker\":null},\"id\":\"2034\",\"type\":\"Grid\"},{\"attributes\":{\"axis_label\":\"pasos\",\"coordinates\":null,\"formatter\":{\"id\":\"2060\"},\"group\":null,\"major_label_policy\":{\"id\":\"2061\"},\"ticker\":{\"id\":\"2028\"}},\"id\":\"2027\",\"type\":\"LinearAxis\"},{\"attributes\":{},\"id\":\"2060\",\"type\":\"BasicTickFormatter\"},{\"attributes\":{},\"id\":\"2058\",\"type\":\"AllLabels\"},{\"attributes\":{\"line_alpha\":0.1,\"line_color\":\"#1f77b4\",\"x\":{\"field\":\"x\"},\"y\":{\"field\":\"y\"}},\"id\":\"2051\",\"type\":\"Line\"},{\"attributes\":{},\"id\":\"2061\",\"type\":\"AllLabels\"},{\"attributes\":{},\"id\":\"2023\",\"type\":\"LinearScale\"},{\"attributes\":{\"coordinates\":null,\"group\":null,\"text\":\"Camino aleatorio\"},\"id\":\"2017\",\"type\":\"Title\"},{\"attributes\":{\"coordinates\":null,\"group\":null,\"items\":[{\"id\":\"2066\"}]},\"id\":\"2065\",\"type\":\"Legend\"},{\"attributes\":{},\"id\":\"2040\",\"type\":\"HelpTool\"},{\"attributes\":{},\"id\":\"2036\",\"type\":\"WheelZoomTool\"},{\"attributes\":{},\"id\":\"2038\",\"type\":\"SaveTool\"}],\"root_ids\":[\"2016\"]},\"title\":\"Bokeh Application\",\"version\":\"2.4.2\"}};\n",
       "  const render_items = [{\"docid\":\"9ec4fe9a-3c07-4c45-9f9e-06f64ebf7630\",\"root_ids\":[\"2016\"],\"roots\":{\"2016\":\"ab07a73a-6f37-437c-87e5-7c65b3d4f3ca\"}}];\n",
       "  root.Bokeh.embed.embed_items_notebook(docs_json, render_items);\n",
       "\n",
       "  }\n",
       "  if (root.Bokeh !== undefined) {\n",
       "    embed_document(root);\n",
       "  } else {\n",
       "    let attempts = 0;\n",
       "    const timer = setInterval(function(root) {\n",
       "      if (root.Bokeh !== undefined) {\n",
       "        clearInterval(timer);\n",
       "        embed_document(root);\n",
       "      } else {\n",
       "        attempts++;\n",
       "        if (attempts > 100) {\n",
       "          clearInterval(timer);\n",
       "          console.log(\"Bokeh: ERROR: Unable to run BokehJS code because BokehJS library is missing\");\n",
       "        }\n",
       "      }\n",
       "    }, 10, root)\n",
       "  }\n",
       "})(window);"
      ],
      "application/vnd.bokehjs_exec.v0+json": ""
     },
     "metadata": {
      "application/vnd.bokehjs_exec.v0+json": {
       "id": "2016"
      }
     },
     "output_type": "display_data"
    }
   ],
   "source": [
    "output_notebook()\n",
    "\n",
    "distancias_de_caminatas = [10, 100, 1000, 10000]\n",
    "\n",
    "numero_de_intentos = 100\n",
    "\n",
    "simular(distancias_de_caminatas, numero_de_intentos, BorrachoTradicional, show_graph=True)"
   ]
  },
  {
   "cell_type": "code",
   "execution_count": 48,
   "metadata": {},
   "outputs": [
    {
     "name": "stdout",
     "output_type": "stream",
     "text": [
      "BorrachoTradicional caminata de 10000 pasos\n",
      "Media = 60.1\n",
      "Max = 60.1\n",
      "Min = 60.1\n",
      "\n"
     ]
    },
    {
     "data": {
      "text/html": [
       "\n",
       "\n",
       "\n",
       "\n",
       "\n",
       "\n",
       "  <div class=\"bk-root\" id=\"4055daba-c471-4666-9f1e-39c2c9d7f9f2\" data-root-id=\"5613\"></div>\n"
      ]
     },
     "metadata": {},
     "output_type": "display_data"
    },
    {
     "data": {
      "application/javascript": [
       "(function(root) {\n",
       "  function embed_document(root) {\n",
       "    \n",
       "  const docs_json = {\"d844efb4-ab6e-4a28-a21c-c26515fee159\":{\"defs\":[],\"roots\":{\"references\":[{\"attributes\":{\"below\":[{\"id\":\"5624\"}],\"center\":[{\"id\":\"5627\"},{\"id\":\"5631\"}],\"left\":[{\"id\":\"5628\"}],\"renderers\":[{\"id\":\"5650\"}],\"title\":{\"id\":\"5614\"},\"toolbar\":{\"id\":\"5639\"},\"x_range\":{\"id\":\"5616\"},\"x_scale\":{\"id\":\"5620\"},\"y_range\":{\"id\":\"5618\"},\"y_scale\":{\"id\":\"5622\"}},\"id\":\"5613\",\"subtype\":\"Figure\",\"type\":\"Plot\"},{\"attributes\":{\"source\":{\"id\":\"5646\"}},\"id\":\"5651\",\"type\":\"CDSView\"},{\"attributes\":{\"overlay\":{\"id\":\"5638\"}},\"id\":\"5634\",\"type\":\"BoxZoomTool\"},{\"attributes\":{},\"id\":\"5632\",\"type\":\"PanTool\"},{\"attributes\":{},\"id\":\"5633\",\"type\":\"WheelZoomTool\"},{\"attributes\":{},\"id\":\"5629\",\"type\":\"BasicTicker\"},{\"attributes\":{},\"id\":\"5874\",\"type\":\"BasicTickFormatter\"},{\"attributes\":{\"axis\":{\"id\":\"5628\"},\"coordinates\":null,\"dimension\":1,\"group\":null,\"ticker\":null},\"id\":\"5631\",\"type\":\"Grid\"},{\"attributes\":{},\"id\":\"5875\",\"type\":\"AllLabels\"},{\"attributes\":{\"tools\":[{\"id\":\"5632\"},{\"id\":\"5633\"},{\"id\":\"5634\"},{\"id\":\"5635\"},{\"id\":\"5636\"},{\"id\":\"5637\"}]},\"id\":\"5639\",\"type\":\"Toolbar\"},{\"attributes\":{},\"id\":\"5636\",\"type\":\"ResetTool\"},{\"attributes\":{},\"id\":\"5620\",\"type\":\"LinearScale\"},{\"attributes\":{},\"id\":\"5877\",\"type\":\"BasicTickFormatter\"},{\"attributes\":{\"coordinates\":null,\"group\":null,\"text\":\"Caminos aleatorios\"},\"id\":\"5614\",\"type\":\"Title\"},{\"attributes\":{\"axis\":{\"id\":\"5624\"},\"coordinates\":null,\"group\":null,\"ticker\":null},\"id\":\"5627\",\"type\":\"Grid\"},{\"attributes\":{},\"id\":\"5878\",\"type\":\"AllLabels\"},{\"attributes\":{},\"id\":\"5625\",\"type\":\"BasicTicker\"},{\"attributes\":{},\"id\":\"5635\",\"type\":\"SaveTool\"},{\"attributes\":{\"coordinates\":null,\"formatter\":{\"id\":\"5877\"},\"group\":null,\"major_label_policy\":{\"id\":\"5878\"},\"ticker\":{\"id\":\"5625\"}},\"id\":\"5624\",\"type\":\"LinearAxis\"},{\"attributes\":{},\"id\":\"5637\",\"type\":\"HelpTool\"},{\"attributes\":{\"coordinates\":null,\"formatter\":{\"id\":\"5874\"},\"group\":null,\"major_label_policy\":{\"id\":\"5875\"},\"ticker\":{\"id\":\"5629\"}},\"id\":\"5628\",\"type\":\"LinearAxis\"},{\"attributes\":{},\"id\":\"5622\",\"type\":\"LinearScale\"},{\"attributes\":{},\"id\":\"5618\",\"type\":\"DataRange1d\"},{\"attributes\":{\"coordinates\":null,\"data_source\":{\"id\":\"5646\"},\"glyph\":{\"id\":\"5647\"},\"group\":null,\"hover_glyph\":null,\"muted_glyph\":{\"id\":\"5649\"},\"nonselection_glyph\":{\"id\":\"5648\"},\"view\":{\"id\":\"5651\"}},\"id\":\"5650\",\"type\":\"GlyphRenderer\"},{\"attributes\":{\"data\":{\"x\":[0,1,1,2,2,2,3,4,3,3,3,2,1,0,0,-1,-1,0,0,0,1,1,2,3,2,3,4,4,4,4,4,4,5,5,5,6,5,5,4,5,5,4,5,5,5,4,4,4,5,5,5,4,5,4,4,3,2,2,2,2,3,3,3,4,3,3,4,4,3,3,2,1,2,3,3,4,3,3,3,4,4,5,5,4,5,5,6,5,6,5,5,4,4,4,4,4,4,4,5,4,4,4,3,4,4,4,5,5,5,4,4,4,4,4,3,3,2,2,1,1,1,1,1,1,2,3,4,3,2,3,3,2,2,2,1,2,2,3,3,3,3,2,3,4,4,3,3,3,2,1,1,0,1,1,2,3,2,1,1,1,2,1,2,2,3,3,4,3,3,2,3,2,2,2,1,1,0,-1,-1,0,-1,0,0,0,1,0,0,-1,-1,0,1,0,0,-1,-2,-2,-3,-3,-4,-4,-4,-4,-4,-5,-4,-5,-5,-5,-5,-4,-3,-3,-4,-4,-5,-6,-5,-5,-5,-5,-5,-5,-5,-6,-6,-6,-6,-7,-6,-6,-7,-6,-6,-7,-6,-6,-6,-6,-7,-8,-9,-9,-10,-10,-9,-10,-10,-10,-10,-10,-10,-9,-10,-10,-9,-8,-8,-8,-9,-9,-10,-10,-11,-11,-11,-10,-9,-9,-9,-9,-8,-8,-8,-9,-9,-9,-9,-10,-10,-10,-9,-10,-10,-11,-10,-10,-10,-11,-11,-11,-10,-10,-9,-8,-9,-9,-10,-10,-9,-10,-10,-10,-11,-11,-11,-10,-11,-10,-10,-11,-10,-9,-8,-7,-7,-7,-8,-7,-7,-8,-9,-8,-8,-8,-8,-8,-8,-9,-9,-10,-11,-12,-13,-13,-14,-15,-15,-15,-14,-14,-13,-13,-12,-12,-12,-12,-11,-10,-9,-9,-9,-8,-7,-6,-7,-6,-5,-5,-5,-5,-6,-7,-7,-8,-9,-9,-10,-10,-10,-10,-10,-10,-9,-8,-8,-7,-6,-5,-4,-4,-3,-3,-2,-2,-2,-2,-3,-4,-5,-4,-3,-4,-4,-4,-4,-4,-5,-4,-5,-4,-4,-4,-4,-4,-3,-3,-3,-3,-2,-2,-3,-2,-2,-2,-1,-2,-1,-1,0,0,0,0,1,2,3,3,3,3,2,1,0,0,1,2,2,1,0,0,0,0,1,2,2,2,1,2,1,1,2,1,0,-1,-2,-3,-3,-3,-3,-2,-1,-2,-2,-1,-1,-1,-1,-1,-2,-2,-1,0,0,0,0,-1,0,-1,-1,-1,0,0,1,2,3,2,2,3,2,2,2,2,3,3,2,2,2,3,2,2,1,0,1,2,1,0,0,0,-1,0,-1,-1,-2,-1,0,0,0,0,1,2,1,2,1,0,0,0,-1,0,0,0,1,0,0,-1,-1,-2,-2,-2,-2,-1,-1,-1,-1,-1,-1,0,0,-1,0,-1,-1,0,0,-1,0,0,-1,0,0,0,1,0,0,0,0,0,0,0,0,0,0,-1,-2,-2,-3,-3,-3,-4,-5,-5,-4,-3,-2,-1,-1,-1,-1,-2,-2,-3,-2,-1,-1,-2,-2,-2,-2,-1,0,-1,0,0,0,-1,-1,-1,-1,-1,-2,-2,-2,-1,-1,-2,-1,-2,-2,-2,-2,-2,-2,-3,-3,-2,-3,-3,-2,-3,-4,-5,-6,-6,-7,-7,-7,-6,-6,-7,-6,-6,-6,-7,-6,-5,-6,-7,-8,-9,-9,-9,-10,-10,-9,-9,-8,-8,-8,-9,-10,-11,-11,-10,-11,-11,-11,-11,-11,-11,-11,-12,-12,-13,-12,-13,-14,-14,-14,-14,-15,-15,-15,-15,-16,-16,-15,-14,-15,-16,-17,-16,-16,-16,-16,-16,-15,-14,-15,-15,-14,-14,-13,-12,-11,-11,-11,-11,-11,-12,-12,-12,-12,-12,-13,-13,-14,-13,-12,-12,-13,-13,-13,-13,-12,-11,-12,-12,-11,-10,-10,-9,-10,-10,-11,-11,-12,-12,-12,-13,-14,-13,-14,-14,-13,-13,-13,-12,-12,-11,-11,-10,-11,-10,-10,-10,-10,-10,-11,-11,-10,-11,-11,-11,-12,-13,-13,-12,-12,-12,-12,-11,-11,-12,-12,-12,-12,-11,-10,-10,-9,-8,-9,-8,-9,-9,-9,-9,-10,-10,-10,-9,-9,-9,-8,-9,-9,-8,-7,-7,-6,-7,-6,-6,-7,-6,-5,-6,-5,-6,-7,-8,-8,-9,-10,-9,-8,-9,-10,-11,-11,-11,-11,-10,-11,-11,-10,-9,-8,-7,-6,-7,-7,-7,-6,-7,-8,-8,-7,-7,-7,-6,-7,-7,-8,-9,-9,-9,-9,-10,-10,-10,-11,-11,-11,-11,-11,-12,-11,-11,-11,-10,-10,-11,-11,-11,-11,-11,-11,-10,-10,-10,-11,-10,-10,-11,-11,-11,-11,-10,-9,-10,-9,-9,-10,-9,-10,-10,-11,-12,-13,-13,-13,-13,-12,-12,-13,-13,-13,-12,-13,-14,-15,-15,-15,-16,-16,-15,-14,-15,-15,-15,-14,-15,-16,-15,-15,-15,-14,-14,-14,-13,-13,-13,-14,-14,-13,-13,-12,-13,-12,-11,-10,-10,-10,-10,-10,-11,-11,-12,-13,-13,-14,-14,-14,-15,-16,-16,-16,-15,-16,-16,-17,-16,-16,-15,-15,-15,-14,-14,-14,-14,-13,-13,-12,-11,-11,-11,-10,-9,-10,-10,-10,-11,-10,-10,-11,-12,-12,-13,-13,-13,-13,-13,-13,-13,-13,-13,-13,-14,-15,-15,-16,-15,-14,-14,-14,-14,-14,-14,-15,-15,-15,-16,-17,-17,-17,-18,-18,-17,-18,-18,-19,-18,-18,-18,-18,-17,-16,-15,-15,-16,-15,-15,-15,-16,-16,-16,-17,-18,-18,-18,-18,-19,-18,-18,-17,-17,-17,-18,-18,-19,-20,-19,-19,-19,-18,-18,-18,-18,-18,-19,-18,-17,-18,-18,-18,-17,-17,-17,-17,-16,-16,-16,-15,-15,-14,-15,-15,-15,-14,-14,-15,-14,-14,-14,-14,-13,-13,-13,-13,-14,-14,-14,-14,-13,-13,-12,-11,-12,-11,-11,-11,-11,-11,-10,-10,-11,-12,-12,-13,-12,-13,-12,-11,-11,-10,-10,-11,-10,-9,-10,-11,-11,-12,-13,-12,-12,-12,-13,-13,-12,-11,-10,-10,-10,-10,-10,-10,-9,-9,-9,-8,-8,-8,-7,-7,-8,-8,-7,-7,-6,-7,-7,-7,-7,-7,-8,-9,-10,-10,-11,-10,-9,-9,-9,-9,-9,-9,-10,-10,-9,-8,-8,-7,-8,-7,-6,-6,-6,-6,-5,-4,-4,-5,-6,-5,-5,-5,-6,-6,-7,-8,-9,-9,-8,-8,-8,-9,-9,-9,-10,-9,-8,-8,-9,-8,-9,-8,-7,-7,-7,-7,-7,-6,-7,-7,-6,-6,-7,-7,-7,-7,-6,-7,-7,-6,-6,-5,-5,-5,-5,-5,-4,-5,-5,-5,-5,-5,-6,-7,-8,-8,-8,-7,-7,-7,-6,-6,-6,-5,-4,-3,-3,-3,-2,-2,-2,-1,-1,-1,-2,-2,-2,-2,-2,-2,-1,-2,-2,-3,-3,-3,-3,-2,-3,-2,-2,-1,-1,0,0,-1,-1,-1,-2,-3,-2,-2,-1,-1,-1,0,0,0,-1,-1,0,1,2,2,1,2,1,0,1,1,0,0,0,1,0,-1,-1,0,1,0,0,1,0,0,1,1,1,1,2,3,3,3,3,3,4,5,4,4,5,4,4,5,5,5,5,5,6,5,5,6,6,7,7,7,8,9,8,7,6,7,8,9,8,7,7,6,6,6,5,5,4,4,4,4,4,4,4,3,3,2,1,2,3,3,4,4,3,4,3,2,2,2,2,1,2,2,2,2,3,3,2,2,3,3,3,3,3,4,5,5,5,6,6,7,6,5,5,5,4,3,2,2,1,1,1,0,0,1,0,1,0,0,1,1,1,2,2,1,2,1,2,2,3,4,3,4,3,3,2,2,2,2,1,1,2,1,1,2,2,2,2,2,1,0,-1,-1,0,-1,-1,-1,-2,-3,-3,-3,-2,-1,-1,0,0,-1,0,0,1,1,2,1,0,0,0,0,-1,0,-1,0,1,2,1,1,0,0,0,1,1,1,2,1,1,1,1,1,1,1,2,3,3,3,3,2,2,3,2,2,1,1,1,0,0,0,0,-1,-2,-1,-1,0,0,-1,0,1,2,2,3,3,3,4,3,2,2,2,3,3,3,3,4,3,3,4,5,5,6,5,5,4,3,4,4,3,4,4,4,3,3,2,2,2,2,2,2,2,2,1,0,0,-1,-2,-3,-3,-2,-2,-3,-3,-3,-3,-2,-2,-1,-1,-1,0,0,-1,0,-1,-1,-1,-2,-2,-2,-1,0,0,0,1,2,2,2,1,1,1,0,0,1,1,0,-1,-1,0,1,0,0,1,2,2,3,3,2,2,2,1,1,0,0,-1,-1,0,0,0,-1,0,-1,-2,-2,-1,-1,-1,-1,-2,-3,-3,-4,-3,-4,-4,-4,-4,-3,-4,-4,-5,-5,-5,-4,-3,-3,-3,-2,-2,-2,-2,-2,-2,-2,-3,-3,-4,-4,-4,-4,-5,-4,-4,-3,-4,-4,-3,-3,-4,-4,-3,-4,-4,-4,-4,-3,-3,-3,-4,-5,-5,-5,-5,-4,-5,-5,-5,-5,-5,-4,-4,-4,-3,-4,-4,-3,-3,-3,-4,-3,-4,-5,-4,-3,-3,-4,-3,-3,-4,-4,-4,-4,-4,-4,-4,-3,-2,-2,-2,-2,-2,-1,0,-1,-1,-1,-1,0,0,0,-1,-2,-2,-2,-2,-3,-3,-2,-1,0,-1,-1,-1,-1,-1,0,0,0,0,0,1,1,2,2,2,2,3,2,2,2,1,0,-1,-1,-1,-2,-3,-3,-3,-2,-3,-2,-2,-2,-3,-3,-2,-2,-1,-1,-1,-1,-2,-2,-2,-1,-1,-1,-1,-1,0,0,-1,-1,-2,-2,-2,-3,-3,-4,-5,-6,-5,-4,-5,-5,-4,-5,-6,-5,-4,-3,-4,-5,-6,-6,-6,-5,-5,-5,-5,-5,-6,-6,-7,-7,-6,-6,-7,-7,-7,-6,-6,-7,-6,-7,-7,-7,-6,-6,-5,-5,-4,-5,-5,-5,-5,-6,-5,-6,-5,-5,-5,-5,-4,-4,-4,-3,-3,-2,-2,-3,-3,-2,-1,-1,-2,-2,-2,-3,-4,-5,-4,-5,-6,-6,-7,-8,-8,-9,-9,-9,-9,-9,-9,-9,-10,-10,-10,-9,-10,-10,-9,-10,-10,-11,-10,-11,-12,-11,-10,-10,-11,-11,-12,-12,-11,-11,-11,-10,-11,-11,-12,-12,-12,-12,-12,-12,-11,-10,-10,-11,-11,-12,-13,-13,-13,-13,-13,-13,-14,-14,-15,-14,-14,-13,-13,-14,-13,-13,-14,-14,-14,-14,-15,-15,-15,-16,-16,-17,-16,-16,-16,-17,-17,-17,-17,-16,-15,-15,-15,-16,-15,-15,-15,-16,-16,-15,-15,-15,-16,-17,-17,-17,-18,-18,-19,-18,-19,-19,-20,-20,-20,-21,-22,-23,-22,-22,-21,-22,-22,-22,-22,-22,-21,-21,-21,-22,-21,-21,-20,-20,-21,-21,-21,-21,-20,-20,-20,-21,-20,-20,-20,-19,-18,-18,-19,-19,-19,-20,-20,-20,-19,-20,-19,-19,-19,-18,-18,-18,-18,-19,-18,-19,-19,-20,-19,-19,-19,-19,-19,-19,-19,-19,-20,-20,-20,-21,-22,-22,-22,-21,-21,-21,-21,-22,-21,-21,-22,-21,-20,-19,-20,-20,-20,-19,-19,-19,-19,-19,-19,-19,-19,-20,-20,-20,-19,-20,-20,-21,-21,-21,-20,-20,-20,-19,-20,-20,-19,-18,-17,-17,-17,-17,-16,-16,-15,-15,-14,-13,-13,-13,-13,-12,-12,-12,-13,-13,-13,-13,-12,-12,-13,-13,-13,-13,-13,-14,-14,-13,-12,-12,-12,-11,-11,-11,-11,-10,-9,-9,-8,-7,-7,-7,-7,-6,-6,-6,-6,-6,-5,-4,-3,-3,-4,-3,-4,-4,-5,-5,-5,-5,-5,-5,-5,-4,-5,-5,-6,-5,-6,-5,-5,-5,-5,-4,-4,-5,-6,-5,-6,-6,-6,-5,-5,-5,-5,-4,-4,-4,-5,-6,-6,-7,-6,-6,-5,-5,-5,-5,-4,-5,-5,-5,-5,-6,-6,-6,-6,-6,-6,-5,-5,-5,-5,-5,-6,-6,-6,-7,-6,-6,-6,-6,-6,-6,-6,-6,-6,-5,-5,-4,-4,-5,-4,-3,-2,-2,-3,-3,-3,-3,-3,-3,-2,-2,-2,-2,-2,-2,-2,-1,0,-1,-1,-1,-1,0,0,0,0,0,0,-1,-1,0,0,1,2,2,2,1,0,0,-1,-1,-1,-1,0,0,0,1,1,1,1,1,0,0,-1,0,0,0,1,1,0,1,1,1,0,1,2,2,2,1,2,2,1,0,-1,0,0,0,0,0,1,2,3,4,4,5,5,5,5,5,5,5,5,5,4,3,2,1,0,1,1,1,1,1,2,2,2,2,1,1,0,1,2,2,2,2,2,2,2,3,2,2,2,3,3,4,4,4,3,2,2,2,2,3,3,4,4,5,5,5,6,7,6,6,6,5,6,6,5,6,7,8,9,10,11,11,11,11,11,11,10,9,9,9,9,8,8,8,8,7,7,7,8,7,7,7,7,7,7,6,6,5,6,7,8,8,9,9,10,10,9,10,10,11,12,13,12,12,11,11,10,10,11,10,9,10,10,9,10,10,11,11,11,11,10,10,11,10,10,9,8,8,7,7,7,6,7,8,7,6,7,8,8,7,8,8,7,8,8,8,7,7,7,7,7,7,7,7,8,9,8,7,6,6,6,7,8,8,9,8,9,9,9,8,8,7,8,8,8,8,8,8,8,8,9,10,9,9,9,9,9,9,9,9,10,10,11,11,10,10,10,10,9,9,9,8,8,7,8,7,7,7,7,6,7,7,8,7,7,7,7,7,8,9,8,8,7,7,7,7,6,6,6,7,8,8,8,8,8,7,6,6,6,7,6,6,6,7,7,7,7,6,5,4,3,3,3,2,1,1,1,2,3,3,4,4,3,2,1,1,1,2,2,3,3,2,3,3,2,2,2,2,1,1,2,2,2,1,2,2,2,3,2,2,3,2,1,1,1,0,0,-1,0,-1,-2,-1,-1,0,1,0,0,1,2,3,2,2,2,1,1,0,1,1,1,0,-1,-2,-2,-2,-2,-2,-2,-1,0,-1,-1,-1,-1,0,0,0,-1,-1,0,-1,-1,-1,-2,-1,0,-1,-2,-1,-2,-1,-1,-2,-2,-2,-1,0,-1,0,0,1,2,3,2,1,2,3,3,4,3,2,2,2,1,1,1,1,1,1,2,3,3,3,3,4,4,5,4,4,5,4,5,6,7,8,7,6,5,4,5,5,5,5,5,6,7,7,7,7,7,6,7,6,7,7,7,7,7,8,8,8,8,8,9,9,10,10,11,10,11,11,12,12,13,12,11,10,11,11,11,12,12,12,11,10,9,10,9,10,10,11,11,11,11,11,12,13,12,12,12,12,11,12,13,13,13,14,13,13,13,13,14,15,15,14,14,13,12,12,13,12,12,12,12,12,11,10,10,10,10,10,11,12,13,14,13,12,12,12,12,13,13,13,12,12,12,12,13,13,13,13,14,14,15,16,17,17,16,16,16,16,17,16,17,16,16,16,15,15,15,15,14,15,15,16,17,18,18,18,17,18,18,18,19,19,18,18,18,19,18,18,19,19,18,18,18,18,19,20,20,21,21,21,22,22,23,23,23,23,23,24,24,24,23,22,23,23,24,24,25,26,27,27,28,29,29,28,28,28,27,27,27,26,27,28,27,27,26,26,25,25,25,26,25,25,25,24,25,24,24,24,23,24,24,24,25,26,26,27,27,28,29,29,28,28,29,29,29,28,28,28,28,28,29,30,30,30,29,29,30,29,30,31,30,30,30,30,29,29,29,29,28,27,26,26,26,26,26,27,28,27,28,28,27,27,27,26,26,27,27,28,28,28,28,28,29,28,28,29,29,29,29,28,29,29,29,28,28,28,28,27,26,26,26,27,27,27,27,28,29,28,28,27,27,28,28,28,29,29,29,29,28,27,26,26,27,28,29,29,30,31,30,31,31,32,33,33,33,33,33,33,33,33,34,33,32,32,32,32,33,32,33,33,32,32,32,32,31,32,32,31,31,30,29,30,31,30,30,30,30,30,30,31,30,31,30,30,30,29,28,28,28,27,27,26,25,25,24,24,25,25,26,26,27,27,27,26,26,26,25,26,26,26,25,25,24,24,23,24,23,23,24,25,25,25,24,23,23,24,23,22,22,22,23,23,24,25,25,24,23,24,25,25,25,25,25,26,25,25,25,26,26,26,26,26,25,25,25,25,25,26,26,27,27,27,26,25,25,25,24,25,25,25,25,24,23,23,23,24,25,26,26,27,27,27,27,27,28,27,28,27,26,26,27,28,28,28,28,29,30,30,30,30,30,30,29,29,29,29,28,28,27,26,26,25,24,23,24,23,23,22,23,24,24,24,25,25,26,27,27,26,25,24,24,23,23,23,23,24,24,24,23,24,24,24,24,24,24,25,24,25,26,26,25,25,26,25,26,27,27,26,26,26,26,25,26,26,25,25,25,24,24,25,25,25,26,25,26,27,28,28,27,28,27,26,27,27,28,29,29,29,29,30,31,30,31,30,29,28,27,27,27,26,27,27,28,28,29,30,30,30,31,31,31,32,32,31,31,30,29,29,28,29,28,28,29,29,28,28,28,28,29,30,30,30,29,29,28,27,26,25,24,25,25,24,24,23,22,23,24,25,25,25,24,24,23,23,23,22,22,21,20,19,19,20,21,21,21,21,21,21,20,19,18,18,19,19,19,20,19,19,18,17,17,16,16,16,16,16,15,15,16,15,15,15,15,15,15,15,15,14,14,15,14,15,14,13,13,12,11,11,10,9,8,9,10,9,9,9,9,10,10,9,9,9,9,9,10,11,12,13,12,13,13,13,12,12,12,11,12,11,12,12,11,11,11,10,11,11,12,12,11,10,9,8,7,7,7,6,6,5,6,5,4,4,3,3,3,2,2,2,1,2,2,2,3,3,2,3,3,3,2,2,3,4,3,4,5,6,6,6,7,8,9,9,10,9,9,9,9,9,9,9,10,11,11,11,11,11,11,11,11,11,11,10,9,8,8,8,8,8,8,7,6,6,5,4,4,5,6,5,5,4,4,3,3,2,2,2,2,1,1,1,1,1,1,1,0,0,-1,-2,-1,-1,-2,-1,0,-1,-1,-1,-1,-1,0,0,0,-1,0,0,1,0,-1,-1,-2,-2,-1,0,-1,0,0,0,0,1,2,1,1,1,0,0,1,1,0,0,1,1,0,-1,-1,-1,-1,-2,-3,-2,-2,-1,-1,-1,0,0,1,0,1,1,1,0,1,1,1,1,1,2,3,3,2,1,1,1,0,0,-1,-1,-1,-1,-1,-2,-1,0,1,1,1,1,2,2,1,2,1,0,-1,-1,-2,-2,-1,0,0,1,1,1,1,0,0,-1,-2,-3,-2,-1,-1,-1,-2,-2,-1,-1,0,-1,0,1,0,-1,0,-1,-1,0,1,0,1,2,1,1,0,-1,-1,0,1,0,1,1,0,0,-1,-1,0,0,-1,-1,-2,-2,-2,-3,-4,-5,-4,-4,-4,-3,-3,-4,-3,-3,-2,-1,0,0,-1,-1,-2,-3,-2,-2,-3,-3,-4,-5,-5,-5,-4,-4,-3,-3,-2,-2,-3,-3,-2,-2,-2,-2,-2,-1,-2,-2,-3,-2,-1,-1,-1,-2,-1,-1,-1,-1,0,0,-1,-1,-2,-2,-3,-3,-3,-2,-2,-1,-2,-2,-3,-2,-3,-3,-4,-3,-2,-1,0,0,1,1,2,3,3,3,4,4,4,3,3,3,2,3,2,2,2,2,3,2,2,2,1,1,0,0,0,0,1,1,2,2,2,3,4,5,5,6,6,7,7,8,7,7,7,7,6,6,6,6,6,6,6,6,7,7,8,8,8,9,9,10,9,9,10,10,9,8,8,7,7,7,7,8,9,8,7,7,7,8,8,8,8,9,10,11,12,12,13,14,14,15,15,15,15,15,14,14,14,14,14,14,14,13,13,13,14,15,15,15,15,15,16,15,16,16,17,16,15,15,16,17,17,16,17,17,17,18,18,17,16,16,16,16,16,16,16,16,16,15,15,16,15,15,15,14,14,13,13,13,14,13,13,13,13,13,13,14,14,15,14,14,15,14,14,13,14,14,13,13,14,14,15,15,14,14,15,14,14,14,13,12,12,13,14,13,13,13,12,11,11,11,10,9,9,8,8,8,8,8,7,7,7,6,6,6,6,6,6,5,4,4,4,5,4,5,6,5,5,5,4,4,4,3,3,3,3,3,4,4,3,4,4,4,3,3,2,1,0,0,1,0,0,1,1,1,0,0,0,0,0,-1,0,1,1,1,1,2,2,1,1,0,0,0,0,-1,-2,-2,-2,-1,-1,-2,-1,0,0,0,0,-1,-1,-1,-2,-2,-2,-1,-1,-1,0,-1,-2,-1,0,-1,-1,-1,0,0,0,0,-1,0,1,2,3,4,5,6,7,6,6,6,7,7,6,6,5,6,7,7,7,7,7,6,7,6,6,5,5,5,6,7,6,7,7,7,7,7,7,7,6,6,6,5,4,5,4,5,5,4,5,6,7,7,7,7,7,7,7,7,7,8,9,8,8,9,9,8,8,8,8,7,8,9,9,8,8,7,6,6,6,5,5,5,4,5,5,5,5,6,5,5,4,4,4,3,3,4,4,5,5,5,5,6,6,7,7,6,6,5,6,7,6,6,6,6,5,5,5,5,5,5,5,5,6,6,5,6,6,7,7,7,6,6,5,6,6,5,4,5,5,5,5,5,4,4,5,5,5,5,4,4,3,2,2,2,2,2,3,4,4,4,5,5,5,6,5,5,6,5,5,5,5,4,4,3,3,2,2,1,0,0,-1,-2,-1,-2,-1,-1,0,1,1,1,1,0,0,0,-1,-1,0,0,0,1,0,-1,-1,0,1,1,0,0,1,1,0,0,0,-1,-2,-2,-3,-3,-4,-3,-3,-3,-3,-2,-2,-3,-3,-2,-3,-2,-1,-1,0,1,1,2,1,0,1,1,2,1,1,1,0,0,0,0,0,0,0,0,1,0,-1,-2,-2,-2,-1,-1,0,0,0,1,1,0,0,0,-1,-1,-1,-2,-3,-3,-4,-5,-6,-7,-7,-7,-7,-7,-6,-6,-5,-6,-7,-6,-7,-7,-8,-8,-7,-6,-6,-6,-7,-8,-8,-9,-10,-10,-10,-10,-11,-12,-12,-12,-11,-12,-13,-12,-12,-11,-11,-12,-12,-13,-14,-14,-13,-13,-14,-15,-15,-15,-15,-14,-14,-14,-13,-13,-14,-14,-15,-16,-16,-15,-15,-16,-16,-17,-18,-18,-17,-16,-17,-16,-15,-15,-15,-15,-16,-15,-15,-16,-16,-17,-18,-19,-20,-21,-21,-20,-20,-19,-18,-19,-20,-20,-21,-21,-22,-23,-22,-22,-22,-22,-23,-22,-22,-21,-21,-21,-22,-22,-23,-23,-23,-22,-22,-23,-23,-22,-21,-20,-20,-19,-18,-18,-19,-18,-18,-18,-19,-18,-19,-19,-18,-18,-18,-18,-17,-18,-18,-18,-18,-19,-19,-19,-18,-19,-19,-20,-20,-20,-21,-20,-20,-19,-20,-19,-18,-17,-18,-17,-16,-15,-15,-16,-16,-16,-15,-14,-14,-15,-16,-17,-16,-16,-17,-16,-16,-16,-15,-14,-14,-14,-14,-15,-14,-15,-16,-15,-15,-15,-15,-15,-15,-15,-15,-15,-15,-15,-15,-15,-16,-16,-16,-17,-18,-18,-18,-17,-18,-18,-18,-19,-19,-19,-19,-18,-18,-17,-17,-16,-15,-16,-16,-17,-17,-18,-18,-19,-19,-20,-20,-20,-20,-19,-19,-19,-19,-19,-19,-19,-20,-19,-19,-18,-18,-19,-19,-20,-20,-21,-21,-21,-21,-20,-19,-19,-20,-20,-20,-20,-20,-19,-19,-19,-18,-18,-17,-17,-17,-16,-16,-15,-14,-15,-15,-16,-16,-17,-17,-17,-18,-18,-18,-18,-17,-18,-19,-19,-18,-19,-20,-20,-19,-20,-21,-21,-22,-21,-21,-21,-21,-20,-19,-19,-19,-20,-21,-20,-19,-19,-18,-17,-17,-17,-16,-16,-16,-16,-16,-15,-14,-13,-12,-12,-13,-13,-14,-14,-14,-13,-12,-13,-13,-13,-12,-11,-11,-12,-12,-12,-13,-12,-11,-12,-13,-13,-13,-12,-11,-11,-11,-11,-10,-10,-11,-10,-10,-10,-9,-9,-9,-10,-9,-8,-8,-7,-7,-6,-6,-6,-7,-8,-9,-9,-10,-10,-10,-9,-10,-11,-11,-11,-11,-11,-11,-11,-11,-12,-12,-13,-13,-12,-11,-11,-10,-10,-10,-9,-10,-10,-11,-11,-11,-11,-11,-12,-12,-11,-10,-9,-10,-11,-12,-11,-11,-11,-10,-10,-10,-11,-12,-12,-12,-13,-14,-14,-14,-14,-14,-13,-13,-13,-14,-14,-13,-13,-12,-12,-12,-12,-12,-12,-12,-12,-11,-12,-12,-13,-13,-13,-12,-11,-11,-12,-11,-12,-12,-11,-10,-10,-10,-11,-12,-13,-12,-12,-12,-12,-13,-13,-13,-14,-14,-14,-14,-15,-14,-14,-14,-13,-12,-13,-12,-12,-11,-10,-10,-11,-11,-11,-11,-11,-10,-10,-9,-9,-10,-9,-10,-11,-11,-12,-11,-10,-10,-11,-11,-11,-10,-10,-10,-9,-9,-9,-10,-10,-11,-10,-10,-10,-10,-10,-10,-11,-11,-11,-12,-12,-12,-11,-10,-10,-10,-10,-10,-10,-11,-11,-11,-11,-11,-12,-12,-12,-12,-12,-11,-11,-11,-10,-10,-10,-10,-10,-9,-10,-10,-9,-9,-9,-9,-8,-8,-7,-7,-7,-7,-6,-6,-6,-6,-5,-5,-6,-6,-5,-6,-6,-7,-8,-9,-9,-10,-10,-11,-12,-11,-11,-11,-11,-10,-9,-8,-8,-8,-7,-6,-6,-6,-5,-5,-5,-6,-6,-5,-5,-6,-5,-6,-6,-6,-7,-7,-8,-8,-7,-7,-8,-7,-7,-6,-5,-4,-4,-3,-3,-3,-4,-4,-4,-5,-5,-5,-4,-4,-3,-4,-5,-4,-3,-2,-3,-4,-4,-3,-3,-3,-4,-3,-3,-2,-2,-3,-4,-4,-4,-3,-3,-3,-3,-2,-2,-3,-3,-3,-3,-3,-2,-2,-2,-2,-2,-1,0,0,1,0,0,1,0,0,0,-1,-2,-1,-1,0,0,0,0,-1,-1,-1,-2,-2,-2,-3,-4,-5,-6,-6,-6,-7,-6,-6,-7,-7,-8,-9,-9,-8,-8,-8,-8,-9,-9,-10,-11,-11,-10,-10,-9,-9,-9,-9,-10,-9,-9,-9,-10,-10,-9,-9,-10,-10,-10,-11,-10,-11,-12,-12,-12,-13,-13,-13,-14,-15,-15,-15,-14,-14,-14,-13,-13,-13,-13,-14,-14,-14,-14,-14,-13,-13,-13,-13,-13,-14,-13,-13,-12,-12,-13,-13,-12,-12,-11,-11,-11,-11,-12,-13,-14,-14,-13,-14,-14,-13,-13,-12,-12,-12,-13,-13,-13,-13,-13,-14,-14,-14,-15,-14,-14,-13,-13,-13,-12,-11,-10,-10,-11,-10,-9,-8,-8,-7,-8,-8,-7,-7,-7,-7,-7,-7,-6,-5,-4,-4,-5,-5,-4,-4,-4,-4,-4,-4,-4,-3,-4,-4,-4,-3,-2,-1,-2,-3,-3,-3,-3,-4,-4,-4,-4,-4,-3,-3,-2,-3,-2,-1,-2,-2,-1,-1,-1,-2,-3,-2,-3,-2,-2,-3,-2,-3,-3,-3,-4,-3,-3,-3,-4,-4,-4,-4,-4,-4,-3,-2,-2,-3,-4,-5,-6,-6,-5,-5,-6,-5,-5,-5,-6,-6,-6,-5,-4,-4,-4,-5,-5,-6,-6,-6,-7,-7,-7,-7,-6,-5,-4,-3,-3,-4,-5,-6,-5,-5,-5,-5,-4,-4,-3,-4,-4,-5,-6,-7,-7,-7,-6,-5,-5,-5,-6,-7,-8,-8,-8,-9,-9,-9,-10,-10,-10,-9,-8,-7,-7,-7,-8,-8,-8,-8,-9,-9,-10,-10,-10,-11,-10,-9,-10,-10,-11,-10,-10,-9,-10,-10,-10,-9,-9,-10,-10,-10,-11,-10,-9,-9,-10,-9,-10,-11,-10,-9,-10,-11,-12,-12,-11,-10,-10,-9,-8,-9,-9,-9,-10,-9,-9,-8,-8,-8,-8,-7,-8,-8,-8,-7,-6,-5,-4,-3,-2,-2,-2,-2,-3,-4,-5,-5,-4,-4,-4,-4,-5,-4,-5,-5,-5,-4,-4,-5,-5,-5,-4,-3,-3,-2,-1,-1,-1,0,0,0,1,2,2,1,2,3,4,3,3,3,3,2,1,0,-1,-1,0,1,2,3,4,4,5,4,5,5,5,6,7,7,7,7,8,7,7,7,8,8,8,9,8,8,9,8,8,7,6,6,6,7,6,6,5,4,4,5,6,6,6,5,6,6,7,8,8,7,8,9,10,10,11,11,10,11,11,11,10,10,9,9,9,9,10,11,12,12,13,13,13,13,12,13,13,14,13,13,13,12,12,12,12,12,12,11,11,10,10,9,9,9,9,9,9,8,9,9,8,8,8,8,7,6,6,6,6,6,6,6,6,6,5,5,6,6,5,5,6,6,6,6,6,7,6,5,4,5,4,4,4,4,4,4,4,5,6,6,7,6,6,6,7,7,7,6,7,7,7,8,9,9,8,8,8,9,10,10,9,8,8,8,9,10,10,11,10,10,11,11,12,13,13,13,14,14,14,15,15,15,15,15,16,17,18,19,19,20,21,21,21,20,20,19,19,19,19,18,19,18,17,17,16,15,15,15,15,14,13,14,13,14,14,14,15,15,15,15,14,14,13,13,12,12,13,14,15,15,15,15,14,15,15,15,15,14,14,13,13,12,12,12,11,11,11,10,9,9,9,9,9,10,9,9,8,8,8,9,10,9,9,9,8,8,8,8,9,9,9,9,9,10,11,11,12,13,13,14,15,15,15,14,13,13,12,12,12,13,14,15,15,14,14,14,14,15,16,16,16,16,15,15,15,16,15,16,16,17,17,17,16,16,17,17,16,17,17,16,15,15,16,16,16,17,17,18,17,17,17,16,15,15,16,16,16,17,17,16,15,14,14,13,13,13,14,13,14,14,13,13,12,12,13,13,13,12,12,12,11,12,12,13,12,12,12,12,12,12,12,11,10,10,10,10,10,11,10,10,11,11,12,11,10,10,10,11,11,12,12,13,14,15,14,13,12,12,13,13,14,14,14,13,13,13,13,13,13,13,13,13,12,13,14,14,15,15,16,17,16,16,15,15,16,16,16,16,17,17,17,17,17,17,17,17,18,18,17,16,15,15,16,16,16,17,17,17,16,15,16,16,15,14,14,15,14,13,13,12,12,12,12,12,12,11,11,11,11,11,12,11,12,11,11,10,9,9,10,10,10,11,10,9,10,9,9,10,11,11,10,10,10,10,10,10,10,11,11,10,10,9,10,9,10,11,10,9,8,9,10,10,9,9,9,8,7,7,6,6,7,8,8,8,7,7,6,6,5,4,3,4,5,5,6,7,8,9,10,9,8,8,8,7,7,7,7,7,6,5,5,5,6,6,6,6,6,5,6,6,7,6,7,8,7,6,6,7,7,7,7,8,8,8,7,7,7,7,7,8,9,9,9,9,10,10,11,12,11,11,11,11,11,10,10,9,9,9,8,7,6,6,6,6,5,4,4,4,4,3,3,3,4,4,4,4,4,4,5,5,6,7,8,8,8,9,9,9,10,11,11,11,10,10,10,11,11,11,11,11,11,11,11,12,12,13,13,13,14,14,14,13,12,11,12,13,14,14,13,13,12,12,11,10,11,11,11,10,9,10,10,10,10,10,10,10,10,10,10,10,11,10,9,9,10,10,10,10,9,8,9,9,10,9,8,9,10,11,10,9,9,9,10,11,11,10,9,9,9,9,10,11,11,11,12,11,11,11,12,13,13,14,13,14,14,13,12,12,11,10,10,11,11,10,11,11,10,10,11,11,11,10,11,11,12,12,12,12,11,12,11,12,11,11,10,9,10,9,9,9,10,10,9,9,9,10,9,9,9,10,11,11,11,11,12,12,12,12,12,12,12,12,12,13,13,13,13,12,13,14,15,15,15,14,14,14,14,14,13,12,12,13,14,14,15,15,16,15,16,16,17,18,19,18,19,20,19,20,20,20,20,20,21,22,22,21,20,21,21,21,21,21,22,22,23,23,22,22,23,23,23,23,22,22,22,23,22,23,24,24,24,25,25,25,25,25,25,24,23,22,22,22,22,21,21,21,21,20,21,21,22,22,22,22,23,24,24,24,24,23,23,23,23,24,25,25,24,25,25,24,24,24,25,25,26,26,26,26,26,26,27,26,26,25,26,25,24,24,25,24,24,25,25,25,25,25,25,26,25,25,25,25,26,26,26,26,25,24,24,24,24,25,25,26,26,27,27,27,26,27,28,28,27,27,27,26,26,26,25,24,23,24,23,24,23,23,22,22,23,24,23,23,22,22,23,24,24,23,22,22,21,20,19,18,19,20,20,19,19,20,20,19,19,19,20,19,19,18,17,17,16,16,17,16,15,16,16,16,16,16,15,15,15,16,17,17,17,17,17,17,16,15,15,15,15,15,15,15,15,16,17,16,17,18,17,17,17,17,17,17,17,16,15,16,15,16,17,17,17,18,18,19,19,18,18,18,18,17,16,17,16,16,15,15,15,16,16,15,14,15,16,16,15,14,14,14,15,16,16,15,15,14,14,14,13,13,12,13,13,13,13,13,12,12,12,12,12,13,13,12,12,13,14,13,14,13,13,14,13,14,14,13,12,12,12,12,12,13,13,14,15,15,16,17,16,17,17,16,16,16,17,16,17,17,17,17,18,19,19,19,18,18,19,20,19,20,21,21,22,22,23,24,24,24,24,23,24,24,24,25,25,26,26,27,28,29,29,30,31,30,30,29,28,28,28,29,30,30,31,31,31,31,30,30,31,31,30,30,29,30,30,30,30,30,29,28,29,30,31,32,33,33,33,33,33,33,33,34,33,33,34,33,34,34,34,35,35,35,34,34,34,35,36,37,38,39,39,39,40,41,41,40,41,41,41,41,40,39,39,40,40,40,41,41,41,41,41,41,41,42,42,42,43,43,43,44,45,46,46,46,46,46,46,46,46,46,45,46,46,45,46,46,46,46,45,45,46,45,44,44,44,44,45,45,45,44,44,43,43,42,43,43,42,42,41,41,40,40,40,40,39,39,38,38,37,36,36,35,34,34,33,33,32,33,34,35,36,37,37,37,37,37,37,38,38,37,38,39,39,39,39,40,40,40,40,41,42,42,42,42,41,40,40,39,39,39,39,38,39,38,38,38,38,38,38,37,37,38,37,36,36,36,37,37,37,37,36,35,35,35,35,34,34,34,34,33,34,34,34,34,34,34,34,34,33,33,32,31,30,31,31,31,31,31,30,29,29,30,29,29,29,28,27,26,26,26,26,27,27,28,28,28,27,27,28,29,29,29,29,29,30,30,30,30,29,30,30,29,28,27,27,27,26,25,25,26,27,27,27,26,25,24,25,25,25,25,25,25,26,25,25,25,24,23,24,25,26,26,26,26,26,27,27,26,26,27,28,29,29,29,29,28,29,30,31,31,31,30,31,31,32,32,31,31,31,30,30,30,29,30,29,29,29,29,30,31,31,32,32,32,32,32,31,32,33,32,33,34,34,34,33,34,34,33,32,31,31,32,33,33,34,33,34,35,35,35,35,35,34,34,35,34,35,34,34,34,34,35,35,34,34,35,35,34,33,33,33,34,34,35,34,34,35,35,34,33,33,33,33,33,33,33,32,31,31,32,32,32,31,31,32,32,33,33,33,33,34,34,33,33,34,33,32,32,32,31,31,30,30,31,30,30,30,30,30,30,30,30,30,30,30,30,31,32,32,32,33,33,32,32,32,32,32,32,32,32,31,32,33,33,33,34,34,35,34,35,34,34,35,34,34,34,34,33,32,32,33,34,33,33,32,32,31,31,31,32,33,33,34,34,34,33,33,32,32,32,33,33,33,33,34,34,34,34,34,34,34,34,33,33,33,33,34,34,34,34,33,33,32,31,32,31,31,30,29,29,29,30,31,30,31,32,33,32,32,31,31,31,32,33,32,33,34,35,35,35,36,36,35,34,33,33,33,33,33,33,32,33,33,33,33,33,33,33,33,34,34,34,34,35,36,36,35,35,35,34,33,33,33,33,34,34,34,33,34,34,34,34,34,33,33,33,33,34,35,34,33,33,33,33,33,33,34,34,34,33,32,32,33,32,31,30,30,29,29,30,30,30,30,30,30,30,31,30,31,30,30,30,31,31,30,31,32,33,33,33,32,32,31,30,31,30,29,29,28,29,28,28,27,28,28,27,28,27,27,27,28,28,28,28,27,26,27,27,27,28,28,27,28,29,29,29,29,29,29,30,29,29,29,28,28,28,27,27,26,26,25,26,26,26,26,27,28,28,28,29,30,30,30,31,32,31,31,32,31,32,33,33,33,34,35,36,36,36,37,38,38,38,38,37,37,36,35,36,35,35,36,37,36,36,35,35,34,34,34,34,35,35,35,34,34,33,34,34,34,35,36,37,36,36,35,36,36,35,35,34,33,33,32,32,31,32,33,32,32,32,31,31,30,31,31,30,30,30,30,31,32,32,33,34,35,36,36,36,37,37,36,35,35,34,35,35,34,33,33,33,33,34,34,34,35,36,36,35,36,36,36,37,37,36,37,36,36,35,35,35,34,33,33,34,34,35,35,34,33,32,33,34,35,35,35,34,35,35,35,36,35,36,37,37,37,37,38,38,37,36,37,36,36,35,35,35,34,33,34,34,35,35,35,34,35,35,35,36,36,36,36,37,37,38,38,37,37,37,36,36,37,36,36,36,36,36,37,37,38,37,38,39,38,38,39,39,38,38,38,39,38,38,37,37,36,36,36,36,36,35,35,35,36,37,37,37,37,37,38,37,37,38,38,37,36,36,35,35,35,36,37,36,36,35,35,35,35,35,34,34,35,36,36,35,36,35,36,36,37,37,38,37,37,36,36,36,35,35,34,33,33,32,33,32,31,30,31,31,31,31,31,31,30,29,28,29,29,29,29,29,30,30,30,30,31,32,32,32,32,32,31,31,30,29,29,28,28,28,28,28,29,28,29,29,29,29,28,29,29,28,27,26,26,27,26,27,27,28,28,28,28,28,28,27,27,28,27,27,26,26,26,26,27,26,27,26,25,25,24,24,24,24,24,25,25,24,23,23,23,23,23,24,24,24,24,25,26,27,28,28,29,28,29,29,28,28,27,28,29,29,29,28,27,27,27,27,28,28,27,28,29,29,29,28,28,28,28,28,27,28,29,29,30,31,31,31,31,31,31,31,32,32,31,31,31,31,31,30,30,31,32,32,33,32,32,32,33,33,33,33,32,32,32,31,30,30,30,30,31,31,31,31,31,31,31,31,31,31,32,33,33,33,33,32,32,32,32,32,31,31,32,31,30,31,30,31,30,30,29,29,30,31,32,32,32,33,33,33,34,34,34,34,33,32,32,31,32,33,32,32,32,32,32,33,34,35,36,36,36,36,35,34,33,34,34,34,34,34,35,35,36,37,37,37,36,37,37,37,37,36,37,37,37,38,38,39,39,38,38,37,36,37,37,38,37,37,38,38,38,37,36,36,37,36,37,36,36,35,35,35,36,37,36,37,37,37,37,36,36,36,37,37,36,36,36,37,38,38,38,38,39,38,37,38,38,39,38,38,38,38,38,37,36,35,35,34,34,34,34,34,35,35,35,34,33,33,33,33,32,32,32,32,32,31,31,32,33,33,34,33,33,33,34,35,35,34,35,34,35,35,35,35,36,35,35,35,34,35,35,35,35,36,35,35,35,35,35,35,35,35,35,35,35,36,35,35,35,35,34,33,34,33,34,34,33,34,34,34,34,35,34,33,33,34,35,35,35,36,36,36,35,35,35,35,34,34,33,33,32,32,31,32,32,31,31,31,31,31,30,31,31,32,32,33,32,33,33,33,33,33,32,31,31,32,32,32,31,31,31,30,29,28,28,27,28,27,27,27,27,28,28,29,28,27,27,26,27,27,28,28,27,26,26,27,28,27,26,25,26,27,27,27,26,26,26,26,25,26,27,28,28,27,26,27,26,27,28,27,26,26,26,27,28,28,28,28,29,29,29,30,29,29,29,29,29,29,29,30,30,29,28,28,28,28,28,27,28,27,26,26,26,25,25,26,26,27,28,28,27,27,27,26,26,25,24,25,24,23,24,23,24,24,23,23,23,24,23,23,24,24,23,23,24,25,24,24,25,25,25,25,26,25,24,25,25,26,25,26,27,27,26,26,26,27,26,27,28,28,28,29,29,29,28,27,27,27,27,27,26,25,26,26,26,25,25,25,26,27,28,27,28,29,29,29,30,30,30,29,30,29,29,29,29,30,31,32,32,32,31,31,32,32,33,34,34,34,34,34,34,35,34,35,36,36,35,34,34,33,34,34,33,33,34,33,33,34,33,32,32,32,32,31,32,31,30,29,28,28,28,29,29,30,31,32,31,31,32,32,31,31,30,30,30,30,30,30,31,30,30,31,32,32,32,32,32,31,31,30,29,28,28,27,26,27,27,27,27,27,26,26,27,27,27,27,28,28,29,29,29,29,29,30,30,31,31,30,31,32,32,32,32,32,32,32,33,33,34,35,36,37,37,38,38,38,39,39,39,39,40,40,40,40,39,40,40,39,39,38,37,38,37,36,35,35,35,35,34,33,34,34,33,32,33,33,33,32,32,31,31,30,31,31,30,30,31,31,31,32,32,31,32,33,34,33,32,31,31,32,32,33,34,35,34,35,35,35,35,34,33,34,35,35,36,35,36,37,38,38,39,38,38,38,38,38,39,40,41,41,41,41,41,42,43,42,41,42,41,41,41,41,41,41,42,42,41,40,40,40,40,39,38,37,37,36,35,35,34,34,34,34,34,35,34,34,34,34,35,36,36,36,35,35,36,35,35,35,35,36,36,35,36,36,37,36,36,36,36,36,35,35,34,34,35,36,36,36,36,36,35,35,35,35,35,35,34,34,35,35,35,35,36,37,36,37,37,36,36,36,35,36,36,36,35,35,34,34,34,34,35,34,34,35,34,34,34,34,34,33,32,32,33,33,33,32,32,32,32,32,31,32,33,33,33,34,34,34,33,33,33,33,32,31,31,31,31,30,30,31,32,31,32,32,32,32,32,31,31,30,30,30,29,28,27,26,26,26,25,24,24,24,24,25,25,25,25,24,24,24,23,22,22,23,23,23,22,21,20,20,21,22,23,23,23,23,23,24,23,23,23,23,22,21,21,22,23,24,24,25,24,25,25,25,25,24,25,26,26,25,26,27,26,26,25,25,24,25,25,25,25,25,24,25,25,26,25,26,26,27,26,26,25,25,24,24,23,23,23,23,24,25,24,24,23,22,22,22,22,22,22,21,22,22,22,22,23,24,25,25,26,27,27,28,29,30,31,32,32,32,32,32,33,34,35,34,34,33,34,34,33,32,32,33,33,33,33,32,33,33,33,33,33,33,34,35,36,36,37,36,35,36,35,35,35,35,36,37,36,36,37,36,37,36,35,35,34,35,35,35,34,34,33,33,32,31,32,32,32,31,30,30,30,31,31,31,31,31,31,31,31,31,31,30,30,29,29,29,30,31,31,31,31,31,31,31,32,32,32,32,32,32,33,34,34,33,33,34,33,33,34,33,32,33,33,34,35,35,36,36,36,36,37,36,35,34,35,34,34,35,36,36,37,37,38,38,38,38,38,38,38,39,38,38,37,37,37,37,37,38,37,36,37,37,36,35,35,34,35,35,34,33,32,31,31,30,29,28,28,29,28,28,27,27,28,28,28,29,30,30,30,29,30,30,31,30,30,30,29,30,31,30,30,31,30,30,29,29,30,31,32,31,30,31,32,31,31,32,33,32,33,32,33,32,33,33,32,32,33,33,33,32,32,31,32,31,31,31,32,33,32,31,31,32,33,32,33,33,32,31,32,32,32,33,33,33,34,35,34,33,32,32,32,33,33,32,31,31,31,31,30,30,30,31,32,33,32,33,33,33,33,34,33,33,33,33,33,33,33,32,32,33,33,33,33,33,33,33,34,33,32,32,32,32,31,30,31,30,29,29,30,30,30,30,31,30,29,28,28,29,29,30,30,30,30,31,32,32,31,32,33,33,33,32,33,33,34,34,35,35,35,35,36,36,36,36,37,38,38,39,39,40,40,40,40,39,38,38,37,36,37,38,38,37,38,39,39,40,39,40,39,40,39,39,38,38,37,36,36,36,36,36,35,36,37,37,38,38,39,39,38,38,39,39,39,38,37,37,38,38,37,37,37,37,37,37,38,37,37,36,37,37,37,37,37,36,36,37,37,37,37,37,38,37,37,38,37,36,37,36,36,36,35,35,36,36,35,36,37,37,38,37,37,38,38,37,37,38,38,39,40,40,41,40,40,40,39,40,40,40,41,41,42,42,42,43,43,43,44,45,46,47,48,48,47,47,47,47,47,47,46,45,45,45,45,44,44,44,44,44,44,43,43,44,44,45,45,45,45,44,45,44,43,43,44,44,44,44,45,46,47,47,48,48,49,49,48,48,48,47,46,46,47,48,49,49,48,49,49,49,49,49,48,48,49,49,48,48,49,49,48,47,47,47,46,46,46,46,46,47,47,47,47,47,47,46,45,46,47,46,47,48,48,49,48,48,48,48,47,47,46,46,46,46,47,46,46,45,44,45,45,46,46,46,46,47,47,48,48,48,47,47,48,47,46,45,46,46,46,46,46,47,47,48,49,49,48,49,49,49,50,50,51,50,51,51,51,51,51,52,52,51,50,50,49,50,50,49,50,50,50,50,51,50,51,51,52,51,52,52,52,52,52,53,53,52,52,51,50,51,52,53,53,52,52,52,51,51,52,51,52,51,51,51,51,51,51,50,50,50,50,49,49,49,49,49,49,48,49,48,48,48,47,46,47,47,46,46,46,47,46,45,46,47,46,47,47,47,47,46,47,48,48,48,47,46,46,47,47,46,47,46,46,47,47,47,46,46,46,45,45,45,46,47,46,47,47,47,46,45,45,45,44,44,43,44,44,44,44,44,44,44,43,43,42,42,43,43,43,43,43,43,44,45,44,44,45,44,43,44,44,44,44,44,43,42,41,41,42,42,43,44,43,43,44,44,44,43,43,42,43,42,42,41,40,41,40,40,39,38,37,38,38,38,37,37,36,35,35,35,34,33,33,32,32,32,32,32,33,34,33,33,33,33,32,32,32,32,33,33,32,32,32,33,33,33,34,33,33,34,33,34,33,34,33,33,33,33,32,32,32,33,34,33,34,35,34,33,33,32,33,33,33,33,32,33,33,34,34,34,35,36,36,37,37,37,38,37,37,38,38,38,38,37,37,37,38,38,38,39,39,39,38,39,38,39,40,41,41,42,42,42,41,42,42,42,42,41,40,40,40,40,39,38,38,39,40,41,40,40,41,42,41,41,41,42,42,42,43,43,42,42,42,43,44,43,44,43,43,43,43,44,44,44,44,44,43,43,43,43,43,43,42,43,43,44,45,44,43,44,44,45,44,45,45,46,47,47,48,48,49,50,49,50,51,51,50,50,51,51,51,52,52,52,53,53,54,54,54,54,53,54,53,52,53,53,52,52,51,51,52,53,53,53,53,53,53,53,53,53,53,52,52,53,53,53,53,54,54,53,53,52,51,50,50,50,49,49,50,51,50,51,50,49,50,50,50,50,50,51,50,50,49,49,49,49,50,50,50,51,51,52,52,52,52,51,50,49,50,49,50,50,51,52,51,51,50,51,51,52,51,50,49,49,50,50,50,50,49,48,48,48,48,47,47,46,46,46,46,47,47,47,47,46,46,46,46,47,47,47,47,47,47,48,48,48,47,48,47,46,46,47,46,45,44,43,43,42,43,42,42,43,42,43,43,43,43,43,42,43,42,41,42,41,41,41,40,41,42,41,41,41,41,41,41,41,41,40,39,39,40,39,39,40,40,40,39,39,38,38,38,38,38,38,38,38,39,40,40,40,40,40,40,40,40,40,39,39,38,38,38,38,38,38,37,37,37,38,38,38,38,38,38,37,38,39,39,39,39,39,39,38,37,36,36,37,36,36,37,37,37,37,38,37,36,35,35,34,34,33,33,34,33,34,35,34,33,33,33,34,34,33,32,32,33,33,32,31,31,30,30,30,31,31,30,30,30,31,30,31,30,29,30,30,29,29,30,30,31,31,31,31,31,30,31,31,31,30,29,28,28,27,28,28,28,27,27,26,25,24,25,26,26,25,25,25,24,23,24,24,25,25,25,24,24,25,26,27,26,25,25,26,26,27,27,28,27,28,28,29,29,28,28,28,28,29,29,29,28,27,27,27,28,27,26,26,25,25,25,25,24,24,24,24,25,26,25,24,24,25,24,23,23,22,22,23,23,23,22,23,22,23,22,22,22,22,22,21,20,20,19,19,18,19,18,18,19,19,19,18,18,18,18,19,18,18,17,17,17,16,17,16,16,17,17,18,18,19,20,19,19,19,20,20,19,19,19,18,18,19,19,19,20,19],\"y\":[0,0,-1,-1,0,1,1,1,1,0,-1,-1,-1,-1,0,0,-1,-1,-2,-3,-3,-4,-4,-4,-4,-4,-4,-5,-4,-3,-2,-1,-1,0,-1,-1,-1,0,0,0,1,1,1,0,1,1,2,3,3,4,3,3,3,3,2,2,2,1,0,1,1,0,-1,-1,-1,0,0,-1,-1,-2,-2,-2,-2,-2,-1,-1,-1,-2,-3,-3,-4,-4,-3,-3,-3,-2,-2,-2,-2,-2,-3,-3,-4,-5,-6,-7,-6,-5,-5,-5,-4,-5,-5,-5,-6,-7,-7,-8,-7,-7,-8,-7,-6,-7,-7,-8,-8,-7,-7,-6,-5,-6,-7,-8,-8,-8,-8,-8,-8,-8,-7,-7,-8,-7,-7,-7,-6,-6,-5,-4,-3,-3,-3,-3,-4,-4,-3,-4,-4,-4,-3,-3,-3,-2,-2,-2,-2,-2,-1,0,0,0,0,1,1,2,2,2,1,1,1,1,0,-1,-1,-2,-2,-2,-1,-1,-1,-1,-2,-3,-3,-3,-2,-2,-1,-1,-1,-1,0,0,0,-1,-1,0,0,-1,-2,-3,-2,-2,-2,-2,-3,-4,-3,-3,-3,-2,-2,-1,-1,-1,-1,0,1,2,1,2,3,3,2,3,2,2,2,1,1,1,0,0,0,1,2,3,3,3,3,2,2,3,3,3,2,1,2,1,2,2,2,1,1,1,2,3,3,2,2,3,3,4,3,3,3,2,3,2,2,3,4,4,5,4,5,5,6,5,5,5,6,6,6,7,6,6,5,6,6,7,7,7,7,8,8,9,9,9,8,7,7,6,5,5,5,5,6,6,6,6,6,6,7,8,8,8,9,9,9,9,8,9,10,11,12,12,13,13,13,13,13,14,14,14,13,12,12,11,11,10,10,11,10,11,11,11,11,10,9,9,9,9,9,9,9,8,7,6,6,6,5,5,5,6,6,5,6,5,6,5,5,5,4,4,4,4,4,3,3,4,4,3,2,3,3,3,3,3,3,3,4,3,2,3,3,3,3,3,4,5,6,5,5,4,3,2,2,3,3,3,4,3,3,3,3,2,2,1,2,3,3,3,3,4,3,4,4,4,4,5,5,5,6,6,6,7,8,7,7,7,8,7,7,7,7,8,8,8,8,8,8,8,7,6,5,5,5,5,4,4,5,6,7,6,6,5,5,5,6,7,6,6,6,6,5,4,4,5,5,5,5,5,6,6,6,5,4,3,3,2,2,1,2,2,2,3,3,3,3,3,3,3,2,3,3,3,3,2,2,2,2,1,0,-1,-1,-1,-1,-1,-1,-1,-2,-3,-3,-3,-4,-3,-3,-3,-2,-2,-1,-1,-2,-1,-2,-2,-1,-2,-1,-2,-1,-1,0,0,0,0,-1,-1,0,0,0,1,1,1,2,3,3,3,2,3,4,3,4,3,2,1,2,2,2,1,1,2,3,3,3,4,4,4,4,4,5,6,5,5,4,4,4,4,5,5,4,5,4,4,4,4,4,5,4,4,3,2,3,2,2,1,0,0,-1,-1,-1,-1,-2,-1,-2,-1,0,0,-1,-1,-1,-2,-2,-2,-2,-2,-2,-1,-1,0,-1,-1,-2,-2,-2,-3,-4,-4,-4,-4,-4,-4,-4,-4,-5,-6,-6,-5,-5,-6,-6,-7,-6,-6,-6,-6,-7,-7,-7,-6,-7,-6,-7,-6,-7,-7,-8,-8,-8,-8,-8,-9,-10,-9,-9,-8,-9,-8,-8,-9,-9,-9,-9,-9,-9,-9,-10,-11,-12,-11,-11,-11,-11,-12,-12,-11,-11,-11,-11,-10,-11,-12,-11,-11,-12,-13,-14,-13,-13,-14,-14,-14,-14,-15,-15,-14,-15,-16,-16,-16,-16,-17,-17,-17,-16,-16,-16,-15,-15,-16,-16,-17,-18,-18,-18,-18,-18,-19,-19,-18,-19,-19,-20,-20,-21,-21,-21,-21,-20,-19,-18,-19,-19,-18,-18,-18,-17,-18,-18,-18,-17,-17,-16,-17,-16,-16,-17,-17,-16,-17,-18,-18,-18,-17,-17,-17,-17,-17,-17,-18,-17,-16,-16,-17,-16,-16,-15,-14,-14,-14,-15,-15,-15,-16,-16,-16,-16,-15,-15,-15,-15,-15,-15,-15,-15,-15,-16,-16,-16,-16,-16,-16,-16,-16,-17,-16,-15,-15,-15,-14,-14,-14,-14,-14,-14,-14,-13,-14,-14,-14,-14,-13,-13,-12,-11,-11,-11,-10,-10,-10,-9,-10,-9,-9,-10,-11,-11,-12,-13,-12,-11,-11,-11,-10,-9,-9,-8,-8,-9,-10,-9,-8,-7,-7,-8,-9,-9,-9,-10,-10,-9,-8,-7,-7,-7,-7,-7,-8,-8,-8,-8,-7,-7,-7,-7,-8,-7,-8,-8,-7,-7,-6,-7,-7,-7,-7,-7,-6,-7,-7,-6,-6,-6,-6,-7,-6,-6,-6,-6,-6,-7,-6,-6,-5,-6,-6,-5,-4,-4,-3,-3,-4,-4,-4,-4,-4,-4,-3,-4,-3,-4,-4,-3,-3,-3,-2,-2,-3,-2,-2,-2,-1,0,0,0,1,1,1,0,0,-1,0,0,-1,0,-1,-1,-2,-2,-2,-1,-2,-2,-2,-2,-1,-2,-2,-2,-1,-1,-1,0,0,1,0,-1,-2,-1,-2,-3,-4,-3,-3,-3,-2,-2,-2,-2,-3,-4,-3,-2,-3,-3,-2,-1,-1,-1,-2,-1,-1,-2,-2,-2,-3,-3,-3,-2,-1,0,0,0,0,-1,-1,-1,-2,-1,-1,0,1,1,1,2,3,2,2,2,3,3,4,3,3,2,2,2,2,3,2,2,1,0,-1,0,0,0,0,0,1,0,0,1,2,1,1,0,-1,-1,-2,-2,-2,-1,-2,-2,-3,-3,-3,-4,-5,-4,-4,-5,-6,-7,-7,-6,-5,-4,-4,-5,-5,-5,-5,-5,-4,-3,-4,-5,-5,-4,-4,-4,-5,-5,-5,-5,-5,-5,-6,-6,-5,-5,-5,-5,-5,-5,-4,-4,-4,-4,-3,-2,-2,-1,-1,-1,-1,0,-1,-2,-1,-2,-2,-1,0,0,-1,0,0,-1,-1,0,0,1,1,1,0,1,0,1,1,1,1,2,2,2,2,1,2,3,2,1,1,0,0,0,1,1,1,1,1,0,1,2,2,2,1,1,1,1,0,-1,-1,0,0,0,0,-1,-1,-2,-3,-3,-2,-3,-3,-3,-3,-2,-2,-2,-2,-2,-2,-1,-2,-1,0,0,0,1,1,0,0,1,0,-1,-1,-1,-2,-2,-1,-1,-2,-1,-2,-1,-1,-1,-2,-3,-4,-5,-5,-5,-5,-6,-7,-7,-6,-5,-5,-4,-5,-5,-5,-5,-6,-7,-7,-8,-7,-7,-6,-5,-5,-6,-5,-4,-3,-2,-2,-2,-1,-1,0,1,2,2,2,2,3,3,4,4,5,5,4,5,5,5,5,6,6,7,8,8,7,8,8,7,7,7,7,6,6,6,6,6,6,5,5,6,7,7,7,7,8,8,8,8,9,9,9,8,8,9,8,7,7,7,6,7,8,9,9,9,9,8,8,8,9,9,10,11,12,13,13,13,12,12,13,13,12,13,13,13,13,13,13,13,13,13,13,13,14,14,13,14,14,15,15,16,15,16,15,16,15,15,14,14,14,14,14,15,15,14,14,14,14,14,13,12,11,11,11,12,13,12,12,11,11,10,10,9,8,7,8,8,8,9,10,10,11,11,11,11,10,11,11,11,11,12,12,13,12,12,11,11,11,11,11,10,10,11,10,10,11,11,11,11,11,12,12,12,12,12,12,11,11,10,11,12,12,13,13,13,12,12,11,12,13,14,14,14,14,15,15,15,14,13,13,13,14,13,13,13,14,14,13,13,13,12,12,13,13,13,13,12,11,12,12,12,12,12,12,12,12,13,13,12,13,13,14,15,15,15,14,15,14,13,14,13,13,13,12,13,14,14,15,15,15,14,14,13,12,12,13,14,15,15,15,15,14,14,13,13,13,13,13,14,14,15,16,16,16,16,17,18,18,17,16,17,17,17,16,16,16,15,15,15,16,16,16,16,17,17,17,16,15,15,14,14,13,14,15,14,13,12,13,13,13,14,14,14,14,15,15,14,14,15,14,13,13,12,12,13,12,12,13,13,13,13,12,11,11,12,11,11,11,12,11,11,11,12,11,11,10,9,9,10,10,11,11,11,10,10,10,10,11,11,11,12,12,13,13,12,11,11,12,12,11,11,10,10,11,12,12,12,12,12,11,11,12,13,12,12,12,13,13,13,13,12,11,10,10,10,11,11,12,13,13,13,12,13,13,14,15,16,15,16,17,17,18,18,19,20,19,19,19,20,20,20,19,19,20,20,21,21,21,20,21,22,22,21,20,20,20,21,22,21,21,21,20,19,18,17,17,18,19,19,19,20,20,21,20,20,20,20,20,20,20,19,19,19,18,18,17,16,17,18,17,18,18,18,17,16,17,16,16,16,16,15,14,13,13,12,11,11,11,10,9,10,10,9,9,9,9,9,8,7,6,5,5,6,7,8,7,7,8,8,9,8,7,7,7,8,7,7,7,7,8,9,9,9,8,9,9,9,9,8,9,9,8,8,9,9,10,11,12,12,13,12,12,13,14,15,14,14,13,13,12,12,11,12,12,13,13,13,13,13,13,13,12,12,12,12,12,12,12,12,12,12,13,14,14,13,14,15,16,16,17,17,16,16,15,15,16,17,17,16,16,16,16,17,16,16,17,17,18,18,18,19,20,21,21,21,21,21,20,19,18,18,19,18,18,17,17,16,16,17,17,17,18,18,17,16,16,16,16,16,16,16,17,17,17,16,16,15,14,13,12,13,12,12,13,12,12,12,13,13,13,14,14,14,14,14,14,14,15,15,14,14,15,15,16,17,17,17,16,16,17,16,17,18,17,17,17,16,16,17,17,17,16,15,14,13,14,14,15,15,15,14,14,15,15,15,16,16,17,16,17,17,18,17,17,16,16,16,15,16,16,15,14,13,13,13,14,15,15,15,14,15,15,14,14,15,14,14,14,13,12,12,11,11,11,11,10,10,11,12,12,12,12,12,13,13,13,12,13,12,11,11,12,11,11,11,12,12,13,13,14,15,16,16,17,16,16,16,15,16,16,16,15,15,16,17,17,18,17,17,17,17,18,17,17,18,19,20,20,20,20,19,19,19,18,19,20,19,18,19,18,18,19,18,18,18,19,18,18,19,20,21,21,21,22,22,22,22,22,22,23,24,24,25,26,25,26,25,26,27,27,26,25,25,25,24,24,25,26,26,27,26,26,26,27,27,27,27,26,27,28,28,27,27,28,28,28,29,28,27,27,28,29,29,28,29,30,30,29,29,30,31,30,29,29,28,28,28,29,28,28,29,28,29,29,29,28,28,28,27,26,27,27,28,29,30,29,29,29,29,30,30,30,30,31,31,30,29,28,29,30,31,31,31,30,30,30,30,30,29,28,27,27,26,26,26,26,26,27,26,26,27,28,29,29,28,29,29,29,30,30,30,29,29,28,27,28,28,28,27,26,25,25,26,25,24,23,24,24,23,24,25,26,26,27,26,26,26,27,28,29,28,29,28,29,30,30,29,29,28,28,28,28,28,29,29,30,29,28,27,28,28,29,28,27,28,29,28,28,28,28,27,26,25,25,26,27,26,27,28,28,29,29,28,28,28,29,28,28,28,29,29,30,29,30,30,31,32,32,33,34,33,34,34,33,33,33,32,31,31,30,30,30,31,30,30,30,30,29,30,30,30,29,29,29,29,29,30,29,30,29,29,29,29,29,30,30,29,30,29,28,29,30,29,28,28,28,28,28,28,28,29,30,31,30,30,29,28,27,27,26,26,26,26,27,26,27,26,27,26,26,26,25,26,26,25,25,26,27,27,27,28,27,28,28,27,27,26,26,25,26,26,26,26,27,26,26,26,25,25,25,25,25,25,25,25,26,27,28,29,28,28,28,27,26,25,25,26,25,24,24,23,22,22,22,23,22,23,22,23,23,22,22,22,22,22,23,23,24,24,23,23,23,22,22,22,22,22,21,21,20,20,21,21,21,21,21,20,20,20,19,19,20,21,20,20,21,21,21,22,22,22,21,21,22,23,23,23,23,23,23,23,23,22,22,22,21,21,21,22,23,23,24,23,22,23,24,25,26,26,26,26,26,26,27,28,28,28,27,27,27,27,28,29,29,28,28,28,27,26,27,28,27,28,29,29,29,29,30,29,30,29,28,29,30,30,31,31,32,32,33,32,31,31,32,31,31,30,30,30,30,31,32,31,31,31,30,30,30,31,32,31,30,30,30,30,29,29,30,29,28,28,29,30,30,30,29,30,31,30,30,30,31,32,32,32,31,30,30,31,30,31,31,31,31,31,32,33,33,33,34,35,35,35,36,36,35,35,35,35,36,37,37,38,38,39,39,39,38,38,37,38,39,39,40,40,39,38,38,38,39,38,38,38,37,37,37,37,36,37,37,38,38,38,38,38,38,37,37,37,37,36,36,36,36,36,35,34,34,33,33,33,32,31,31,31,31,30,31,30,31,32,32,32,32,33,32,31,31,32,31,31,30,30,30,31,32,32,32,32,32,32,32,32,32,33,33,32,31,31,31,31,31,32,32,32,32,32,32,32,32,33,33,33,33,34,33,33,32,33,34,33,32,32,32,31,32,33,33,34,34,34,35,35,35,35,35,35,35,35,35,35,35,35,34,35,36,35,35,35,34,35,34,33,33,33,33,33,32,33,32,31,31,32,33,34,33,33,34,34,33,33,33,33,32,32,31,31,31,31,31,31,32,33,33,32,33,33,33,33,33,33,33,32,32,31,32,33,32,32,32,32,33,32,31,31,31,31,30,29,29,29,28,27,28,28,28,29,29,28,28,28,27,27,27,26,25,26,27,27,27,28,27,26,27,27,27,27,27,27,27,26,25,26,26,25,26,26,27,26,27,27,26,27,28,28,29,29,29,29,28,28,29,28,27,27,27,27,27,28,27,27,28,27,26,26,26,25,25,25,25,26,25,25,25,26,25,25,24,24,23,22,22,22,23,23,24,24,25,26,27,27,27,26,26,27,28,28,27,27,28,29,30,29,29,30,31,31,31,31,32,32,31,31,31,31,30,30,30,29,29,28,27,27,28,27,27,27,27,27,28,28,29,29,28,29,29,29,28,29,29,29,29,28,27,27,27,26,25,25,25,26,26,27,27,27,28,28,29,29,28,29,29,28,29,30,31,31,31,30,31,31,30,30,30,30,30,30,29,30,29,29,28,29,30,30,30,30,31,32,33,34,34,34,34,34,33,33,32,33,33,34,34,33,33,32,33,32,31,31,31,32,32,31,32,33,33,33,34,33,33,34,35,36,36,36,35,34,34,33,34,35,35,35,35,34,34,33,33,34,35,35,36,35,34,34,34,34,33,33,33,33,34,34,34,34,34,33,33,33,34,33,34,35,36,35,36,36,36,36,37,38,37,37,37,37,36,36,35,36,35,35,35,34,34,33,33,33,33,33,33,32,33,34,33,32,32,32,32,32,31,30,30,30,29,28,28,27,27,27,26,26,25,25,24,24,25,25,26,27,27,28,29,29,29,28,27,27,26,26,25,25,25,25,26,26,26,25,24,24,24,25,25,25,25,24,23,23,22,22,22,21,21,21,21,21,20,21,22,21,21,21,22,23,23,24,25,26,25,25,26,27,28,29,29,28,28,27,26,26,26,27,28,28,28,29,28,27,27,27,26,25,25,25,25,24,24,25,24,23,24,24,24,24,24,24,25,25,25,26,25,24,24,24,25,24,25,24,23,23,22,23,22,22,23,23,23,24,24,24,24,24,24,25,25,25,25,24,23,23,22,22,22,21,21,21,21,20,20,19,18,19,19,18,17,17,17,16,15,14,15,16,16,16,16,16,17,17,16,16,16,16,16,17,17,18,19,18,18,18,17,17,16,15,15,16,16,15,14,14,14,14,14,14,13,13,13,13,13,13,12,12,12,13,12,11,11,11,11,11,11,11,11,11,10,11,11,11,12,12,13,13,13,12,11,11,10,11,11,12,12,11,11,11,12,12,12,12,11,11,10,10,9,10,9,9,9,8,7,7,6,6,6,6,6,6,6,5,5,6,6,6,6,6,6,5,4,4,5,5,6,5,5,6,6,6,6,5,5,5,4,5,6,5,4,4,4,4,3,3,2,1,1,1,0,0,0,1,1,2,1,2,1,1,0,0,0,-1,-2,-3,-2,-1,0,1,1,0,0,0,0,0,0,-1,-1,-1,0,0,0,0,0,0,0,-1,-2,-1,-1,-2,-2,-3,-2,-3,-2,-2,-2,-2,-2,-2,-2,-1,0,0,1,0,0,0,0,0,1,1,0,-1,-1,-1,-2,-2,-1,-1,-1,-1,-1,-1,0,-1,-1,-2,-2,-2,-2,-2,-1,-1,-2,-1,-1,0,-1,-1,-1,-2,-1,-1,0,0,0,-1,0,0,1,1,1,1,1,1,1,2,1,1,1,1,2,2,2,1,0,1,0,1,0,0,0,1,2,1,2,3,2,1,2,3,3,3,3,4,5,4,3,2,2,2,3,3,3,2,2,2,2,1,1,2,2,1,1,2,3,2,2,3,4,3,4,5,6,6,7,7,7,7,6,6,6,6,6,7,6,7,6,6,5,4,4,4,5,5,5,5,4,4,3,3,3,3,3,4,5,4,4,4,4,5,6,6,5,5,6,6,7,7,8,8,8,7,8,7,7,7,7,8,8,7,6,6,7,7,7,7,8,7,7,7,8,7,8,7,7,7,8,8,8,9,8,8,7,7,8,7,8,7,7,7,7,7,6,7,8,8,9,9,9,9,9,9,8,8,9,9,9,8,8,7,8,7,7,8,8,8,8,8,8,9,8,8,9,9,10,10,10,10,10,10,10,10,10,11,11,11,11,11,11,11,10,10,10,11,11,11,11,11,12,12,11,11,12,12,11,11,12,12,11,12,12,12,12,12,13,14,14,13,13,13,14,14,14,14,13,13,14,14,14,14,13,13,14,14,14,15,14,14,15,15,16,16,17,17,18,18,19,20,21,20,20,20,21,21,21,21,20,21,21,21,20,21,22,22,21,21,20,20,21,21,20,19,19,18,18,18,17,17,17,17,18,18,18,18,18,18,17,17,18,18,18,17,18,18,19,20,20,21,20,20,20,20,19,20,21,21,21,22,21,21,22,22,21,20,21,21,20,20,21,22,22,22,22,23,23,22,22,23,23,23,22,21,22,22,23,22,21,20,19,20,21,21,20,20,19,18,18,17,17,17,16,16,15,15,15,16,16,15,14,15,15,15,15,15,14,13,13,14,15,16,16,16,16,16,17,17,17,18,18,17,16,17,16,16,15,14,15,16,15,14,14,13,14,14,14,13,14,13,12,12,12,12,11,11,11,11,10,10,10,11,11,11,12,13,13,12,12,12,13,14,13,14,15,16,17,16,16,15,15,15,16,15,15,14,14,13,12,12,12,13,14,13,14,13,13,14,14,14,13,13,13,14,14,14,13,13,12,12,13,13,12,12,13,13,13,12,13,13,13,14,14,14,14,13,12,12,12,11,12,12,12,13,13,12,11,10,11,11,12,13,13,14,15,14,15,14,14,14,13,14,14,14,14,14,14,15,16,16,15,14,14,15,16,15,16,16,17,17,17,16,17,17,16,16,16,16,17,17,17,18,18,17,16,16,17,16,17,18,18,18,18,17,16,17,17,18,18,17,17,18,17,16,16,16,17,18,18,17,17,17,17,18,19,20,20,19,18,18,19,20,20,21,22,22,22,22,22,22,22,21,22,22,21,22,23,23,23,23,23,23,23,23,23,23,23,22,23,23,24,24,23,23,23,23,22,23,24,23,23,23,23,22,22,21,20,20,20,20,20,19,20,19,20,21,20,20,21,20,20,20,20,20,20,21,21,21,21,21,22,23,24,25,24,25,24,25,25,25,25,26,26,27,27,28,27,26,26,26,26,25,25,26,26,26,25,26,26,27,26,26,26,25,26,27,27,27,26,26,25,24,24,25,25,24,24,25,26,25,25,26,26,27,27,28,28,28,28,28,29,28,29,29,28,29,28,29,28,27,26,26,27,27,27,28,28,27,28,28,27,27,27,28,28,28,28,27,26,25,26,26,27,27,26,27,26,26,27,27,27,28,29,30,31,31,31,30,31,31,32,33,33,33,32,32,32,31,30,29,29,28,28,29,29,28,28,28,27,27,27,27,27,27,26,26,26,25,26,27,27,28,29,29,30,30,31,30,30,30,30,31,31,31,30,30,31,31,32,32,33,32,32,32,33,33,34,34,34,35,34,35,35,34,34,35,35,35,35,35,36,36,36,37,37,37,37,37,38,38,38,39,40,40,41,40,41,42,41,40,41,41,41,41,41,42,43,43,42,42,43,42,42,43,43,44,43,43,44,45,45,45,44,44,44,44,44,43,42,43,42,42,41,41,41,41,41,41,40,40,41,41,41,40,41,41,41,42,42,42,43,42,41,41,41,40,41,41,41,41,41,40,40,39,39,38,38,38,37,37,36,36,36,37,38,37,37,38,39,39,40,40,41,41,41,40,40,39,39,40,40,40,39,39,39,39,39,39,38,37,38,38,38,39,39,38,38,38,38,38,38,37,37,38,38,38,38,38,37,37,36,36,36,36,35,34,33,33,33,34,34,33,32,32,33,33,34,35,35,34,34,35,35,35,35,34,34,34,33,33,33,32,31,31,31,31,32,32,31,30,31,31,31,30,31,30,30,31,30,30,30,31,31,30,31,31,31,30,30,30,30,30,30,30,30,30,30,29,29,28,29,29,29,30,30,30,30,30,31,31,31,32,33,33,33,32,31,30,30,30,30,30,30,31,32,33,34,35,34,33,34,35,36,37,36,36,35,36,36,36,35,36,36,36,37,36,36,35,36,37,37,38,38,37,37,37,37,36,36,35,35,36,36,35,35,34,33,32,32,33,34,33,32,31,32,32,32,31,31,32,32,31,31,32,32,31,30,31,31,31,32,32,31,32,33,32,32,33,34,34,35,35,36,35,35,36,36,36,36,37,37,38,38,39,40,40,39,38,39,39,39,39,40,40,40,40,39,39,39,39,38,38,38,39,38,39,39,39,40,39,39,39,39,39,40,40,40,41,40,40,39,38,37,36,36,36,36,36,37,37,38,38,39,38,38,38,38,37,38,38,38,37,37,38,39,39,39,39,39,39,40,41,41,41,40,41,40,40,41,41,41,40,39,39,40,39,39,39,39,40,40,41,41,40,39,39,39,39,38,38,39,38,38,38,38,39,38,37,38,37,38,37,37,36,36,35,35,35,34,34,33,34,34,34,33,33,34,33,34,35,35,34,34,34,34,34,34,34,34,35,36,36,37,38,38,38,39,40,40,40,41,42,41,42,42,43,42,42,41,41,40,40,39,40,39,40,39,40,41,41,41,40,40,39,38,38,38,37,37,37,37,38,38,38,37,36,36,36,36,36,37,38,39,39,40,41,41,42,41,40,40,40,41,40,40,40,40,40,41,41,41,40,40,41,42,41,42,42,41,41,40,40,40,40,40,39,39,39,39,38,38,39,38,38,37,38,38,39,38,38,39,39,39,40,39,40,41,40,40,41,40,40,41,42,42,42,43,42,43,42,43,43,44,43,42,41,41,40,41,42,41,41,40,41,41,40,39,40,39,39,39,40,40,41,42,43,43,42,42,43,42,43,43,42,41,42,42,41,41,40,40,40,39,39,39,39,38,38,37,37,37,37,38,39,40,40,40,40,39,38,38,38,37,36,36,37,36,36,35,35,36,36,36,36,35,34,34,35,35,34,34,35,35,35,36,36,36,36,35,35,34,33,33,32,33,33,32,31,31,30,30,30,30,30,30,30,30,30,29,29,30,31,31,31,30,30,29,29,29,28,27,27,26,25,26,26,27,27,28,27,28,29,29,28,29,28,27,27,27,26,26,26,25,25,25,26,27,27,27,27,28,28,29,28,29,29,28,27,27,26,27,27,27,27,27,28,27,27,27,28,28,27,27,27,28,28,27,28,27,27,26,26,26,27,27,26,26,27,28,29,29,29,28,27,27,26,26,27,27,26,25,25,25,25,25,26,27,27,28,29,29,29,30,31,31,32,33,33,32,31,32,32,31,32,31,32,32,31,32,33,32,32,32,31,31,32,32,33,33,34,34,33,34,35,35,35,35,36,36,36,37,37,38,38,37,36,36,37,36,35,36,36,37,38,38,38,37,37,36,37,37,37,37,36,36,36,36,36,37,37,37,38,38,39,40,41,42,43,43,43,43,42,42,43,43,44,43,42,43,42,41,41,41,42,41,41,41,41,41,41,40,41,42,42,43,42,41,42,42,41,41,41,41,41,41,40,40,39,38,38,38,38,38,38,37,37,37,37,36,37,37,37,36,37,37,38,37,38,39,40,40,40,39,39,39,39,39,38,38,37,37,37,36,35,35,36,35,35,35,34,33,33,32,32,31,32,32,33,32,33,33,33,33,33,34,34,34,34,34,35,34,35,35,34,34,34,33,33,33,33,32,33,33,33,32,33,33,33,33,34,33,33,34,33,33,34,35,35,35,35,36,35,35,34,33,32,32,31,31,30,29,29,29,29,29,28,28,28,27,27,27,26,25,25,24,24,25,24,24,24,24,25,25,25,25,25,25,25,25,25,25,26,26,26,27,27,27,27,28,29,29,29,30,30,29,28,27,27,27,28,27,27,27,27,27,27,27,26,25,24,24,24,24,23,23,22,21,22,22,22,22,21,20,20,19,19,20,19,19,19,20,20,20,19,20,20,21,20,20,20,19,19,19,19,19,19,20,21,20,20,20,20,20,19,19,19,19,19,19,18,18,18,18,19,20,20,20,19,20,19,19,19,18,17,17,18,17,17,17,18,18,18,17,17,17,16,17,17,17,18,18,18,17,17,17,16,15,15,15,14,14,14,13,13,13,13,13,12,12,11,11,11,12,13,13,14,14,13,12,13,13,13,13,12,12,13,12,11,11,11,10,10,10,9,8,8,7,6,5,4,5,5,4,4,3,3,4,5,4,3,2,2,2,1,1,0,1,0,0,0,1,0,-1,0,1,2,1,0,0,-1,-1,-2,-2,-3,-3,-2,-3,-2,-3,-3,-3,-3,-3,-3,-3,-2,-1,0,1,2,3,3,3,4,4,4,3,4,4,5,4,4,4,3,4,4,4,5,5,4,3,3,3,4,4,4,5,4,4,4,3,3,3,2,2,1,1,1,2,3,3,4,5,5,4,3,2,1,1,1,1,1,0,0,0,1,2,2,1,1,2,3,2,2,2,2,2,1,1,1,2,3,2,2,2,2,2,2,3,2,2,3,4,5,5,4,4,5,5,4,4,4,4,5,6,5,5,5,4,5,6,6,7,7,8,8,7,8,8,7,6,6,6,7,8,9,8,8,8,9,9,8,9,9,9,9,10,11,11,10,9,10,10,11,12,13,14,14,14,13,13,13,14,14,14,15,16,16,16,15,15,16,17,17,17,17,18,18,17,16,15,15,15,16,15,14,14,15,14,14,14,14,13,13,14,13,13,12,12,11,11,11,12,12,12,11,11,12,11,11,10,10,10,11,10,10,10,9,9,8,9,9,10,10,10,10,11,11,10,11,11,11,11,12,12,13,13,12,12,13,14,14,15,14,14,14,15,15,15,16,15,16,15,14,15,15,15,14,15,16,15,15,15,16,16,17,17,17,17,16,17,17,16,16,15,15,15,15,15,15,15,14,14,15,15,14,13,13,14,15,16,17,18,17,16,15,15,15,15,14,14,13,13,13,13,12,12,13,13,12,13,12,12,11,12,13,12,13,12,13,13,12,12,12,12,11,11,10,11,11,10,9,9,9,9,10,10,10,9,9,9,9,10,10,9,10,9,8,7,7,8,9,8,9,9,9,9,9,8,8,8,9,9,8,7,7,7,7,7,7,6,6,6,5,5,4,5,6,5,6,7,7,6,6,5,5,5,5,5,5,5,5,5,5,5,4,4,5,4,4,4,3,3,4,4,4,3,2,2,1,1,2,2,2,2,2,2,3,3,3,3,3,3,3,3,2,3,3,2,3,2,3,3,3,4,3,3,4,5,6,7,7,7,8,8,8,8,8,8,8,7,7,8,7,6,6,7,6,6,5,6,7,6,6,6,7,6,7,7,8,8,8,8,9,8,7,8,8,7,7,6,7,7,7,7,8,7,8,8,8,9,10,9,9,10,9,9,10,9,8,7,8,8,7,7,7,7,8,7,7,6,5,5,5,6,5,5,6,7,7,8,9,8,9,10,9,8,8,7,7,8,9,9,8,9,9,9,9,9,9,9,10,10,9,9,8,8,8,8,7,8,8,8,8,7,6,7,8,7,6,5,4,5,6,6,6,6,5,5,6,7,6,6,6,6,7,7,7,7,7,7,7,7,7,6,7,7,7,8,8,8,7,6,7,7,7,8,7,7,7,8,7,7,7,8,8,8,8,9,9,9,8,8,8,9,9,8,8,8,7,7,8,8,9,8,8,8,7,7,6,7,8,8,8,8,8,8,9,9,9,9,9,8,9,9,8,8,9,10,10,10,9,10,10,10,11,10,9,9,10,11,12,11,10,11,12,13,13,12,11,12,12,12,12,12,11,10,10,11,10,11,12,12,12,13,13,13,14,14,13,13,13,13,12,12,12,12,12,12,12,12,12,13,12,13,14,14,14,15,15,15,15,16,17,18,17,17,16,16,17,17,18,18,17,16,17,17,16,15,15,15,15,15,16,17,17,16,15,14,15,16,16,16,16,15,16,15,15,16,17,16,16,16,15,15,16,17,18,18,18,17,18,19,19,18,17,16,16,16,15,15,15,14,14,13,12,12,11,11,12,11,10,9,8,8,8,7,7,7,7,7,8,8,8,7,7,8,9,10,11,12,12,12,13,14,13,13,14,15,16,16,16,15,14,15,15,16,16,17,17,18,17,17,17,17,18,18,19,20,20,21,20,20,20,20,20,20,20,20,21,21,20,20,20,20,19,19,18,18,18,19,19,19,18,18,18,18,18,18,18,17,17,18,18,17,17,18,17,17,17,16,16,16,17,17,16,16,16,16,16,17,18,19,20,20,19,18,18,18,17,18,19,18,19,19,19,20,21,20,21,20,19,18,18,18,18,18,18,18,17,16,15,16,17,16,16,16,16,16,16,16,15,16,16,15,15,16,16,15,16,17,17,17,17,17,16,16,15,14,14,15,15,15,15,15,16,16,16,17,18,18,18,19,19,20,20,19,18,18,19,19,19,20,21,22,21,21,22,23,22,23,23,22,22,23,23,23,23,23,23,24,24,24,24,25,25,25,24,25,26,27,27,28,28,28,29,29,29,29,29,28,28,29,30,30,30,30,29,28,27,27,27,26,27,27,26,26,26,26,26,26,25,25,26,26,26,25,24,23,23,23,24,23,23,22,22,23,23,23,23,22,22,22,22,21,21,21,20,19,19,19,18,18,19,18,19,19,18,18,19,19,18,18,18,17,18,19,18,18,18,18,18,18,18,18,17,18,19,18,17,18,18,18,19,19,19,19,20,21,21,20,21,21,20,19,19,19,19,19,19,18,19,19,19,20,20,20,19,18,19,19,19,20,20,21,22,22,21,20,19,20,19,20,20,21,22,22,21,20,20,20,20,21,22,21,22,21,22,21,22,22,22,23,23,23,22,23,24,24,25,25,25,25,24,25,26,26,25,24,24,23,23,24,24,24,23,23,22,22,23,23,24,23,24,24,23,23,22,22,22,23,23,23,24,24,23,23,23,23,23,23,23,22,23,24,25,24,24,25,25,25,25,26,25,24,24,23,22,23,23,23,24,25,24,24,24,23,23,24,23,22,22,22,22,23,22,23,22,23,23,22,22,22,22,23,22,22,21,22,23,23,23,24,25,26,26,27,26,27,27,27,26,25,26,27,28,29,30,30,31,31,31,31,31,30,31,32,33,33,33,34,34,34,33,32,32,32,32,31,32,31,31,32,32,31,32,32,33,33,33,32,31,32,31,31,32,33,34,34,34,35,35,35,35,34,35,35,35,34,34,34,35,36,36,36,36,36,35,36,35,34,33,33,33,34,35,35,35,35,35,35,34,33,32,31,31,30,30,31,31,31,31,30,31,32,32,32,32,32,31,32,32,32,33,33,34,34,33,32,32,31,32,32,32,32,31,30,31,31,31,32,32,31,32,31,32,32,32,32,32,32,32,31,32,32,32,33,33,33,33,32,32,32,31,31,31,31,31,32,31,30,31,31,32,32,32,32,32,31,32,31,31,32,32,31,31,32,32,32,33,34,34,35,35,35,34,34,33,33,33,34,35,34,35,34,33,33,33,34,34,35,34,34,35,35,34,34,35,36,35,35,34,34,33,33,33,33,32,33,33,34,34,33,33,33,32,31,32,33,32,31,30,31,32,33,34,34,34,33,32,32,31,31,32,33,34,35,36,37,36,36,36,36,35,34,34,35,35,35,35,35,36,36,36,37,36,35,35,35,34,34,34,34,35,35,36,36,37,38,38,38,39,39,38,39,39,40,40,39,38,38,39,38,37,37,36,37,36,37,36,35,34,34,35,36,35,35,34,35,34,34,33,33,33,33,33,32,32,32,31,32,32,32,32,32,32,32,32,31,31,32,31,31,31,31,31,31,31,32,33,33,32,32,32,32,31,30,31,32,33,33,33,32,33,34,33,34,35,36,36,37,36,37,37,37,38,38,37,36,36,36,37,38,39,39,38,37,37,37,36,37,36,35,35,34,35,36,36,36,36,36,37,38,37,36,37,37,38,37,37,37,38,38,38,38,38,37,37,38,38,39,40,39,40,39,38,38,38,38,38,37,38,38,37,37,37,37,37,38,37,37,36,36,36,36,36,36,37,37,37,37,38,38,38,39,39,39,39,40,41,41,40,39,38,38,38,38,39,40,40,39,39,39,39,40,41,40,39,40,40,40,39,38,38,37,36,36,35,35,36,36,36,35,34,33,33,33,32,33,33,33,32,31,31,31,31,30,30,30,30,30,31,32,32,32,32,31,32,32,32,33,32,31,31,32,32,32,32,32,33,33,33,33,32,32,33,33,34,33,32,32,31,30,30,29,29,29,30,31,31,31,31,31,32,32,32,33,33,32,32,32,33,33,32,32,32,32,32,31,32,32,31,31,31,30,30,29,30,31,31,31,30,30,30,30,30,31,32,32,31,31,31,30,30,30,29,29,29,30,29,28,28,27,26,26,26,27,27,27,26,25,25,26,26,26,26,27,27,26,27,27,27,26,26,27,27,28,28,28,28,28,28,28,27,26,26,26,27,26,26,26,26,26,27,28,29,29,28,28,28,28,28,29,29,28,27,27,27,27,26,26,27,26,26,26,27,26,26,27,28,27,27,28,28,27,27,26,27,27,26,26,26,25,26,27,26,26,25,25,25,25,25,25,24,24,23,23,24,25,25,25,24,24,25,25,26,27,28,27,27,28,27,27,27,28,29,28,29,29,29,30,30,31,31,31,32,32,31,32,32,32,32,31,31,30,31,30,31,31,32,32,32,31,31,31,31,31,32,32,31,31,31,32,32,33,32,32,31,31,31,32,32,32,32,32,32,32,33,34,35,36,35,35,35,35,35,34,33,32,31,31,32,33,34,34,34,35,34,33,34,34,33,33,33,32,32,33,34,33,34,34,34,34,33,32,31,31,31,32,32,32,32,33,33,33,33,34,34,35,36,35,34,33,33,34,34,34,33,33,32,31,30,30,30,30,30,30,31,31,32,33,32,31,31,30,30,30,31,32,31,32,32,31,32,31,31,31,31,31,32,32,32,32,33,33,34,34,34,34,33,34,34,34,33,32,33,33,34,34,34,34,33,34,34,35,34,33,34,34,34,34,33,33,33,32,33,32,33,32,33,33,32,32,31,32,31,32,32,31,31,31,30,30,30,29,30,30,31,32,31,31,30,31,31,31,30,31,30,30,29,30,31,32,33,32,33,34,33,33,33,32,33,32,32,31,32,31,32,32,31,31,31,31,31,31,31,31,30,30,31,31,31,31,30,29,29,28,29,29,28,27,26,26,26,25,25,25,25,25,26,25,26,27,27,27,27,27,26,25,24,24,24,24,24,23,22,21,20,20,21,21,21,20,21,21,21,20,21,22,22,22,21,20,20,21,21,22,22,21,21,21,21,22,22,22,23,23,24,25,25,25,26,26,26,26,26,27,27,28,29,29,29,29,29,28,27,28,28,29,30,30,29,29,30,29,29,29,30,31,32,32,32,32,32,31,31,31,30,29,28,27,27,27,27,26,26,25,26,27,26,26,25,24,24,24,23,24,25,25,26,27,26,27,27,28,28,28,29,29,29,30,31,31,31,30,30,30,30,30,31,30,31,31,31,30,29,29,29,28,29,30,30,30,31,32,33,34,35,36,35,36,37,36,36,36,37,36,37,37,37,37,37,37,38,38,38,39,38,37,37,37,37,36,36,36,35,36,36,37,38,38,39,40,39,39,40,40,41,41,40,40,40,41,41,40,39,40,39,39,39,40,40,39,39,39,39,40,41,40,39,39,39,38,38,39,40,40,41,40,40,40,40,39,39,39,39,40,39,38,38,39,39,39,39,40,40,40,39,39,40,40,40,39,39,39,39,39,39,39,39,40,39,39,38,39,38,38,38,38,38,37,37,37,37,37,37,37,37,37,36,37,37,37,38,37,38,38,39,40,40,40,41,40,39,38,39,38,38,39,39,39,38,39,40,39,39,39,39,39,38,37,37,38,38,37,37,37,38,38,39,38,38,39,39,39,39,39,39,39,39,39,40,40,39,38,38,38,39,39,38,38,39,39,39,39,40,40,41,42,41,41,41,41,41,40,40,40,40,40,41,41,42,41,41,41,41,41,40,39,39,38,37,37,37,38,37,36,35,35,35,35,34,33,33,32,31,31,31,31,31,31,31,32,33,33,32,31,31,31,31,32,33,34,34,34,34,35,36,36,37,37,38,38,38,39,38,39,40,39,39,39,39,39,40,40,40,41,41,41,42,42,41,41,41,40,40,40,40,39,38,39,39,39,39,39,39,39,38,39,39,38,38,38,38,38,39,39,38,38,37,37,36,37,38,37,38,38,38,39,39,39,38,37,36,35,35,36,36,36,36,35,35,35,35,36,37,36,37,37,38,38,39,38,39,39,40,40,39,38,39,40,40,41,41,40,40,40,40,41,40,41,40,41,42,42,43,43,43,43,43,44,44,43,42,42,43,42,41,41,40,39,40,40,40,41,41,40,40,40,40,40,40,40,41,40,41,41,41,41,42,42,42,42,43,44,44,43,43,42,42,42,43,43,44,44,45,46,46,45,45,45,45,45,45,45,45,46,46,47,47,47,47,47,47,46,47,48,48,48,48,48,49,49,49,49,49,49,50,50,50,51,50,51,52,52,52,52,51,52,53,52,52,52,52,52,52,52,53,54,53,54,55,55,56,56,56,57,58,59,59,59,59,60,60,60,61,61,62,63,62,63,63,63,62,61,62,62,62,63,64,64,63,63,63,64,63,64,64,65,65,65,64,64,64,63,62,61,60,60,61,61,62,62,62,63,64,63,62,62,61,60,59,58,59,59,58,58,59,60,61,61,61,61,61,62,62,63,62,62,62,63,62,62,63,63,64,63,64,64,64,65,65,65,66,67,68,67,67,67,66,66,65,64,64,65,64,63,64,64,64,64,63,62,62,61,62,62,61,62,61,61,61,62,61,60,60,61,61,61,61,61,62,61,62,63,63,62,62,63,64,64,64,64,64,63,62,62,62,63,64,63,63,62,63,64,64,63,62,62,62,61,61,62,61,61,61,61,62,62,62,62,63,64,65,64,64,64,63,64,65,65,65,64,64,64,64,65,65,65,65,66,65,64,64,64,64,65,65,65,65,65,66,66,65,65,65,66,67,66,65,65,65,64,64,64,64,63,63,63,62,62,61,61,62,62,61,60,61,61,61,61,60,60,60,61,62,63,64,63,63,63,62,61,60,60,60,60,61,61,61,60,60,60,60,60,60,61,60,59,58,58,58,58,58,59,59,59,60,60,60,61,61,60,59,58,58,58,59,58,59,60,61,61,61,61,62,62,62,62,62,62,63,62,63,63,63,63,62,62,62,62,62,62,63,63,63,62,61,61,60,60,61,61,61,61,60,59,59,59,60,61,61,62,63,62,61,60,61,62,61,62,62,61,61,60,61,61,61,62,61,62,61,62,61,61,60,61,62,61,60,60,60,61,61,62,62,62,63,63,63,63,63,62,62,62,61,61,62,63,62,62,62,62,62,62,62,63,63,63,62,62,63,63,62,63,64,65,66,65,65,65,66,66,65,64,65,66,66,66,66,66,65,65,65,66,66,66,67,67,67,67,67,68,68,68,68,69,69,69,70,70,71,71,72,71,71,71,70,71,71,71,70,70,70,69,70,70,70,70,70,71,71,71,70,70,69,69,69,69,69,69,69,69,69,68,68,68,68,68,68,68,68,68,67,67,66,66,67,68,68,69,69,69,69,68,67,67,67,67,67,66,66,66,66,66,65,65,65,65,66,67,67,66,67,67,67,67,67,67,68,67,67,68,68,68,67,68,69,69,70,69,69,69,69,69,69,70,71,70,70,70,69,70,69,70,69,70,70,69,69,68,69,70,69,68,67,67,67,67,68,69,68,68,68,68,68,68,69,69,68,69,68,68,68,68,68,69,69,70,70,69,68,69,69,69,68,68,68,68,69,68,68,68,67,67,66,66,65,64,63,63,62,61,60,60,60,61,61,60,60,59,60,59,59,59,58,58,58,58,58,57,57,57,57,58,58,58,58,58,58,58,57,57,56,56,56,57,58,57,58,58,58,58,57,57,58,58,57,57,56,56,57,56,56,56,57,57,58,58,57,56,57,56,55,55,55,54,54,54,53,54,55,54,54,55,55,54,53,54,55,55,55,54,54,54,54,54,54,55,54,54,53,53,52,52,52,52,51,51,51,50,50,49,49,48,48,49,49,49,50,50,50,51,50,50,50,51,50,50,51,51,50,51,51,50,51,51,51,51,51,51,52,52,53,52,53,54,55,55,55,56,55,56,56,57,56,55,56,55,55,54,54,55,55,56,55,54,54,54,54,54,53,53,54,55,56,56,56,56,57,57,56,56,57,57,56,57,57,57,56,56,56,56,55,55,55,54,55,56,55,55,56,56,57,57,58,58,57,57,57,58,57,57,56,57,56,57,57,56,57,58,59,60,60,60,60,60,60,60,60,59,59,59,60,61,62,62,63,63,64,63,64,64,64,65,65,65,65,66,66,67,68,69,69,68,68,67,68,68,69,69,69,69,69,69,70,69,70,69,69,70,70,70,71,71,71,72,73,73,74,74,74,74,73,72,73,72,72,71,71,71,70,70,70,71,71,71,70,69,70,70,70,70,71,71,71,71,72,71,72,71,71,72,72,73,73,73,73,73,73,74,74,75,74,74,73,73,73,73,73,72,71,70,71,70,70,69,70,71,71,70,69,68,69,68,68,68,68,69,70,70,70,70,71,71,70,71,71,71,71,71,71,71,71,72,73,72,72,72,72,73,74,74,74,75,75,76,76,76,76,77,77,76,75,75,76,77,77,76,75,75,75,75,75,74,75,75,75,76,75,75,74,74,74,73,72,73,74,73,72,72,73,73,72,72,71,72,73,72,73,73,73,73,74,74,74,74,74,75,76,75,76,76,76,76,75,75,74,74,74,74,75,75,74,73,73,72,72,72,72,73,73,73,73,73,72,72,72,72,72,73,72,72,73,73,73,72,73,73,73,72,72,73,72,73,72,72,72,72,73,74,73,73,72,73,72,72,73,73,72,71,71,70,71,71,71,70,70,70,70,70,70,70,69,70,71,71,72,71,71,71,71,71,71,71,71,70,70,70,69,68,69,69,69,70,70,71,72,72,72,73,73,72,73,73,73,72,72,73,72,71,71,70,69,69,68,67,67,66,67,67,67,67,67,67,67,66,66,67,68,68,68,69,70,69,69,69,70,71,72,72,72,71,71,71,71,71,72,72,72,72,71,72,72,73,72,72,73,73,72,71,71,71,71,71,71,72,71,72,72,71,70,69,70,70,69,68,69,68,69,69,69,68,68,68,68,68,68,67,67,67,67,68,68,68,67,67,66,66,66,66,66,66,67,67,66,66,67,68,68,69,68,68,67,67,68,69,70,70,70,70,70,70,69,69,70,70,71,71,71,72,73,74,75,76,75,74,75,76,76,77,77,76,75,76,76,77,77,78,78,78,78,79,78,78,77,77,77,77,77,77,77,77,76,75,76,75,75,75,74,74,75,74,75,75,74,75,75,74,74,75,74,75,75,75,75,75,75,75,74,74,74,74,73,73,73,72,72,72,72,72,71,71,72,73,74,74,74,75,74,75,75,74,74,75,74,73,73,74,73,72,72,71,72,73,73,72,73,74,73,74,74,73,72,72,72,72,72,71,71,71,71,71,71,70,70,70,70,69,69,69,69,70,71,70,71,71,71,71,71,71,71,72,71,71,71,71,71,70,69,70,69,70,69,70,70,70,69,69,69,70,70,69,70,70,69,69,68,67,68,67,66,67,68,68,68,67,68,69,70,71,72,73,74,74,73,73,72,71,72,73,74,74,75,74,74,73,74,75,74,73,73,73,73,72,73,72,71,72,72,72,72,73,73,73,72,72,71,70,69,69,69,69,69,70,70,71,71,72,72,72,72,72,72,72,71,70,70,69,69,69,70,70,69,69,69,68,68,69,68,68,67,67,66,65,65,65,65,65,65,65,64,64,63,63,62,62,61,60,59,60,60,60,61,62,62,62,62,61,61,61,62,63,63,64,64,64,64,64,64,63,63,62,61,61,61,61,60,60,59,58,58,59,59,59,59,59,59,58,58,59,59,60,60,60,60,59,59,60,60,61,60,59,59,58,57,57,57,56,57,57,57,57,58,58,59,58,59,59,60,61,60,60,60,60,60,59,59,59,59,60,60,59,59,60,61,61,61,61,61,61,60,61,62,61,61,61,62,62,61,61,61,61,62,62,63,64,64,63,62,61,61,61,62,62,63,62,62,62,62,63,63,62,62,61,61,61,61,60,59,59,58,58,59,58,58,59,59,58,57,57,57]},\"selected\":{\"id\":\"5880\"},\"selection_policy\":{\"id\":\"5879\"}},\"id\":\"5646\",\"type\":\"ColumnDataSource\"},{\"attributes\":{},\"id\":\"5879\",\"type\":\"UnionRenderers\"},{\"attributes\":{\"line_color\":\"#1f77b4\",\"x\":{\"field\":\"x\"},\"y\":{\"field\":\"y\"}},\"id\":\"5647\",\"type\":\"Line\"},{\"attributes\":{\"line_alpha\":0.2,\"line_color\":\"#1f77b4\",\"x\":{\"field\":\"x\"},\"y\":{\"field\":\"y\"}},\"id\":\"5649\",\"type\":\"Line\"},{\"attributes\":{\"bottom_units\":\"screen\",\"coordinates\":null,\"fill_alpha\":0.5,\"fill_color\":\"lightgrey\",\"group\":null,\"left_units\":\"screen\",\"level\":\"overlay\",\"line_alpha\":1.0,\"line_color\":\"black\",\"line_dash\":[4,4],\"line_width\":2,\"right_units\":\"screen\",\"syncable\":false,\"top_units\":\"screen\"},\"id\":\"5638\",\"type\":\"BoxAnnotation\"},{\"attributes\":{},\"id\":\"5880\",\"type\":\"Selection\"},{\"attributes\":{\"line_alpha\":0.1,\"line_color\":\"#1f77b4\",\"x\":{\"field\":\"x\"},\"y\":{\"field\":\"y\"}},\"id\":\"5648\",\"type\":\"Line\"},{\"attributes\":{},\"id\":\"5616\",\"type\":\"DataRange1d\"}],\"root_ids\":[\"5613\"]},\"title\":\"Bokeh Application\",\"version\":\"2.4.2\"}};\n",
       "  const render_items = [{\"docid\":\"d844efb4-ab6e-4a28-a21c-c26515fee159\",\"root_ids\":[\"5613\"],\"roots\":{\"5613\":\"4055daba-c471-4666-9f1e-39c2c9d7f9f2\"}}];\n",
       "  root.Bokeh.embed.embed_items_notebook(docs_json, render_items);\n",
       "\n",
       "  }\n",
       "  if (root.Bokeh !== undefined) {\n",
       "    embed_document(root);\n",
       "  } else {\n",
       "    let attempts = 0;\n",
       "    const timer = setInterval(function(root) {\n",
       "      if (root.Bokeh !== undefined) {\n",
       "        clearInterval(timer);\n",
       "        embed_document(root);\n",
       "      } else {\n",
       "        attempts++;\n",
       "        if (attempts > 100) {\n",
       "          clearInterval(timer);\n",
       "          console.log(\"Bokeh: ERROR: Unable to run BokehJS code because BokehJS library is missing\");\n",
       "        }\n",
       "      }\n",
       "    }, 10, root)\n",
       "  }\n",
       "})(window);"
      ],
      "application/vnd.bokehjs_exec.v0+json": ""
     },
     "metadata": {
      "application/vnd.bokehjs_exec.v0+json": {
       "id": "5613"
      }
     },
     "output_type": "display_data"
    }
   ],
   "source": [
    "coordenadas_x = [0]\n",
    "coordenadas_y = [0]\n",
    "\n",
    "simular([10000], 1, BorrachoTradicional)\n",
    "\n",
    "grafica = figure(title='Caminos aleatorios')\n",
    "grafica.line(coordenadas_x, coordenadas_y)\n",
    "\n",
    "show(grafica)"
   ]
  }
 ],
 "metadata": {
  "interpreter": {
   "hash": "e7370f93d1d0cde622a1f8e1c04877d8463912d04d973331ad4851f04de6915a"
  },
  "kernelspec": {
   "display_name": "Python 3 (ipykernel)",
   "language": "python",
   "name": "python3"
  },
  "language_info": {
   "codemirror_mode": {
    "name": "ipython",
    "version": 3
   },
   "file_extension": ".py",
   "mimetype": "text/x-python",
   "name": "python",
   "nbconvert_exporter": "python",
   "pygments_lexer": "ipython3",
   "version": "3.9.9"
  }
 },
 "nbformat": 4,
 "nbformat_minor": 4
}
