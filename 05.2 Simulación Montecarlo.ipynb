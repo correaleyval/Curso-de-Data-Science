{
 "cells": [
  {
   "cell_type": "markdown",
   "metadata": {},
   "source": [
    "# Simulaciones de Montecarlo\n",
    "\n",
    "* Permite crear simulaciones para predecir el resultado de un problema.\n",
    "* Permite convertir problemas determinísticos en problemas estocásticos.\n",
    "* Es utilizado en una gran diversidad de áreas, desde la ingeniería hasta la biología y el derecho."
   ]
  },
  {
   "cell_type": "code",
   "execution_count": 1,
   "metadata": {},
   "outputs": [],
   "source": [
    "# Barajas\n",
    "PALOS = ['corazon', 'diamante', 'espada', 'trebol']\n",
    "VALORES = ['as', 2, 3, 4, 5, 6, 7, 8, 9, 10, 'jota', 'reina', 'rey']\n",
    "\n",
    "def crear_baraja():\n",
    "    barajas = []\n",
    "    for palo in PALOS:\n",
    "        for valor in VALORES:\n",
    "            barajas.append((palo, valor))\n",
    "    return barajas\n"
   ]
  },
  {
   "cell_type": "code",
   "execution_count": 2,
   "metadata": {},
   "outputs": [
    {
     "name": "stdout",
     "output_type": "stream",
     "text": [
      "52\n",
      "[('corazon', 'as'), ('corazon', 2), ('corazon', 3), ('corazon', 4), ('corazon', 5), ('corazon', 6), ('corazon', 7), ('corazon', 8), ('corazon', 9), ('corazon', 10), ('corazon', 'jota'), ('corazon', 'reina'), ('corazon', 'rey'), ('diamante', 'as'), ('diamante', 2), ('diamante', 3), ('diamante', 4), ('diamante', 5), ('diamante', 6), ('diamante', 7), ('diamante', 8), ('diamante', 9), ('diamante', 10), ('diamante', 'jota'), ('diamante', 'reina'), ('diamante', 'rey'), ('espada', 'as'), ('espada', 2), ('espada', 3), ('espada', 4), ('espada', 5), ('espada', 6), ('espada', 7), ('espada', 8), ('espada', 9), ('espada', 10), ('espada', 'jota'), ('espada', 'reina'), ('espada', 'rey'), ('trebol', 'as'), ('trebol', 2), ('trebol', 3), ('trebol', 4), ('trebol', 5), ('trebol', 6), ('trebol', 7), ('trebol', 8), ('trebol', 9), ('trebol', 10), ('trebol', 'jota'), ('trebol', 'reina'), ('trebol', 'rey')]\n"
     ]
    }
   ],
   "source": [
    "barajas = crear_baraja()\n",
    "\n",
    "print(len(barajas))\n",
    "print(barajas)"
   ]
  },
  {
   "cell_type": "code",
   "execution_count": 3,
   "metadata": {},
   "outputs": [
    {
     "name": "stdout",
     "output_type": "stream",
     "text": [
      "[('diamante', 7), ('corazon', 'rey'), ('diamante', 'reina'), ('espada', 7), ('espada', 5)]\n"
     ]
    }
   ],
   "source": [
    "# obtener una mano\n",
    "import random\n",
    "\n",
    "def obtener_mano(barajas, tamano_mano):\n",
    "    mano = random.sample(barajas, tamano_mano)\n",
    "    return mano    \n",
    "\n",
    "print(obtener_mano(barajas, 5))\n"
   ]
  },
  {
   "cell_type": "code",
   "execution_count": 4,
   "metadata": {},
   "outputs": [
    {
     "name": "stdout",
     "output_type": "stream",
     "text": [
      "[('trebol', 3), ('diamante', 'jota'), ('diamante', 'reina'), ('corazon', 'as'), ('diamante', 'as')]\n"
     ]
    }
   ],
   "source": [
    "print(obtener_mano(barajas, 5))"
   ]
  },
  {
   "cell_type": "code",
   "execution_count": 5,
   "metadata": {},
   "outputs": [],
   "source": [
    "from collections import Counter\n",
    "\n",
    "def simular(intentos, tamano_mano):\n",
    "    manos = []\n",
    "\n",
    "    for _ in range(intentos):\n",
    "        manos.append(obtener_mano(barajas, tamano_mano))\n",
    "\n",
    "    pares = 0\n",
    "    tercia = 0\n",
    "\n",
    "    for mano in manos:\n",
    "        valores = []\n",
    "        for carta in mano:\n",
    "            valores.append(carta[1])\n",
    "\n",
    "        counter = dict(Counter(valores))\n",
    "        for val in counter.values():\n",
    "            if val == 2:\n",
    "                pares += 1\n",
    "                break\n",
    "            elif val == 3:\n",
    "                tercia += 1\n",
    "                break\n",
    "\n",
    "    probabilidad_par = pares / intentos\n",
    "    probabilidad_tercia = tercia / intentos\n",
    "\n",
    "    print(f'Probabilidad de obtener un par en una mano de {tamano_mano} es {probabilidad_par}')\n",
    "    print(f'Probabilidad de obtener una tercia en una mano de {tamano_mano} es {probabilidad_tercia}')\n"
   ]
  },
  {
   "cell_type": "code",
   "execution_count": 6,
   "metadata": {},
   "outputs": [
    {
     "name": "stdout",
     "output_type": "stream",
     "text": [
      "Probabilidad de obtener un par en una mano de 5 es 0.47124947124947125\n",
      "Probabilidad de obtener una tercia en una mano de 5 es 0.021078021078021078\n"
     ]
    }
   ],
   "source": [
    "intentos = 111111\n",
    "tamano_mano = 5\n",
    "\n",
    "simular(intentos, tamano_mano)"
   ]
  },
  {
   "cell_type": "code",
   "execution_count": 7,
   "metadata": {},
   "outputs": [
    {
     "name": "stdout",
     "output_type": "stream",
     "text": [
      "Probabilidad de obtener un par en una mano de 3 es 0.16893016893016893\n",
      "Probabilidad de obtener una tercia en una mano de 3 es 0.002241002241002241\n"
     ]
    }
   ],
   "source": [
    "intentos = 111111\n",
    "tamano_mano = 3\n",
    "\n",
    "simular(intentos, tamano_mano)"
   ]
  }
 ],
 "metadata": {
  "interpreter": {
   "hash": "e7370f93d1d0cde622a1f8e1c04877d8463912d04d973331ad4851f04de6915a"
  },
  "kernelspec": {
   "display_name": "Python 3.9.9 64-bit",
   "language": "python",
   "name": "python3"
  },
  "language_info": {
   "codemirror_mode": {
    "name": "ipython",
    "version": 3
   },
   "file_extension": ".py",
   "mimetype": "text/x-python",
   "name": "python",
   "nbconvert_exporter": "python",
   "pygments_lexer": "ipython3",
   "version": "3.9.9"
  },
  "orig_nbformat": 4
 },
 "nbformat": 4,
 "nbformat_minor": 2
}
