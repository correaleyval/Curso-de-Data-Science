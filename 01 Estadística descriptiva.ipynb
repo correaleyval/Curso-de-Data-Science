{
 "cells": [
  {
   "cell_type": "markdown",
   "source": "# Estadística Descriptiva para Data Science\n\n## Estadística Descriptiva vs Inferencial.\n\n#### Ejemplo: Estadísticas de un jugador de futbol.\n\n* Descriptiva: Resumir historial deportivo.\n* Inferencial: Predecir desempeño futuro del jugador.\n\n### ¿Por qué aprender estadística?\n\n* Resumir grandes cantidades de información.\n* Tomar mejores decisiones (¿o peores?).\n* Responder preguntas con relación social.\n* Reconocer patrones en los datos.\n* Descubrir a quienes usan estas herramientas con fines nefastos.\n\n## Flujo trabajo en Data Science.\n\n1. Data ingestion.\n2. Data visualization.\n3. Data preparation.\n4. Model training.\n5. Model evaluation.\n6. Model validation.\n7. Model serving.\n8. End user interface.\n\n---\n\n### 1. Tipos de datos, pipeline de procesamiento:\n* Ingesta de datos.\n* Validación.\n\n### 2. Análisis exploratorio, estadística descriptiva, correlaciones, reducción de datos:\n* Preparación.\n* Entrenamiento de modelos.\n\n### 3. Probabilidad o inferencia:\n* Evaluación de modelos.\n\n### 4. Test de hipótesis:\n* Modelo en producción.\n* Interacción usuario final.\n\n## Tipos de estadísticos\n\n* Estadísticos para ingesta y procesamiento de datos.\n* Estadísticos para analítica y exploración de datos.\n\n## Tipos de datos\n\n### Categóricos\n\n**Ejemplos:**\n\n* Género.\n* Categoría de película.\n* Método de pago.\n\nPuede ser **ordinal** o **nominal**. Ordinal es cuando existe una relación de orden entre las categorías.\n\n### Numéricos\n\n**Ejemplos**\n\n* Edad.\n* Altura.\n* Temperatura.\n\nPuede ser **discreto** o **continuo**. Se dice que una variable es discreta cuando no puede tomar ningún valor entre dos consecutivos, y que es continua cuando puede tomar cualquier valor dentro de un intervalo.",
   "metadata": {
    "tags": [],
    "cell_id": "00000-092097fe-d568-41f2-adb2-d54c246226bb",
    "deepnote_app_coordinates": {
     "x": 0,
     "y": null,
     "w": 12,
     "h": 5
    },
    "deepnote_cell_type": "markdown"
   }
  },
  {
   "cell_type": "code",
   "metadata": {
    "tags": [],
    "cell_id": "00000-1f14355a-be46-4a43-a27e-98e77c1c6149",
    "deepnote_to_be_reexecuted": false,
    "source_hash": "f2df92e1",
    "execution_start": 1633195207644,
    "execution_millis": 428,
    "deepnote_app_coordinates": {
     "x": 0,
     "y": 6,
     "w": 12,
     "h": 5
    },
    "deepnote_cell_type": "code"
   },
   "source": "import pandas as pd\n\ndata = pd.read_csv('data/cars.csv')\n\ndata",
   "execution_count": 1,
   "outputs": [
    {
     "output_type": "execute_result",
     "execution_count": 1,
     "data": {
      "application/vnd.deepnote.dataframe.v2+json": {
       "row_count": 38531,
       "column_count": 30,
       "columns": [
        {
         "name": "manufacturer_name",
         "dtype": "object",
         "stats": {
          "unique_count": 55,
          "nan_count": 0,
          "categories": [
           {
            "name": "Volkswagen",
            "count": 4243
           },
           {
            "name": "Opel",
            "count": 2759
           },
           {
            "name": "53 others",
            "count": 31529
           }
          ]
         }
        },
        {
         "name": "model_name",
         "dtype": "object",
         "stats": {
          "unique_count": 1118,
          "nan_count": 0,
          "categories": [
           {
            "name": "Passat",
            "count": 1423
           },
           {
            "name": "Astra",
            "count": 751
           },
           {
            "name": "1116 others",
            "count": 36357
           }
          ]
         }
        },
        {
         "name": "transmission",
         "dtype": "object"
        },
        {
         "name": "color",
         "dtype": "object"
        },
        {
         "name": "odometer_value",
         "dtype": "int64"
        },
        {
         "name": "year_produced",
         "dtype": "int64"
        },
        {
         "name": "engine_fuel",
         "dtype": "object"
        },
        {
         "name": "engine_has_gas",
         "dtype": "bool"
        },
        {
         "name": "engine_type",
         "dtype": "object"
        },
        {
         "name": "engine_capacity",
         "dtype": "float64"
        },
        {
         "name": "body_type",
         "dtype": "object"
        },
        {
         "name": "has_warranty",
         "dtype": "bool"
        },
        {
         "name": "state",
         "dtype": "object"
        },
        {
         "name": "drivetrain",
         "dtype": "object"
        },
        {
         "name": "price_usd",
         "dtype": "float64"
        },
        {
         "name": "is_exchangeable",
         "dtype": "bool"
        },
        {
         "name": "location_region",
         "dtype": "object"
        },
        {
         "name": "number_of_photos",
         "dtype": "int64"
        },
        {
         "name": "up_counter",
         "dtype": "int64"
        },
        {
         "name": "feature_0",
         "dtype": "bool"
        },
        {
         "name": "feature_1",
         "dtype": "bool"
        },
        {
         "name": "feature_2",
         "dtype": "bool"
        },
        {
         "name": "feature_3",
         "dtype": "bool"
        },
        {
         "name": "feature_4",
         "dtype": "bool"
        },
        {
         "name": "feature_5",
         "dtype": "bool"
        },
        {
         "name": "feature_6",
         "dtype": "bool"
        },
        {
         "name": "feature_7",
         "dtype": "bool"
        },
        {
         "name": "feature_8",
         "dtype": "bool"
        },
        {
         "name": "feature_9",
         "dtype": "bool"
        },
        {
         "name": "duration_listed",
         "dtype": "int64"
        },
        {
         "name": "_deepnote_index_column",
         "dtype": "int64"
        }
       ],
       "rows_top": [
        {
         "manufacturer_name": "Subaru",
         "model_name": "Outback",
         "transmission": "automatic",
         "color": "silver",
         "odometer_value": 190000,
         "year_produced": 2010,
         "engine_fuel": "gasoline",
         "engine_has_gas": "False",
         "engine_type": "gasoline",
         "engine_capacity": 2.5,
         "body_type": "universal",
         "has_warranty": "False",
         "state": "owned",
         "drivetrain": "all",
         "price_usd": 10900,
         "is_exchangeable": "False",
         "location_region": "Минская обл.",
         "number_of_photos": 9,
         "up_counter": 13,
         "feature_0": "False",
         "feature_1": "True",
         "feature_2": "True",
         "feature_3": "True",
         "feature_4": "False",
         "feature_5": "True",
         "feature_6": "False",
         "feature_7": "True",
         "feature_8": "True",
         "feature_9": "True",
         "duration_listed": 16,
         "_deepnote_index_column": 0
        },
        {
         "manufacturer_name": "Subaru",
         "model_name": "Outback",
         "transmission": "automatic",
         "color": "blue",
         "odometer_value": 290000,
         "year_produced": 2002,
         "engine_fuel": "gasoline",
         "engine_has_gas": "False",
         "engine_type": "gasoline",
         "engine_capacity": 3,
         "body_type": "universal",
         "has_warranty": "False",
         "state": "owned",
         "drivetrain": "all",
         "price_usd": 5000,
         "is_exchangeable": "True",
         "location_region": "Минская обл.",
         "number_of_photos": 12,
         "up_counter": 54,
         "feature_0": "False",
         "feature_1": "True",
         "feature_2": "False",
         "feature_3": "False",
         "feature_4": "True",
         "feature_5": "True",
         "feature_6": "False",
         "feature_7": "False",
         "feature_8": "False",
         "feature_9": "True",
         "duration_listed": 83,
         "_deepnote_index_column": 1
        },
        {
         "manufacturer_name": "Subaru",
         "model_name": "Forester",
         "transmission": "automatic",
         "color": "red",
         "odometer_value": 402000,
         "year_produced": 2001,
         "engine_fuel": "gasoline",
         "engine_has_gas": "False",
         "engine_type": "gasoline",
         "engine_capacity": 2.5,
         "body_type": "suv",
         "has_warranty": "False",
         "state": "owned",
         "drivetrain": "all",
         "price_usd": 2800,
         "is_exchangeable": "True",
         "location_region": "Минская обл.",
         "number_of_photos": 4,
         "up_counter": 72,
         "feature_0": "False",
         "feature_1": "True",
         "feature_2": "False",
         "feature_3": "False",
         "feature_4": "False",
         "feature_5": "False",
         "feature_6": "False",
         "feature_7": "False",
         "feature_8": "True",
         "feature_9": "True",
         "duration_listed": 151,
         "_deepnote_index_column": 2
        },
        {
         "manufacturer_name": "Subaru",
         "model_name": "Impreza",
         "transmission": "mechanical",
         "color": "blue",
         "odometer_value": 10000,
         "year_produced": 1999,
         "engine_fuel": "gasoline",
         "engine_has_gas": "False",
         "engine_type": "gasoline",
         "engine_capacity": 3,
         "body_type": "sedan",
         "has_warranty": "False",
         "state": "owned",
         "drivetrain": "all",
         "price_usd": 9999,
         "is_exchangeable": "True",
         "location_region": "Минская обл.",
         "number_of_photos": 9,
         "up_counter": 42,
         "feature_0": "True",
         "feature_1": "False",
         "feature_2": "False",
         "feature_3": "False",
         "feature_4": "False",
         "feature_5": "False",
         "feature_6": "False",
         "feature_7": "False",
         "feature_8": "False",
         "feature_9": "False",
         "duration_listed": 86,
         "_deepnote_index_column": 3
        },
        {
         "manufacturer_name": "Subaru",
         "model_name": "Legacy",
         "transmission": "automatic",
         "color": "black",
         "odometer_value": 280000,
         "year_produced": 2001,
         "engine_fuel": "gasoline",
         "engine_has_gas": "False",
         "engine_type": "gasoline",
         "engine_capacity": 2.5,
         "body_type": "universal",
         "has_warranty": "False",
         "state": "owned",
         "drivetrain": "all",
         "price_usd": 2134.11,
         "is_exchangeable": "True",
         "location_region": "Гомельская обл.",
         "number_of_photos": 14,
         "up_counter": 7,
         "feature_0": "False",
         "feature_1": "True",
         "feature_2": "False",
         "feature_3": "True",
         "feature_4": "True",
         "feature_5": "False",
         "feature_6": "False",
         "feature_7": "False",
         "feature_8": "False",
         "feature_9": "True",
         "duration_listed": 7,
         "_deepnote_index_column": 4
        },
        {
         "manufacturer_name": "Subaru",
         "model_name": "Outback",
         "transmission": "automatic",
         "color": "silver",
         "odometer_value": 132449,
         "year_produced": 2011,
         "engine_fuel": "gasoline",
         "engine_has_gas": "False",
         "engine_type": "gasoline",
         "engine_capacity": 2.5,
         "body_type": "universal",
         "has_warranty": "False",
         "state": "owned",
         "drivetrain": "all",
         "price_usd": 14700,
         "is_exchangeable": "True",
         "location_region": "Минская обл.",
         "number_of_photos": 20,
         "up_counter": 56,
         "feature_0": "False",
         "feature_1": "True",
         "feature_2": "False",
         "feature_3": "False",
         "feature_4": "False",
         "feature_5": "True",
         "feature_6": "False",
         "feature_7": "True",
         "feature_8": "True",
         "feature_9": "True",
         "duration_listed": 67,
         "_deepnote_index_column": 5
        },
        {
         "manufacturer_name": "Subaru",
         "model_name": "Forester",
         "transmission": "automatic",
         "color": "black",
         "odometer_value": 318280,
         "year_produced": 1998,
         "engine_fuel": "gasoline",
         "engine_has_gas": "False",
         "engine_type": "gasoline",
         "engine_capacity": 2.5,
         "body_type": "universal",
         "has_warranty": "False",
         "state": "owned",
         "drivetrain": "all",
         "price_usd": 3000,
         "is_exchangeable": "True",
         "location_region": "Минская обл.",
         "number_of_photos": 8,
         "up_counter": 147,
         "feature_0": "False",
         "feature_1": "True",
         "feature_2": "False",
         "feature_3": "False",
         "feature_4": "True",
         "feature_5": "True",
         "feature_6": "False",
         "feature_7": "False",
         "feature_8": "True",
         "feature_9": "True",
         "duration_listed": 307,
         "_deepnote_index_column": 6
        },
        {
         "manufacturer_name": "Subaru",
         "model_name": "Legacy",
         "transmission": "automatic",
         "color": "silver",
         "odometer_value": 350000,
         "year_produced": 2004,
         "engine_fuel": "gasoline",
         "engine_has_gas": "False",
         "engine_type": "gasoline",
         "engine_capacity": 2.5,
         "body_type": "sedan",
         "has_warranty": "False",
         "state": "owned",
         "drivetrain": "all",
         "price_usd": 4500,
         "is_exchangeable": "False",
         "location_region": "Брестская обл.",
         "number_of_photos": 7,
         "up_counter": 29,
         "feature_0": "False",
         "feature_1": "True",
         "feature_2": "True",
         "feature_3": "False",
         "feature_4": "False",
         "feature_5": "False",
         "feature_6": "False",
         "feature_7": "False",
         "feature_8": "False",
         "feature_9": "True",
         "duration_listed": 73,
         "_deepnote_index_column": 7
        },
        {
         "manufacturer_name": "Subaru",
         "model_name": "Outback",
         "transmission": "automatic",
         "color": "grey",
         "odometer_value": 179000,
         "year_produced": 2010,
         "engine_fuel": "gasoline",
         "engine_has_gas": "False",
         "engine_type": "gasoline",
         "engine_capacity": 2.5,
         "body_type": "universal",
         "has_warranty": "False",
         "state": "owned",
         "drivetrain": "all",
         "price_usd": 12900,
         "is_exchangeable": "False",
         "location_region": "Минская обл.",
         "number_of_photos": 17,
         "up_counter": 33,
         "feature_0": "False",
         "feature_1": "True",
         "feature_2": "True",
         "feature_3": "True",
         "feature_4": "True",
         "feature_5": "True",
         "feature_6": "True",
         "feature_7": "True",
         "feature_8": "True",
         "feature_9": "True",
         "duration_listed": 87,
         "_deepnote_index_column": 8
        },
        {
         "manufacturer_name": "Subaru",
         "model_name": "Forester",
         "transmission": "automatic",
         "color": "silver",
         "odometer_value": 571317,
         "year_produced": 1999,
         "engine_fuel": "gasoline",
         "engine_has_gas": "False",
         "engine_type": "gasoline",
         "engine_capacity": 2.5,
         "body_type": "universal",
         "has_warranty": "False",
         "state": "owned",
         "drivetrain": "all",
         "price_usd": 4200,
         "is_exchangeable": "True",
         "location_region": "Минская обл.",
         "number_of_photos": 8,
         "up_counter": 11,
         "feature_0": "False",
         "feature_1": "True",
         "feature_2": "True",
         "feature_3": "False",
         "feature_4": "False",
         "feature_5": "True",
         "feature_6": "False",
         "feature_7": "False",
         "feature_8": "False",
         "feature_9": "True",
         "duration_listed": 43,
         "_deepnote_index_column": 9
        },
        {
         "manufacturer_name": "Subaru",
         "model_name": "Forester",
         "transmission": "mechanical",
         "color": "other",
         "odometer_value": 280000,
         "year_produced": 2003,
         "engine_fuel": "gasoline",
         "engine_has_gas": "False",
         "engine_type": "gasoline",
         "engine_capacity": 2,
         "body_type": "suv",
         "has_warranty": "False",
         "state": "owned",
         "drivetrain": "all",
         "price_usd": 6900,
         "is_exchangeable": "True",
         "location_region": "Минская обл.",
         "number_of_photos": 14,
         "up_counter": 6,
         "feature_0": "False",
         "feature_1": "True",
         "feature_2": "False",
         "feature_3": "True",
         "feature_4": "False",
         "feature_5": "True",
         "feature_6": "False",
         "feature_7": "True",
         "feature_8": "True",
         "feature_9": "True",
         "duration_listed": 11,
         "_deepnote_index_column": 10
        },
        {
         "manufacturer_name": "Subaru",
         "model_name": "Tribeca",
         "transmission": "automatic",
         "color": "grey",
         "odometer_value": 256000,
         "year_produced": 2008,
         "engine_fuel": "gasoline",
         "engine_has_gas": "False",
         "engine_type": "gasoline",
         "engine_capacity": 3.6,
         "body_type": "suv",
         "has_warranty": "False",
         "state": "owned",
         "drivetrain": "all",
         "price_usd": 8350,
         "is_exchangeable": "True",
         "location_region": "Минская обл.",
         "number_of_photos": 18,
         "up_counter": 61,
         "feature_0": "False",
         "feature_1": "True",
         "feature_2": "True",
         "feature_3": "True",
         "feature_4": "True",
         "feature_5": "True",
         "feature_6": "False",
         "feature_7": "False",
         "feature_8": "True",
         "feature_9": "True",
         "duration_listed": 80,
         "_deepnote_index_column": 11
        },
        {
         "manufacturer_name": "Subaru",
         "model_name": "Forester",
         "transmission": "mechanical",
         "color": "other",
         "odometer_value": 321000,
         "year_produced": 2002,
         "engine_fuel": "gasoline",
         "engine_has_gas": "False",
         "engine_type": "gasoline",
         "engine_capacity": 2,
         "body_type": "suv",
         "has_warranty": "False",
         "state": "owned",
         "drivetrain": "all",
         "price_usd": 4300,
         "is_exchangeable": "False",
         "location_region": "Минская обл.",
         "number_of_photos": 13,
         "up_counter": 2,
         "feature_0": "False",
         "feature_1": "True",
         "feature_2": "False",
         "feature_3": "False",
         "feature_4": "False",
         "feature_5": "False",
         "feature_6": "False",
         "feature_7": "False",
         "feature_8": "False",
         "feature_9": "False",
         "duration_listed": 2,
         "_deepnote_index_column": 12
        },
        {
         "manufacturer_name": "Subaru",
         "model_name": "Justy",
         "transmission": "mechanical",
         "color": "red",
         "odometer_value": 49999,
         "year_produced": 2001,
         "engine_fuel": "gasoline",
         "engine_has_gas": "False",
         "engine_type": "gasoline",
         "engine_capacity": 1.3,
         "body_type": "hatchback",
         "has_warranty": "False",
         "state": "owned",
         "drivetrain": "all",
         "price_usd": 1666,
         "is_exchangeable": "False",
         "location_region": "Гомельская обл.",
         "number_of_photos": 8,
         "up_counter": 94,
         "feature_0": "True",
         "feature_1": "False",
         "feature_2": "False",
         "feature_3": "False",
         "feature_4": "False",
         "feature_5": "False",
         "feature_6": "False",
         "feature_7": "False",
         "feature_8": "False",
         "feature_9": "False",
         "duration_listed": 230,
         "_deepnote_index_column": 13
        },
        {
         "manufacturer_name": "Subaru",
         "model_name": "Outback",
         "transmission": "automatic",
         "color": "brown",
         "odometer_value": 154685,
         "year_produced": 2011,
         "engine_fuel": "gasoline",
         "engine_has_gas": "False",
         "engine_type": "gasoline",
         "engine_capacity": 2.5,
         "body_type": "universal",
         "has_warranty": "False",
         "state": "owned",
         "drivetrain": "all",
         "price_usd": 8600,
         "is_exchangeable": "True",
         "location_region": "Минская обл.",
         "number_of_photos": 24,
         "up_counter": 34,
         "feature_0": "False",
         "feature_1": "True",
         "feature_2": "False",
         "feature_3": "True",
         "feature_4": "False",
         "feature_5": "False",
         "feature_6": "False",
         "feature_7": "False",
         "feature_8": "True",
         "feature_9": "True",
         "duration_listed": 63,
         "_deepnote_index_column": 14
        },
        {
         "manufacturer_name": "Subaru",
         "model_name": "Outback",
         "transmission": "automatic",
         "color": "black",
         "odometer_value": 163219,
         "year_produced": 2004,
         "engine_fuel": "gasoline",
         "engine_has_gas": "False",
         "engine_type": "gasoline",
         "engine_capacity": 2,
         "body_type": "universal",
         "has_warranty": "False",
         "state": "owned",
         "drivetrain": "all",
         "price_usd": 7300,
         "is_exchangeable": "True",
         "location_region": "Минская обл.",
         "number_of_photos": 17,
         "up_counter": 22,
         "feature_0": "False",
         "feature_1": "True",
         "feature_2": "True",
         "feature_3": "False",
         "feature_4": "True",
         "feature_5": "True",
         "feature_6": "False",
         "feature_7": "False",
         "feature_8": "False",
         "feature_9": "True",
         "duration_listed": 35,
         "_deepnote_index_column": 15
        }
       ],
       "rows_bottom": [
        {
         "manufacturer_name": "Chrysler",
         "model_name": "Voyager",
         "transmission": "automatic",
         "color": "red",
         "odometer_value": 300000,
         "year_produced": 2002,
         "engine_fuel": "gas",
         "engine_has_gas": "True",
         "engine_type": "gasoline",
         "engine_capacity": 2.4,
         "body_type": "minivan",
         "has_warranty": "False",
         "state": "owned",
         "drivetrain": "front",
         "price_usd": 3700,
         "is_exchangeable": "False",
         "location_region": "Минская обл.",
         "number_of_photos": 12,
         "up_counter": 4,
         "feature_0": "False",
         "feature_1": "True",
         "feature_2": "False",
         "feature_3": "False",
         "feature_4": "False",
         "feature_5": "False",
         "feature_6": "False",
         "feature_7": "False",
         "feature_8": "False",
         "feature_9": "False",
         "duration_listed": 161,
         "_deepnote_index_column": 38514
        },
        {
         "manufacturer_name": "Chrysler",
         "model_name": "Grand Voyager",
         "transmission": "automatic",
         "color": "green",
         "odometer_value": 210000,
         "year_produced": 1999,
         "engine_fuel": "gas",
         "engine_has_gas": "True",
         "engine_type": "gasoline",
         "engine_capacity": 3.3,
         "body_type": "minivan",
         "has_warranty": "False",
         "state": "owned",
         "drivetrain": "front",
         "price_usd": 4200,
         "is_exchangeable": "True",
         "location_region": "Гомельская обл.",
         "number_of_photos": 23,
         "up_counter": 2,
         "feature_0": "False",
         "feature_1": "True",
         "feature_2": "False",
         "feature_3": "False",
         "feature_4": "False",
         "feature_5": "False",
         "feature_6": "False",
         "feature_7": "False",
         "feature_8": "False",
         "feature_9": "True",
         "duration_listed": 163,
         "_deepnote_index_column": 38515
        },
        {
         "manufacturer_name": "Chrysler",
         "model_name": "Grand Voyager",
         "transmission": "automatic",
         "color": "grey",
         "odometer_value": 179000,
         "year_produced": 1998,
         "engine_fuel": "gasoline",
         "engine_has_gas": "False",
         "engine_type": "gasoline",
         "engine_capacity": 3.3,
         "body_type": "minivan",
         "has_warranty": "False",
         "state": "owned",
         "drivetrain": "front",
         "price_usd": 3450,
         "is_exchangeable": "False",
         "location_region": "Минская обл.",
         "number_of_photos": 6,
         "up_counter": 6,
         "feature_0": "False",
         "feature_1": "True",
         "feature_2": "False",
         "feature_3": "False",
         "feature_4": "False",
         "feature_5": "False",
         "feature_6": "False",
         "feature_7": "False",
         "feature_8": "False",
         "feature_9": "True",
         "duration_listed": 167,
         "_deepnote_index_column": 38516
        },
        {
         "manufacturer_name": "Chrysler",
         "model_name": "Voyager",
         "transmission": "mechanical",
         "color": "silver",
         "odometer_value": 240000,
         "year_produced": 2005,
         "engine_fuel": "diesel",
         "engine_has_gas": "False",
         "engine_type": "diesel",
         "engine_capacity": 2.5,
         "body_type": "minivan",
         "has_warranty": "False",
         "state": "owned",
         "drivetrain": "front",
         "price_usd": 6500,
         "is_exchangeable": "False",
         "location_region": "Минская обл.",
         "number_of_photos": 8,
         "up_counter": 2,
         "feature_0": "False",
         "feature_1": "True",
         "feature_2": "False",
         "feature_3": "False",
         "feature_4": "False",
         "feature_5": "True",
         "feature_6": "False",
         "feature_7": "True",
         "feature_8": "True",
         "feature_9": "True",
         "duration_listed": 177,
         "_deepnote_index_column": 38517
        },
        {
         "manufacturer_name": "Chrysler",
         "model_name": "PT Cruiser",
         "transmission": "automatic",
         "color": "blue",
         "odometer_value": 177000,
         "year_produced": 2003,
         "engine_fuel": "gasoline",
         "engine_has_gas": "False",
         "engine_type": "gasoline",
         "engine_capacity": 2.4,
         "body_type": "sedan",
         "has_warranty": "False",
         "state": "owned",
         "drivetrain": "front",
         "price_usd": 2800,
         "is_exchangeable": "False",
         "location_region": "Витебская обл.",
         "number_of_photos": 7,
         "up_counter": 2,
         "feature_0": "False",
         "feature_1": "True",
         "feature_2": "False",
         "feature_3": "False",
         "feature_4": "False",
         "feature_5": "False",
         "feature_6": "False",
         "feature_7": "False",
         "feature_8": "False",
         "feature_9": "False",
         "duration_listed": 181,
         "_deepnote_index_column": 38518
        },
        {
         "manufacturer_name": "Chrysler",
         "model_name": "Voyager",
         "transmission": "automatic",
         "color": "brown",
         "odometer_value": 200000,
         "year_produced": 1997,
         "engine_fuel": "gasoline",
         "engine_has_gas": "False",
         "engine_type": "gasoline",
         "engine_capacity": 2.4,
         "body_type": "minivan",
         "has_warranty": "False",
         "state": "owned",
         "drivetrain": "front",
         "price_usd": 2700,
         "is_exchangeable": "True",
         "location_region": "Минская обл.",
         "number_of_photos": 5,
         "up_counter": 12,
         "feature_0": "False",
         "feature_1": "True",
         "feature_2": "False",
         "feature_3": "False",
         "feature_4": "False",
         "feature_5": "False",
         "feature_6": "False",
         "feature_7": "False",
         "feature_8": "False",
         "feature_9": "False",
         "duration_listed": 186,
         "_deepnote_index_column": 38519
        },
        {
         "manufacturer_name": "Chrysler",
         "model_name": "Voyager",
         "transmission": "mechanical",
         "color": "silver",
         "odometer_value": 400000,
         "year_produced": 1999,
         "engine_fuel": "diesel",
         "engine_has_gas": "False",
         "engine_type": "diesel",
         "engine_capacity": 2.5,
         "body_type": "minivan",
         "has_warranty": "False",
         "state": "owned",
         "drivetrain": "front",
         "price_usd": 1600,
         "is_exchangeable": "True",
         "location_region": "Минская обл.",
         "number_of_photos": 1,
         "up_counter": 38,
         "feature_0": "False",
         "feature_1": "True",
         "feature_2": "False",
         "feature_3": "False",
         "feature_4": "False",
         "feature_5": "False",
         "feature_6": "False",
         "feature_7": "False",
         "feature_8": "False",
         "feature_9": "False",
         "duration_listed": 202,
         "_deepnote_index_column": 38520
        },
        {
         "manufacturer_name": "Chrysler",
         "model_name": "Neon",
         "transmission": "mechanical",
         "color": "green",
         "odometer_value": 260000,
         "year_produced": 1995,
         "engine_fuel": "gasoline",
         "engine_has_gas": "False",
         "engine_type": "gasoline",
         "engine_capacity": 2,
         "body_type": "sedan",
         "has_warranty": "False",
         "state": "owned",
         "drivetrain": "front",
         "price_usd": 550,
         "is_exchangeable": "True",
         "location_region": "Гродненская обл.",
         "number_of_photos": 7,
         "up_counter": 12,
         "feature_0": "False",
         "feature_1": "True",
         "feature_2": "False",
         "feature_3": "False",
         "feature_4": "False",
         "feature_5": "False",
         "feature_6": "False",
         "feature_7": "False",
         "feature_8": "False",
         "feature_9": "True",
         "duration_listed": 215,
         "_deepnote_index_column": 38521
        },
        {
         "manufacturer_name": "Chrysler",
         "model_name": "PT Cruiser",
         "transmission": "automatic",
         "color": "other",
         "odometer_value": 207605,
         "year_produced": 2004,
         "engine_fuel": "gasoline",
         "engine_has_gas": "False",
         "engine_type": "gasoline",
         "engine_capacity": 2.4,
         "body_type": "hatchback",
         "has_warranty": "False",
         "state": "owned",
         "drivetrain": "front",
         "price_usd": 4000,
         "is_exchangeable": "False",
         "location_region": "Витебская обл.",
         "number_of_photos": 8,
         "up_counter": 44,
         "feature_0": "False",
         "feature_1": "True",
         "feature_2": "False",
         "feature_3": "False",
         "feature_4": "False",
         "feature_5": "False",
         "feature_6": "False",
         "feature_7": "False",
         "feature_8": "False",
         "feature_9": "False",
         "duration_listed": 221,
         "_deepnote_index_column": 38522
        },
        {
         "manufacturer_name": "Chrysler",
         "model_name": "Grand Voyager",
         "transmission": "mechanical",
         "color": "black",
         "odometer_value": 278000,
         "year_produced": 1999,
         "engine_fuel": "diesel",
         "engine_has_gas": "False",
         "engine_type": "diesel",
         "engine_capacity": 2.5,
         "body_type": "minivan",
         "has_warranty": "False",
         "state": "owned",
         "drivetrain": "front",
         "price_usd": 4220.81,
         "is_exchangeable": "False",
         "location_region": "Брестская обл.",
         "number_of_photos": 5,
         "up_counter": 20,
         "feature_0": "False",
         "feature_1": "True",
         "feature_2": "True",
         "feature_3": "False",
         "feature_4": "True",
         "feature_5": "False",
         "feature_6": "False",
         "feature_7": "False",
         "feature_8": "False",
         "feature_9": "True",
         "duration_listed": 239,
         "_deepnote_index_column": 38523
        },
        {
         "manufacturer_name": "Chrysler",
         "model_name": "300",
         "transmission": "automatic",
         "color": "silver",
         "odometer_value": 240000,
         "year_produced": 2001,
         "engine_fuel": "gasoline",
         "engine_has_gas": "False",
         "engine_type": "gasoline",
         "engine_capacity": 3.5,
         "body_type": "sedan",
         "has_warranty": "False",
         "state": "owned",
         "drivetrain": "front",
         "price_usd": 3000,
         "is_exchangeable": "True",
         "location_region": "Минская обл.",
         "number_of_photos": 6,
         "up_counter": 11,
         "feature_0": "False",
         "feature_1": "True",
         "feature_2": "False",
         "feature_3": "False",
         "feature_4": "True",
         "feature_5": "True",
         "feature_6": "False",
         "feature_7": "False",
         "feature_8": "True",
         "feature_9": "True",
         "duration_listed": 264,
         "_deepnote_index_column": 38524
        },
        {
         "manufacturer_name": "Chrysler",
         "model_name": "Voyager",
         "transmission": "mechanical",
         "color": "violet",
         "odometer_value": 317000,
         "year_produced": 1999,
         "engine_fuel": "gas",
         "engine_has_gas": "True",
         "engine_type": "gasoline",
         "engine_capacity": 2,
         "body_type": "minivan",
         "has_warranty": "False",
         "state": "owned",
         "drivetrain": "front",
         "price_usd": 3300,
         "is_exchangeable": "True",
         "location_region": "Брестская обл.",
         "number_of_photos": 8,
         "up_counter": 28,
         "feature_0": "False",
         "feature_1": "False",
         "feature_2": "False",
         "feature_3": "True",
         "feature_4": "False",
         "feature_5": "False",
         "feature_6": "False",
         "feature_7": "False",
         "feature_8": "False",
         "feature_9": "True",
         "duration_listed": 269,
         "_deepnote_index_column": 38525
        },
        {
         "manufacturer_name": "Chrysler",
         "model_name": "300",
         "transmission": "automatic",
         "color": "silver",
         "odometer_value": 290000,
         "year_produced": 2000,
         "engine_fuel": "gasoline",
         "engine_has_gas": "False",
         "engine_type": "gasoline",
         "engine_capacity": 3.5,
         "body_type": "sedan",
         "has_warranty": "False",
         "state": "owned",
         "drivetrain": "front",
         "price_usd": 2750,
         "is_exchangeable": "True",
         "location_region": "Минская обл.",
         "number_of_photos": 5,
         "up_counter": 85,
         "feature_0": "False",
         "feature_1": "True",
         "feature_2": "False",
         "feature_3": "False",
         "feature_4": "True",
         "feature_5": "True",
         "feature_6": "False",
         "feature_7": "False",
         "feature_8": "True",
         "feature_9": "True",
         "duration_listed": 301,
         "_deepnote_index_column": 38526
        },
        {
         "manufacturer_name": "Chrysler",
         "model_name": "PT Cruiser",
         "transmission": "mechanical",
         "color": "blue",
         "odometer_value": 321000,
         "year_produced": 2004,
         "engine_fuel": "diesel",
         "engine_has_gas": "False",
         "engine_type": "diesel",
         "engine_capacity": 2.2,
         "body_type": "hatchback",
         "has_warranty": "False",
         "state": "owned",
         "drivetrain": "front",
         "price_usd": 4800,
         "is_exchangeable": "True",
         "location_region": "Брестская обл.",
         "number_of_photos": 4,
         "up_counter": 20,
         "feature_0": "False",
         "feature_1": "True",
         "feature_2": "False",
         "feature_3": "False",
         "feature_4": "True",
         "feature_5": "True",
         "feature_6": "False",
         "feature_7": "False",
         "feature_8": "True",
         "feature_9": "True",
         "duration_listed": 317,
         "_deepnote_index_column": 38527
        },
        {
         "manufacturer_name": "Chrysler",
         "model_name": "300",
         "transmission": "automatic",
         "color": "blue",
         "odometer_value": 777957,
         "year_produced": 2000,
         "engine_fuel": "gasoline",
         "engine_has_gas": "False",
         "engine_type": "gasoline",
         "engine_capacity": 3.5,
         "body_type": "sedan",
         "has_warranty": "False",
         "state": "owned",
         "drivetrain": "front",
         "price_usd": 4300,
         "is_exchangeable": "False",
         "location_region": "Минская обл.",
         "number_of_photos": 3,
         "up_counter": 63,
         "feature_0": "False",
         "feature_1": "True",
         "feature_2": "False",
         "feature_3": "False",
         "feature_4": "True",
         "feature_5": "True",
         "feature_6": "False",
         "feature_7": "False",
         "feature_8": "True",
         "feature_9": "True",
         "duration_listed": 369,
         "_deepnote_index_column": 38528
        },
        {
         "manufacturer_name": "Chrysler",
         "model_name": "PT Cruiser",
         "transmission": "mechanical",
         "color": "black",
         "odometer_value": 20000,
         "year_produced": 2001,
         "engine_fuel": "gasoline",
         "engine_has_gas": "False",
         "engine_type": "gasoline",
         "engine_capacity": 2,
         "body_type": "minivan",
         "has_warranty": "False",
         "state": "owned",
         "drivetrain": "front",
         "price_usd": 4000,
         "is_exchangeable": "True",
         "location_region": "Брестская обл.",
         "number_of_photos": 7,
         "up_counter": 156,
         "feature_0": "False",
         "feature_1": "True",
         "feature_2": "False",
         "feature_3": "False",
         "feature_4": "False",
         "feature_5": "False",
         "feature_6": "False",
         "feature_7": "False",
         "feature_8": "False",
         "feature_9": "True",
         "duration_listed": 490,
         "_deepnote_index_column": 38529
        },
        {
         "manufacturer_name": "Chrysler",
         "model_name": "Voyager",
         "transmission": "automatic",
         "color": "silver",
         "odometer_value": 297729,
         "year_produced": 2000,
         "engine_fuel": "gasoline",
         "engine_has_gas": "False",
         "engine_type": "gasoline",
         "engine_capacity": 2.4,
         "body_type": "minivan",
         "has_warranty": "False",
         "state": "owned",
         "drivetrain": "front",
         "price_usd": 3200,
         "is_exchangeable": "True",
         "location_region": "Минская обл.",
         "number_of_photos": 4,
         "up_counter": 73,
         "feature_0": "False",
         "feature_1": "False",
         "feature_2": "False",
         "feature_3": "False",
         "feature_4": "False",
         "feature_5": "False",
         "feature_6": "False",
         "feature_7": "False",
         "feature_8": "False",
         "feature_9": "True",
         "duration_listed": 632,
         "_deepnote_index_column": 38530
        }
       ]
      },
      "text/plain": "      manufacturer_name  model_name transmission   color  odometer_value  \\\n0                Subaru     Outback    automatic  silver          190000   \n1                Subaru     Outback    automatic    blue          290000   \n2                Subaru    Forester    automatic     red          402000   \n3                Subaru     Impreza   mechanical    blue           10000   \n4                Subaru      Legacy    automatic   black          280000   \n...                 ...         ...          ...     ...             ...   \n38526          Chrysler         300    automatic  silver          290000   \n38527          Chrysler  PT Cruiser   mechanical    blue          321000   \n38528          Chrysler         300    automatic    blue          777957   \n38529          Chrysler  PT Cruiser   mechanical   black           20000   \n38530          Chrysler     Voyager    automatic  silver          297729   \n\n       year_produced engine_fuel  engine_has_gas engine_type  engine_capacity  \\\n0               2010    gasoline           False    gasoline              2.5   \n1               2002    gasoline           False    gasoline              3.0   \n2               2001    gasoline           False    gasoline              2.5   \n3               1999    gasoline           False    gasoline              3.0   \n4               2001    gasoline           False    gasoline              2.5   \n...              ...         ...             ...         ...              ...   \n38526           2000    gasoline           False    gasoline              3.5   \n38527           2004      diesel           False      diesel              2.2   \n38528           2000    gasoline           False    gasoline              3.5   \n38529           2001    gasoline           False    gasoline              2.0   \n38530           2000    gasoline           False    gasoline              2.4   \n\n       ... feature_1  feature_2 feature_3 feature_4  feature_5  feature_6  \\\n0      ...      True       True      True     False       True      False   \n1      ...      True      False     False      True       True      False   \n2      ...      True      False     False     False      False      False   \n3      ...     False      False     False     False      False      False   \n4      ...      True      False      True      True      False      False   \n...    ...       ...        ...       ...       ...        ...        ...   \n38526  ...      True      False     False      True       True      False   \n38527  ...      True      False     False      True       True      False   \n38528  ...      True      False     False      True       True      False   \n38529  ...      True      False     False     False      False      False   \n38530  ...     False      False     False     False      False      False   \n\n      feature_7  feature_8  feature_9  duration_listed  \n0          True       True       True               16  \n1         False      False       True               83  \n2         False       True       True              151  \n3         False      False      False               86  \n4         False      False       True                7  \n...         ...        ...        ...              ...  \n38526     False       True       True              301  \n38527     False       True       True              317  \n38528     False       True       True              369  \n38529     False      False       True              490  \n38530     False      False       True              632  \n\n[38531 rows x 30 columns]",
      "text/html": "<div>\n<style scoped>\n    .dataframe tbody tr th:only-of-type {\n        vertical-align: middle;\n    }\n\n    .dataframe tbody tr th {\n        vertical-align: top;\n    }\n\n    .dataframe thead th {\n        text-align: right;\n    }\n</style>\n<table border=\"1\" class=\"dataframe\">\n  <thead>\n    <tr style=\"text-align: right;\">\n      <th></th>\n      <th>manufacturer_name</th>\n      <th>model_name</th>\n      <th>transmission</th>\n      <th>color</th>\n      <th>odometer_value</th>\n      <th>year_produced</th>\n      <th>engine_fuel</th>\n      <th>engine_has_gas</th>\n      <th>engine_type</th>\n      <th>engine_capacity</th>\n      <th>...</th>\n      <th>feature_1</th>\n      <th>feature_2</th>\n      <th>feature_3</th>\n      <th>feature_4</th>\n      <th>feature_5</th>\n      <th>feature_6</th>\n      <th>feature_7</th>\n      <th>feature_8</th>\n      <th>feature_9</th>\n      <th>duration_listed</th>\n    </tr>\n  </thead>\n  <tbody>\n    <tr>\n      <th>0</th>\n      <td>Subaru</td>\n      <td>Outback</td>\n      <td>automatic</td>\n      <td>silver</td>\n      <td>190000</td>\n      <td>2010</td>\n      <td>gasoline</td>\n      <td>False</td>\n      <td>gasoline</td>\n      <td>2.5</td>\n      <td>...</td>\n      <td>True</td>\n      <td>True</td>\n      <td>True</td>\n      <td>False</td>\n      <td>True</td>\n      <td>False</td>\n      <td>True</td>\n      <td>True</td>\n      <td>True</td>\n      <td>16</td>\n    </tr>\n    <tr>\n      <th>1</th>\n      <td>Subaru</td>\n      <td>Outback</td>\n      <td>automatic</td>\n      <td>blue</td>\n      <td>290000</td>\n      <td>2002</td>\n      <td>gasoline</td>\n      <td>False</td>\n      <td>gasoline</td>\n      <td>3.0</td>\n      <td>...</td>\n      <td>True</td>\n      <td>False</td>\n      <td>False</td>\n      <td>True</td>\n      <td>True</td>\n      <td>False</td>\n      <td>False</td>\n      <td>False</td>\n      <td>True</td>\n      <td>83</td>\n    </tr>\n    <tr>\n      <th>2</th>\n      <td>Subaru</td>\n      <td>Forester</td>\n      <td>automatic</td>\n      <td>red</td>\n      <td>402000</td>\n      <td>2001</td>\n      <td>gasoline</td>\n      <td>False</td>\n      <td>gasoline</td>\n      <td>2.5</td>\n      <td>...</td>\n      <td>True</td>\n      <td>False</td>\n      <td>False</td>\n      <td>False</td>\n      <td>False</td>\n      <td>False</td>\n      <td>False</td>\n      <td>True</td>\n      <td>True</td>\n      <td>151</td>\n    </tr>\n    <tr>\n      <th>3</th>\n      <td>Subaru</td>\n      <td>Impreza</td>\n      <td>mechanical</td>\n      <td>blue</td>\n      <td>10000</td>\n      <td>1999</td>\n      <td>gasoline</td>\n      <td>False</td>\n      <td>gasoline</td>\n      <td>3.0</td>\n      <td>...</td>\n      <td>False</td>\n      <td>False</td>\n      <td>False</td>\n      <td>False</td>\n      <td>False</td>\n      <td>False</td>\n      <td>False</td>\n      <td>False</td>\n      <td>False</td>\n      <td>86</td>\n    </tr>\n    <tr>\n      <th>4</th>\n      <td>Subaru</td>\n      <td>Legacy</td>\n      <td>automatic</td>\n      <td>black</td>\n      <td>280000</td>\n      <td>2001</td>\n      <td>gasoline</td>\n      <td>False</td>\n      <td>gasoline</td>\n      <td>2.5</td>\n      <td>...</td>\n      <td>True</td>\n      <td>False</td>\n      <td>True</td>\n      <td>True</td>\n      <td>False</td>\n      <td>False</td>\n      <td>False</td>\n      <td>False</td>\n      <td>True</td>\n      <td>7</td>\n    </tr>\n    <tr>\n      <th>...</th>\n      <td>...</td>\n      <td>...</td>\n      <td>...</td>\n      <td>...</td>\n      <td>...</td>\n      <td>...</td>\n      <td>...</td>\n      <td>...</td>\n      <td>...</td>\n      <td>...</td>\n      <td>...</td>\n      <td>...</td>\n      <td>...</td>\n      <td>...</td>\n      <td>...</td>\n      <td>...</td>\n      <td>...</td>\n      <td>...</td>\n      <td>...</td>\n      <td>...</td>\n      <td>...</td>\n    </tr>\n    <tr>\n      <th>38526</th>\n      <td>Chrysler</td>\n      <td>300</td>\n      <td>automatic</td>\n      <td>silver</td>\n      <td>290000</td>\n      <td>2000</td>\n      <td>gasoline</td>\n      <td>False</td>\n      <td>gasoline</td>\n      <td>3.5</td>\n      <td>...</td>\n      <td>True</td>\n      <td>False</td>\n      <td>False</td>\n      <td>True</td>\n      <td>True</td>\n      <td>False</td>\n      <td>False</td>\n      <td>True</td>\n      <td>True</td>\n      <td>301</td>\n    </tr>\n    <tr>\n      <th>38527</th>\n      <td>Chrysler</td>\n      <td>PT Cruiser</td>\n      <td>mechanical</td>\n      <td>blue</td>\n      <td>321000</td>\n      <td>2004</td>\n      <td>diesel</td>\n      <td>False</td>\n      <td>diesel</td>\n      <td>2.2</td>\n      <td>...</td>\n      <td>True</td>\n      <td>False</td>\n      <td>False</td>\n      <td>True</td>\n      <td>True</td>\n      <td>False</td>\n      <td>False</td>\n      <td>True</td>\n      <td>True</td>\n      <td>317</td>\n    </tr>\n    <tr>\n      <th>38528</th>\n      <td>Chrysler</td>\n      <td>300</td>\n      <td>automatic</td>\n      <td>blue</td>\n      <td>777957</td>\n      <td>2000</td>\n      <td>gasoline</td>\n      <td>False</td>\n      <td>gasoline</td>\n      <td>3.5</td>\n      <td>...</td>\n      <td>True</td>\n      <td>False</td>\n      <td>False</td>\n      <td>True</td>\n      <td>True</td>\n      <td>False</td>\n      <td>False</td>\n      <td>True</td>\n      <td>True</td>\n      <td>369</td>\n    </tr>\n    <tr>\n      <th>38529</th>\n      <td>Chrysler</td>\n      <td>PT Cruiser</td>\n      <td>mechanical</td>\n      <td>black</td>\n      <td>20000</td>\n      <td>2001</td>\n      <td>gasoline</td>\n      <td>False</td>\n      <td>gasoline</td>\n      <td>2.0</td>\n      <td>...</td>\n      <td>True</td>\n      <td>False</td>\n      <td>False</td>\n      <td>False</td>\n      <td>False</td>\n      <td>False</td>\n      <td>False</td>\n      <td>False</td>\n      <td>True</td>\n      <td>490</td>\n    </tr>\n    <tr>\n      <th>38530</th>\n      <td>Chrysler</td>\n      <td>Voyager</td>\n      <td>automatic</td>\n      <td>silver</td>\n      <td>297729</td>\n      <td>2000</td>\n      <td>gasoline</td>\n      <td>False</td>\n      <td>gasoline</td>\n      <td>2.4</td>\n      <td>...</td>\n      <td>False</td>\n      <td>False</td>\n      <td>False</td>\n      <td>False</td>\n      <td>False</td>\n      <td>False</td>\n      <td>False</td>\n      <td>False</td>\n      <td>True</td>\n      <td>632</td>\n    </tr>\n  </tbody>\n</table>\n<p>38531 rows × 30 columns</p>\n</div>"
     },
     "metadata": {}
    }
   ]
  },
  {
   "cell_type": "code",
   "metadata": {
    "tags": [],
    "cell_id": "00002-e550b9ae-57c0-4d22-9e30-a3fb65402084",
    "deepnote_to_be_reexecuted": false,
    "source_hash": "3925fe68",
    "execution_start": 1633195208063,
    "execution_millis": 13,
    "deepnote_app_coordinates": {
     "x": 0,
     "y": 12,
     "w": 12,
     "h": 5
    },
    "deepnote_cell_type": "code"
   },
   "source": "print(data.dtypes)",
   "execution_count": 2,
   "outputs": [
    {
     "name": "stdout",
     "text": "manufacturer_name     object\nmodel_name            object\ntransmission          object\ncolor                 object\nodometer_value         int64\nyear_produced          int64\nengine_fuel           object\nengine_has_gas          bool\nengine_type           object\nengine_capacity      float64\nbody_type             object\nhas_warranty            bool\nstate                 object\ndrivetrain            object\nprice_usd            float64\nis_exchangeable         bool\nlocation_region       object\nnumber_of_photos       int64\nup_counter             int64\nfeature_0               bool\nfeature_1               bool\nfeature_2               bool\nfeature_3               bool\nfeature_4               bool\nfeature_5               bool\nfeature_6               bool\nfeature_7               bool\nfeature_8               bool\nfeature_9               bool\nduration_listed        int64\ndtype: object\n",
     "output_type": "stream"
    }
   ]
  },
  {
   "cell_type": "code",
   "metadata": {
    "tags": [],
    "cell_id": "00003-a4fe48ce-fe44-44c6-9fd2-810302b02de4",
    "deepnote_to_be_reexecuted": false,
    "source_hash": "d786443f",
    "execution_start": 1633195208074,
    "execution_millis": 86,
    "deepnote_app_coordinates": {
     "x": 0,
     "y": 18,
     "w": 12,
     "h": 5
    },
    "deepnote_cell_type": "code"
   },
   "source": "data.describe()",
   "execution_count": 3,
   "outputs": [
    {
     "output_type": "execute_result",
     "execution_count": 3,
     "data": {
      "application/vnd.deepnote.dataframe.v2+json": {
       "row_count": 8,
       "column_count": 7,
       "columns": [
        {
         "name": "odometer_value",
         "dtype": "float64",
         "stats": {
          "unique_count": 8,
          "nan_count": 0,
          "min": "0.0",
          "max": "1000000.0",
          "histogram": [
           {
            "bin_start": 0,
            "bin_end": 100000,
            "count": 2
           },
           {
            "bin_start": 100000,
            "bin_end": 200000,
            "count": 2
           },
           {
            "bin_start": 200000,
            "bin_end": 300000,
            "count": 2
           },
           {
            "bin_start": 300000,
            "bin_end": 400000,
            "count": 1
           },
           {
            "bin_start": 400000,
            "bin_end": 500000,
            "count": 0
           },
           {
            "bin_start": 500000,
            "bin_end": 600000,
            "count": 0
           },
           {
            "bin_start": 600000,
            "bin_end": 700000,
            "count": 0
           },
           {
            "bin_start": 700000,
            "bin_end": 800000,
            "count": 0
           },
           {
            "bin_start": 800000,
            "bin_end": 900000,
            "count": 0
           },
           {
            "bin_start": 900000,
            "bin_end": 1000000,
            "count": 1
           }
          ]
         }
        },
        {
         "name": "year_produced",
         "dtype": "float64",
         "stats": {
          "unique_count": 8,
          "nan_count": 0,
          "min": "8.065730511309914",
          "max": "38531.0",
          "histogram": [
           {
            "bin_start": 8.065730511309914,
            "bin_end": 3860.3591574601787,
            "count": 7
           },
           {
            "bin_start": 3860.3591574601787,
            "bin_end": 7712.652584409047,
            "count": 0
           },
           {
            "bin_start": 7712.652584409047,
            "bin_end": 11564.946011357915,
            "count": 0
           },
           {
            "bin_start": 11564.946011357915,
            "bin_end": 15417.239438306784,
            "count": 0
           },
           {
            "bin_start": 15417.239438306784,
            "bin_end": 19269.532865255653,
            "count": 0
           },
           {
            "bin_start": 19269.532865255653,
            "bin_end": 23121.82629220452,
            "count": 0
           },
           {
            "bin_start": 23121.82629220452,
            "bin_end": 26974.11971915339,
            "count": 0
           },
           {
            "bin_start": 26974.11971915339,
            "bin_end": 30826.41314610226,
            "count": 0
           },
           {
            "bin_start": 30826.41314610226,
            "bin_end": 34678.70657305113,
            "count": 0
           },
           {
            "bin_start": 34678.70657305113,
            "bin_end": 38531,
            "count": 1
           }
          ]
         }
        },
        {
         "name": "engine_capacity",
         "dtype": "float64",
         "stats": {
          "unique_count": 8,
          "nan_count": 0,
          "min": "0.2",
          "max": "38521.0",
          "histogram": [
           {
            "bin_start": 0.2,
            "bin_end": 3852.28,
            "count": 7
           },
           {
            "bin_start": 3852.28,
            "bin_end": 7704.360000000001,
            "count": 0
           },
           {
            "bin_start": 7704.360000000001,
            "bin_end": 11556.440000000002,
            "count": 0
           },
           {
            "bin_start": 11556.440000000002,
            "bin_end": 15408.520000000002,
            "count": 0
           },
           {
            "bin_start": 15408.520000000002,
            "bin_end": 19260.600000000002,
            "count": 0
           },
           {
            "bin_start": 19260.600000000002,
            "bin_end": 23112.680000000004,
            "count": 0
           },
           {
            "bin_start": 23112.680000000004,
            "bin_end": 26964.760000000002,
            "count": 0
           },
           {
            "bin_start": 26964.760000000002,
            "bin_end": 30816.840000000004,
            "count": 0
           },
           {
            "bin_start": 30816.840000000004,
            "bin_end": 34668.92,
            "count": 0
           },
           {
            "bin_start": 34668.92,
            "bin_end": 38521,
            "count": 1
           }
          ]
         }
        },
        {
         "name": "price_usd",
         "dtype": "float64",
         "stats": {
          "unique_count": 8,
          "nan_count": 0,
          "min": "1.0",
          "max": "50000.0",
          "histogram": [
           {
            "bin_start": 1,
            "bin_end": 5000.9,
            "count": 3
           },
           {
            "bin_start": 5000.9,
            "bin_end": 10000.8,
            "count": 3
           },
           {
            "bin_start": 10000.8,
            "bin_end": 15000.699999999999,
            "count": 0
           },
           {
            "bin_start": 15000.699999999999,
            "bin_end": 20000.6,
            "count": 0
           },
           {
            "bin_start": 20000.6,
            "bin_end": 25000.5,
            "count": 0
           },
           {
            "bin_start": 25000.5,
            "bin_end": 30000.399999999998,
            "count": 0
           },
           {
            "bin_start": 30000.399999999998,
            "bin_end": 35000.299999999996,
            "count": 0
           },
           {
            "bin_start": 35000.299999999996,
            "bin_end": 40000.2,
            "count": 1
           },
           {
            "bin_start": 40000.2,
            "bin_end": 45000.1,
            "count": 0
           },
           {
            "bin_start": 45000.1,
            "bin_end": 50000,
            "count": 1
           }
          ]
         }
        },
        {
         "name": "number_of_photos",
         "dtype": "float64",
         "stats": {
          "unique_count": 8,
          "nan_count": 0,
          "min": "1.0",
          "max": "38531.0",
          "histogram": [
           {
            "bin_start": 1,
            "bin_end": 3854,
            "count": 7
           },
           {
            "bin_start": 3854,
            "bin_end": 7707,
            "count": 0
           },
           {
            "bin_start": 7707,
            "bin_end": 11560,
            "count": 0
           },
           {
            "bin_start": 11560,
            "bin_end": 15413,
            "count": 0
           },
           {
            "bin_start": 15413,
            "bin_end": 19266,
            "count": 0
           },
           {
            "bin_start": 19266,
            "bin_end": 23119,
            "count": 0
           },
           {
            "bin_start": 23119,
            "bin_end": 26972,
            "count": 0
           },
           {
            "bin_start": 26972,
            "bin_end": 30825,
            "count": 0
           },
           {
            "bin_start": 30825,
            "bin_end": 34678,
            "count": 0
           },
           {
            "bin_start": 34678,
            "bin_end": 38531,
            "count": 1
           }
          ]
         }
        },
        {
         "name": "up_counter",
         "dtype": "float64",
         "stats": {
          "unique_count": 8,
          "nan_count": 0,
          "min": "1.0",
          "max": "38531.0",
          "histogram": [
           {
            "bin_start": 1,
            "bin_end": 3854,
            "count": 7
           },
           {
            "bin_start": 3854,
            "bin_end": 7707,
            "count": 0
           },
           {
            "bin_start": 7707,
            "bin_end": 11560,
            "count": 0
           },
           {
            "bin_start": 11560,
            "bin_end": 15413,
            "count": 0
           },
           {
            "bin_start": 15413,
            "bin_end": 19266,
            "count": 0
           },
           {
            "bin_start": 19266,
            "bin_end": 23119,
            "count": 0
           },
           {
            "bin_start": 23119,
            "bin_end": 26972,
            "count": 0
           },
           {
            "bin_start": 26972,
            "bin_end": 30825,
            "count": 0
           },
           {
            "bin_start": 30825,
            "bin_end": 34678,
            "count": 0
           },
           {
            "bin_start": 34678,
            "bin_end": 38531,
            "count": 1
           }
          ]
         }
        },
        {
         "name": "duration_listed",
         "dtype": "float64",
         "stats": {
          "unique_count": 8,
          "nan_count": 0,
          "min": "0.0",
          "max": "38531.0",
          "histogram": [
           {
            "bin_start": 0,
            "bin_end": 3853.1,
            "count": 7
           },
           {
            "bin_start": 3853.1,
            "bin_end": 7706.2,
            "count": 0
           },
           {
            "bin_start": 7706.2,
            "bin_end": 11559.3,
            "count": 0
           },
           {
            "bin_start": 11559.3,
            "bin_end": 15412.4,
            "count": 0
           },
           {
            "bin_start": 15412.4,
            "bin_end": 19265.5,
            "count": 0
           },
           {
            "bin_start": 19265.5,
            "bin_end": 23118.6,
            "count": 0
           },
           {
            "bin_start": 23118.6,
            "bin_end": 26971.7,
            "count": 0
           },
           {
            "bin_start": 26971.7,
            "bin_end": 30824.8,
            "count": 0
           },
           {
            "bin_start": 30824.8,
            "bin_end": 34677.9,
            "count": 0
           },
           {
            "bin_start": 34677.9,
            "bin_end": 38531,
            "count": 1
           }
          ]
         }
        },
        {
         "name": "_deepnote_index_column",
         "dtype": "object"
        }
       ],
       "rows_top": [
        {
         "odometer_value": 38531,
         "year_produced": 38531,
         "engine_capacity": 38521,
         "price_usd": 38531,
         "number_of_photos": 38531,
         "up_counter": 38531,
         "duration_listed": 38531,
         "_deepnote_index_column": "count"
        },
        {
         "odometer_value": 248864.6384469648,
         "year_produced": 2002.9437336170874,
         "engine_capacity": 2.055161106928688,
         "price_usd": 6639.971021255613,
         "number_of_photos": 9.649061794399314,
         "up_counter": 16.306091199294073,
         "duration_listed": 80.5772494874257,
         "_deepnote_index_column": "mean"
        },
        {
         "odometer_value": 136072.37652978083,
         "year_produced": 8.065730511309914,
         "engine_capacity": 0.671177667208744,
         "price_usd": 6428.1520182029035,
         "number_of_photos": 6.093216996872852,
         "up_counter": 43.286933094223144,
         "duration_listed": 112.82656864261294,
         "_deepnote_index_column": "std"
        },
        {
         "odometer_value": 0,
         "year_produced": 1942,
         "engine_capacity": 0.2,
         "price_usd": 1,
         "number_of_photos": 1,
         "up_counter": 1,
         "duration_listed": 0,
         "_deepnote_index_column": "min"
        },
        {
         "odometer_value": 158000,
         "year_produced": 1998,
         "engine_capacity": 1.6,
         "price_usd": 2100,
         "number_of_photos": 5,
         "up_counter": 2,
         "duration_listed": 23,
         "_deepnote_index_column": "25%"
        },
        {
         "odometer_value": 250000,
         "year_produced": 2003,
         "engine_capacity": 2,
         "price_usd": 4800,
         "number_of_photos": 8,
         "up_counter": 5,
         "duration_listed": 59,
         "_deepnote_index_column": "50%"
        },
        {
         "odometer_value": 325000,
         "year_produced": 2009,
         "engine_capacity": 2.3,
         "price_usd": 8990,
         "number_of_photos": 12,
         "up_counter": 16,
         "duration_listed": 91,
         "_deepnote_index_column": "75%"
        },
        {
         "odometer_value": 1000000,
         "year_produced": 2019,
         "engine_capacity": 8,
         "price_usd": 50000,
         "number_of_photos": 86,
         "up_counter": 1861,
         "duration_listed": 2232,
         "_deepnote_index_column": "max"
        }
       ],
       "rows_bottom": null
      },
      "text/plain": "       odometer_value  year_produced  engine_capacity     price_usd  \\\ncount    38531.000000   38531.000000     38521.000000  38531.000000   \nmean    248864.638447    2002.943734         2.055161   6639.971021   \nstd     136072.376530       8.065731         0.671178   6428.152018   \nmin          0.000000    1942.000000         0.200000      1.000000   \n25%     158000.000000    1998.000000         1.600000   2100.000000   \n50%     250000.000000    2003.000000         2.000000   4800.000000   \n75%     325000.000000    2009.000000         2.300000   8990.000000   \nmax    1000000.000000    2019.000000         8.000000  50000.000000   \n\n       number_of_photos    up_counter  duration_listed  \ncount      38531.000000  38531.000000     38531.000000  \nmean           9.649062     16.306091        80.577249  \nstd            6.093217     43.286933       112.826569  \nmin            1.000000      1.000000         0.000000  \n25%            5.000000      2.000000        23.000000  \n50%            8.000000      5.000000        59.000000  \n75%           12.000000     16.000000        91.000000  \nmax           86.000000   1861.000000      2232.000000  ",
      "text/html": "<div>\n<style scoped>\n    .dataframe tbody tr th:only-of-type {\n        vertical-align: middle;\n    }\n\n    .dataframe tbody tr th {\n        vertical-align: top;\n    }\n\n    .dataframe thead th {\n        text-align: right;\n    }\n</style>\n<table border=\"1\" class=\"dataframe\">\n  <thead>\n    <tr style=\"text-align: right;\">\n      <th></th>\n      <th>odometer_value</th>\n      <th>year_produced</th>\n      <th>engine_capacity</th>\n      <th>price_usd</th>\n      <th>number_of_photos</th>\n      <th>up_counter</th>\n      <th>duration_listed</th>\n    </tr>\n  </thead>\n  <tbody>\n    <tr>\n      <th>count</th>\n      <td>38531.000000</td>\n      <td>38531.000000</td>\n      <td>38521.000000</td>\n      <td>38531.000000</td>\n      <td>38531.000000</td>\n      <td>38531.000000</td>\n      <td>38531.000000</td>\n    </tr>\n    <tr>\n      <th>mean</th>\n      <td>248864.638447</td>\n      <td>2002.943734</td>\n      <td>2.055161</td>\n      <td>6639.971021</td>\n      <td>9.649062</td>\n      <td>16.306091</td>\n      <td>80.577249</td>\n    </tr>\n    <tr>\n      <th>std</th>\n      <td>136072.376530</td>\n      <td>8.065731</td>\n      <td>0.671178</td>\n      <td>6428.152018</td>\n      <td>6.093217</td>\n      <td>43.286933</td>\n      <td>112.826569</td>\n    </tr>\n    <tr>\n      <th>min</th>\n      <td>0.000000</td>\n      <td>1942.000000</td>\n      <td>0.200000</td>\n      <td>1.000000</td>\n      <td>1.000000</td>\n      <td>1.000000</td>\n      <td>0.000000</td>\n    </tr>\n    <tr>\n      <th>25%</th>\n      <td>158000.000000</td>\n      <td>1998.000000</td>\n      <td>1.600000</td>\n      <td>2100.000000</td>\n      <td>5.000000</td>\n      <td>2.000000</td>\n      <td>23.000000</td>\n    </tr>\n    <tr>\n      <th>50%</th>\n      <td>250000.000000</td>\n      <td>2003.000000</td>\n      <td>2.000000</td>\n      <td>4800.000000</td>\n      <td>8.000000</td>\n      <td>5.000000</td>\n      <td>59.000000</td>\n    </tr>\n    <tr>\n      <th>75%</th>\n      <td>325000.000000</td>\n      <td>2009.000000</td>\n      <td>2.300000</td>\n      <td>8990.000000</td>\n      <td>12.000000</td>\n      <td>16.000000</td>\n      <td>91.000000</td>\n    </tr>\n    <tr>\n      <th>max</th>\n      <td>1000000.000000</td>\n      <td>2019.000000</td>\n      <td>8.000000</td>\n      <td>50000.000000</td>\n      <td>86.000000</td>\n      <td>1861.000000</td>\n      <td>2232.000000</td>\n    </tr>\n  </tbody>\n</table>\n</div>"
     },
     "metadata": {}
    }
   ]
  },
  {
   "cell_type": "markdown",
   "source": "## Tipos de estadísticos descriptivos.\n\n#### $dataset = \\{x_1, x_2, ..., x_n\\}$\n\n### Medidas de tendencia central.\n\nLas medidas de tendencia central son una manera de resumir información.\n\n#### Media (promedio)\n\nEs susceptible a valores atípicos.\n\n#### $media = \\bar{x} = {{x_1 + x_2 + ... + x_n}\\over{n}}$\n\n#### $\\bar{x} = {1\\over{N}} \\sum_{i=1}^{n}x_i$\n\n#### Mediana (dato central)\n\n#### $ median(x) = \\begin{cases} x_{{n+1}\\over{2}}, \\;\\;\\;\\;\\;\\;\\;\\;\\;\\;\\;\\;\\;\\;\\; \\text{n odd} \\\\ {1\\over{2}}(x_{n\\over{2}} + x_{{n\\over{2}}+1}), \\; \\text{n even} \\end{cases} $\n\n#### Moda (dato que más se repite)\n\nNo aplica para datos numéricos continuos.\n\n#### $ moda = x_k \\;\\text{donde}\\; freq(x_k) = max(freq(x_i)) $",
   "metadata": {
    "tags": [],
    "cell_id": "00004-a2b11406-8501-42c6-b2f4-85407a7e1f87",
    "deepnote_app_coordinates": {
     "x": 0,
     "y": 24,
     "w": 12,
     "h": 5
    },
    "deepnote_cell_type": "markdown"
   }
  },
  {
   "cell_type": "code",
   "metadata": {
    "tags": [],
    "cell_id": "00005-691013d1-c339-4c2a-867a-a55b1151a0c6",
    "deepnote_to_be_reexecuted": false,
    "source_hash": "21f7df1b",
    "execution_start": 1633195208162,
    "execution_millis": 11,
    "deepnote_app_coordinates": {
     "x": 0,
     "y": 30,
     "w": 12,
     "h": 5
    },
    "deepnote_cell_type": "code"
   },
   "source": "# Media del precio en USD\n\nprice_mean = data['price_usd'].mean()\n\nprint(f'Media del precio USD {price_mean}')",
   "execution_count": 4,
   "outputs": [
    {
     "name": "stdout",
     "text": "Media del precio USD 6639.971021255613\n",
     "output_type": "stream"
    }
   ]
  },
  {
   "cell_type": "code",
   "metadata": {
    "tags": [],
    "cell_id": "00006-bd26817a-ac26-4ed5-87a9-091da39c18f5",
    "deepnote_to_be_reexecuted": false,
    "source_hash": "7698d704",
    "execution_start": 1633195208172,
    "execution_millis": 15,
    "deepnote_app_coordinates": {
     "x": 0,
     "y": 36,
     "w": 12,
     "h": 5
    },
    "deepnote_cell_type": "code"
   },
   "source": "# Mediana del precio en USD\n\nprice_median = data['price_usd'].median()\n\nprint(f'Mediana del precio USD {price_median}')",
   "execution_count": 5,
   "outputs": [
    {
     "name": "stdout",
     "text": "Mediana del precio USD 4800.0\n",
     "output_type": "stream"
    }
   ]
  },
  {
   "cell_type": "markdown",
   "source": "La diferencia que existe entre el valor de la media y la mediana nos indica que existe sesgo en los datos (valores atípicos). Al la media ser mucho mayor que la mediana nos está diciendo que existen autos que tienen un precio muy elevado comparado con el resto.",
   "metadata": {
    "tags": [],
    "cell_id": "00007-3d001b5c-75da-471b-bae7-714a961eb156",
    "deepnote_app_coordinates": {
     "x": 0,
     "y": 42,
     "w": 12,
     "h": 5
    },
    "deepnote_cell_type": "markdown"
   }
  },
  {
   "cell_type": "code",
   "metadata": {
    "tags": [],
    "cell_id": "00008-b2073285-8b84-482e-9f75-b96b387e202e",
    "deepnote_to_be_reexecuted": false,
    "source_hash": "d9ad900f",
    "execution_start": 1633195208185,
    "execution_millis": 1538,
    "deepnote_app_coordinates": {
     "x": 0,
     "y": 54,
     "w": 12,
     "h": 5
    },
    "deepnote_cell_type": "code"
   },
   "source": "import matplotlib.pyplot as plt\nimport seaborn as sns\n\nplt.rcParamsDefault['figure.figsize']",
   "execution_count": 6,
   "outputs": [
    {
     "output_type": "execute_result",
     "execution_count": 6,
     "data": {
      "text/plain": "[6.4, 4.8]"
     },
     "metadata": {}
    }
   ]
  },
  {
   "cell_type": "code",
   "metadata": {
    "tags": [],
    "cell_id": "00009-3d20aeca-c498-4354-a5c3-da4f4809ac57",
    "deepnote_to_be_reexecuted": false,
    "source_hash": "77c48d35",
    "execution_start": 1633195209725,
    "execution_millis": 6,
    "deepnote_app_coordinates": {
     "x": 0,
     "y": 60,
     "w": 12,
     "h": 5
    },
    "deepnote_cell_type": "code"
   },
   "source": "# Modificar estilos para los gráficos\nscale_x = 2\nscale_y = 1.5\nfigsize = (6.4*scale_x, 4.8*scale_y)\nplt.rcParams['figure.figsize'] = figsize\nsns.set(rc={'figure.figsize': figsize})\nplt.style.use('seaborn-darkgrid')",
   "execution_count": 7,
   "outputs": []
  },
  {
   "cell_type": "code",
   "metadata": {
    "tags": [],
    "cell_id": "00008-896cb9c9-47ef-4431-ab44-9f8184e8bcd5",
    "deepnote_to_be_reexecuted": false,
    "source_hash": "f4c1bb00",
    "execution_start": 1633195209738,
    "execution_millis": 567,
    "deepnote_app_coordinates": {
     "x": 0,
     "y": 48,
     "w": 12,
     "h": 5
    },
    "deepnote_cell_type": "code"
   },
   "source": "# Mostrar histograma de precios con 20 bins \n\ndata['price_usd'].plot.hist(bins=20)\n\nplt.title('Histograma de precio USD')\nplt.xlabel('Precio en USD')\nplt.ylabel('Frecuencia')\nplt.show()",
   "execution_count": 8,
   "outputs": [
    {
     "data": {
      "text/plain": "<Figure size 921.6x518.4 with 1 Axes>",
      "image/png": "[encoded data removed]"
     },
     "metadata": {
      "image/png": {
       "width": 784,
       "height": 452
      }
     },
     "output_type": "display_data"
    }
   ]
  },
  {
   "cell_type": "markdown",
   "source": "Resulta más interesante analizar los precios por marcas.",
   "metadata": {
    "tags": [],
    "cell_id": "00011-b9f249f3-25d6-4e12-acc5-5b706fcd619c",
    "deepnote_app_coordinates": {
     "x": 0,
     "y": 66,
     "w": 12,
     "h": 5
    },
    "deepnote_cell_type": "markdown"
   }
  },
  {
   "cell_type": "code",
   "metadata": {
    "tags": [],
    "cell_id": "00012-934a8dca-5eee-49a1-9e44-faa013d71ebe",
    "deepnote_to_be_reexecuted": false,
    "source_hash": "183c5adf",
    "execution_start": 1633195210334,
    "execution_millis": 28558,
    "deepnote_app_coordinates": {
     "x": 0,
     "y": 72,
     "w": 12,
     "h": 5
    },
    "deepnote_cell_type": "code"
   },
   "source": "sns.histplot(data=data, x='price_usd', hue='manufacturer_name')\n\nplt.show()",
   "execution_count": 9,
   "outputs": [
    {
     "data": {
      "text/plain": "<Figure size 921.6x518.4 with 1 Axes>",
      "image/png": "[encoded data removed]"
     },
     "metadata": {
      "image/png": {
       "width": 770,
       "height": 924
      }
     },
     "output_type": "display_data"
    }
   ]
  },
  {
   "cell_type": "markdown",
   "source": "El gráfico obtenido está muy sobrecargado y no nos aporta información útil.",
   "metadata": {
    "tags": [],
    "cell_id": "00013-4070ef4a-bcb3-4af1-8243-a9a820a2e55d",
    "deepnote_app_coordinates": {
     "x": 0,
     "y": 78,
     "w": 12,
     "h": 5
    },
    "deepnote_cell_type": "markdown"
   }
  },
  {
   "cell_type": "code",
   "metadata": {
    "tags": [],
    "cell_id": "00014-06cbae7b-139d-4424-a4c3-e103466e27a8",
    "deepnote_to_be_reexecuted": false,
    "source_hash": "a6397e17",
    "execution_start": 1633195238876,
    "execution_millis": 1911,
    "deepnote_app_coordinates": {
     "x": 0,
     "y": 84,
     "w": 12,
     "h": 5
    },
    "deepnote_cell_type": "code"
   },
   "source": "# Mostrar histograma por tipo de motor\n\nsns.histplot(data=data, x='price_usd', hue='engine_type')\n\nplt.show()",
   "execution_count": 10,
   "outputs": [
    {
     "data": {
      "text/plain": "<Figure size 921.6x518.4 with 1 Axes>",
      "image/png": "[encoded data removed]"
     },
     "metadata": {
      "image/png": {
       "width": 777,
       "height": 436
      }
     },
     "output_type": "display_data"
    }
   ]
  },
  {
   "cell_type": "code",
   "metadata": {
    "tags": [],
    "cell_id": "00015-9957f6b6-3f5a-4f81-b591-2868dccac7db",
    "deepnote_to_be_reexecuted": false,
    "source_hash": "e118b2ee",
    "execution_start": 1633195240788,
    "execution_millis": 1743,
    "deepnote_app_coordinates": {
     "x": 0,
     "y": 90,
     "w": 12,
     "h": 5
    },
    "deepnote_cell_type": "code"
   },
   "source": "sns.histplot(data=data, x='price_usd', hue='engine_type', multiple='stack')\n\nplt.show()",
   "execution_count": 11,
   "outputs": [
    {
     "data": {
      "text/plain": "<Figure size 921.6x518.4 with 1 Axes>",
      "image/png": "[encoded data removed]"
     },
     "metadata": {
      "image/png": {
       "width": 777,
       "height": 436
      }
     },
     "output_type": "display_data"
    }
   ]
  },
  {
   "cell_type": "markdown",
   "source": "En el diagrama no se muestran los datos de los autos eléctricos, esto puede ser porque son muy pocos datos en esta categoría.",
   "metadata": {
    "tags": [],
    "cell_id": "00016-fb637df5-dea0-420e-b01d-bf27de542452",
    "deepnote_app_coordinates": {
     "x": 0,
     "y": 102,
     "w": 12,
     "h": 5
    },
    "deepnote_cell_type": "markdown"
   }
  },
  {
   "cell_type": "code",
   "metadata": {
    "tags": [],
    "cell_id": "00016-0213419a-7290-4dcc-8bab-a0cb3792ca4e",
    "deepnote_to_be_reexecuted": false,
    "source_hash": "531bf811",
    "execution_start": 1633195242562,
    "execution_millis": 129,
    "deepnote_app_coordinates": {
     "x": 0,
     "y": 96,
     "w": 12,
     "h": 5
    },
    "deepnote_cell_type": "code"
   },
   "source": "# Agrupar por el tipo de motor y contar los datos\n\ndata.groupby('engine_type').count()",
   "execution_count": 12,
   "outputs": [
    {
     "output_type": "execute_result",
     "execution_count": 12,
     "data": {
      "application/vnd.deepnote.dataframe.v2+json": {
       "row_count": 3,
       "column_count": 29,
       "columns": [
        {
         "name": "manufacturer_name",
         "dtype": "int64",
         "stats": {
          "unique_count": 3,
          "nan_count": 0,
          "min": "10",
          "max": "25647",
          "histogram": [
           {
            "bin_start": 10,
            "bin_end": 2573.7,
            "count": 1
           },
           {
            "bin_start": 2573.7,
            "bin_end": 5137.4,
            "count": 0
           },
           {
            "bin_start": 5137.4,
            "bin_end": 7701.099999999999,
            "count": 0
           },
           {
            "bin_start": 7701.099999999999,
            "bin_end": 10264.8,
            "count": 0
           },
           {
            "bin_start": 10264.8,
            "bin_end": 12828.5,
            "count": 0
           },
           {
            "bin_start": 12828.5,
            "bin_end": 15392.199999999999,
            "count": 1
           },
           {
            "bin_start": 15392.199999999999,
            "bin_end": 17955.899999999998,
            "count": 0
           },
           {
            "bin_start": 17955.899999999998,
            "bin_end": 20519.6,
            "count": 0
           },
           {
            "bin_start": 20519.6,
            "bin_end": 23083.3,
            "count": 0
           },
           {
            "bin_start": 23083.3,
            "bin_end": 25647,
            "count": 1
           }
          ]
         }
        },
        {
         "name": "model_name",
         "dtype": "int64",
         "stats": {
          "unique_count": 3,
          "nan_count": 0,
          "min": "10",
          "max": "25647",
          "histogram": [
           {
            "bin_start": 10,
            "bin_end": 2573.7,
            "count": 1
           },
           {
            "bin_start": 2573.7,
            "bin_end": 5137.4,
            "count": 0
           },
           {
            "bin_start": 5137.4,
            "bin_end": 7701.099999999999,
            "count": 0
           },
           {
            "bin_start": 7701.099999999999,
            "bin_end": 10264.8,
            "count": 0
           },
           {
            "bin_start": 10264.8,
            "bin_end": 12828.5,
            "count": 0
           },
           {
            "bin_start": 12828.5,
            "bin_end": 15392.199999999999,
            "count": 1
           },
           {
            "bin_start": 15392.199999999999,
            "bin_end": 17955.899999999998,
            "count": 0
           },
           {
            "bin_start": 17955.899999999998,
            "bin_end": 20519.6,
            "count": 0
           },
           {
            "bin_start": 20519.6,
            "bin_end": 23083.3,
            "count": 0
           },
           {
            "bin_start": 23083.3,
            "bin_end": 25647,
            "count": 1
           }
          ]
         }
        },
        {
         "name": "transmission",
         "dtype": "int64",
         "stats": {
          "unique_count": 3,
          "nan_count": 0,
          "min": "10",
          "max": "25647",
          "histogram": [
           {
            "bin_start": 10,
            "bin_end": 2573.7,
            "count": 1
           },
           {
            "bin_start": 2573.7,
            "bin_end": 5137.4,
            "count": 0
           },
           {
            "bin_start": 5137.4,
            "bin_end": 7701.099999999999,
            "count": 0
           },
           {
            "bin_start": 7701.099999999999,
            "bin_end": 10264.8,
            "count": 0
           },
           {
            "bin_start": 10264.8,
            "bin_end": 12828.5,
            "count": 0
           },
           {
            "bin_start": 12828.5,
            "bin_end": 15392.199999999999,
            "count": 1
           },
           {
            "bin_start": 15392.199999999999,
            "bin_end": 17955.899999999998,
            "count": 0
           },
           {
            "bin_start": 17955.899999999998,
            "bin_end": 20519.6,
            "count": 0
           },
           {
            "bin_start": 20519.6,
            "bin_end": 23083.3,
            "count": 0
           },
           {
            "bin_start": 23083.3,
            "bin_end": 25647,
            "count": 1
           }
          ]
         }
        },
        {
         "name": "color",
         "dtype": "int64",
         "stats": {
          "unique_count": 3,
          "nan_count": 0,
          "min": "10",
          "max": "25647",
          "histogram": [
           {
            "bin_start": 10,
            "bin_end": 2573.7,
            "count": 1
           },
           {
            "bin_start": 2573.7,
            "bin_end": 5137.4,
            "count": 0
           },
           {
            "bin_start": 5137.4,
            "bin_end": 7701.099999999999,
            "count": 0
           },
           {
            "bin_start": 7701.099999999999,
            "bin_end": 10264.8,
            "count": 0
           },
           {
            "bin_start": 10264.8,
            "bin_end": 12828.5,
            "count": 0
           },
           {
            "bin_start": 12828.5,
            "bin_end": 15392.199999999999,
            "count": 1
           },
           {
            "bin_start": 15392.199999999999,
            "bin_end": 17955.899999999998,
            "count": 0
           },
           {
            "bin_start": 17955.899999999998,
            "bin_end": 20519.6,
            "count": 0
           },
           {
            "bin_start": 20519.6,
            "bin_end": 23083.3,
            "count": 0
           },
           {
            "bin_start": 23083.3,
            "bin_end": 25647,
            "count": 1
           }
          ]
         }
        },
        {
         "name": "odometer_value",
         "dtype": "int64",
         "stats": {
          "unique_count": 3,
          "nan_count": 0,
          "min": "10",
          "max": "25647",
          "histogram": [
           {
            "bin_start": 10,
            "bin_end": 2573.7,
            "count": 1
           },
           {
            "bin_start": 2573.7,
            "bin_end": 5137.4,
            "count": 0
           },
           {
            "bin_start": 5137.4,
            "bin_end": 7701.099999999999,
            "count": 0
           },
           {
            "bin_start": 7701.099999999999,
            "bin_end": 10264.8,
            "count": 0
           },
           {
            "bin_start": 10264.8,
            "bin_end": 12828.5,
            "count": 0
           },
           {
            "bin_start": 12828.5,
            "bin_end": 15392.199999999999,
            "count": 1
           },
           {
            "bin_start": 15392.199999999999,
            "bin_end": 17955.899999999998,
            "count": 0
           },
           {
            "bin_start": 17955.899999999998,
            "bin_end": 20519.6,
            "count": 0
           },
           {
            "bin_start": 20519.6,
            "bin_end": 23083.3,
            "count": 0
           },
           {
            "bin_start": 23083.3,
            "bin_end": 25647,
            "count": 1
           }
          ]
         }
        },
        {
         "name": "year_produced",
         "dtype": "int64",
         "stats": {
          "unique_count": 3,
          "nan_count": 0,
          "min": "10",
          "max": "25647",
          "histogram": [
           {
            "bin_start": 10,
            "bin_end": 2573.7,
            "count": 1
           },
           {
            "bin_start": 2573.7,
            "bin_end": 5137.4,
            "count": 0
           },
           {
            "bin_start": 5137.4,
            "bin_end": 7701.099999999999,
            "count": 0
           },
           {
            "bin_start": 7701.099999999999,
            "bin_end": 10264.8,
            "count": 0
           },
           {
            "bin_start": 10264.8,
            "bin_end": 12828.5,
            "count": 0
           },
           {
            "bin_start": 12828.5,
            "bin_end": 15392.199999999999,
            "count": 1
           },
           {
            "bin_start": 15392.199999999999,
            "bin_end": 17955.899999999998,
            "count": 0
           },
           {
            "bin_start": 17955.899999999998,
            "bin_end": 20519.6,
            "count": 0
           },
           {
            "bin_start": 20519.6,
            "bin_end": 23083.3,
            "count": 0
           },
           {
            "bin_start": 23083.3,
            "bin_end": 25647,
            "count": 1
           }
          ]
         }
        },
        {
         "name": "engine_fuel",
         "dtype": "int64",
         "stats": {
          "unique_count": 3,
          "nan_count": 0,
          "min": "10",
          "max": "25647",
          "histogram": [
           {
            "bin_start": 10,
            "bin_end": 2573.7,
            "count": 1
           },
           {
            "bin_start": 2573.7,
            "bin_end": 5137.4,
            "count": 0
           },
           {
            "bin_start": 5137.4,
            "bin_end": 7701.099999999999,
            "count": 0
           },
           {
            "bin_start": 7701.099999999999,
            "bin_end": 10264.8,
            "count": 0
           },
           {
            "bin_start": 10264.8,
            "bin_end": 12828.5,
            "count": 0
           },
           {
            "bin_start": 12828.5,
            "bin_end": 15392.199999999999,
            "count": 1
           },
           {
            "bin_start": 15392.199999999999,
            "bin_end": 17955.899999999998,
            "count": 0
           },
           {
            "bin_start": 17955.899999999998,
            "bin_end": 20519.6,
            "count": 0
           },
           {
            "bin_start": 20519.6,
            "bin_end": 23083.3,
            "count": 0
           },
           {
            "bin_start": 23083.3,
            "bin_end": 25647,
            "count": 1
           }
          ]
         }
        },
        {
         "name": "engine_has_gas",
         "dtype": "int64",
         "stats": {
          "unique_count": 3,
          "nan_count": 0,
          "min": "10",
          "max": "25647",
          "histogram": [
           {
            "bin_start": 10,
            "bin_end": 2573.7,
            "count": 1
           },
           {
            "bin_start": 2573.7,
            "bin_end": 5137.4,
            "count": 0
           },
           {
            "bin_start": 5137.4,
            "bin_end": 7701.099999999999,
            "count": 0
           },
           {
            "bin_start": 7701.099999999999,
            "bin_end": 10264.8,
            "count": 0
           },
           {
            "bin_start": 10264.8,
            "bin_end": 12828.5,
            "count": 0
           },
           {
            "bin_start": 12828.5,
            "bin_end": 15392.199999999999,
            "count": 1
           },
           {
            "bin_start": 15392.199999999999,
            "bin_end": 17955.899999999998,
            "count": 0
           },
           {
            "bin_start": 17955.899999999998,
            "bin_end": 20519.6,
            "count": 0
           },
           {
            "bin_start": 20519.6,
            "bin_end": 23083.3,
            "count": 0
           },
           {
            "bin_start": 23083.3,
            "bin_end": 25647,
            "count": 1
           }
          ]
         }
        },
        {
         "name": "engine_capacity",
         "dtype": "int64",
         "stats": {
          "unique_count": 3,
          "nan_count": 0,
          "min": "0",
          "max": "25647",
          "histogram": [
           {
            "bin_start": 0,
            "bin_end": 2564.7,
            "count": 1
           },
           {
            "bin_start": 2564.7,
            "bin_end": 5129.4,
            "count": 0
           },
           {
            "bin_start": 5129.4,
            "bin_end": 7694.099999999999,
            "count": 0
           },
           {
            "bin_start": 7694.099999999999,
            "bin_end": 10258.8,
            "count": 0
           },
           {
            "bin_start": 10258.8,
            "bin_end": 12823.5,
            "count": 0
           },
           {
            "bin_start": 12823.5,
            "bin_end": 15388.199999999999,
            "count": 1
           },
           {
            "bin_start": 15388.199999999999,
            "bin_end": 17952.899999999998,
            "count": 0
           },
           {
            "bin_start": 17952.899999999998,
            "bin_end": 20517.6,
            "count": 0
           },
           {
            "bin_start": 20517.6,
            "bin_end": 23082.3,
            "count": 0
           },
           {
            "bin_start": 23082.3,
            "bin_end": 25647,
            "count": 1
           }
          ]
         }
        },
        {
         "name": "body_type",
         "dtype": "int64",
         "stats": {
          "unique_count": 3,
          "nan_count": 0,
          "min": "10",
          "max": "25647",
          "histogram": [
           {
            "bin_start": 10,
            "bin_end": 2573.7,
            "count": 1
           },
           {
            "bin_start": 2573.7,
            "bin_end": 5137.4,
            "count": 0
           },
           {
            "bin_start": 5137.4,
            "bin_end": 7701.099999999999,
            "count": 0
           },
           {
            "bin_start": 7701.099999999999,
            "bin_end": 10264.8,
            "count": 0
           },
           {
            "bin_start": 10264.8,
            "bin_end": 12828.5,
            "count": 0
           },
           {
            "bin_start": 12828.5,
            "bin_end": 15392.199999999999,
            "count": 1
           },
           {
            "bin_start": 15392.199999999999,
            "bin_end": 17955.899999999998,
            "count": 0
           },
           {
            "bin_start": 17955.899999999998,
            "bin_end": 20519.6,
            "count": 0
           },
           {
            "bin_start": 20519.6,
            "bin_end": 23083.3,
            "count": 0
           },
           {
            "bin_start": 23083.3,
            "bin_end": 25647,
            "count": 1
           }
          ]
         }
        },
        {
         "name": "has_warranty",
         "dtype": "int64",
         "stats": {
          "unique_count": 3,
          "nan_count": 0,
          "min": "10",
          "max": "25647",
          "histogram": [
           {
            "bin_start": 10,
            "bin_end": 2573.7,
            "count": 1
           },
           {
            "bin_start": 2573.7,
            "bin_end": 5137.4,
            "count": 0
           },
           {
            "bin_start": 5137.4,
            "bin_end": 7701.099999999999,
            "count": 0
           },
           {
            "bin_start": 7701.099999999999,
            "bin_end": 10264.8,
            "count": 0
           },
           {
            "bin_start": 10264.8,
            "bin_end": 12828.5,
            "count": 0
           },
           {
            "bin_start": 12828.5,
            "bin_end": 15392.199999999999,
            "count": 1
           },
           {
            "bin_start": 15392.199999999999,
            "bin_end": 17955.899999999998,
            "count": 0
           },
           {
            "bin_start": 17955.899999999998,
            "bin_end": 20519.6,
            "count": 0
           },
           {
            "bin_start": 20519.6,
            "bin_end": 23083.3,
            "count": 0
           },
           {
            "bin_start": 23083.3,
            "bin_end": 25647,
            "count": 1
           }
          ]
         }
        },
        {
         "name": "state",
         "dtype": "int64",
         "stats": {
          "unique_count": 3,
          "nan_count": 0,
          "min": "10",
          "max": "25647",
          "histogram": [
           {
            "bin_start": 10,
            "bin_end": 2573.7,
            "count": 1
           },
           {
            "bin_start": 2573.7,
            "bin_end": 5137.4,
            "count": 0
           },
           {
            "bin_start": 5137.4,
            "bin_end": 7701.099999999999,
            "count": 0
           },
           {
            "bin_start": 7701.099999999999,
            "bin_end": 10264.8,
            "count": 0
           },
           {
            "bin_start": 10264.8,
            "bin_end": 12828.5,
            "count": 0
           },
           {
            "bin_start": 12828.5,
            "bin_end": 15392.199999999999,
            "count": 1
           },
           {
            "bin_start": 15392.199999999999,
            "bin_end": 17955.899999999998,
            "count": 0
           },
           {
            "bin_start": 17955.899999999998,
            "bin_end": 20519.6,
            "count": 0
           },
           {
            "bin_start": 20519.6,
            "bin_end": 23083.3,
            "count": 0
           },
           {
            "bin_start": 23083.3,
            "bin_end": 25647,
            "count": 1
           }
          ]
         }
        },
        {
         "name": "drivetrain",
         "dtype": "int64",
         "stats": {
          "unique_count": 3,
          "nan_count": 0,
          "min": "10",
          "max": "25647",
          "histogram": [
           {
            "bin_start": 10,
            "bin_end": 2573.7,
            "count": 1
           },
           {
            "bin_start": 2573.7,
            "bin_end": 5137.4,
            "count": 0
           },
           {
            "bin_start": 5137.4,
            "bin_end": 7701.099999999999,
            "count": 0
           },
           {
            "bin_start": 7701.099999999999,
            "bin_end": 10264.8,
            "count": 0
           },
           {
            "bin_start": 10264.8,
            "bin_end": 12828.5,
            "count": 0
           },
           {
            "bin_start": 12828.5,
            "bin_end": 15392.199999999999,
            "count": 1
           },
           {
            "bin_start": 15392.199999999999,
            "bin_end": 17955.899999999998,
            "count": 0
           },
           {
            "bin_start": 17955.899999999998,
            "bin_end": 20519.6,
            "count": 0
           },
           {
            "bin_start": 20519.6,
            "bin_end": 23083.3,
            "count": 0
           },
           {
            "bin_start": 23083.3,
            "bin_end": 25647,
            "count": 1
           }
          ]
         }
        },
        {
         "name": "price_usd",
         "dtype": "int64",
         "stats": {
          "unique_count": 3,
          "nan_count": 0,
          "min": "10",
          "max": "25647",
          "histogram": [
           {
            "bin_start": 10,
            "bin_end": 2573.7,
            "count": 1
           },
           {
            "bin_start": 2573.7,
            "bin_end": 5137.4,
            "count": 0
           },
           {
            "bin_start": 5137.4,
            "bin_end": 7701.099999999999,
            "count": 0
           },
           {
            "bin_start": 7701.099999999999,
            "bin_end": 10264.8,
            "count": 0
           },
           {
            "bin_start": 10264.8,
            "bin_end": 12828.5,
            "count": 0
           },
           {
            "bin_start": 12828.5,
            "bin_end": 15392.199999999999,
            "count": 1
           },
           {
            "bin_start": 15392.199999999999,
            "bin_end": 17955.899999999998,
            "count": 0
           },
           {
            "bin_start": 17955.899999999998,
            "bin_end": 20519.6,
            "count": 0
           },
           {
            "bin_start": 20519.6,
            "bin_end": 23083.3,
            "count": 0
           },
           {
            "bin_start": 23083.3,
            "bin_end": 25647,
            "count": 1
           }
          ]
         }
        },
        {
         "name": "is_exchangeable",
         "dtype": "int64",
         "stats": {
          "unique_count": 3,
          "nan_count": 0,
          "min": "10",
          "max": "25647",
          "histogram": [
           {
            "bin_start": 10,
            "bin_end": 2573.7,
            "count": 1
           },
           {
            "bin_start": 2573.7,
            "bin_end": 5137.4,
            "count": 0
           },
           {
            "bin_start": 5137.4,
            "bin_end": 7701.099999999999,
            "count": 0
           },
           {
            "bin_start": 7701.099999999999,
            "bin_end": 10264.8,
            "count": 0
           },
           {
            "bin_start": 10264.8,
            "bin_end": 12828.5,
            "count": 0
           },
           {
            "bin_start": 12828.5,
            "bin_end": 15392.199999999999,
            "count": 1
           },
           {
            "bin_start": 15392.199999999999,
            "bin_end": 17955.899999999998,
            "count": 0
           },
           {
            "bin_start": 17955.899999999998,
            "bin_end": 20519.6,
            "count": 0
           },
           {
            "bin_start": 20519.6,
            "bin_end": 23083.3,
            "count": 0
           },
           {
            "bin_start": 23083.3,
            "bin_end": 25647,
            "count": 1
           }
          ]
         }
        },
        {
         "name": "location_region",
         "dtype": "int64",
         "stats": {
          "unique_count": 3,
          "nan_count": 0,
          "min": "10",
          "max": "25647",
          "histogram": [
           {
            "bin_start": 10,
            "bin_end": 2573.7,
            "count": 1
           },
           {
            "bin_start": 2573.7,
            "bin_end": 5137.4,
            "count": 0
           },
           {
            "bin_start": 5137.4,
            "bin_end": 7701.099999999999,
            "count": 0
           },
           {
            "bin_start": 7701.099999999999,
            "bin_end": 10264.8,
            "count": 0
           },
           {
            "bin_start": 10264.8,
            "bin_end": 12828.5,
            "count": 0
           },
           {
            "bin_start": 12828.5,
            "bin_end": 15392.199999999999,
            "count": 1
           },
           {
            "bin_start": 15392.199999999999,
            "bin_end": 17955.899999999998,
            "count": 0
           },
           {
            "bin_start": 17955.899999999998,
            "bin_end": 20519.6,
            "count": 0
           },
           {
            "bin_start": 20519.6,
            "bin_end": 23083.3,
            "count": 0
           },
           {
            "bin_start": 23083.3,
            "bin_end": 25647,
            "count": 1
           }
          ]
         }
        },
        {
         "name": "number_of_photos",
         "dtype": "int64",
         "stats": {
          "unique_count": 3,
          "nan_count": 0,
          "min": "10",
          "max": "25647",
          "histogram": [
           {
            "bin_start": 10,
            "bin_end": 2573.7,
            "count": 1
           },
           {
            "bin_start": 2573.7,
            "bin_end": 5137.4,
            "count": 0
           },
           {
            "bin_start": 5137.4,
            "bin_end": 7701.099999999999,
            "count": 0
           },
           {
            "bin_start": 7701.099999999999,
            "bin_end": 10264.8,
            "count": 0
           },
           {
            "bin_start": 10264.8,
            "bin_end": 12828.5,
            "count": 0
           },
           {
            "bin_start": 12828.5,
            "bin_end": 15392.199999999999,
            "count": 1
           },
           {
            "bin_start": 15392.199999999999,
            "bin_end": 17955.899999999998,
            "count": 0
           },
           {
            "bin_start": 17955.899999999998,
            "bin_end": 20519.6,
            "count": 0
           },
           {
            "bin_start": 20519.6,
            "bin_end": 23083.3,
            "count": 0
           },
           {
            "bin_start": 23083.3,
            "bin_end": 25647,
            "count": 1
           }
          ]
         }
        },
        {
         "name": "up_counter",
         "dtype": "int64",
         "stats": {
          "unique_count": 3,
          "nan_count": 0,
          "min": "10",
          "max": "25647",
          "histogram": [
           {
            "bin_start": 10,
            "bin_end": 2573.7,
            "count": 1
           },
           {
            "bin_start": 2573.7,
            "bin_end": 5137.4,
            "count": 0
           },
           {
            "bin_start": 5137.4,
            "bin_end": 7701.099999999999,
            "count": 0
           },
           {
            "bin_start": 7701.099999999999,
            "bin_end": 10264.8,
            "count": 0
           },
           {
            "bin_start": 10264.8,
            "bin_end": 12828.5,
            "count": 0
           },
           {
            "bin_start": 12828.5,
            "bin_end": 15392.199999999999,
            "count": 1
           },
           {
            "bin_start": 15392.199999999999,
            "bin_end": 17955.899999999998,
            "count": 0
           },
           {
            "bin_start": 17955.899999999998,
            "bin_end": 20519.6,
            "count": 0
           },
           {
            "bin_start": 20519.6,
            "bin_end": 23083.3,
            "count": 0
           },
           {
            "bin_start": 23083.3,
            "bin_end": 25647,
            "count": 1
           }
          ]
         }
        },
        {
         "name": "feature_0",
         "dtype": "int64",
         "stats": {
          "unique_count": 3,
          "nan_count": 0,
          "min": "10",
          "max": "25647",
          "histogram": [
           {
            "bin_start": 10,
            "bin_end": 2573.7,
            "count": 1
           },
           {
            "bin_start": 2573.7,
            "bin_end": 5137.4,
            "count": 0
           },
           {
            "bin_start": 5137.4,
            "bin_end": 7701.099999999999,
            "count": 0
           },
           {
            "bin_start": 7701.099999999999,
            "bin_end": 10264.8,
            "count": 0
           },
           {
            "bin_start": 10264.8,
            "bin_end": 12828.5,
            "count": 0
           },
           {
            "bin_start": 12828.5,
            "bin_end": 15392.199999999999,
            "count": 1
           },
           {
            "bin_start": 15392.199999999999,
            "bin_end": 17955.899999999998,
            "count": 0
           },
           {
            "bin_start": 17955.899999999998,
            "bin_end": 20519.6,
            "count": 0
           },
           {
            "bin_start": 20519.6,
            "bin_end": 23083.3,
            "count": 0
           },
           {
            "bin_start": 23083.3,
            "bin_end": 25647,
            "count": 1
           }
          ]
         }
        },
        {
         "name": "feature_1",
         "dtype": "int64",
         "stats": {
          "unique_count": 3,
          "nan_count": 0,
          "min": "10",
          "max": "25647",
          "histogram": [
           {
            "bin_start": 10,
            "bin_end": 2573.7,
            "count": 1
           },
           {
            "bin_start": 2573.7,
            "bin_end": 5137.4,
            "count": 0
           },
           {
            "bin_start": 5137.4,
            "bin_end": 7701.099999999999,
            "count": 0
           },
           {
            "bin_start": 7701.099999999999,
            "bin_end": 10264.8,
            "count": 0
           },
           {
            "bin_start": 10264.8,
            "bin_end": 12828.5,
            "count": 0
           },
           {
            "bin_start": 12828.5,
            "bin_end": 15392.199999999999,
            "count": 1
           },
           {
            "bin_start": 15392.199999999999,
            "bin_end": 17955.899999999998,
            "count": 0
           },
           {
            "bin_start": 17955.899999999998,
            "bin_end": 20519.6,
            "count": 0
           },
           {
            "bin_start": 20519.6,
            "bin_end": 23083.3,
            "count": 0
           },
           {
            "bin_start": 23083.3,
            "bin_end": 25647,
            "count": 1
           }
          ]
         }
        },
        {
         "name": "feature_2",
         "dtype": "int64",
         "stats": {
          "unique_count": 3,
          "nan_count": 0,
          "min": "10",
          "max": "25647",
          "histogram": [
           {
            "bin_start": 10,
            "bin_end": 2573.7,
            "count": 1
           },
           {
            "bin_start": 2573.7,
            "bin_end": 5137.4,
            "count": 0
           },
           {
            "bin_start": 5137.4,
            "bin_end": 7701.099999999999,
            "count": 0
           },
           {
            "bin_start": 7701.099999999999,
            "bin_end": 10264.8,
            "count": 0
           },
           {
            "bin_start": 10264.8,
            "bin_end": 12828.5,
            "count": 0
           },
           {
            "bin_start": 12828.5,
            "bin_end": 15392.199999999999,
            "count": 1
           },
           {
            "bin_start": 15392.199999999999,
            "bin_end": 17955.899999999998,
            "count": 0
           },
           {
            "bin_start": 17955.899999999998,
            "bin_end": 20519.6,
            "count": 0
           },
           {
            "bin_start": 20519.6,
            "bin_end": 23083.3,
            "count": 0
           },
           {
            "bin_start": 23083.3,
            "bin_end": 25647,
            "count": 1
           }
          ]
         }
        },
        {
         "name": "feature_3",
         "dtype": "int64",
         "stats": {
          "unique_count": 3,
          "nan_count": 0,
          "min": "10",
          "max": "25647",
          "histogram": [
           {
            "bin_start": 10,
            "bin_end": 2573.7,
            "count": 1
           },
           {
            "bin_start": 2573.7,
            "bin_end": 5137.4,
            "count": 0
           },
           {
            "bin_start": 5137.4,
            "bin_end": 7701.099999999999,
            "count": 0
           },
           {
            "bin_start": 7701.099999999999,
            "bin_end": 10264.8,
            "count": 0
           },
           {
            "bin_start": 10264.8,
            "bin_end": 12828.5,
            "count": 0
           },
           {
            "bin_start": 12828.5,
            "bin_end": 15392.199999999999,
            "count": 1
           },
           {
            "bin_start": 15392.199999999999,
            "bin_end": 17955.899999999998,
            "count": 0
           },
           {
            "bin_start": 17955.899999999998,
            "bin_end": 20519.6,
            "count": 0
           },
           {
            "bin_start": 20519.6,
            "bin_end": 23083.3,
            "count": 0
           },
           {
            "bin_start": 23083.3,
            "bin_end": 25647,
            "count": 1
           }
          ]
         }
        },
        {
         "name": "feature_4",
         "dtype": "int64",
         "stats": {
          "unique_count": 3,
          "nan_count": 0,
          "min": "10",
          "max": "25647",
          "histogram": [
           {
            "bin_start": 10,
            "bin_end": 2573.7,
            "count": 1
           },
           {
            "bin_start": 2573.7,
            "bin_end": 5137.4,
            "count": 0
           },
           {
            "bin_start": 5137.4,
            "bin_end": 7701.099999999999,
            "count": 0
           },
           {
            "bin_start": 7701.099999999999,
            "bin_end": 10264.8,
            "count": 0
           },
           {
            "bin_start": 10264.8,
            "bin_end": 12828.5,
            "count": 0
           },
           {
            "bin_start": 12828.5,
            "bin_end": 15392.199999999999,
            "count": 1
           },
           {
            "bin_start": 15392.199999999999,
            "bin_end": 17955.899999999998,
            "count": 0
           },
           {
            "bin_start": 17955.899999999998,
            "bin_end": 20519.6,
            "count": 0
           },
           {
            "bin_start": 20519.6,
            "bin_end": 23083.3,
            "count": 0
           },
           {
            "bin_start": 23083.3,
            "bin_end": 25647,
            "count": 1
           }
          ]
         }
        },
        {
         "name": "feature_5",
         "dtype": "int64",
         "stats": {
          "unique_count": 3,
          "nan_count": 0,
          "min": "10",
          "max": "25647",
          "histogram": [
           {
            "bin_start": 10,
            "bin_end": 2573.7,
            "count": 1
           },
           {
            "bin_start": 2573.7,
            "bin_end": 5137.4,
            "count": 0
           },
           {
            "bin_start": 5137.4,
            "bin_end": 7701.099999999999,
            "count": 0
           },
           {
            "bin_start": 7701.099999999999,
            "bin_end": 10264.8,
            "count": 0
           },
           {
            "bin_start": 10264.8,
            "bin_end": 12828.5,
            "count": 0
           },
           {
            "bin_start": 12828.5,
            "bin_end": 15392.199999999999,
            "count": 1
           },
           {
            "bin_start": 15392.199999999999,
            "bin_end": 17955.899999999998,
            "count": 0
           },
           {
            "bin_start": 17955.899999999998,
            "bin_end": 20519.6,
            "count": 0
           },
           {
            "bin_start": 20519.6,
            "bin_end": 23083.3,
            "count": 0
           },
           {
            "bin_start": 23083.3,
            "bin_end": 25647,
            "count": 1
           }
          ]
         }
        },
        {
         "name": "feature_6",
         "dtype": "int64",
         "stats": {
          "unique_count": 3,
          "nan_count": 0,
          "min": "10",
          "max": "25647",
          "histogram": [
           {
            "bin_start": 10,
            "bin_end": 2573.7,
            "count": 1
           },
           {
            "bin_start": 2573.7,
            "bin_end": 5137.4,
            "count": 0
           },
           {
            "bin_start": 5137.4,
            "bin_end": 7701.099999999999,
            "count": 0
           },
           {
            "bin_start": 7701.099999999999,
            "bin_end": 10264.8,
            "count": 0
           },
           {
            "bin_start": 10264.8,
            "bin_end": 12828.5,
            "count": 0
           },
           {
            "bin_start": 12828.5,
            "bin_end": 15392.199999999999,
            "count": 1
           },
           {
            "bin_start": 15392.199999999999,
            "bin_end": 17955.899999999998,
            "count": 0
           },
           {
            "bin_start": 17955.899999999998,
            "bin_end": 20519.6,
            "count": 0
           },
           {
            "bin_start": 20519.6,
            "bin_end": 23083.3,
            "count": 0
           },
           {
            "bin_start": 23083.3,
            "bin_end": 25647,
            "count": 1
           }
          ]
         }
        },
        {
         "name": "feature_7",
         "dtype": "int64",
         "stats": {
          "unique_count": 3,
          "nan_count": 0,
          "min": "10",
          "max": "25647",
          "histogram": [
           {
            "bin_start": 10,
            "bin_end": 2573.7,
            "count": 1
           },
           {
            "bin_start": 2573.7,
            "bin_end": 5137.4,
            "count": 0
           },
           {
            "bin_start": 5137.4,
            "bin_end": 7701.099999999999,
            "count": 0
           },
           {
            "bin_start": 7701.099999999999,
            "bin_end": 10264.8,
            "count": 0
           },
           {
            "bin_start": 10264.8,
            "bin_end": 12828.5,
            "count": 0
           },
           {
            "bin_start": 12828.5,
            "bin_end": 15392.199999999999,
            "count": 1
           },
           {
            "bin_start": 15392.199999999999,
            "bin_end": 17955.899999999998,
            "count": 0
           },
           {
            "bin_start": 17955.899999999998,
            "bin_end": 20519.6,
            "count": 0
           },
           {
            "bin_start": 20519.6,
            "bin_end": 23083.3,
            "count": 0
           },
           {
            "bin_start": 23083.3,
            "bin_end": 25647,
            "count": 1
           }
          ]
         }
        },
        {
         "name": "feature_8",
         "dtype": "int64",
         "stats": {
          "unique_count": 3,
          "nan_count": 0,
          "min": "10",
          "max": "25647",
          "histogram": [
           {
            "bin_start": 10,
            "bin_end": 2573.7,
            "count": 1
           },
           {
            "bin_start": 2573.7,
            "bin_end": 5137.4,
            "count": 0
           },
           {
            "bin_start": 5137.4,
            "bin_end": 7701.099999999999,
            "count": 0
           },
           {
            "bin_start": 7701.099999999999,
            "bin_end": 10264.8,
            "count": 0
           },
           {
            "bin_start": 10264.8,
            "bin_end": 12828.5,
            "count": 0
           },
           {
            "bin_start": 12828.5,
            "bin_end": 15392.199999999999,
            "count": 1
           },
           {
            "bin_start": 15392.199999999999,
            "bin_end": 17955.899999999998,
            "count": 0
           },
           {
            "bin_start": 17955.899999999998,
            "bin_end": 20519.6,
            "count": 0
           },
           {
            "bin_start": 20519.6,
            "bin_end": 23083.3,
            "count": 0
           },
           {
            "bin_start": 23083.3,
            "bin_end": 25647,
            "count": 1
           }
          ]
         }
        },
        {
         "name": "feature_9",
         "dtype": "int64",
         "stats": {
          "unique_count": 3,
          "nan_count": 0,
          "min": "10",
          "max": "25647",
          "histogram": [
           {
            "bin_start": 10,
            "bin_end": 2573.7,
            "count": 1
           },
           {
            "bin_start": 2573.7,
            "bin_end": 5137.4,
            "count": 0
           },
           {
            "bin_start": 5137.4,
            "bin_end": 7701.099999999999,
            "count": 0
           },
           {
            "bin_start": 7701.099999999999,
            "bin_end": 10264.8,
            "count": 0
           },
           {
            "bin_start": 10264.8,
            "bin_end": 12828.5,
            "count": 0
           },
           {
            "bin_start": 12828.5,
            "bin_end": 15392.199999999999,
            "count": 1
           },
           {
            "bin_start": 15392.199999999999,
            "bin_end": 17955.899999999998,
            "count": 0
           },
           {
            "bin_start": 17955.899999999998,
            "bin_end": 20519.6,
            "count": 0
           },
           {
            "bin_start": 20519.6,
            "bin_end": 23083.3,
            "count": 0
           },
           {
            "bin_start": 23083.3,
            "bin_end": 25647,
            "count": 1
           }
          ]
         }
        },
        {
         "name": "duration_listed",
         "dtype": "int64",
         "stats": {
          "unique_count": 3,
          "nan_count": 0,
          "min": "10",
          "max": "25647",
          "histogram": [
           {
            "bin_start": 10,
            "bin_end": 2573.7,
            "count": 1
           },
           {
            "bin_start": 2573.7,
            "bin_end": 5137.4,
            "count": 0
           },
           {
            "bin_start": 5137.4,
            "bin_end": 7701.099999999999,
            "count": 0
           },
           {
            "bin_start": 7701.099999999999,
            "bin_end": 10264.8,
            "count": 0
           },
           {
            "bin_start": 10264.8,
            "bin_end": 12828.5,
            "count": 0
           },
           {
            "bin_start": 12828.5,
            "bin_end": 15392.199999999999,
            "count": 1
           },
           {
            "bin_start": 15392.199999999999,
            "bin_end": 17955.899999999998,
            "count": 0
           },
           {
            "bin_start": 17955.899999999998,
            "bin_end": 20519.6,
            "count": 0
           },
           {
            "bin_start": 20519.6,
            "bin_end": 23083.3,
            "count": 0
           },
           {
            "bin_start": 23083.3,
            "bin_end": 25647,
            "count": 1
           }
          ]
         }
        },
        {
         "name": "_deepnote_index_column",
         "dtype": "object"
        }
       ],
       "rows_top": [
        {
         "manufacturer_name": 12874,
         "model_name": 12874,
         "transmission": 12874,
         "color": 12874,
         "odometer_value": 12874,
         "year_produced": 12874,
         "engine_fuel": 12874,
         "engine_has_gas": 12874,
         "engine_capacity": 12874,
         "body_type": 12874,
         "has_warranty": 12874,
         "state": 12874,
         "drivetrain": 12874,
         "price_usd": 12874,
         "is_exchangeable": 12874,
         "location_region": 12874,
         "number_of_photos": 12874,
         "up_counter": 12874,
         "feature_0": 12874,
         "feature_1": 12874,
         "feature_2": 12874,
         "feature_3": 12874,
         "feature_4": 12874,
         "feature_5": 12874,
         "feature_6": 12874,
         "feature_7": 12874,
         "feature_8": 12874,
         "feature_9": 12874,
         "duration_listed": 12874,
         "_deepnote_index_column": "diesel"
        },
        {
         "manufacturer_name": 10,
         "model_name": 10,
         "transmission": 10,
         "color": 10,
         "odometer_value": 10,
         "year_produced": 10,
         "engine_fuel": 10,
         "engine_has_gas": 10,
         "engine_capacity": 0,
         "body_type": 10,
         "has_warranty": 10,
         "state": 10,
         "drivetrain": 10,
         "price_usd": 10,
         "is_exchangeable": 10,
         "location_region": 10,
         "number_of_photos": 10,
         "up_counter": 10,
         "feature_0": 10,
         "feature_1": 10,
         "feature_2": 10,
         "feature_3": 10,
         "feature_4": 10,
         "feature_5": 10,
         "feature_6": 10,
         "feature_7": 10,
         "feature_8": 10,
         "feature_9": 10,
         "duration_listed": 10,
         "_deepnote_index_column": "electric"
        },
        {
         "manufacturer_name": 25647,
         "model_name": 25647,
         "transmission": 25647,
         "color": 25647,
         "odometer_value": 25647,
         "year_produced": 25647,
         "engine_fuel": 25647,
         "engine_has_gas": 25647,
         "engine_capacity": 25647,
         "body_type": 25647,
         "has_warranty": 25647,
         "state": 25647,
         "drivetrain": 25647,
         "price_usd": 25647,
         "is_exchangeable": 25647,
         "location_region": 25647,
         "number_of_photos": 25647,
         "up_counter": 25647,
         "feature_0": 25647,
         "feature_1": 25647,
         "feature_2": 25647,
         "feature_3": 25647,
         "feature_4": 25647,
         "feature_5": 25647,
         "feature_6": 25647,
         "feature_7": 25647,
         "feature_8": 25647,
         "feature_9": 25647,
         "duration_listed": 25647,
         "_deepnote_index_column": "gasoline"
        }
       ],
       "rows_bottom": null
      },
      "text/plain": "             manufacturer_name  model_name  transmission  color  \\\nengine_type                                                       \ndiesel                   12874       12874         12874  12874   \nelectric                    10          10            10     10   \ngasoline                 25647       25647         25647  25647   \n\n             odometer_value  year_produced  engine_fuel  engine_has_gas  \\\nengine_type                                                               \ndiesel                12874          12874        12874           12874   \nelectric                 10             10           10              10   \ngasoline              25647          25647        25647           25647   \n\n             engine_capacity  body_type  ...  feature_1  feature_2  feature_3  \\\nengine_type                              ...                                    \ndiesel                 12874      12874  ...      12874      12874      12874   \nelectric                   0         10  ...         10         10         10   \ngasoline               25647      25647  ...      25647      25647      25647   \n\n             feature_4  feature_5  feature_6  feature_7  feature_8  feature_9  \\\nengine_type                                                                     \ndiesel           12874      12874      12874      12874      12874      12874   \nelectric            10         10         10         10         10         10   \ngasoline         25647      25647      25647      25647      25647      25647   \n\n             duration_listed  \nengine_type                   \ndiesel                 12874  \nelectric                  10  \ngasoline               25647  \n\n[3 rows x 29 columns]",
      "text/html": "<div>\n<style scoped>\n    .dataframe tbody tr th:only-of-type {\n        vertical-align: middle;\n    }\n\n    .dataframe tbody tr th {\n        vertical-align: top;\n    }\n\n    .dataframe thead th {\n        text-align: right;\n    }\n</style>\n<table border=\"1\" class=\"dataframe\">\n  <thead>\n    <tr style=\"text-align: right;\">\n      <th></th>\n      <th>manufacturer_name</th>\n      <th>model_name</th>\n      <th>transmission</th>\n      <th>color</th>\n      <th>odometer_value</th>\n      <th>year_produced</th>\n      <th>engine_fuel</th>\n      <th>engine_has_gas</th>\n      <th>engine_capacity</th>\n      <th>body_type</th>\n      <th>...</th>\n      <th>feature_1</th>\n      <th>feature_2</th>\n      <th>feature_3</th>\n      <th>feature_4</th>\n      <th>feature_5</th>\n      <th>feature_6</th>\n      <th>feature_7</th>\n      <th>feature_8</th>\n      <th>feature_9</th>\n      <th>duration_listed</th>\n    </tr>\n    <tr>\n      <th>engine_type</th>\n      <th></th>\n      <th></th>\n      <th></th>\n      <th></th>\n      <th></th>\n      <th></th>\n      <th></th>\n      <th></th>\n      <th></th>\n      <th></th>\n      <th></th>\n      <th></th>\n      <th></th>\n      <th></th>\n      <th></th>\n      <th></th>\n      <th></th>\n      <th></th>\n      <th></th>\n      <th></th>\n      <th></th>\n    </tr>\n  </thead>\n  <tbody>\n    <tr>\n      <th>diesel</th>\n      <td>12874</td>\n      <td>12874</td>\n      <td>12874</td>\n      <td>12874</td>\n      <td>12874</td>\n      <td>12874</td>\n      <td>12874</td>\n      <td>12874</td>\n      <td>12874</td>\n      <td>12874</td>\n      <td>...</td>\n      <td>12874</td>\n      <td>12874</td>\n      <td>12874</td>\n      <td>12874</td>\n      <td>12874</td>\n      <td>12874</td>\n      <td>12874</td>\n      <td>12874</td>\n      <td>12874</td>\n      <td>12874</td>\n    </tr>\n    <tr>\n      <th>electric</th>\n      <td>10</td>\n      <td>10</td>\n      <td>10</td>\n      <td>10</td>\n      <td>10</td>\n      <td>10</td>\n      <td>10</td>\n      <td>10</td>\n      <td>0</td>\n      <td>10</td>\n      <td>...</td>\n      <td>10</td>\n      <td>10</td>\n      <td>10</td>\n      <td>10</td>\n      <td>10</td>\n      <td>10</td>\n      <td>10</td>\n      <td>10</td>\n      <td>10</td>\n      <td>10</td>\n    </tr>\n    <tr>\n      <th>gasoline</th>\n      <td>25647</td>\n      <td>25647</td>\n      <td>25647</td>\n      <td>25647</td>\n      <td>25647</td>\n      <td>25647</td>\n      <td>25647</td>\n      <td>25647</td>\n      <td>25647</td>\n      <td>25647</td>\n      <td>...</td>\n      <td>25647</td>\n      <td>25647</td>\n      <td>25647</td>\n      <td>25647</td>\n      <td>25647</td>\n      <td>25647</td>\n      <td>25647</td>\n      <td>25647</td>\n      <td>25647</td>\n      <td>25647</td>\n    </tr>\n  </tbody>\n</table>\n<p>3 rows × 29 columns</p>\n</div>"
     },
     "metadata": {}
    }
   ]
  },
  {
   "cell_type": "markdown",
   "source": "Inspeccionemos precios de una marca y modelo en particular",
   "metadata": {
    "tags": [],
    "cell_id": "00018-4a41bd9e-9bb2-4467-a3de-836969ded510",
    "deepnote_app_coordinates": {
     "x": 0,
     "y": 108,
     "w": 12,
     "h": 5
    },
    "deepnote_cell_type": "markdown"
   }
  },
  {
   "cell_type": "code",
   "metadata": {
    "tags": [],
    "cell_id": "00019-d281be8a-afd0-4096-b4d4-0cc0a2d2e909",
    "deepnote_to_be_reexecuted": false,
    "source_hash": "e68ac7e3",
    "execution_start": 1633195242745,
    "execution_millis": 134,
    "deepnote_app_coordinates": {
     "x": 0,
     "y": 114,
     "w": 12,
     "h": 5
    },
    "deepnote_cell_type": "code"
   },
   "source": "Q7_data = data[(data['manufacturer_name'] == 'Audi') & (data['model_name'] == 'Q7')]\n\nQ7_data",
   "execution_count": 13,
   "outputs": [
    {
     "output_type": "execute_result",
     "execution_count": 13,
     "data": {
      "application/vnd.deepnote.dataframe.v2+json": {
       "row_count": 79,
       "column_count": 30,
       "columns": [
        {
         "name": "manufacturer_name",
         "dtype": "object",
         "stats": {
          "unique_count": 1,
          "nan_count": 0,
          "categories": [
           {
            "name": "Audi",
            "count": 79
           }
          ]
         }
        },
        {
         "name": "model_name",
         "dtype": "object",
         "stats": {
          "unique_count": 1,
          "nan_count": 0,
          "categories": [
           {
            "name": "Q7",
            "count": 79
           }
          ]
         }
        },
        {
         "name": "transmission",
         "dtype": "object",
         "stats": {
          "unique_count": 1,
          "nan_count": 0,
          "categories": [
           {
            "name": "automatic",
            "count": 79
           }
          ]
         }
        },
        {
         "name": "color",
         "dtype": "object",
         "stats": {
          "unique_count": 7,
          "nan_count": 0,
          "categories": [
           {
            "name": "black",
            "count": 40
           },
           {
            "name": "grey",
            "count": 13
           },
           {
            "name": "5 others",
            "count": 26
           }
          ]
         }
        },
        {
         "name": "odometer_value",
         "dtype": "int64",
         "stats": {
          "unique_count": 61,
          "nan_count": 0,
          "min": "86291",
          "max": "359000",
          "histogram": [
           {
            "bin_start": 86291,
            "bin_end": 113561.9,
            "count": 6
           },
           {
            "bin_start": 113561.9,
            "bin_end": 140832.8,
            "count": 6
           },
           {
            "bin_start": 140832.8,
            "bin_end": 168103.7,
            "count": 7
           },
           {
            "bin_start": 168103.7,
            "bin_end": 195374.6,
            "count": 17
           },
           {
            "bin_start": 195374.6,
            "bin_end": 222645.5,
            "count": 17
           },
           {
            "bin_start": 222645.5,
            "bin_end": 249916.40000000002,
            "count": 11
           },
           {
            "bin_start": 249916.40000000002,
            "bin_end": 277187.30000000005,
            "count": 9
           },
           {
            "bin_start": 277187.30000000005,
            "bin_end": 304458.2,
            "count": 5
           },
           {
            "bin_start": 304458.2,
            "bin_end": 331729.1,
            "count": 0
           },
           {
            "bin_start": 331729.1,
            "bin_end": 359000,
            "count": 1
           }
          ]
         }
        },
        {
         "name": "year_produced",
         "dtype": "int64",
         "stats": {
          "unique_count": 10,
          "nan_count": 0,
          "min": "2006",
          "max": "2016",
          "histogram": [
           {
            "bin_start": 2006,
            "bin_end": 2007,
            "count": 8
           },
           {
            "bin_start": 2007,
            "bin_end": 2008,
            "count": 20
           },
           {
            "bin_start": 2008,
            "bin_end": 2009,
            "count": 20
           },
           {
            "bin_start": 2009,
            "bin_end": 2010,
            "count": 4
           },
           {
            "bin_start": 2010,
            "bin_end": 2011,
            "count": 11
           },
           {
            "bin_start": 2011,
            "bin_end": 2012,
            "count": 3
           },
           {
            "bin_start": 2012,
            "bin_end": 2013,
            "count": 0
           },
           {
            "bin_start": 2013,
            "bin_end": 2014,
            "count": 2
           },
           {
            "bin_start": 2014,
            "bin_end": 2015,
            "count": 5
           },
           {
            "bin_start": 2015,
            "bin_end": 2016,
            "count": 6
           }
          ]
         }
        },
        {
         "name": "engine_fuel",
         "dtype": "object",
         "stats": {
          "unique_count": 3,
          "nan_count": 0,
          "categories": [
           {
            "name": "diesel",
            "count": 50
           },
           {
            "name": "gasoline",
            "count": 28
           },
           {
            "name": "gas",
            "count": 1
           }
          ]
         }
        },
        {
         "name": "engine_has_gas",
         "dtype": "bool",
         "stats": {
          "unique_count": 2,
          "nan_count": 0,
          "categories": [
           {
            "name": "False",
            "count": 78
           },
           {
            "name": "True",
            "count": 1
           }
          ]
         }
        },
        {
         "name": "engine_type",
         "dtype": "object",
         "stats": {
          "unique_count": 2,
          "nan_count": 0,
          "categories": [
           {
            "name": "diesel",
            "count": 50
           },
           {
            "name": "gasoline",
            "count": 29
           }
          ]
         }
        },
        {
         "name": "engine_capacity",
         "dtype": "float64",
         "stats": {
          "unique_count": 4,
          "nan_count": 0,
          "min": "3.0",
          "max": "6.0",
          "histogram": [
           {
            "bin_start": 3,
            "bin_end": 3.3,
            "count": 43
           },
           {
            "bin_start": 3.3,
            "bin_end": 3.6,
            "count": 0
           },
           {
            "bin_start": 3.6,
            "bin_end": 3.9,
            "count": 10
           },
           {
            "bin_start": 3.9,
            "bin_end": 4.2,
            "count": 0
           },
           {
            "bin_start": 4.2,
            "bin_end": 4.5,
            "count": 25
           },
           {
            "bin_start": 4.5,
            "bin_end": 4.8,
            "count": 0
           },
           {
            "bin_start": 4.8,
            "bin_end": 5.1,
            "count": 0
           },
           {
            "bin_start": 5.1,
            "bin_end": 5.4,
            "count": 0
           },
           {
            "bin_start": 5.4,
            "bin_end": 5.699999999999999,
            "count": 0
           },
           {
            "bin_start": 5.699999999999999,
            "bin_end": 6,
            "count": 1
           }
          ]
         }
        },
        {
         "name": "body_type",
         "dtype": "object",
         "stats": {
          "unique_count": 1,
          "nan_count": 0,
          "categories": [
           {
            "name": "suv",
            "count": 79
           }
          ]
         }
        },
        {
         "name": "has_warranty",
         "dtype": "bool",
         "stats": {
          "unique_count": 1,
          "nan_count": 0,
          "categories": [
           {
            "name": "False",
            "count": 79
           }
          ]
         }
        },
        {
         "name": "state",
         "dtype": "object",
         "stats": {
          "unique_count": 1,
          "nan_count": 0,
          "categories": [
           {
            "name": "owned",
            "count": 79
           }
          ]
         }
        },
        {
         "name": "drivetrain",
         "dtype": "object",
         "stats": {
          "unique_count": 2,
          "nan_count": 0,
          "categories": [
           {
            "name": "all",
            "count": 78
           },
           {
            "name": "front",
            "count": 1
           }
          ]
         }
        },
        {
         "name": "price_usd",
         "dtype": "float64",
         "stats": {
          "unique_count": 61,
          "nan_count": 0,
          "min": "8990.0",
          "max": "46750.0",
          "histogram": [
           {
            "bin_start": 8990,
            "bin_end": 12766,
            "count": 17
           },
           {
            "bin_start": 12766,
            "bin_end": 16542,
            "count": 29
           },
           {
            "bin_start": 16542,
            "bin_end": 20318,
            "count": 7
           },
           {
            "bin_start": 20318,
            "bin_end": 24094,
            "count": 7
           },
           {
            "bin_start": 24094,
            "bin_end": 27870,
            "count": 4
           },
           {
            "bin_start": 27870,
            "bin_end": 31646,
            "count": 5
           },
           {
            "bin_start": 31646,
            "bin_end": 35422,
            "count": 2
           },
           {
            "bin_start": 35422,
            "bin_end": 39198,
            "count": 2
           },
           {
            "bin_start": 39198,
            "bin_end": 42974,
            "count": 2
           },
           {
            "bin_start": 42974,
            "bin_end": 46750,
            "count": 4
           }
          ]
         }
        },
        {
         "name": "is_exchangeable",
         "dtype": "bool",
         "stats": {
          "unique_count": 2,
          "nan_count": 0,
          "categories": [
           {
            "name": "False",
            "count": 48
           },
           {
            "name": "True",
            "count": 31
           }
          ]
         }
        },
        {
         "name": "location_region",
         "dtype": "object",
         "stats": {
          "unique_count": 6,
          "nan_count": 0,
          "categories": [
           {
            "name": "Минская обл.",
            "count": 51
           },
           {
            "name": "Гомельская обл.",
            "count": 8
           },
           {
            "name": "4 others",
            "count": 20
           }
          ]
         }
        },
        {
         "name": "number_of_photos",
         "dtype": "int64",
         "stats": {
          "unique_count": 26,
          "nan_count": 0,
          "min": "1",
          "max": "50",
          "histogram": [
           {
            "bin_start": 1,
            "bin_end": 5.9,
            "count": 7
           },
           {
            "bin_start": 5.9,
            "bin_end": 10.8,
            "count": 28
           },
           {
            "bin_start": 10.8,
            "bin_end": 15.700000000000001,
            "count": 21
           },
           {
            "bin_start": 15.700000000000001,
            "bin_end": 20.6,
            "count": 13
           },
           {
            "bin_start": 20.6,
            "bin_end": 25.5,
            "count": 4
           },
           {
            "bin_start": 25.5,
            "bin_end": 30.400000000000002,
            "count": 2
           },
           {
            "bin_start": 30.400000000000002,
            "bin_end": 35.300000000000004,
            "count": 2
           },
           {
            "bin_start": 35.300000000000004,
            "bin_end": 40.2,
            "count": 1
           },
           {
            "bin_start": 40.2,
            "bin_end": 45.1,
            "count": 0
           },
           {
            "bin_start": 45.1,
            "bin_end": 50,
            "count": 1
           }
          ]
         }
        },
        {
         "name": "up_counter",
         "dtype": "int64",
         "stats": {
          "unique_count": 33,
          "nan_count": 0,
          "min": "1",
          "max": "553",
          "histogram": [
           {
            "bin_start": 1,
            "bin_end": 56.2,
            "count": 72
           },
           {
            "bin_start": 56.2,
            "bin_end": 111.4,
            "count": 5
           },
           {
            "bin_start": 111.4,
            "bin_end": 166.60000000000002,
            "count": 0
           },
           {
            "bin_start": 166.60000000000002,
            "bin_end": 221.8,
            "count": 1
           },
           {
            "bin_start": 221.8,
            "bin_end": 277,
            "count": 0
           },
           {
            "bin_start": 277,
            "bin_end": 332.20000000000005,
            "count": 0
           },
           {
            "bin_start": 332.20000000000005,
            "bin_end": 387.40000000000003,
            "count": 0
           },
           {
            "bin_start": 387.40000000000003,
            "bin_end": 442.6,
            "count": 0
           },
           {
            "bin_start": 442.6,
            "bin_end": 497.8,
            "count": 0
           },
           {
            "bin_start": 497.8,
            "bin_end": 553,
            "count": 1
           }
          ]
         }
        },
        {
         "name": "feature_0",
         "dtype": "bool",
         "stats": {
          "unique_count": 2,
          "nan_count": 0,
          "categories": [
           {
            "name": "False",
            "count": 73
           },
           {
            "name": "True",
            "count": 6
           }
          ]
         }
        },
        {
         "name": "feature_1",
         "dtype": "bool",
         "stats": {
          "unique_count": 2,
          "nan_count": 0,
          "categories": [
           {
            "name": "True",
            "count": 62
           },
           {
            "name": "False",
            "count": 17
           }
          ]
         }
        },
        {
         "name": "feature_2",
         "dtype": "bool",
         "stats": {
          "unique_count": 2,
          "nan_count": 0,
          "categories": [
           {
            "name": "True",
            "count": 67
           },
           {
            "name": "False",
            "count": 12
           }
          ]
         }
        },
        {
         "name": "feature_3",
         "dtype": "bool",
         "stats": {
          "unique_count": 2,
          "nan_count": 0,
          "categories": [
           {
            "name": "True",
            "count": 68
           },
           {
            "name": "False",
            "count": 11
           }
          ]
         }
        },
        {
         "name": "feature_4",
         "dtype": "bool",
         "stats": {
          "unique_count": 2,
          "nan_count": 0,
          "categories": [
           {
            "name": "True",
            "count": 66
           },
           {
            "name": "False",
            "count": 13
           }
          ]
         }
        },
        {
         "name": "feature_5",
         "dtype": "bool",
         "stats": {
          "unique_count": 2,
          "nan_count": 0,
          "categories": [
           {
            "name": "True",
            "count": 71
           },
           {
            "name": "False",
            "count": 8
           }
          ]
         }
        },
        {
         "name": "feature_6",
         "dtype": "bool",
         "stats": {
          "unique_count": 2,
          "nan_count": 0,
          "categories": [
           {
            "name": "True",
            "count": 57
           },
           {
            "name": "False",
            "count": 22
           }
          ]
         }
        },
        {
         "name": "feature_7",
         "dtype": "bool",
         "stats": {
          "unique_count": 2,
          "nan_count": 0,
          "categories": [
           {
            "name": "True",
            "count": 60
           },
           {
            "name": "False",
            "count": 19
           }
          ]
         }
        },
        {
         "name": "feature_8",
         "dtype": "bool",
         "stats": {
          "unique_count": 2,
          "nan_count": 0,
          "categories": [
           {
            "name": "True",
            "count": 68
           },
           {
            "name": "False",
            "count": 11
           }
          ]
         }
        },
        {
         "name": "feature_9",
         "dtype": "bool",
         "stats": {
          "unique_count": 2,
          "nan_count": 0,
          "categories": [
           {
            "name": "True",
            "count": 71
           },
           {
            "name": "False",
            "count": 8
           }
          ]
         }
        },
        {
         "name": "duration_listed",
         "dtype": "int64",
         "stats": {
          "unique_count": 56,
          "nan_count": 0,
          "min": "0",
          "max": "736",
          "histogram": [
           {
            "bin_start": 0,
            "bin_end": 73.6,
            "count": 44
           },
           {
            "bin_start": 73.6,
            "bin_end": 147.2,
            "count": 23
           },
           {
            "bin_start": 147.2,
            "bin_end": 220.79999999999998,
            "count": 5
           },
           {
            "bin_start": 220.79999999999998,
            "bin_end": 294.4,
            "count": 3
           },
           {
            "bin_start": 294.4,
            "bin_end": 368,
            "count": 1
           },
           {
            "bin_start": 368,
            "bin_end": 441.59999999999997,
            "count": 1
           },
           {
            "bin_start": 441.59999999999997,
            "bin_end": 515.1999999999999,
            "count": 1
           },
           {
            "bin_start": 515.1999999999999,
            "bin_end": 588.8,
            "count": 0
           },
           {
            "bin_start": 588.8,
            "bin_end": 662.4,
            "count": 0
           },
           {
            "bin_start": 662.4,
            "bin_end": 736,
            "count": 1
           }
          ]
         }
        },
        {
         "name": "_deepnote_index_column",
         "dtype": "int64"
        }
       ],
       "rows_top": [
        {
         "manufacturer_name": "Audi",
         "model_name": "Q7",
         "transmission": "automatic",
         "color": "grey",
         "odometer_value": 275000,
         "year_produced": 2007,
         "engine_fuel": "diesel",
         "engine_has_gas": "False",
         "engine_type": "diesel",
         "engine_capacity": 3,
         "body_type": "suv",
         "has_warranty": "False",
         "state": "owned",
         "drivetrain": "all",
         "price_usd": 12450,
         "is_exchangeable": "True",
         "location_region": "Минская обл.",
         "number_of_photos": 23,
         "up_counter": 16,
         "feature_0": "True",
         "feature_1": "False",
         "feature_2": "False",
         "feature_3": "False",
         "feature_4": "False",
         "feature_5": "False",
         "feature_6": "False",
         "feature_7": "False",
         "feature_8": "False",
         "feature_9": "False",
         "duration_listed": 21,
         "_deepnote_index_column": 19515
        },
        {
         "manufacturer_name": "Audi",
         "model_name": "Q7",
         "transmission": "automatic",
         "color": "white",
         "odometer_value": 105000,
         "year_produced": 2014,
         "engine_fuel": "diesel",
         "engine_has_gas": "False",
         "engine_type": "diesel",
         "engine_capacity": 3,
         "body_type": "suv",
         "has_warranty": "False",
         "state": "owned",
         "drivetrain": "all",
         "price_usd": 32200,
         "is_exchangeable": "True",
         "location_region": "Минская обл.",
         "number_of_photos": 20,
         "up_counter": 186,
         "feature_0": "False",
         "feature_1": "True",
         "feature_2": "True",
         "feature_3": "True",
         "feature_4": "True",
         "feature_5": "True",
         "feature_6": "True",
         "feature_7": "True",
         "feature_8": "True",
         "feature_9": "True",
         "duration_listed": 216,
         "_deepnote_index_column": 19547
        },
        {
         "manufacturer_name": "Audi",
         "model_name": "Q7",
         "transmission": "automatic",
         "color": "other",
         "odometer_value": 170000,
         "year_produced": 2006,
         "engine_fuel": "diesel",
         "engine_has_gas": "False",
         "engine_type": "diesel",
         "engine_capacity": 3,
         "body_type": "suv",
         "has_warranty": "False",
         "state": "owned",
         "drivetrain": "all",
         "price_usd": 13500,
         "is_exchangeable": "False",
         "location_region": "Минская обл.",
         "number_of_photos": 13,
         "up_counter": 7,
         "feature_0": "False",
         "feature_1": "True",
         "feature_2": "True",
         "feature_3": "True",
         "feature_4": "True",
         "feature_5": "True",
         "feature_6": "False",
         "feature_7": "True",
         "feature_8": "False",
         "feature_9": "True",
         "duration_listed": 24,
         "_deepnote_index_column": 19559
        },
        {
         "manufacturer_name": "Audi",
         "model_name": "Q7",
         "transmission": "automatic",
         "color": "black",
         "odometer_value": 185000,
         "year_produced": 2016,
         "engine_fuel": "diesel",
         "engine_has_gas": "False",
         "engine_type": "diesel",
         "engine_capacity": 3,
         "body_type": "suv",
         "has_warranty": "False",
         "state": "owned",
         "drivetrain": "all",
         "price_usd": 44900,
         "is_exchangeable": "True",
         "location_region": "Минская обл.",
         "number_of_photos": 50,
         "up_counter": 4,
         "feature_0": "False",
         "feature_1": "False",
         "feature_2": "False",
         "feature_3": "True",
         "feature_4": "True",
         "feature_5": "True",
         "feature_6": "True",
         "feature_7": "True",
         "feature_8": "True",
         "feature_9": "True",
         "duration_listed": 7,
         "_deepnote_index_column": 19574
        },
        {
         "manufacturer_name": "Audi",
         "model_name": "Q7",
         "transmission": "automatic",
         "color": "other",
         "odometer_value": 210000,
         "year_produced": 2010,
         "engine_fuel": "diesel",
         "engine_has_gas": "False",
         "engine_type": "diesel",
         "engine_capacity": 4.2,
         "body_type": "suv",
         "has_warranty": "False",
         "state": "owned",
         "drivetrain": "all",
         "price_usd": 23000,
         "is_exchangeable": "False",
         "location_region": "Витебская обл.",
         "number_of_photos": 22,
         "up_counter": 34,
         "feature_0": "False",
         "feature_1": "True",
         "feature_2": "True",
         "feature_3": "True",
         "feature_4": "False",
         "feature_5": "True",
         "feature_6": "True",
         "feature_7": "True",
         "feature_8": "True",
         "feature_9": "True",
         "duration_listed": 45,
         "_deepnote_index_column": 19583
        },
        {
         "manufacturer_name": "Audi",
         "model_name": "Q7",
         "transmission": "automatic",
         "color": "grey",
         "odometer_value": 187000,
         "year_produced": 2016,
         "engine_fuel": "gasoline",
         "engine_has_gas": "False",
         "engine_type": "gasoline",
         "engine_capacity": 3,
         "body_type": "suv",
         "has_warranty": "False",
         "state": "owned",
         "drivetrain": "all",
         "price_usd": 46750,
         "is_exchangeable": "False",
         "location_region": "Минская обл.",
         "number_of_photos": 38,
         "up_counter": 2,
         "feature_0": "False",
         "feature_1": "False",
         "feature_2": "False",
         "feature_3": "False",
         "feature_4": "True",
         "feature_5": "False",
         "feature_6": "False",
         "feature_7": "False",
         "feature_8": "False",
         "feature_9": "False",
         "duration_listed": 2,
         "_deepnote_index_column": 19660
        },
        {
         "manufacturer_name": "Audi",
         "model_name": "Q7",
         "transmission": "automatic",
         "color": "black",
         "odometer_value": 170000,
         "year_produced": 2007,
         "engine_fuel": "gasoline",
         "engine_has_gas": "False",
         "engine_type": "gasoline",
         "engine_capacity": 3.6,
         "body_type": "suv",
         "has_warranty": "False",
         "state": "owned",
         "drivetrain": "all",
         "price_usd": 13000,
         "is_exchangeable": "False",
         "location_region": "Витебская обл.",
         "number_of_photos": 13,
         "up_counter": 28,
         "feature_0": "False",
         "feature_1": "True",
         "feature_2": "True",
         "feature_3": "False",
         "feature_4": "True",
         "feature_5": "True",
         "feature_6": "False",
         "feature_7": "False",
         "feature_8": "True",
         "feature_9": "True",
         "duration_listed": 129,
         "_deepnote_index_column": 19680
        },
        {
         "manufacturer_name": "Audi",
         "model_name": "Q7",
         "transmission": "automatic",
         "color": "black",
         "odometer_value": 112000,
         "year_produced": 2014,
         "engine_fuel": "diesel",
         "engine_has_gas": "False",
         "engine_type": "diesel",
         "engine_capacity": 3,
         "body_type": "suv",
         "has_warranty": "False",
         "state": "owned",
         "drivetrain": "all",
         "price_usd": 35600,
         "is_exchangeable": "False",
         "location_region": "Минская обл.",
         "number_of_photos": 20,
         "up_counter": 36,
         "feature_0": "True",
         "feature_1": "False",
         "feature_2": "False",
         "feature_3": "False",
         "feature_4": "False",
         "feature_5": "False",
         "feature_6": "False",
         "feature_7": "False",
         "feature_8": "False",
         "feature_9": "False",
         "duration_listed": 76,
         "_deepnote_index_column": 19685
        },
        {
         "manufacturer_name": "Audi",
         "model_name": "Q7",
         "transmission": "automatic",
         "color": "black",
         "odometer_value": 272000,
         "year_produced": 2008,
         "engine_fuel": "diesel",
         "engine_has_gas": "False",
         "engine_type": "diesel",
         "engine_capacity": 3,
         "body_type": "suv",
         "has_warranty": "False",
         "state": "owned",
         "drivetrain": "all",
         "price_usd": 14699,
         "is_exchangeable": "True",
         "location_region": "Минская обл.",
         "number_of_photos": 18,
         "up_counter": 1,
         "feature_0": "False",
         "feature_1": "True",
         "feature_2": "True",
         "feature_3": "True",
         "feature_4": "False",
         "feature_5": "True",
         "feature_6": "True",
         "feature_7": "False",
         "feature_8": "True",
         "feature_9": "True",
         "duration_listed": 0,
         "_deepnote_index_column": 19716
        },
        {
         "manufacturer_name": "Audi",
         "model_name": "Q7",
         "transmission": "automatic",
         "color": "black",
         "odometer_value": 152000,
         "year_produced": 2013,
         "engine_fuel": "diesel",
         "engine_has_gas": "False",
         "engine_type": "diesel",
         "engine_capacity": 3,
         "body_type": "suv",
         "has_warranty": "False",
         "state": "owned",
         "drivetrain": "all",
         "price_usd": 30750,
         "is_exchangeable": "False",
         "location_region": "Минская обл.",
         "number_of_photos": 13,
         "up_counter": 14,
         "feature_0": "False",
         "feature_1": "True",
         "feature_2": "True",
         "feature_3": "True",
         "feature_4": "True",
         "feature_5": "True",
         "feature_6": "True",
         "feature_7": "True",
         "feature_8": "True",
         "feature_9": "True",
         "duration_listed": 37,
         "_deepnote_index_column": 19719
        },
        {
         "manufacturer_name": "Audi",
         "model_name": "Q7",
         "transmission": "automatic",
         "color": "black",
         "odometer_value": 250000,
         "year_produced": 2008,
         "engine_fuel": "gasoline",
         "engine_has_gas": "False",
         "engine_type": "gasoline",
         "engine_capacity": 4.2,
         "body_type": "suv",
         "has_warranty": "False",
         "state": "owned",
         "drivetrain": "all",
         "price_usd": 11000,
         "is_exchangeable": "True",
         "location_region": "Минская обл.",
         "number_of_photos": 3,
         "up_counter": 7,
         "feature_0": "False",
         "feature_1": "True",
         "feature_2": "True",
         "feature_3": "True",
         "feature_4": "True",
         "feature_5": "True",
         "feature_6": "True",
         "feature_7": "True",
         "feature_8": "True",
         "feature_9": "True",
         "duration_listed": 18,
         "_deepnote_index_column": 19750
        },
        {
         "manufacturer_name": "Audi",
         "model_name": "Q7",
         "transmission": "automatic",
         "color": "other",
         "odometer_value": 220000,
         "year_produced": 2006,
         "engine_fuel": "gasoline",
         "engine_has_gas": "False",
         "engine_type": "gasoline",
         "engine_capacity": 4.2,
         "body_type": "suv",
         "has_warranty": "False",
         "state": "owned",
         "drivetrain": "all",
         "price_usd": 11000,
         "is_exchangeable": "True",
         "location_region": "Минская обл.",
         "number_of_photos": 18,
         "up_counter": 1,
         "feature_0": "False",
         "feature_1": "False",
         "feature_2": "True",
         "feature_3": "True",
         "feature_4": "False",
         "feature_5": "True",
         "feature_6": "True",
         "feature_7": "False",
         "feature_8": "True",
         "feature_9": "True",
         "duration_listed": 1,
         "_deepnote_index_column": 19757
        },
        {
         "manufacturer_name": "Audi",
         "model_name": "Q7",
         "transmission": "automatic",
         "color": "grey",
         "odometer_value": 222000,
         "year_produced": 2008,
         "engine_fuel": "gasoline",
         "engine_has_gas": "False",
         "engine_type": "gasoline",
         "engine_capacity": 3.6,
         "body_type": "suv",
         "has_warranty": "False",
         "state": "owned",
         "drivetrain": "all",
         "price_usd": 15700,
         "is_exchangeable": "False",
         "location_region": "Могилевская обл.",
         "number_of_photos": 10,
         "up_counter": 50,
         "feature_0": "False",
         "feature_1": "True",
         "feature_2": "True",
         "feature_3": "True",
         "feature_4": "True",
         "feature_5": "True",
         "feature_6": "True",
         "feature_7": "True",
         "feature_8": "True",
         "feature_9": "True",
         "duration_listed": 79,
         "_deepnote_index_column": 19786
        },
        {
         "manufacturer_name": "Audi",
         "model_name": "Q7",
         "transmission": "automatic",
         "color": "silver",
         "odometer_value": 224000,
         "year_produced": 2007,
         "engine_fuel": "gasoline",
         "engine_has_gas": "False",
         "engine_type": "gasoline",
         "engine_capacity": 4.2,
         "body_type": "suv",
         "has_warranty": "False",
         "state": "owned",
         "drivetrain": "all",
         "price_usd": 12550,
         "is_exchangeable": "True",
         "location_region": "Минская обл.",
         "number_of_photos": 32,
         "up_counter": 45,
         "feature_0": "True",
         "feature_1": "False",
         "feature_2": "False",
         "feature_3": "False",
         "feature_4": "False",
         "feature_5": "False",
         "feature_6": "False",
         "feature_7": "False",
         "feature_8": "False",
         "feature_9": "False",
         "duration_listed": 67,
         "_deepnote_index_column": 19823
        },
        {
         "manufacturer_name": "Audi",
         "model_name": "Q7",
         "transmission": "automatic",
         "color": "black",
         "odometer_value": 218000,
         "year_produced": 2007,
         "engine_fuel": "gasoline",
         "engine_has_gas": "False",
         "engine_type": "gasoline",
         "engine_capacity": 4.2,
         "body_type": "suv",
         "has_warranty": "False",
         "state": "owned",
         "drivetrain": "all",
         "price_usd": 12500,
         "is_exchangeable": "False",
         "location_region": "Гомельская обл.",
         "number_of_photos": 14,
         "up_counter": 33,
         "feature_0": "True",
         "feature_1": "False",
         "feature_2": "False",
         "feature_3": "False",
         "feature_4": "False",
         "feature_5": "False",
         "feature_6": "False",
         "feature_7": "False",
         "feature_8": "False",
         "feature_9": "False",
         "duration_listed": 49,
         "_deepnote_index_column": 19827
        },
        {
         "manufacturer_name": "Audi",
         "model_name": "Q7",
         "transmission": "automatic",
         "color": "black",
         "odometer_value": 273445,
         "year_produced": 2008,
         "engine_fuel": "diesel",
         "engine_has_gas": "False",
         "engine_type": "diesel",
         "engine_capacity": 3,
         "body_type": "suv",
         "has_warranty": "False",
         "state": "owned",
         "drivetrain": "all",
         "price_usd": 16500,
         "is_exchangeable": "True",
         "location_region": "Минская обл.",
         "number_of_photos": 20,
         "up_counter": 1,
         "feature_0": "False",
         "feature_1": "False",
         "feature_2": "True",
         "feature_3": "True",
         "feature_4": "True",
         "feature_5": "True",
         "feature_6": "True",
         "feature_7": "True",
         "feature_8": "False",
         "feature_9": "False",
         "duration_listed": 1,
         "_deepnote_index_column": 19940
        }
       ],
       "rows_bottom": [
        {
         "manufacturer_name": "Audi",
         "model_name": "Q7",
         "transmission": "automatic",
         "color": "black",
         "odometer_value": 222222,
         "year_produced": 2007,
         "engine_fuel": "diesel",
         "engine_has_gas": "False",
         "engine_type": "diesel",
         "engine_capacity": 4.2,
         "body_type": "suv",
         "has_warranty": "False",
         "state": "owned",
         "drivetrain": "all",
         "price_usd": 15500,
         "is_exchangeable": "False",
         "location_region": "Витебская обл.",
         "number_of_photos": 9,
         "up_counter": 1,
         "feature_0": "False",
         "feature_1": "True",
         "feature_2": "True",
         "feature_3": "True",
         "feature_4": "True",
         "feature_5": "True",
         "feature_6": "True",
         "feature_7": "True",
         "feature_8": "True",
         "feature_9": "True",
         "duration_listed": 32,
         "_deepnote_index_column": 21189
        },
        {
         "manufacturer_name": "Audi",
         "model_name": "Q7",
         "transmission": "automatic",
         "color": "black",
         "odometer_value": 209000,
         "year_produced": 2007,
         "engine_fuel": "gasoline",
         "engine_has_gas": "False",
         "engine_type": "gasoline",
         "engine_capacity": 4.2,
         "body_type": "suv",
         "has_warranty": "False",
         "state": "owned",
         "drivetrain": "all",
         "price_usd": 10500,
         "is_exchangeable": "False",
         "location_region": "Гомельская обл.",
         "number_of_photos": 10,
         "up_counter": 1,
         "feature_0": "False",
         "feature_1": "True",
         "feature_2": "True",
         "feature_3": "True",
         "feature_4": "True",
         "feature_5": "True",
         "feature_6": "True",
         "feature_7": "True",
         "feature_8": "True",
         "feature_9": "True",
         "duration_listed": 34,
         "_deepnote_index_column": 21244
        },
        {
         "manufacturer_name": "Audi",
         "model_name": "Q7",
         "transmission": "automatic",
         "color": "black",
         "odometer_value": 285000,
         "year_produced": 2008,
         "engine_fuel": "diesel",
         "engine_has_gas": "False",
         "engine_type": "diesel",
         "engine_capacity": 4.2,
         "body_type": "suv",
         "has_warranty": "False",
         "state": "owned",
         "drivetrain": "all",
         "price_usd": 14500,
         "is_exchangeable": "True",
         "location_region": "Гомельская обл.",
         "number_of_photos": 10,
         "up_counter": 8,
         "feature_0": "False",
         "feature_1": "True",
         "feature_2": "True",
         "feature_3": "True",
         "feature_4": "True",
         "feature_5": "True",
         "feature_6": "True",
         "feature_7": "True",
         "feature_8": "True",
         "feature_9": "True",
         "duration_listed": 79,
         "_deepnote_index_column": 21372
        },
        {
         "manufacturer_name": "Audi",
         "model_name": "Q7",
         "transmission": "automatic",
         "color": "other",
         "odometer_value": 200000,
         "year_produced": 2007,
         "engine_fuel": "gasoline",
         "engine_has_gas": "False",
         "engine_type": "gasoline",
         "engine_capacity": 3.6,
         "body_type": "suv",
         "has_warranty": "False",
         "state": "owned",
         "drivetrain": "all",
         "price_usd": 12300,
         "is_exchangeable": "False",
         "location_region": "Минская обл.",
         "number_of_photos": 9,
         "up_counter": 5,
         "feature_0": "False",
         "feature_1": "True",
         "feature_2": "True",
         "feature_3": "True",
         "feature_4": "True",
         "feature_5": "True",
         "feature_6": "True",
         "feature_7": "False",
         "feature_8": "True",
         "feature_9": "True",
         "duration_listed": 133,
         "_deepnote_index_column": 21440
        },
        {
         "manufacturer_name": "Audi",
         "model_name": "Q7",
         "transmission": "automatic",
         "color": "grey",
         "odometer_value": 190000,
         "year_produced": 2007,
         "engine_fuel": "diesel",
         "engine_has_gas": "False",
         "engine_type": "diesel",
         "engine_capacity": 3,
         "body_type": "suv",
         "has_warranty": "False",
         "state": "owned",
         "drivetrain": "all",
         "price_usd": 14250,
         "is_exchangeable": "True",
         "location_region": "Минская обл.",
         "number_of_photos": 9,
         "up_counter": 3,
         "feature_0": "False",
         "feature_1": "True",
         "feature_2": "True",
         "feature_3": "True",
         "feature_4": "True",
         "feature_5": "True",
         "feature_6": "True",
         "feature_7": "True",
         "feature_8": "True",
         "feature_9": "True",
         "duration_listed": 63,
         "_deepnote_index_column": 21513
        },
        {
         "manufacturer_name": "Audi",
         "model_name": "Q7",
         "transmission": "automatic",
         "color": "black",
         "odometer_value": 165000,
         "year_produced": 2010,
         "engine_fuel": "diesel",
         "engine_has_gas": "False",
         "engine_type": "diesel",
         "engine_capacity": 3,
         "body_type": "suv",
         "has_warranty": "False",
         "state": "owned",
         "drivetrain": "all",
         "price_usd": 23990,
         "is_exchangeable": "False",
         "location_region": "Минская обл.",
         "number_of_photos": 32,
         "up_counter": 1,
         "feature_0": "False",
         "feature_1": "True",
         "feature_2": "False",
         "feature_3": "True",
         "feature_4": "True",
         "feature_5": "True",
         "feature_6": "True",
         "feature_7": "True",
         "feature_8": "True",
         "feature_9": "True",
         "duration_listed": 63,
         "_deepnote_index_column": 21591
        },
        {
         "manufacturer_name": "Audi",
         "model_name": "Q7",
         "transmission": "automatic",
         "color": "white",
         "odometer_value": 105000,
         "year_produced": 2011,
         "engine_fuel": "gasoline",
         "engine_has_gas": "False",
         "engine_type": "gasoline",
         "engine_capacity": 3,
         "body_type": "suv",
         "has_warranty": "False",
         "state": "owned",
         "drivetrain": "all",
         "price_usd": 18300,
         "is_exchangeable": "False",
         "location_region": "Минская обл.",
         "number_of_photos": 11,
         "up_counter": 1,
         "feature_0": "False",
         "feature_1": "True",
         "feature_2": "False",
         "feature_3": "True",
         "feature_4": "True",
         "feature_5": "True",
         "feature_6": "True",
         "feature_7": "True",
         "feature_8": "True",
         "feature_9": "True",
         "duration_listed": 68,
         "_deepnote_index_column": 21641
        },
        {
         "manufacturer_name": "Audi",
         "model_name": "Q7",
         "transmission": "automatic",
         "color": "grey",
         "odometer_value": 200000,
         "year_produced": 2008,
         "engine_fuel": "diesel",
         "engine_has_gas": "False",
         "engine_type": "diesel",
         "engine_capacity": 3,
         "body_type": "suv",
         "has_warranty": "False",
         "state": "owned",
         "drivetrain": "all",
         "price_usd": 14000,
         "is_exchangeable": "False",
         "location_region": "Минская обл.",
         "number_of_photos": 3,
         "up_counter": 1,
         "feature_0": "False",
         "feature_1": "True",
         "feature_2": "True",
         "feature_3": "True",
         "feature_4": "True",
         "feature_5": "True",
         "feature_6": "True",
         "feature_7": "True",
         "feature_8": "True",
         "feature_9": "True",
         "duration_listed": 68,
         "_deepnote_index_column": 21642
        },
        {
         "manufacturer_name": "Audi",
         "model_name": "Q7",
         "transmission": "automatic",
         "color": "black",
         "odometer_value": 245000,
         "year_produced": 2008,
         "engine_fuel": "gasoline",
         "engine_has_gas": "False",
         "engine_type": "gasoline",
         "engine_capacity": 3.6,
         "body_type": "suv",
         "has_warranty": "False",
         "state": "owned",
         "drivetrain": "all",
         "price_usd": 13000,
         "is_exchangeable": "False",
         "location_region": "Витебская обл.",
         "number_of_photos": 2,
         "up_counter": 16,
         "feature_0": "False",
         "feature_1": "True",
         "feature_2": "True",
         "feature_3": "True",
         "feature_4": "True",
         "feature_5": "True",
         "feature_6": "False",
         "feature_7": "False",
         "feature_8": "True",
         "feature_9": "True",
         "duration_listed": 199,
         "_deepnote_index_column": 21652
        },
        {
         "manufacturer_name": "Audi",
         "model_name": "Q7",
         "transmission": "automatic",
         "color": "black",
         "odometer_value": 193277,
         "year_produced": 2008,
         "engine_fuel": "diesel",
         "engine_has_gas": "False",
         "engine_type": "diesel",
         "engine_capacity": 4.2,
         "body_type": "suv",
         "has_warranty": "False",
         "state": "owned",
         "drivetrain": "all",
         "price_usd": 18200,
         "is_exchangeable": "False",
         "location_region": "Минская обл.",
         "number_of_photos": 7,
         "up_counter": 1,
         "feature_0": "False",
         "feature_1": "True",
         "feature_2": "True",
         "feature_3": "True",
         "feature_4": "True",
         "feature_5": "True",
         "feature_6": "False",
         "feature_7": "True",
         "feature_8": "True",
         "feature_9": "True",
         "duration_listed": 75,
         "_deepnote_index_column": 21680
        },
        {
         "manufacturer_name": "Audi",
         "model_name": "Q7",
         "transmission": "automatic",
         "color": "black",
         "odometer_value": 187000,
         "year_produced": 2007,
         "engine_fuel": "diesel",
         "engine_has_gas": "False",
         "engine_type": "diesel",
         "engine_capacity": 3,
         "body_type": "suv",
         "has_warranty": "False",
         "state": "owned",
         "drivetrain": "front",
         "price_usd": 13200,
         "is_exchangeable": "False",
         "location_region": "Минская обл.",
         "number_of_photos": 8,
         "up_counter": 2,
         "feature_0": "False",
         "feature_1": "True",
         "feature_2": "True",
         "feature_3": "True",
         "feature_4": "True",
         "feature_5": "True",
         "feature_6": "True",
         "feature_7": "True",
         "feature_8": "True",
         "feature_9": "True",
         "duration_listed": 85,
         "_deepnote_index_column": 21729
        },
        {
         "manufacturer_name": "Audi",
         "model_name": "Q7",
         "transmission": "automatic",
         "color": "black",
         "odometer_value": 200000,
         "year_produced": 2008,
         "engine_fuel": "diesel",
         "engine_has_gas": "False",
         "engine_type": "diesel",
         "engine_capacity": 3,
         "body_type": "suv",
         "has_warranty": "False",
         "state": "owned",
         "drivetrain": "all",
         "price_usd": 14300,
         "is_exchangeable": "False",
         "location_region": "Минская обл.",
         "number_of_photos": 6,
         "up_counter": 2,
         "feature_0": "False",
         "feature_1": "True",
         "feature_2": "False",
         "feature_3": "True",
         "feature_4": "True",
         "feature_5": "True",
         "feature_6": "False",
         "feature_7": "True",
         "feature_8": "False",
         "feature_9": "True",
         "duration_listed": 90,
         "_deepnote_index_column": 21755
        },
        {
         "manufacturer_name": "Audi",
         "model_name": "Q7",
         "transmission": "automatic",
         "color": "silver",
         "odometer_value": 200000,
         "year_produced": 2008,
         "engine_fuel": "gasoline",
         "engine_has_gas": "False",
         "engine_type": "gasoline",
         "engine_capacity": 3.6,
         "body_type": "suv",
         "has_warranty": "False",
         "state": "owned",
         "drivetrain": "all",
         "price_usd": 16700,
         "is_exchangeable": "False",
         "location_region": "Минская обл.",
         "number_of_photos": 1,
         "up_counter": 2,
         "feature_0": "False",
         "feature_1": "True",
         "feature_2": "True",
         "feature_3": "True",
         "feature_4": "True",
         "feature_5": "True",
         "feature_6": "True",
         "feature_7": "True",
         "feature_8": "True",
         "feature_9": "True",
         "duration_listed": 91,
         "_deepnote_index_column": 21756
        },
        {
         "manufacturer_name": "Audi",
         "model_name": "Q7",
         "transmission": "automatic",
         "color": "black",
         "odometer_value": 276000,
         "year_produced": 2008,
         "engine_fuel": "diesel",
         "engine_has_gas": "False",
         "engine_type": "diesel",
         "engine_capacity": 4.2,
         "body_type": "suv",
         "has_warranty": "False",
         "state": "owned",
         "drivetrain": "all",
         "price_usd": 15700,
         "is_exchangeable": "False",
         "location_region": "Минская обл.",
         "number_of_photos": 6,
         "up_counter": 8,
         "feature_0": "False",
         "feature_1": "True",
         "feature_2": "True",
         "feature_3": "True",
         "feature_4": "True",
         "feature_5": "True",
         "feature_6": "True",
         "feature_7": "True",
         "feature_8": "True",
         "feature_9": "True",
         "duration_listed": 115,
         "_deepnote_index_column": 21812
        },
        {
         "manufacturer_name": "Audi",
         "model_name": "Q7",
         "transmission": "automatic",
         "color": "black",
         "odometer_value": 273000,
         "year_produced": 2006,
         "engine_fuel": "gasoline",
         "engine_has_gas": "False",
         "engine_type": "gasoline",
         "engine_capacity": 4.2,
         "body_type": "suv",
         "has_warranty": "False",
         "state": "owned",
         "drivetrain": "all",
         "price_usd": 9000,
         "is_exchangeable": "False",
         "location_region": "Минская обл.",
         "number_of_photos": 6,
         "up_counter": 4,
         "feature_0": "False",
         "feature_1": "True",
         "feature_2": "True",
         "feature_3": "False",
         "feature_4": "True",
         "feature_5": "True",
         "feature_6": "True",
         "feature_7": "True",
         "feature_8": "False",
         "feature_9": "True",
         "duration_listed": 147,
         "_deepnote_index_column": 21873
        },
        {
         "manufacturer_name": "Audi",
         "model_name": "Q7",
         "transmission": "automatic",
         "color": "white",
         "odometer_value": 283000,
         "year_produced": 2007,
         "engine_fuel": "diesel",
         "engine_has_gas": "False",
         "engine_type": "diesel",
         "engine_capacity": 4.2,
         "body_type": "suv",
         "has_warranty": "False",
         "state": "owned",
         "drivetrain": "all",
         "price_usd": 17700,
         "is_exchangeable": "True",
         "location_region": "Гродненская обл.",
         "number_of_photos": 16,
         "up_counter": 13,
         "feature_0": "False",
         "feature_1": "True",
         "feature_2": "True",
         "feature_3": "True",
         "feature_4": "True",
         "feature_5": "True",
         "feature_6": "True",
         "feature_7": "True",
         "feature_8": "True",
         "feature_9": "True",
         "duration_listed": 159,
         "_deepnote_index_column": 21900
        },
        {
         "manufacturer_name": "Audi",
         "model_name": "Q7",
         "transmission": "automatic",
         "color": "grey",
         "odometer_value": 262000,
         "year_produced": 2007,
         "engine_fuel": "gasoline",
         "engine_has_gas": "False",
         "engine_type": "gasoline",
         "engine_capacity": 3.6,
         "body_type": "suv",
         "has_warranty": "False",
         "state": "owned",
         "drivetrain": "all",
         "price_usd": 13700,
         "is_exchangeable": "False",
         "location_region": "Минская обл.",
         "number_of_photos": 6,
         "up_counter": 2,
         "feature_0": "False",
         "feature_1": "True",
         "feature_2": "True",
         "feature_3": "True",
         "feature_4": "True",
         "feature_5": "True",
         "feature_6": "False",
         "feature_7": "False",
         "feature_8": "True",
         "feature_9": "True",
         "duration_listed": 199,
         "_deepnote_index_column": 21942
        }
       ]
      },
      "text/plain": "      manufacturer_name model_name transmission   color  odometer_value  \\\n19515              Audi         Q7    automatic    grey          275000   \n19547              Audi         Q7    automatic   white          105000   \n19559              Audi         Q7    automatic   other          170000   \n19574              Audi         Q7    automatic   black          185000   \n19583              Audi         Q7    automatic   other          210000   \n...                 ...        ...          ...     ...             ...   \n21756              Audi         Q7    automatic  silver          200000   \n21812              Audi         Q7    automatic   black          276000   \n21873              Audi         Q7    automatic   black          273000   \n21900              Audi         Q7    automatic   white          283000   \n21942              Audi         Q7    automatic    grey          262000   \n\n       year_produced engine_fuel  engine_has_gas engine_type  engine_capacity  \\\n19515           2007      diesel           False      diesel              3.0   \n19547           2014      diesel           False      diesel              3.0   \n19559           2006      diesel           False      diesel              3.0   \n19574           2016      diesel           False      diesel              3.0   \n19583           2010      diesel           False      diesel              4.2   \n...              ...         ...             ...         ...              ...   \n21756           2008    gasoline           False    gasoline              3.6   \n21812           2008      diesel           False      diesel              4.2   \n21873           2006    gasoline           False    gasoline              4.2   \n21900           2007      diesel           False      diesel              4.2   \n21942           2007    gasoline           False    gasoline              3.6   \n\n       ... feature_1  feature_2 feature_3 feature_4  feature_5  feature_6  \\\n19515  ...     False      False     False     False      False      False   \n19547  ...      True       True      True      True       True       True   \n19559  ...      True       True      True      True       True      False   \n19574  ...     False      False      True      True       True       True   \n19583  ...      True       True      True     False       True       True   \n...    ...       ...        ...       ...       ...        ...        ...   \n21756  ...      True       True      True      True       True       True   \n21812  ...      True       True      True      True       True       True   \n21873  ...      True       True     False      True       True       True   \n21900  ...      True       True      True      True       True       True   \n21942  ...      True       True      True      True       True      False   \n\n      feature_7  feature_8  feature_9  duration_listed  \n19515     False      False      False               21  \n19547      True       True       True              216  \n19559      True      False       True               24  \n19574      True       True       True                7  \n19583      True       True       True               45  \n...         ...        ...        ...              ...  \n21756      True       True       True               91  \n21812      True       True       True              115  \n21873      True      False       True              147  \n21900      True       True       True              159  \n21942     False       True       True              199  \n\n[79 rows x 30 columns]",
      "text/html": "<div>\n<style scoped>\n    .dataframe tbody tr th:only-of-type {\n        vertical-align: middle;\n    }\n\n    .dataframe tbody tr th {\n        vertical-align: top;\n    }\n\n    .dataframe thead th {\n        text-align: right;\n    }\n</style>\n<table border=\"1\" class=\"dataframe\">\n  <thead>\n    <tr style=\"text-align: right;\">\n      <th></th>\n      <th>manufacturer_name</th>\n      <th>model_name</th>\n      <th>transmission</th>\n      <th>color</th>\n      <th>odometer_value</th>\n      <th>year_produced</th>\n      <th>engine_fuel</th>\n      <th>engine_has_gas</th>\n      <th>engine_type</th>\n      <th>engine_capacity</th>\n      <th>...</th>\n      <th>feature_1</th>\n      <th>feature_2</th>\n      <th>feature_3</th>\n      <th>feature_4</th>\n      <th>feature_5</th>\n      <th>feature_6</th>\n      <th>feature_7</th>\n      <th>feature_8</th>\n      <th>feature_9</th>\n      <th>duration_listed</th>\n    </tr>\n  </thead>\n  <tbody>\n    <tr>\n      <th>19515</th>\n      <td>Audi</td>\n      <td>Q7</td>\n      <td>automatic</td>\n      <td>grey</td>\n      <td>275000</td>\n      <td>2007</td>\n      <td>diesel</td>\n      <td>False</td>\n      <td>diesel</td>\n      <td>3.0</td>\n      <td>...</td>\n      <td>False</td>\n      <td>False</td>\n      <td>False</td>\n      <td>False</td>\n      <td>False</td>\n      <td>False</td>\n      <td>False</td>\n      <td>False</td>\n      <td>False</td>\n      <td>21</td>\n    </tr>\n    <tr>\n      <th>19547</th>\n      <td>Audi</td>\n      <td>Q7</td>\n      <td>automatic</td>\n      <td>white</td>\n      <td>105000</td>\n      <td>2014</td>\n      <td>diesel</td>\n      <td>False</td>\n      <td>diesel</td>\n      <td>3.0</td>\n      <td>...</td>\n      <td>True</td>\n      <td>True</td>\n      <td>True</td>\n      <td>True</td>\n      <td>True</td>\n      <td>True</td>\n      <td>True</td>\n      <td>True</td>\n      <td>True</td>\n      <td>216</td>\n    </tr>\n    <tr>\n      <th>19559</th>\n      <td>Audi</td>\n      <td>Q7</td>\n      <td>automatic</td>\n      <td>other</td>\n      <td>170000</td>\n      <td>2006</td>\n      <td>diesel</td>\n      <td>False</td>\n      <td>diesel</td>\n      <td>3.0</td>\n      <td>...</td>\n      <td>True</td>\n      <td>True</td>\n      <td>True</td>\n      <td>True</td>\n      <td>True</td>\n      <td>False</td>\n      <td>True</td>\n      <td>False</td>\n      <td>True</td>\n      <td>24</td>\n    </tr>\n    <tr>\n      <th>19574</th>\n      <td>Audi</td>\n      <td>Q7</td>\n      <td>automatic</td>\n      <td>black</td>\n      <td>185000</td>\n      <td>2016</td>\n      <td>diesel</td>\n      <td>False</td>\n      <td>diesel</td>\n      <td>3.0</td>\n      <td>...</td>\n      <td>False</td>\n      <td>False</td>\n      <td>True</td>\n      <td>True</td>\n      <td>True</td>\n      <td>True</td>\n      <td>True</td>\n      <td>True</td>\n      <td>True</td>\n      <td>7</td>\n    </tr>\n    <tr>\n      <th>19583</th>\n      <td>Audi</td>\n      <td>Q7</td>\n      <td>automatic</td>\n      <td>other</td>\n      <td>210000</td>\n      <td>2010</td>\n      <td>diesel</td>\n      <td>False</td>\n      <td>diesel</td>\n      <td>4.2</td>\n      <td>...</td>\n      <td>True</td>\n      <td>True</td>\n      <td>True</td>\n      <td>False</td>\n      <td>True</td>\n      <td>True</td>\n      <td>True</td>\n      <td>True</td>\n      <td>True</td>\n      <td>45</td>\n    </tr>\n    <tr>\n      <th>...</th>\n      <td>...</td>\n      <td>...</td>\n      <td>...</td>\n      <td>...</td>\n      <td>...</td>\n      <td>...</td>\n      <td>...</td>\n      <td>...</td>\n      <td>...</td>\n      <td>...</td>\n      <td>...</td>\n      <td>...</td>\n      <td>...</td>\n      <td>...</td>\n      <td>...</td>\n      <td>...</td>\n      <td>...</td>\n      <td>...</td>\n      <td>...</td>\n      <td>...</td>\n      <td>...</td>\n    </tr>\n    <tr>\n      <th>21756</th>\n      <td>Audi</td>\n      <td>Q7</td>\n      <td>automatic</td>\n      <td>silver</td>\n      <td>200000</td>\n      <td>2008</td>\n      <td>gasoline</td>\n      <td>False</td>\n      <td>gasoline</td>\n      <td>3.6</td>\n      <td>...</td>\n      <td>True</td>\n      <td>True</td>\n      <td>True</td>\n      <td>True</td>\n      <td>True</td>\n      <td>True</td>\n      <td>True</td>\n      <td>True</td>\n      <td>True</td>\n      <td>91</td>\n    </tr>\n    <tr>\n      <th>21812</th>\n      <td>Audi</td>\n      <td>Q7</td>\n      <td>automatic</td>\n      <td>black</td>\n      <td>276000</td>\n      <td>2008</td>\n      <td>diesel</td>\n      <td>False</td>\n      <td>diesel</td>\n      <td>4.2</td>\n      <td>...</td>\n      <td>True</td>\n      <td>True</td>\n      <td>True</td>\n      <td>True</td>\n      <td>True</td>\n      <td>True</td>\n      <td>True</td>\n      <td>True</td>\n      <td>True</td>\n      <td>115</td>\n    </tr>\n    <tr>\n      <th>21873</th>\n      <td>Audi</td>\n      <td>Q7</td>\n      <td>automatic</td>\n      <td>black</td>\n      <td>273000</td>\n      <td>2006</td>\n      <td>gasoline</td>\n      <td>False</td>\n      <td>gasoline</td>\n      <td>4.2</td>\n      <td>...</td>\n      <td>True</td>\n      <td>True</td>\n      <td>False</td>\n      <td>True</td>\n      <td>True</td>\n      <td>True</td>\n      <td>True</td>\n      <td>False</td>\n      <td>True</td>\n      <td>147</td>\n    </tr>\n    <tr>\n      <th>21900</th>\n      <td>Audi</td>\n      <td>Q7</td>\n      <td>automatic</td>\n      <td>white</td>\n      <td>283000</td>\n      <td>2007</td>\n      <td>diesel</td>\n      <td>False</td>\n      <td>diesel</td>\n      <td>4.2</td>\n      <td>...</td>\n      <td>True</td>\n      <td>True</td>\n      <td>True</td>\n      <td>True</td>\n      <td>True</td>\n      <td>True</td>\n      <td>True</td>\n      <td>True</td>\n      <td>True</td>\n      <td>159</td>\n    </tr>\n    <tr>\n      <th>21942</th>\n      <td>Audi</td>\n      <td>Q7</td>\n      <td>automatic</td>\n      <td>grey</td>\n      <td>262000</td>\n      <td>2007</td>\n      <td>gasoline</td>\n      <td>False</td>\n      <td>gasoline</td>\n      <td>3.6</td>\n      <td>...</td>\n      <td>True</td>\n      <td>True</td>\n      <td>True</td>\n      <td>True</td>\n      <td>True</td>\n      <td>False</td>\n      <td>False</td>\n      <td>True</td>\n      <td>True</td>\n      <td>199</td>\n    </tr>\n  </tbody>\n</table>\n<p>79 rows × 30 columns</p>\n</div>"
     },
     "metadata": {}
    }
   ]
  },
  {
   "cell_type": "code",
   "metadata": {
    "tags": [],
    "cell_id": "00020-e3c5fb4e-6c3d-4846-85d5-c115a2a00a4d",
    "deepnote_to_be_reexecuted": false,
    "source_hash": "4b8fcfa8",
    "execution_start": 1633195242943,
    "execution_millis": 940,
    "deepnote_app_coordinates": {
     "x": 0,
     "y": 120,
     "w": 12,
     "h": 5
    },
    "deepnote_cell_type": "code"
   },
   "source": "sns.histplot(data=Q7_data, x='price_usd', hue='year_produced')\n\nplt.show()",
   "execution_count": 14,
   "outputs": [
    {
     "data": {
      "text/plain": "<Figure size 921.6x518.4 with 1 Axes>",
      "image/png": "[encoded data removed]"
     },
     "metadata": {
      "image/png": {
       "width": 763,
       "height": 436
      }
     },
     "output_type": "display_data"
    }
   ]
  },
  {
   "cell_type": "markdown",
   "source": "### Medidas de dispersión\n\n#### Rango\n\nEl rango es el intervalo entre el valor máximo y el valor mínimo.\n\n#### Rango intercuartil (IQR)\n\nLos cuartiles son valores que dividen una muestra de datos en cuatro partes iguales.\n\n- 1er cuartil (Q1): 25% de los datos es menor que o igual a este valor. (La mitad entre la mediana y el valor mínimo)\n\n- 2do cuartil (Q2): 50% de los datos es menor que o igual a este valor. (La mediana)\n\n- 3er cuartil (Q3): 75% de los datos es menor que o igual a este valor. (La mitad entre la mediana y el valor máximo)\n\n**Rango intercuartil**: La distancia entre el primer 1er cuartil y el 3er cuartil (Q3-Q1); de esta manera, abarca el 50% central de los datos.\n\n**Diagrama de caja o box plot**: representa gráficamente una serie de datos numéricos a través de sus cuartiles. De esta manera, el diagrama de caja muestra a simple vista la mediana y los cuartiles de los datos. También puede representar los valores atípicos de estos.\n\n#### Deviación estándar\n\n##### Varianza\n\n##### $ V(x) = \\sigma^2 =  {1\\over{n}}{\\sum_{i=1}^n{(x_i - \\bar{x})^2}}$\n\n* La desviación estándar es la raíz cuadrada de la varianza.\n$\\sigma = \\sqrt{\\sigma^2}$\n\n##### Límites para detección de outliers (con datos simétricamente distribuídos)\n\n$min = Q1 - 1.5*IQR$\n\n$max = Q3 + 1.5*IQR$",
   "metadata": {
    "tags": [],
    "cell_id": "00021-011a8baa-1a7f-4bcd-98b1-4fc004daa15a",
    "deepnote_app_coordinates": {
     "x": 0,
     "y": 126,
     "w": 12,
     "h": 5
    },
    "deepnote_cell_type": "markdown"
   }
  },
  {
   "cell_type": "code",
   "source": "# Desvación estándar\ndata['price_usd'].std()",
   "metadata": {
    "tags": [],
    "deepnote_app_coordinates": {
     "x": 0,
     "y": 0,
     "w": 12,
     "h": 5
    },
    "cell_id": "00022-2f1e17ab-8c20-463e-acea-7afc0e00d981",
    "deepnote_to_be_reexecuted": false,
    "source_hash": "68156054",
    "execution_start": 1633195243893,
    "execution_millis": 13,
    "deepnote_cell_type": "code"
   },
   "outputs": [
    {
     "output_type": "execute_result",
     "execution_count": 15,
     "data": {
      "text/plain": "6428.1520182029035"
     },
     "metadata": {}
    }
   ],
   "execution_count": 15
  },
  {
   "cell_type": "code",
   "source": "# Rango = valor_max - valor_min\nrango = data['price_usd'].max() - data['price_usd'].min()\n\nrango",
   "metadata": {
    "tags": [],
    "deepnote_app_coordinates": {
     "x": 0,
     "y": 0,
     "w": 12,
     "h": 5
    },
    "cell_id": "00023-ea334ece-71af-4fa5-afc9-944c4d04691f",
    "deepnote_to_be_reexecuted": false,
    "source_hash": "24a4316d",
    "execution_start": 1633195243898,
    "execution_millis": 21,
    "deepnote_cell_type": "code"
   },
   "outputs": [
    {
     "output_type": "execute_result",
     "execution_count": 16,
     "data": {
      "text/plain": "49999.0"
     },
     "metadata": {}
    }
   ],
   "execution_count": 16
  },
  {
   "cell_type": "code",
   "source": "# Quartiles\n\n# Q2 (Median)\nQ2 = data['price_usd'].median()\n\n# Q1\nQ1 = data['price_usd'].quantile(q=0.25)\n\n# Q3\nQ3 = data['price_usd'].quantile(q=0.75)\n\n# Min\nmin_value = data['price_usd'].quantile(q=0)\nmax_value = data['price_usd'].quantile(q=1)\n\nprint(f'Q1: {Q1}\\nQ2: {Q2}\\nQ3: {Q3}\\nMIN: {min_value}\\nMAX: {max_value}')",
   "metadata": {
    "tags": [],
    "deepnote_app_coordinates": {
     "x": 0,
     "y": 0,
     "w": 12,
     "h": 5
    },
    "cell_id": "00024-9fb4c3c3-15ec-44cd-8f8e-64852c8b57b2",
    "deepnote_to_be_reexecuted": false,
    "source_hash": "bdd1687d",
    "execution_start": 1633195243913,
    "execution_millis": 18,
    "deepnote_cell_type": "code"
   },
   "outputs": [
    {
     "name": "stdout",
     "text": "Q1: 2100.0\nQ2: 4800.0\nQ3: 8990.0\nMIN: 1.0\nMAX: 50000.0\n",
     "output_type": "stream"
    }
   ],
   "execution_count": 17
  },
  {
   "cell_type": "code",
   "source": "# IQR (Rango intercuartil)\n\niqr = Q3 - Q1\n\niqr",
   "metadata": {
    "tags": [],
    "deepnote_app_coordinates": {
     "x": 0,
     "y": 0,
     "w": 12,
     "h": 5
    },
    "cell_id": "00025-b72a0209-d9be-4fc6-aec8-c1e3f7e7c426",
    "deepnote_to_be_reexecuted": false,
    "source_hash": "fd988ca8",
    "execution_start": 1633195243930,
    "execution_millis": 9,
    "deepnote_cell_type": "code"
   },
   "outputs": [
    {
     "output_type": "execute_result",
     "execution_count": 18,
     "data": {
      "text/plain": "6890.0"
     },
     "metadata": {}
    }
   ],
   "execution_count": 18
  },
  {
   "cell_type": "code",
   "source": "# Diagrama de cajas (Boxplot)\n\nsns.boxplot(data = data, x='price_usd')\n\nplt.title('Diagrama de caja (Price USD)')\nplt.show()",
   "metadata": {
    "tags": [],
    "deepnote_app_coordinates": {
     "x": 0,
     "y": 0,
     "w": 12,
     "h": 5
    },
    "cell_id": "00026-f10e824b-b617-45d2-9c6e-b6a984233d6c",
    "deepnote_to_be_reexecuted": false,
    "source_hash": "1a74251b",
    "execution_start": 1633195243941,
    "execution_millis": 410,
    "deepnote_cell_type": "code"
   },
   "outputs": [
    {
     "data": {
      "text/plain": "<Figure size 921.6x518.4 with 1 Axes>",
      "image/png": "[encoded data removed]"
     },
     "metadata": {
      "image/png": {
       "width": 728,
       "height": 452
      }
     },
     "output_type": "display_data"
    }
   ],
   "execution_count": 19
  },
  {
   "cell_type": "markdown",
   "source": "Podemos observar que los datos mayores a 20 mil USD son considerados outliers según el criterio que es utilizado por defecto en la función `boxplot` de `seaborn`.\n\nEl diagrama de caja también nos permite trabajar con variable categóricas.",
   "metadata": {
    "tags": [],
    "deepnote_app_coordinates": {
     "x": 0,
     "y": 0,
     "w": 12,
     "h": 5
    },
    "cell_id": "00027-abbaf5ad-78bb-45a7-92d2-b7c50904f5b2",
    "deepnote_cell_type": "markdown"
   }
  },
  {
   "cell_type": "code",
   "source": "sns.boxplot(data=data, x='engine_fuel', y='price_usd')\n\nplt.title('Diagramas de cajas del precio según el tipo de combustible del motor')\nplt.show()",
   "metadata": {
    "tags": [],
    "deepnote_app_coordinates": {
     "x": 0,
     "y": 0,
     "w": 12,
     "h": 5
    },
    "cell_id": "00028-356f4f1d-46d4-487a-b2eb-1ca168a366bf",
    "deepnote_to_be_reexecuted": false,
    "source_hash": "814196ed",
    "execution_start": 1633195244280,
    "execution_millis": 460,
    "deepnote_cell_type": "code"
   },
   "outputs": [
    {
     "data": {
      "text/plain": "<Figure size 921.6x518.4 with 1 Axes>",
      "image/png": "[encoded data removed]"
     },
     "metadata": {
      "image/png": {
       "width": 784,
       "height": 452
      }
     },
     "output_type": "display_data"
    }
   ],
   "execution_count": 20
  },
  {
   "cell_type": "markdown",
   "source": "## Exploración visual de los datos\n\n",
   "metadata": {
    "tags": [],
    "deepnote_app_coordinates": {
     "x": 0,
     "y": 0,
     "w": 12,
     "h": 5
    },
    "cell_id": "00029-d8433a5e-f3ef-4b0e-b79f-a271d3238011",
    "deepnote_cell_type": "markdown"
   }
  },
  {
   "cell_type": "code",
   "source": "# Utilizaremos el dataset de iris para mostrar los distintos tipos de visualizaciones.\n\niris = sns.load_dataset('iris')\n\niris.head()",
   "metadata": {
    "tags": [],
    "deepnote_app_coordinates": {
     "x": 0,
     "y": 0,
     "w": 12,
     "h": 5
    },
    "cell_id": "00030-e7983182-e94a-4949-af36-c073d22c9129",
    "deepnote_to_be_reexecuted": false,
    "source_hash": "b9971ef5",
    "execution_start": 1633195244742,
    "execution_millis": 58,
    "deepnote_cell_type": "code"
   },
   "outputs": [
    {
     "output_type": "execute_result",
     "execution_count": 21,
     "data": {
      "application/vnd.deepnote.dataframe.v2+json": {
       "row_count": 5,
       "column_count": 5,
       "columns": [
        {
         "name": "sepal_length",
         "dtype": "float64",
         "stats": {
          "unique_count": 5,
          "nan_count": 0,
          "min": "4.6",
          "max": "5.1",
          "histogram": [
           {
            "bin_start": 4.6,
            "bin_end": 4.6499999999999995,
            "count": 1
           },
           {
            "bin_start": 4.6499999999999995,
            "bin_end": 4.699999999999999,
            "count": 0
           },
           {
            "bin_start": 4.699999999999999,
            "bin_end": 4.75,
            "count": 1
           },
           {
            "bin_start": 4.75,
            "bin_end": 4.8,
            "count": 0
           },
           {
            "bin_start": 4.8,
            "bin_end": 4.85,
            "count": 0
           },
           {
            "bin_start": 4.85,
            "bin_end": 4.8999999999999995,
            "count": 0
           },
           {
            "bin_start": 4.8999999999999995,
            "bin_end": 4.949999999999999,
            "count": 1
           },
           {
            "bin_start": 4.949999999999999,
            "bin_end": 5,
            "count": 0
           },
           {
            "bin_start": 5,
            "bin_end": 5.05,
            "count": 1
           },
           {
            "bin_start": 5.05,
            "bin_end": 5.1,
            "count": 1
           }
          ]
         }
        },
        {
         "name": "sepal_width",
         "dtype": "float64",
         "stats": {
          "unique_count": 5,
          "nan_count": 0,
          "min": "3.0",
          "max": "3.6",
          "histogram": [
           {
            "bin_start": 3,
            "bin_end": 3.06,
            "count": 1
           },
           {
            "bin_start": 3.06,
            "bin_end": 3.12,
            "count": 1
           },
           {
            "bin_start": 3.12,
            "bin_end": 3.18,
            "count": 0
           },
           {
            "bin_start": 3.18,
            "bin_end": 3.24,
            "count": 1
           },
           {
            "bin_start": 3.24,
            "bin_end": 3.3,
            "count": 0
           },
           {
            "bin_start": 3.3,
            "bin_end": 3.3600000000000003,
            "count": 0
           },
           {
            "bin_start": 3.3600000000000003,
            "bin_end": 3.42,
            "count": 0
           },
           {
            "bin_start": 3.42,
            "bin_end": 3.48,
            "count": 0
           },
           {
            "bin_start": 3.48,
            "bin_end": 3.54,
            "count": 1
           },
           {
            "bin_start": 3.54,
            "bin_end": 3.6,
            "count": 1
           }
          ]
         }
        },
        {
         "name": "petal_length",
         "dtype": "float64",
         "stats": {
          "unique_count": 3,
          "nan_count": 0,
          "min": "1.3",
          "max": "1.5",
          "histogram": [
           {
            "bin_start": 1.3,
            "bin_end": 1.32,
            "count": 1
           },
           {
            "bin_start": 1.32,
            "bin_end": 1.34,
            "count": 0
           },
           {
            "bin_start": 1.34,
            "bin_end": 1.36,
            "count": 0
           },
           {
            "bin_start": 1.36,
            "bin_end": 1.3800000000000001,
            "count": 0
           },
           {
            "bin_start": 1.3800000000000001,
            "bin_end": 1.4,
            "count": 0
           },
           {
            "bin_start": 1.4,
            "bin_end": 1.42,
            "count": 3
           },
           {
            "bin_start": 1.42,
            "bin_end": 1.44,
            "count": 0
           },
           {
            "bin_start": 1.44,
            "bin_end": 1.46,
            "count": 0
           },
           {
            "bin_start": 1.46,
            "bin_end": 1.48,
            "count": 0
           },
           {
            "bin_start": 1.48,
            "bin_end": 1.5,
            "count": 1
           }
          ]
         }
        },
        {
         "name": "petal_width",
         "dtype": "float64",
         "stats": {
          "unique_count": 1,
          "nan_count": 0,
          "min": "0.2",
          "max": "0.2",
          "histogram": [
           {
            "bin_start": -0.3,
            "bin_end": -0.19999999999999998,
            "count": 0
           },
           {
            "bin_start": -0.19999999999999998,
            "bin_end": -0.09999999999999998,
            "count": 0
           },
           {
            "bin_start": -0.09999999999999998,
            "bin_end": 5.551115123125783e-17,
            "count": 0
           },
           {
            "bin_start": 5.551115123125783e-17,
            "bin_end": 0.10000000000000003,
            "count": 0
           },
           {
            "bin_start": 0.10000000000000003,
            "bin_end": 0.2,
            "count": 0
           },
           {
            "bin_start": 0.2,
            "bin_end": 0.3000000000000001,
            "count": 5
           },
           {
            "bin_start": 0.3000000000000001,
            "bin_end": 0.4000000000000001,
            "count": 0
           },
           {
            "bin_start": 0.4000000000000001,
            "bin_end": 0.5,
            "count": 0
           },
           {
            "bin_start": 0.5,
            "bin_end": 0.6000000000000001,
            "count": 0
           },
           {
            "bin_start": 0.6000000000000001,
            "bin_end": 0.7,
            "count": 0
           }
          ]
         }
        },
        {
         "name": "species",
         "dtype": "object",
         "stats": {
          "unique_count": 1,
          "nan_count": 0,
          "categories": [
           {
            "name": "setosa",
            "count": 5
           }
          ]
         }
        },
        {
         "name": "_deepnote_index_column",
         "dtype": "int64"
        }
       ],
       "rows_top": [
        {
         "sepal_length": 5.1,
         "sepal_width": 3.5,
         "petal_length": 1.4,
         "petal_width": 0.2,
         "species": "setosa",
         "_deepnote_index_column": 0
        },
        {
         "sepal_length": 4.9,
         "sepal_width": 3,
         "petal_length": 1.4,
         "petal_width": 0.2,
         "species": "setosa",
         "_deepnote_index_column": 1
        },
        {
         "sepal_length": 4.7,
         "sepal_width": 3.2,
         "petal_length": 1.3,
         "petal_width": 0.2,
         "species": "setosa",
         "_deepnote_index_column": 2
        },
        {
         "sepal_length": 4.6,
         "sepal_width": 3.1,
         "petal_length": 1.5,
         "petal_width": 0.2,
         "species": "setosa",
         "_deepnote_index_column": 3
        },
        {
         "sepal_length": 5,
         "sepal_width": 3.6,
         "petal_length": 1.4,
         "petal_width": 0.2,
         "species": "setosa",
         "_deepnote_index_column": 4
        }
       ],
       "rows_bottom": null
      },
      "text/plain": "   sepal_length  sepal_width  petal_length  petal_width species\n0           5.1          3.5           1.4          0.2  setosa\n1           4.9          3.0           1.4          0.2  setosa\n2           4.7          3.2           1.3          0.2  setosa\n3           4.6          3.1           1.5          0.2  setosa\n4           5.0          3.6           1.4          0.2  setosa",
      "text/html": "<div>\n<style scoped>\n    .dataframe tbody tr th:only-of-type {\n        vertical-align: middle;\n    }\n\n    .dataframe tbody tr th {\n        vertical-align: top;\n    }\n\n    .dataframe thead th {\n        text-align: right;\n    }\n</style>\n<table border=\"1\" class=\"dataframe\">\n  <thead>\n    <tr style=\"text-align: right;\">\n      <th></th>\n      <th>sepal_length</th>\n      <th>sepal_width</th>\n      <th>petal_length</th>\n      <th>petal_width</th>\n      <th>species</th>\n    </tr>\n  </thead>\n  <tbody>\n    <tr>\n      <th>0</th>\n      <td>5.1</td>\n      <td>3.5</td>\n      <td>1.4</td>\n      <td>0.2</td>\n      <td>setosa</td>\n    </tr>\n    <tr>\n      <th>1</th>\n      <td>4.9</td>\n      <td>3.0</td>\n      <td>1.4</td>\n      <td>0.2</td>\n      <td>setosa</td>\n    </tr>\n    <tr>\n      <th>2</th>\n      <td>4.7</td>\n      <td>3.2</td>\n      <td>1.3</td>\n      <td>0.2</td>\n      <td>setosa</td>\n    </tr>\n    <tr>\n      <th>3</th>\n      <td>4.6</td>\n      <td>3.1</td>\n      <td>1.5</td>\n      <td>0.2</td>\n      <td>setosa</td>\n    </tr>\n    <tr>\n      <th>4</th>\n      <td>5.0</td>\n      <td>3.6</td>\n      <td>1.4</td>\n      <td>0.2</td>\n      <td>setosa</td>\n    </tr>\n  </tbody>\n</table>\n</div>"
     },
     "metadata": {}
    }
   ],
   "execution_count": 21
  },
  {
   "cell_type": "markdown",
   "source": "Análisis de relaciones entre variables",
   "metadata": {
    "tags": [],
    "deepnote_app_coordinates": {
     "x": 0,
     "y": 0,
     "w": 12,
     "h": 5
    },
    "cell_id": "00031-1594a72f-e9df-4d56-b674-65da197bbf74",
    "deepnote_cell_type": "markdown"
   }
  },
  {
   "cell_type": "code",
   "source": "# scatterplot\nsns.scatterplot(data=iris, x='sepal_length', y='petal_length')\n\nplt.show()",
   "metadata": {
    "tags": [],
    "deepnote_app_coordinates": {
     "x": 0,
     "y": 0,
     "w": 12,
     "h": 5
    },
    "cell_id": "00031-2ef480a0-4a1e-453b-86ad-6ec727252108",
    "deepnote_to_be_reexecuted": false,
    "source_hash": "bb3bf413",
    "execution_start": 1633195244798,
    "execution_millis": 432,
    "deepnote_cell_type": "code"
   },
   "outputs": [
    {
     "data": {
      "text/plain": "<Figure size 921.6x518.4 with 1 Axes>",
      "image/png": "[encoded data removed]"
     },
     "metadata": {
      "image/png": {
       "width": 756,
       "height": 436
      }
     },
     "output_type": "display_data"
    }
   ],
   "execution_count": 22
  },
  {
   "cell_type": "code",
   "source": "sns.scatterplot(data=iris, x='sepal_length', y='petal_length', hue='species')\n\nplt.show()",
   "metadata": {
    "tags": [],
    "deepnote_app_coordinates": {
     "x": 0,
     "y": 0,
     "w": 12,
     "h": 5
    },
    "cell_id": "00032-20dc675e-6e8f-4e92-ab69-31b55810cb00",
    "deepnote_to_be_reexecuted": false,
    "source_hash": "60345554",
    "execution_start": 1633195245254,
    "execution_millis": 565,
    "deepnote_cell_type": "code"
   },
   "outputs": [
    {
     "data": {
      "text/plain": "<Figure size 921.6x518.4 with 1 Axes>",
      "image/png": "[encoded data removed]"
     },
     "metadata": {
      "image/png": {
       "width": 756,
       "height": 436
      }
     },
     "output_type": "display_data"
    }
   ],
   "execution_count": 23
  },
  {
   "cell_type": "code",
   "source": "# join plot\nsns.jointplot(data=iris, x='sepal_length', y='petal_length', hue='species')\n\nplt.show()",
   "metadata": {
    "tags": [],
    "deepnote_app_coordinates": {
     "x": 0,
     "y": 0,
     "w": 12,
     "h": 5
    },
    "cell_id": "00033-b850f803-2665-4c38-93af-051b1795f495",
    "deepnote_to_be_reexecuted": false,
    "source_hash": "644f6eef",
    "execution_start": 1633195245875,
    "execution_millis": 903,
    "deepnote_cell_type": "code"
   },
   "outputs": [
    {
     "data": {
      "text/plain": "<Figure size 432x432 with 3 Axes>",
      "image/png": "[encoded data removed]"
     },
     "metadata": {
      "image/png": {
       "width": 410,
       "height": 420
      }
     },
     "output_type": "display_data"
    }
   ],
   "execution_count": 24
  },
  {
   "cell_type": "code",
   "source": "sns.boxplot(data=iris, x='species', y='sepal_length')\nplt.show()",
   "metadata": {
    "tags": [],
    "deepnote_app_coordinates": {
     "x": 0,
     "y": 0,
     "w": 12,
     "h": 5
    },
    "cell_id": "00035-c322cf46-4f18-4118-a9f8-0def13e1ec4b",
    "deepnote_to_be_reexecuted": false,
    "source_hash": "d56d8353",
    "execution_start": 1633195246776,
    "execution_millis": 340,
    "deepnote_cell_type": "code"
   },
   "outputs": [
    {
     "data": {
      "text/plain": "<Figure size 921.6x518.4 with 1 Axes>",
      "image/png": "[encoded data removed]"
     },
     "metadata": {
      "image/png": {
       "width": 766,
       "height": 436
      }
     },
     "output_type": "display_data"
    }
   ],
   "execution_count": 25
  },
  {
   "cell_type": "code",
   "source": "# barplot\nsns.barplot(data=iris, x='species', y='sepal_length')\n\nplt.show()",
   "metadata": {
    "tags": [],
    "deepnote_app_coordinates": {
     "x": 0,
     "y": 0,
     "w": 12,
     "h": 5
    },
    "cell_id": "00036-5ed897bf-7ae4-46b8-bb00-5ab723412445",
    "deepnote_to_be_reexecuted": false,
    "source_hash": "55b742a",
    "execution_start": 1633195247139,
    "execution_millis": 414,
    "deepnote_cell_type": "code"
   },
   "outputs": [
    {
     "data": {
      "text/plain": "<Figure size 921.6x518.4 with 1 Axes>",
      "image/png": "[encoded data removed]"
     },
     "metadata": {
      "image/png": {
       "width": 756,
       "height": 436
      }
     },
     "output_type": "display_data"
    }
   ],
   "execution_count": 26
  },
  {
   "cell_type": "markdown",
   "source": "## Pipelines de procesamiento para variables numéricas\n\n### Escalamiento lineal\n\nEs importante normalizar los datos (hacer escalamiento lineal), antes de pasarlos por un modelo de machine learning. Esto porque los modelos son eficientes si están en el mismo rango [-1, 1]. Si no están en ese rango, tienen que ser transformados (escalados).\n\n**¿Por qué usarlos?**\n- Modelos de machine learning eficientes en el rango [-1, 1]\n\n**¿Hay diferentes tipos?**\n- max-min, Clipping (no recomendado), Z-score, Winsorizing, etc.\n\n**¿Cuándo usarlos?**\n- Data simétrica o uniformemente distribuida.\n\n#### Min-Max\n\nHace una transformación para que los datos entren en el rango [-1, 1] por medio de una fórmula. Es uno de los más usados. Funciona mejor para datos uniformemente distribuidos.\n\n### $x_s = {{2x - min - max}\\over{max - min}}$\n\n#### Clipping\n\nFuerza a que los datos que se salen del rango, se transformen en datos dentro del mismo. Este método no es muy recomendado porque descarta valores outliers que puede que estén funcionando bien.\n\n#### Winsorizing\n\nUna variación del clipping que usa los quartils como extremos.\n\n#### Z-score\n\nEs uno de los más comunes porque está basado en el promedio y desviación estándar. Funciona mejor para datos distribuidos \"normalmente\" (forma de campana de Gauss).\n\nSea la media $\\mu$ y la desvicación estándar $\\sigma$:\n\n### $x_s = {{x-\\mu}\\over{\\sigma}}$\n\n### Transformación no lineal\n\nCuando la data no es simétrica o uniforme, sino que está muy sesgada, se le aplica una transformación para que tengan una distribución simétrica y se pueda aplicar los escalamientos lineales.\n\nHay diferentes tipos de de funciones no lineales: logaritmos, sigmoides, polinomiales, etc. Estas funciones se les puede aplicar a los datos para transformarlos y hacerlos homogéneos.\n\n**¿Por qué usarlos?**\n- Datos fuertemente sesgados, no simétricos.\n\n**¿Hay difertentes tipos?**\n- Logaritmos, sigmoides, polinomiales, etc.\n\n**¿Cuándo usarlos?**\n- Antes de escalamientos lineales.\n\n#### Tanh(x)\nLa $tanh$ siempre está en un rango de -1 a 1 en $y$, por lo que, cuando los valores de $x$ son muy altos, estarán muy cercanos al $|1|$. También se podría calibrar los datos para ajustar la curva, dividiéndolos por un parámetro $a$.\n\n#### Raíz cuadrada\nOtras funciones polinomiales, por ejemplo la raíz cuadrada (x½), también pueden hacer que una distribución se normalice.\n\nHay un abanico gigante de maneras para hacer estas transformaciones con funciones no lineales. Los anteriores fueron solo 2 ejemplos. Las más famosas son la tanh y la sigmoide porque ambas amplian los valores importantes y acercan al 0, mientras que a los outliers los minimizan y acercan a -1 y 1.",
   "metadata": {
    "tags": [],
    "deepnote_app_coordinates": {
     "x": 0,
     "y": 0,
     "w": 12,
     "h": 5
    },
    "cell_id": "00037-384768fb-651b-4152-8919-f6a4069e1c1e",
    "deepnote_cell_type": "markdown"
   }
  },
  {
   "cell_type": "code",
   "source": "import timeit\nimport numpy as np\nimport pandas as pd\nimport matplotlib.pyplot as plt\nimport seaborn as sns\nfrom sklearn import datasets, linear_model\n\nscale_x = 2\nscale_y = 1.5\nfigsize = (6.4*scale_x, 4.8*scale_y)\nplt.rcParams['figure.figsize'] = figsize\nsns.set(rc={'figure.figsize': figsize})\nplt.style.use('seaborn-darkgrid')",
   "metadata": {
    "tags": [],
    "deepnote_app_coordinates": {
     "x": 0,
     "y": 0,
     "w": 12,
     "h": 5
    },
    "cell_id": "00038-9b9b4134-04fe-405b-8f08-0812033abe09",
    "deepnote_to_be_reexecuted": false,
    "source_hash": "66be2357",
    "execution_start": 1633202218835,
    "execution_millis": 477,
    "deepnote_cell_type": "code"
   },
   "outputs": [],
   "execution_count": 27
  },
  {
   "cell_type": "code",
   "source": "# Cargar dataset\n\ndata = datasets.load_diabetes()\n\nprint(data['DESCR'])",
   "metadata": {
    "tags": [],
    "deepnote_app_coordinates": {
     "x": 0,
     "y": 0,
     "w": 12,
     "h": 5
    },
    "cell_id": "00039-ecc49d8d-d13b-47d6-bac7-67baf6fe47ad",
    "deepnote_to_be_reexecuted": false,
    "source_hash": "8b017fd3",
    "execution_start": 1633202357000,
    "execution_millis": 28,
    "deepnote_cell_type": "code"
   },
   "outputs": [
    {
     "name": "stdout",
     "text": ".. _diabetes_dataset:\n\nDiabetes dataset\n----------------\n\nTen baseline variables, age, sex, body mass index, average blood\npressure, and six blood serum measurements were obtained for each of n =\n442 diabetes patients, as well as the response of interest, a\nquantitative measure of disease progression one year after baseline.\n\n**Data Set Characteristics:**\n\n  :Number of Instances: 442\n\n  :Number of Attributes: First 10 columns are numeric predictive values\n\n  :Target: Column 11 is a quantitative measure of disease progression one year after baseline\n\n  :Attribute Information:\n      - age     age in years\n      - sex\n      - bmi     body mass index\n      - bp      average blood pressure\n      - s1      tc, total serum cholesterol\n      - s2      ldl, low-density lipoproteins\n      - s3      hdl, high-density lipoproteins\n      - s4      tch, total cholesterol / HDL\n      - s5      ltg, possibly log of serum triglycerides level\n      - s6      glu, blood sugar level\n\nNote: Each of these 10 feature variables have been mean centered and scaled by the standard deviation times `n_samples` (i.e. the sum of squares of each column totals 1).\n\nSource URL:\nhttps://www4.stat.ncsu.edu/~boos/var.select/diabetes.html\n\nFor more information see:\nBradley Efron, Trevor Hastie, Iain Johnstone and Robert Tibshirani (2004) \"Least Angle Regression,\" Annals of Statistics (with discussion), 407-499.\n(https://web.stanford.edu/~hastie/Papers/LARS/LeastAngle_2002.pdf)\n",
     "output_type": "stream"
    }
   ],
   "execution_count": 32
  },
  {
   "cell_type": "code",
   "source": "data.keys()",
   "metadata": {
    "tags": [],
    "deepnote_app_coordinates": {
     "x": 0,
     "y": 0,
     "w": 12,
     "h": 5
    },
    "cell_id": "00040-e4dcdc15-8ff1-4449-b0bd-c7965e957b72",
    "deepnote_to_be_reexecuted": false,
    "source_hash": "b3f31f0a",
    "execution_start": 1633202430476,
    "deepnote_cell_type": "code"
   },
   "outputs": [
    {
     "output_type": "execute_result",
     "execution_count": 33,
     "data": {
      "text/plain": "dict_keys(['data', 'target', 'frame', 'DESCR', 'feature_names', 'data_filename', 'target_filename'])"
     },
     "metadata": {}
    }
   ],
   "execution_count": 33
  },
  {
   "cell_type": "code",
   "source": "df = pd.DataFrame(data=data['data'], columns=data['feature_names'])\n\ndf['target'] = data['target']\n\ndf.head()",
   "metadata": {
    "tags": [],
    "deepnote_app_coordinates": {
     "x": 0,
     "y": 0,
     "w": 12,
     "h": 5
    },
    "cell_id": "00041-9b732a09-e6f9-4924-abad-b020c8d21a3a",
    "deepnote_to_be_reexecuted": false,
    "source_hash": "1232feb0",
    "execution_start": 1633202543690,
    "execution_millis": 16,
    "deepnote_cell_type": "code"
   },
   "outputs": [
    {
     "output_type": "execute_result",
     "execution_count": 37,
     "data": {
      "application/vnd.deepnote.dataframe.v2+json": {
       "row_count": 5,
       "column_count": 11,
       "columns": [
        {
         "name": "age",
         "dtype": "float64",
         "stats": {
          "unique_count": 5,
          "nan_count": 0,
          "min": "-0.0890629393522603",
          "max": "0.0852989062966783",
          "histogram": [
           {
            "bin_start": -0.0890629393522603,
            "bin_end": -0.07162675478736644,
            "count": 1
           },
           {
            "bin_start": -0.07162675478736644,
            "bin_end": -0.05419057022247258,
            "count": 0
           },
           {
            "bin_start": -0.05419057022247258,
            "bin_end": -0.03675438565757873,
            "count": 0
           },
           {
            "bin_start": -0.03675438565757873,
            "bin_end": -0.019318201092684867,
            "count": 0
           },
           {
            "bin_start": -0.019318201092684867,
            "bin_end": -0.0018820165277910056,
            "count": 1
           },
           {
            "bin_start": -0.0018820165277910056,
            "bin_end": 0.015554168037102842,
            "count": 1
           },
           {
            "bin_start": 0.015554168037102842,
            "bin_end": 0.0329903526019967,
            "count": 0
           },
           {
            "bin_start": 0.0329903526019967,
            "bin_end": 0.050426537166890564,
            "count": 1
           },
           {
            "bin_start": 0.050426537166890564,
            "bin_end": 0.06786272173178441,
            "count": 0
           },
           {
            "bin_start": 0.06786272173178441,
            "bin_end": 0.0852989062966783,
            "count": 1
           }
          ]
         }
        },
        {
         "name": "sex",
         "dtype": "float64",
         "stats": {
          "unique_count": 2,
          "nan_count": 0,
          "min": "-0.044641636506989",
          "max": "0.0506801187398187",
          "histogram": [
           {
            "bin_start": -0.044641636506989,
            "bin_end": -0.03510946098230823,
            "count": 3
           },
           {
            "bin_start": -0.03510946098230823,
            "bin_end": -0.02557728545762746,
            "count": 0
           },
           {
            "bin_start": -0.02557728545762746,
            "bin_end": -0.016045109932946687,
            "count": 0
           },
           {
            "bin_start": -0.016045109932946687,
            "bin_end": -0.006512934408265919,
            "count": 0
           },
           {
            "bin_start": -0.006512934408265919,
            "bin_end": 0.003019241116414849,
            "count": 0
           },
           {
            "bin_start": 0.003019241116414849,
            "bin_end": 0.012551416641095624,
            "count": 0
           },
           {
            "bin_start": 0.012551416641095624,
            "bin_end": 0.022083592165776385,
            "count": 0
           },
           {
            "bin_start": 0.022083592165776385,
            "bin_end": 0.03161576769045716,
            "count": 0
           },
           {
            "bin_start": 0.03161576769045716,
            "bin_end": 0.041147943215137935,
            "count": 0
           },
           {
            "bin_start": 0.041147943215137935,
            "bin_end": 0.0506801187398187,
            "count": 2
           }
          ]
         }
        },
        {
         "name": "bmi",
         "dtype": "float64",
         "stats": {
          "unique_count": 5,
          "nan_count": 0,
          "min": "-0.0514740612388061",
          "max": "0.0616962065186885",
          "histogram": [
           {
            "bin_start": -0.0514740612388061,
            "bin_end": -0.04015703446305664,
            "count": 1
           },
           {
            "bin_start": -0.04015703446305664,
            "bin_end": -0.02884000768730718,
            "count": 1
           },
           {
            "bin_start": -0.02884000768730718,
            "bin_end": -0.01752298091155772,
            "count": 0
           },
           {
            "bin_start": -0.01752298091155772,
            "bin_end": -0.00620595413580826,
            "count": 1
           },
           {
            "bin_start": -0.00620595413580826,
            "bin_end": 0.0051110726399411985,
            "count": 0
           },
           {
            "bin_start": 0.0051110726399411985,
            "bin_end": 0.016428099415690664,
            "count": 0
           },
           {
            "bin_start": 0.016428099415690664,
            "bin_end": 0.027745126191440123,
            "count": 0
           },
           {
            "bin_start": 0.027745126191440123,
            "bin_end": 0.03906215296718958,
            "count": 0
           },
           {
            "bin_start": 0.03906215296718958,
            "bin_end": 0.05037917974293904,
            "count": 1
           },
           {
            "bin_start": 0.05037917974293904,
            "bin_end": 0.0616962065186885,
            "count": 1
           }
          ]
         }
        },
        {
         "name": "bp",
         "dtype": "float64",
         "stats": {
          "unique_count": 4,
          "nan_count": 0,
          "min": "-0.0366564467985606",
          "max": "0.0218723549949558",
          "histogram": [
           {
            "bin_start": -0.0366564467985606,
            "bin_end": -0.030803566619208963,
            "count": 1
           },
           {
            "bin_start": -0.030803566619208963,
            "bin_end": -0.024950686439857324,
            "count": 1
           },
           {
            "bin_start": -0.024950686439857324,
            "bin_end": -0.01909780626050568,
            "count": 0
           },
           {
            "bin_start": -0.01909780626050568,
            "bin_end": -0.013244926081154042,
            "count": 0
           },
           {
            "bin_start": -0.013244926081154042,
            "bin_end": -0.0073920459018024035,
            "count": 0
           },
           {
            "bin_start": -0.0073920459018024035,
            "bin_end": -0.001539165722450761,
            "count": 1
           },
           {
            "bin_start": -0.001539165722450761,
            "bin_end": 0.0043137144569008745,
            "count": 0
           },
           {
            "bin_start": 0.0043137144569008745,
            "bin_end": 0.010166594636252517,
            "count": 0
           },
           {
            "bin_start": 0.010166594636252517,
            "bin_end": 0.01601947481560416,
            "count": 0
           },
           {
            "bin_start": 0.01601947481560416,
            "bin_end": 0.0218723549949558,
            "count": 2
           }
          ]
         }
        },
        {
         "name": "s1",
         "dtype": "float64",
         "stats": {
          "unique_count": 5,
          "nan_count": 0,
          "min": "-0.0455994512826475",
          "max": "0.0121905687618",
          "histogram": [
           {
            "bin_start": -0.0455994512826475,
            "bin_end": -0.03982044927820275,
            "count": 2
           },
           {
            "bin_start": -0.03982044927820275,
            "bin_end": -0.034041447273758005,
            "count": 0
           },
           {
            "bin_start": -0.034041447273758005,
            "bin_end": -0.02826244526931325,
            "count": 0
           },
           {
            "bin_start": -0.02826244526931325,
            "bin_end": -0.0224834432648685,
            "count": 0
           },
           {
            "bin_start": -0.0224834432648685,
            "bin_end": -0.016704441260423752,
            "count": 0
           },
           {
            "bin_start": -0.016704441260423752,
            "bin_end": -0.010925439255978997,
            "count": 0
           },
           {
            "bin_start": -0.010925439255978997,
            "bin_end": -0.0051464372515342485,
            "count": 1
           },
           {
            "bin_start": -0.0051464372515342485,
            "bin_end": 0.0006325647529105,
            "count": 0
           },
           {
            "bin_start": 0.0006325647529105,
            "bin_end": 0.0064115667573552484,
            "count": 1
           },
           {
            "bin_start": 0.0064115667573552484,
            "bin_end": 0.0121905687618,
            "count": 1
           }
          ]
         }
        },
        {
         "name": "s2",
         "dtype": "float64",
         "stats": {
          "unique_count": 5,
          "nan_count": 0,
          "min": "-0.0348207628376986",
          "max": "0.0249905933641021",
          "histogram": [
           {
            "bin_start": -0.0348207628376986,
            "bin_end": -0.02883962721751853,
            "count": 2
           },
           {
            "bin_start": -0.02883962721751853,
            "bin_end": -0.02285849159733846,
            "count": 0
           },
           {
            "bin_start": -0.02285849159733846,
            "bin_end": -0.016877355977158393,
            "count": 1
           },
           {
            "bin_start": -0.016877355977158393,
            "bin_end": -0.01089622035697832,
            "count": 0
           },
           {
            "bin_start": -0.01089622035697832,
            "bin_end": -0.0049150847367982475,
            "count": 0
           },
           {
            "bin_start": -0.0049150847367982475,
            "bin_end": 0.001066050883381818,
            "count": 0
           },
           {
            "bin_start": 0.001066050883381818,
            "bin_end": 0.0070471865035618905,
            "count": 0
           },
           {
            "bin_start": 0.0070471865035618905,
            "bin_end": 0.013028322123741963,
            "count": 0
           },
           {
            "bin_start": 0.013028322123741963,
            "bin_end": 0.019009457743922036,
            "count": 1
           },
           {
            "bin_start": 0.019009457743922036,
            "bin_end": 0.0249905933641021,
            "count": 1
           }
          ]
         }
        },
        {
         "name": "s3",
         "dtype": "float64",
         "stats": {
          "unique_count": 5,
          "nan_count": 0,
          "min": "-0.0434008456520269",
          "max": "0.0744115640787594",
          "histogram": [
           {
            "bin_start": -0.0434008456520269,
            "bin_end": -0.03161960467894827,
            "count": 3
           },
           {
            "bin_start": -0.03161960467894827,
            "bin_end": -0.019838363705869638,
            "count": 0
           },
           {
            "bin_start": -0.019838363705869638,
            "bin_end": -0.008057122732791008,
            "count": 0
           },
           {
            "bin_start": -0.008057122732791008,
            "bin_end": 0.0037241182402876216,
            "count": 0
           },
           {
            "bin_start": 0.0037241182402876216,
            "bin_end": 0.015505359213366252,
            "count": 1
           },
           {
            "bin_start": 0.015505359213366252,
            "bin_end": 0.02728660018644488,
            "count": 0
           },
           {
            "bin_start": 0.02728660018644488,
            "bin_end": 0.03906784115952351,
            "count": 0
           },
           {
            "bin_start": 0.03906784115952351,
            "bin_end": 0.05084908213260214,
            "count": 0
           },
           {
            "bin_start": 0.05084908213260214,
            "bin_end": 0.06263032310568077,
            "count": 0
           },
           {
            "bin_start": 0.06263032310568077,
            "bin_end": 0.0744115640787594,
            "count": 1
           }
          ]
         }
        },
        {
         "name": "s4",
         "dtype": "float64",
         "stats": {
          "unique_count": 3,
          "nan_count": 0,
          "min": "-0.0394933828740919",
          "max": "0.0343088588777263",
          "histogram": [
           {
            "bin_start": -0.0394933828740919,
            "bin_end": -0.03211315869891008,
            "count": 1
           },
           {
            "bin_start": -0.03211315869891008,
            "bin_end": -0.024732934523728257,
            "count": 0
           },
           {
            "bin_start": -0.024732934523728257,
            "bin_end": -0.017352710348546435,
            "count": 0
           },
           {
            "bin_start": -0.017352710348546435,
            "bin_end": -0.009972486173364617,
            "count": 0
           },
           {
            "bin_start": -0.009972486173364617,
            "bin_end": -0.002592261998182799,
            "count": 3
           },
           {
            "bin_start": -0.002592261998182799,
            "bin_end": 0.004787962176999026,
            "count": 0
           },
           {
            "bin_start": 0.004787962176999026,
            "bin_end": 0.012168186352180844,
            "count": 0
           },
           {
            "bin_start": 0.012168186352180844,
            "bin_end": 0.019548410527362663,
            "count": 0
           },
           {
            "bin_start": 0.019548410527362663,
            "bin_end": 0.02692863470254448,
            "count": 0
           },
           {
            "bin_start": 0.02692863470254448,
            "bin_end": 0.0343088588777263,
            "count": 1
           }
          ]
         }
        },
        {
         "name": "s5",
         "dtype": "float64",
         "stats": {
          "unique_count": 5,
          "nan_count": 0,
          "min": "-0.0683297436244215",
          "max": "0.0226920225667445",
          "histogram": [
           {
            "bin_start": -0.0683297436244215,
            "bin_end": -0.0592275670053049,
            "count": 1
           },
           {
            "bin_start": -0.0592275670053049,
            "bin_end": -0.050125390386188295,
            "count": 0
           },
           {
            "bin_start": -0.050125390386188295,
            "bin_end": -0.0410232137670717,
            "count": 0
           },
           {
            "bin_start": -0.0410232137670717,
            "bin_end": -0.0319210371479551,
            "count": 1
           },
           {
            "bin_start": -0.0319210371479551,
            "bin_end": -0.022818860528838497,
            "count": 0
           },
           {
            "bin_start": -0.022818860528838497,
            "bin_end": -0.013716683909721902,
            "count": 0
           },
           {
            "bin_start": -0.013716683909721902,
            "bin_end": -0.004614507290605294,
            "count": 0
           },
           {
            "bin_start": -0.004614507290605294,
            "bin_end": 0.004487669328511301,
            "count": 1
           },
           {
            "bin_start": 0.004487669328511301,
            "bin_end": 0.013589845947627896,
            "count": 0
           },
           {
            "bin_start": 0.013589845947627896,
            "bin_end": 0.0226920225667445,
            "count": 2
           }
          ]
         }
        },
        {
         "name": "s6",
         "dtype": "float64",
         "stats": {
          "unique_count": 5,
          "nan_count": 0,
          "min": "-0.09220404962683",
          "max": "-0.0093619113301358",
          "histogram": [
           {
            "bin_start": -0.09220404962683,
            "bin_end": -0.08391983579716059,
            "count": 1
           },
           {
            "bin_start": -0.08391983579716059,
            "bin_end": -0.07563562196749116,
            "count": 0
           },
           {
            "bin_start": -0.07563562196749116,
            "bin_end": -0.06735140813782174,
            "count": 0
           },
           {
            "bin_start": -0.06735140813782174,
            "bin_end": -0.05906719430815232,
            "count": 0
           },
           {
            "bin_start": -0.05906719430815232,
            "bin_end": -0.0507829804784829,
            "count": 0
           },
           {
            "bin_start": -0.0507829804784829,
            "bin_end": -0.04249876664881348,
            "count": 1
           },
           {
            "bin_start": -0.04249876664881348,
            "bin_end": -0.03421455281914406,
            "count": 0
           },
           {
            "bin_start": -0.03421455281914406,
            "bin_end": -0.02593033898947464,
            "count": 0
           },
           {
            "bin_start": -0.02593033898947464,
            "bin_end": -0.017646125159805223,
            "count": 1
           },
           {
            "bin_start": -0.017646125159805223,
            "bin_end": -0.0093619113301358,
            "count": 2
           }
          ]
         }
        },
        {
         "name": "target",
         "dtype": "float64",
         "stats": {
          "unique_count": 5,
          "nan_count": 0,
          "min": "75.0",
          "max": "206.0",
          "histogram": [
           {
            "bin_start": 75,
            "bin_end": 88.1,
            "count": 1
           },
           {
            "bin_start": 88.1,
            "bin_end": 101.2,
            "count": 0
           },
           {
            "bin_start": 101.2,
            "bin_end": 114.3,
            "count": 0
           },
           {
            "bin_start": 114.3,
            "bin_end": 127.4,
            "count": 0
           },
           {
            "bin_start": 127.4,
            "bin_end": 140.5,
            "count": 1
           },
           {
            "bin_start": 140.5,
            "bin_end": 153.6,
            "count": 2
           },
           {
            "bin_start": 153.6,
            "bin_end": 166.7,
            "count": 0
           },
           {
            "bin_start": 166.7,
            "bin_end": 179.8,
            "count": 0
           },
           {
            "bin_start": 179.8,
            "bin_end": 192.89999999999998,
            "count": 0
           },
           {
            "bin_start": 192.89999999999998,
            "bin_end": 206,
            "count": 1
           }
          ]
         }
        },
        {
         "name": "_deepnote_index_column",
         "dtype": "int64"
        }
       ],
       "rows_top": [
        {
         "age": 0.0380759064334241,
         "sex": 0.0506801187398187,
         "bmi": 0.0616962065186885,
         "bp": 0.0218723549949558,
         "s1": -0.0442234984244464,
         "s2": -0.0348207628376986,
         "s3": -0.0434008456520269,
         "s4": -0.00259226199818282,
         "s5": 0.0199084208763183,
         "s6": -0.0176461251598052,
         "target": 151,
         "_deepnote_index_column": 0
        },
        {
         "age": -0.00188201652779104,
         "sex": -0.044641636506989,
         "bmi": -0.0514740612388061,
         "bp": -0.0263278347173518,
         "s1": -0.00844872411121698,
         "s2": -0.019163339748222,
         "s3": 0.0744115640787594,
         "s4": -0.0394933828740919,
         "s5": -0.0683297436244215,
         "s6": -0.09220404962683,
         "target": 75,
         "_deepnote_index_column": 1
        },
        {
         "age": 0.0852989062966783,
         "sex": 0.0506801187398187,
         "bmi": 0.0444512133365941,
         "bp": -0.00567061055493425,
         "s1": -0.0455994512826475,
         "s2": -0.0341944659141195,
         "s3": -0.0323559322397657,
         "s4": -0.00259226199818282,
         "s5": 0.00286377051894013,
         "s6": -0.0259303389894746,
         "target": 141,
         "_deepnote_index_column": 2
        },
        {
         "age": -0.0890629393522603,
         "sex": -0.044641636506989,
         "bmi": -0.0115950145052127,
         "bp": -0.0366564467985606,
         "s1": 0.0121905687618,
         "s2": 0.0249905933641021,
         "s3": -0.0360375700438527,
         "s4": 0.0343088588777263,
         "s5": 0.0226920225667445,
         "s6": -0.0093619113301358,
         "target": 206,
         "_deepnote_index_column": 3
        },
        {
         "age": 0.00538306037424807,
         "sex": -0.044641636506989,
         "bmi": -0.0363846922044735,
         "bp": 0.0218723549949558,
         "s1": 0.00393485161259318,
         "s2": 0.0155961395104161,
         "s3": 0.0081420836051921,
         "s4": -0.00259226199818282,
         "s5": -0.0319914449413559,
         "s6": -0.0466408735636482,
         "target": 135,
         "_deepnote_index_column": 4
        }
       ],
       "rows_bottom": null
      },
      "text/plain": "        age       sex       bmi        bp        s1        s2        s3  \\\n0  0.038076  0.050680  0.061696  0.021872 -0.044223 -0.034821 -0.043401   \n1 -0.001882 -0.044642 -0.051474 -0.026328 -0.008449 -0.019163  0.074412   \n2  0.085299  0.050680  0.044451 -0.005671 -0.045599 -0.034194 -0.032356   \n3 -0.089063 -0.044642 -0.011595 -0.036656  0.012191  0.024991 -0.036038   \n4  0.005383 -0.044642 -0.036385  0.021872  0.003935  0.015596  0.008142   \n\n         s4        s5        s6  target  \n0 -0.002592  0.019908 -0.017646   151.0  \n1 -0.039493 -0.068330 -0.092204    75.0  \n2 -0.002592  0.002864 -0.025930   141.0  \n3  0.034309  0.022692 -0.009362   206.0  \n4 -0.002592 -0.031991 -0.046641   135.0  ",
      "text/html": "<div>\n<style scoped>\n    .dataframe tbody tr th:only-of-type {\n        vertical-align: middle;\n    }\n\n    .dataframe tbody tr th {\n        vertical-align: top;\n    }\n\n    .dataframe thead th {\n        text-align: right;\n    }\n</style>\n<table border=\"1\" class=\"dataframe\">\n  <thead>\n    <tr style=\"text-align: right;\">\n      <th></th>\n      <th>age</th>\n      <th>sex</th>\n      <th>bmi</th>\n      <th>bp</th>\n      <th>s1</th>\n      <th>s2</th>\n      <th>s3</th>\n      <th>s4</th>\n      <th>s5</th>\n      <th>s6</th>\n      <th>target</th>\n    </tr>\n  </thead>\n  <tbody>\n    <tr>\n      <th>0</th>\n      <td>0.038076</td>\n      <td>0.050680</td>\n      <td>0.061696</td>\n      <td>0.021872</td>\n      <td>-0.044223</td>\n      <td>-0.034821</td>\n      <td>-0.043401</td>\n      <td>-0.002592</td>\n      <td>0.019908</td>\n      <td>-0.017646</td>\n      <td>151.0</td>\n    </tr>\n    <tr>\n      <th>1</th>\n      <td>-0.001882</td>\n      <td>-0.044642</td>\n      <td>-0.051474</td>\n      <td>-0.026328</td>\n      <td>-0.008449</td>\n      <td>-0.019163</td>\n      <td>0.074412</td>\n      <td>-0.039493</td>\n      <td>-0.068330</td>\n      <td>-0.092204</td>\n      <td>75.0</td>\n    </tr>\n    <tr>\n      <th>2</th>\n      <td>0.085299</td>\n      <td>0.050680</td>\n      <td>0.044451</td>\n      <td>-0.005671</td>\n      <td>-0.045599</td>\n      <td>-0.034194</td>\n      <td>-0.032356</td>\n      <td>-0.002592</td>\n      <td>0.002864</td>\n      <td>-0.025930</td>\n      <td>141.0</td>\n    </tr>\n    <tr>\n      <th>3</th>\n      <td>-0.089063</td>\n      <td>-0.044642</td>\n      <td>-0.011595</td>\n      <td>-0.036656</td>\n      <td>0.012191</td>\n      <td>0.024991</td>\n      <td>-0.036038</td>\n      <td>0.034309</td>\n      <td>0.022692</td>\n      <td>-0.009362</td>\n      <td>206.0</td>\n    </tr>\n    <tr>\n      <th>4</th>\n      <td>0.005383</td>\n      <td>-0.044642</td>\n      <td>-0.036385</td>\n      <td>0.021872</td>\n      <td>0.003935</td>\n      <td>0.015596</td>\n      <td>0.008142</td>\n      <td>-0.002592</td>\n      <td>-0.031991</td>\n      <td>-0.046641</td>\n      <td>135.0</td>\n    </tr>\n  </tbody>\n</table>\n</div>"
     },
     "metadata": {}
    }
   ],
   "execution_count": 37
  },
  {
   "cell_type": "code",
   "source": "# Extraer columna con la que vamos a trabajar\nraw = df['bmi'].to_numpy()\nraw = raw.reshape(raw.shape[0], 1)\n\nprint(type(raw))\nprint(raw.shape)",
   "metadata": {
    "tags": [],
    "deepnote_app_coordinates": {
     "x": 0,
     "y": 0,
     "w": 12,
     "h": 5
    },
    "cell_id": "00043-55878063-7510-4477-bb82-76f730c366c0",
    "deepnote_to_be_reexecuted": false,
    "source_hash": "30edac40",
    "execution_start": 1633202827880,
    "execution_millis": 13,
    "deepnote_cell_type": "code"
   },
   "outputs": [
    {
     "name": "stdout",
     "text": "<class 'numpy.ndarray'>\n(442, 1)\n",
     "output_type": "stream"
    }
   ],
   "execution_count": 47
  },
  {
   "cell_type": "code",
   "source": "target = df['target'].to_numpy()\ntarget = target.reshape(target.shape[0], 1)\n\nprint(type(target))\nprint(target.shape)",
   "metadata": {
    "tags": [],
    "deepnote_app_coordinates": {
     "x": 0,
     "y": 0,
     "w": 12,
     "h": 5
    },
    "cell_id": "00043-831513b9-32a9-402a-9507-b2ec6c646c6a",
    "deepnote_to_be_reexecuted": false,
    "source_hash": "198fe700",
    "execution_start": 1633203399691,
    "execution_millis": 13,
    "deepnote_cell_type": "code"
   },
   "outputs": [
    {
     "name": "stdout",
     "text": "<class 'numpy.ndarray'>\n(442, 1)\n",
     "output_type": "stream"
    }
   ],
   "execution_count": 57
  },
  {
   "cell_type": "code",
   "source": "# Max - Min\nmax_raw = max(raw)\nmin_raw = min(raw)\n\nscaled = (2*raw-max_raw-min_raw)/(max_raw - min_raw)",
   "metadata": {
    "tags": [],
    "deepnote_app_coordinates": {
     "x": 0,
     "y": 0,
     "w": 12,
     "h": 5
    },
    "cell_id": "00043-9ba46b5d-7163-45bb-b880-0c26bbe3a6da",
    "deepnote_to_be_reexecuted": false,
    "source_hash": "ee204b67",
    "execution_start": 1633203028897,
    "execution_millis": 7,
    "deepnote_cell_type": "code"
   },
   "outputs": [],
   "execution_count": 53
  },
  {
   "cell_type": "code",
   "source": "_, (ax1, ax2) = plt.subplots(2, 1, sharex=True)\n\nax1.set_title('Distribución datos sin escalar')\nax1.hist(raw)\nax2.set_title('Distribución datos escalados')\nax2.hist(scaled)\n\nplt.show()",
   "metadata": {
    "tags": [],
    "deepnote_app_coordinates": {
     "x": 0,
     "y": 0,
     "w": 12,
     "h": 5
    },
    "cell_id": "00044-2d288785-9721-4cbc-844a-7b9eb04cc8ec",
    "deepnote_to_be_reexecuted": false,
    "source_hash": "187cd960",
    "execution_start": 1633203273501,
    "execution_millis": 926,
    "deepnote_cell_type": "code"
   },
   "outputs": [
    {
     "data": {
      "text/plain": "<Figure size 921.6x518.4 with 2 Axes>",
      "image/png": "[encoded data removed]"
     },
     "metadata": {
      "image/png": {
       "width": 753,
       "height": 435
      }
     },
     "output_type": "display_data"
    }
   ],
   "execution_count": 56
  },
  {
   "cell_type": "code",
   "source": "# modelos para entrenamiento\ndef train_raw():\n    linear_model.LinearRegression().fit(raw, target)\n\ndef train_scaled():\n    linear_model.LinearRegression().fit(scaled, target)",
   "metadata": {
    "tags": [],
    "deepnote_app_coordinates": {
     "x": 0,
     "y": 0,
     "w": 12,
     "h": 5
    },
    "cell_id": "00044-69f16a0c-eaa9-44a8-8bd2-757fc9c1176e",
    "deepnote_to_be_reexecuted": false,
    "source_hash": "e74ca57a",
    "execution_start": 1633203593091,
    "execution_millis": 5,
    "deepnote_cell_type": "code"
   },
   "outputs": [],
   "execution_count": 61
  },
  {
   "cell_type": "code",
   "source": "raw_time = timeit.timeit(train_raw, number=1000)\nscaled_time = timeit.timeit(train_scaled, number=1000)\n\nprint(f'Time raw: {raw_time}')\nprint(f'Time scaled: {scaled_time}')",
   "metadata": {
    "tags": [],
    "deepnote_app_coordinates": {
     "x": 0,
     "y": 0,
     "w": 12,
     "h": 5
    },
    "cell_id": "00047-c3467bcb-a108-45f6-88b7-42147d8b6b79",
    "deepnote_to_be_reexecuted": false,
    "source_hash": "dbcf2da5",
    "execution_start": 1633203715576,
    "execution_millis": 993,
    "deepnote_cell_type": "code"
   },
   "outputs": [
    {
     "name": "stdout",
     "text": "Time raw: 0.5487290739984019\nTime scaled: 0.43750557900057174\n",
     "output_type": "stream"
    }
   ],
   "execution_count": 63
  },
  {
   "cell_type": "code",
   "source": "# Z-score\nmean = raw.mean()\nstd = raw.std()\n\nscaled = (raw - mean) / std",
   "metadata": {
    "tags": [],
    "deepnote_app_coordinates": {
     "x": 0,
     "y": 0,
     "w": 12,
     "h": 5
    },
    "cell_id": "00048-82371b22-5e77-423e-ab2b-0d8112cc7c30",
    "deepnote_to_be_reexecuted": false,
    "source_hash": "6e9df4",
    "execution_start": 1633203889094,
    "execution_millis": 8,
    "deepnote_cell_type": "code"
   },
   "outputs": [],
   "execution_count": 64
  },
  {
   "cell_type": "code",
   "source": "_, (ax1, ax2) = plt.subplots(2, 1, sharex=True)\n\nax1.set_title('Distribución datos sin escalar')\nax1.hist(raw)\nax2.set_title('Distribución datos escalados')\nax2.hist(scaled)\n\nplt.show()",
   "metadata": {
    "tags": [],
    "deepnote_app_coordinates": {
     "x": 0,
     "y": 0,
     "w": 12,
     "h": 5
    },
    "cell_id": "00049-cd1a59a7-5d0b-4082-a910-b63980e3e72d",
    "deepnote_to_be_reexecuted": false,
    "source_hash": "187cd960",
    "execution_start": 1633203903260,
    "execution_millis": 514,
    "deepnote_cell_type": "code"
   },
   "outputs": [
    {
     "data": {
      "text/plain": "<Figure size 921.6x518.4 with 2 Axes>",
      "image/png": "[encoded data removed]"
     },
     "metadata": {
      "image/png": {
       "width": 753,
       "height": 435
      }
     },
     "output_type": "display_data"
    }
   ],
   "execution_count": 65
  },
  {
   "cell_type": "code",
   "source": "# modelos para entrenamiento\ndef train_raw():\n    linear_model.LinearRegression().fit(raw, target)\n\ndef train_scaled():\n    linear_model.LinearRegression().fit(scaled, target)\n\nraw_time = timeit.timeit(train_raw, number=1000)\nscaled_time = timeit.timeit(train_scaled, number=1000)\n\nprint(f'Time raw: {raw_time}')\nprint(f'Time scaled: {scaled_time}')",
   "metadata": {
    "tags": [],
    "deepnote_app_coordinates": {
     "x": 0,
     "y": 0,
     "w": 12,
     "h": 5
    },
    "cell_id": "00050-b26e26ce-ca84-4058-9cb8-27aaec7ce996",
    "deepnote_to_be_reexecuted": false,
    "source_hash": "8a2a1a96",
    "execution_start": 1633204003330,
    "execution_millis": 863,
    "deepnote_cell_type": "code"
   },
   "outputs": [
    {
     "name": "stdout",
     "text": "Time raw: 0.560319016003632\nTime scaled: 0.4474643450084841\n",
     "output_type": "stream"
    }
   ],
   "execution_count": 66
  },
  {
   "cell_type": "code",
   "source": "# Transformaciones no lineales\n\n# Cargar dataset de cars\ndata = pd.read_csv('data/cars.csv')\n\ndata.price_usd.hist()",
   "metadata": {
    "tags": [],
    "deepnote_app_coordinates": {
     "x": 0,
     "y": 0,
     "w": 12,
     "h": 5
    },
    "cell_id": "00051-16242e54-9ca8-461e-85ad-fc2132c04cc5",
    "deepnote_to_be_reexecuted": false,
    "source_hash": "5150134b",
    "execution_start": 1633204131462,
    "execution_millis": 520,
    "deepnote_cell_type": "code"
   },
   "outputs": [
    {
     "output_type": "execute_result",
     "execution_count": 67,
     "data": {
      "text/plain": "<AxesSubplot:>"
     },
     "metadata": {}
    },
    {
     "data": {
      "text/plain": "<Figure size 921.6x518.4 with 1 Axes>",
      "image/png": "[encoded data removed]"
     },
     "metadata": {
      "image/png": {
       "width": 767,
       "height": 419
      }
     },
     "output_type": "display_data"
    }
   ],
   "execution_count": 67
  },
  {
   "cell_type": "code",
   "source": "# Tranformación con tanh\n\ndata.price_usd.apply(lambda x: np.tanh(x)).hist()",
   "metadata": {
    "tags": [],
    "deepnote_app_coordinates": {
     "x": 0,
     "y": 0,
     "w": 12,
     "h": 5
    },
    "cell_id": "00052-c058b1d4-5b45-4783-9f16-606270e80607",
    "deepnote_to_be_reexecuted": false,
    "source_hash": "24f7719e",
    "execution_start": 1633204231616,
    "execution_millis": 912,
    "deepnote_cell_type": "code"
   },
   "outputs": [
    {
     "output_type": "execute_result",
     "execution_count": 69,
     "data": {
      "text/plain": "<AxesSubplot:>"
     },
     "metadata": {}
    },
    {
     "data": {
      "text/plain": "<Figure size 921.6x518.4 with 1 Axes>",
      "image/png": "[encoded data removed]"
     },
     "metadata": {
      "image/png": {
       "width": 767,
       "height": 419
      }
     },
     "output_type": "display_data"
    }
   ],
   "execution_count": 69
  },
  {
   "cell_type": "markdown",
   "source": "Todos los valores colapsan a un solo valor, para resolver esto debemos calibrar la función de la tangente hiperbólica",
   "metadata": {
    "tags": [],
    "deepnote_app_coordinates": {
     "x": 0,
     "y": 0,
     "w": 12,
     "h": 5
    },
    "cell_id": "00053-9bacc248-8019-4898-8af7-717f9e8dd29d",
    "deepnote_cell_type": "markdown"
   }
  },
  {
   "cell_type": "code",
   "source": "p = 10000 # Valor constante para calibrar la funcion tanh\n\ndata.price_usd.apply(lambda x: np.tanh(x/p)).hist()",
   "metadata": {
    "tags": [],
    "deepnote_app_coordinates": {
     "x": 0,
     "y": 0,
     "w": 12,
     "h": 5
    },
    "cell_id": "00054-0bb074b5-d147-467f-9f26-84c28e0aa906",
    "deepnote_to_be_reexecuted": false,
    "source_hash": "addccaf7",
    "execution_start": 1633204327222,
    "execution_millis": 434,
    "deepnote_cell_type": "code"
   },
   "outputs": [
    {
     "output_type": "execute_result",
     "execution_count": 70,
     "data": {
      "text/plain": "<AxesSubplot:>"
     },
     "metadata": {}
    },
    {
     "data": {
      "text/plain": "<Figure size 921.6x518.4 with 1 Axes>",
      "image/png": "[encoded data removed]"
     },
     "metadata": {
      "image/png": {
       "width": 760,
       "height": 419
      }
     },
     "output_type": "display_data"
    }
   ],
   "execution_count": 70
  },
  {
   "cell_type": "markdown",
   "source": "## Pipelines de procesamiento para variables categóricas\n\n### Mapeos numéricos\n\n**Dummy**\n- Representación compacta.\n- Mejor para inputs linealmente independientes.\n\n**One-hot**\n- Permite describir categorías no incluidas inicialmente.",
   "metadata": {
    "tags": [],
    "deepnote_app_coordinates": {
     "x": 0,
     "y": 0,
     "w": 12,
     "h": 5
    },
    "cell_id": "00055-324a1ee0-45fb-4cf3-a5ba-3a70971e09ff",
    "deepnote_cell_type": "markdown"
   }
  },
  {
   "cell_type": "code",
   "source": "data.head()",
   "metadata": {
    "tags": [],
    "deepnote_app_coordinates": {
     "x": 0,
     "y": 0,
     "w": 12,
     "h": 5
    },
    "cell_id": "00056-d1f59723-e516-4492-8ec6-9a741ce771f6",
    "deepnote_to_be_reexecuted": false,
    "source_hash": "41313cfa",
    "execution_start": 1633205438164,
    "execution_millis": 150,
    "deepnote_cell_type": "code"
   },
   "outputs": [
    {
     "output_type": "execute_result",
     "execution_count": 71,
     "data": {
      "application/vnd.deepnote.dataframe.v2+json": {
       "row_count": 5,
       "column_count": 30,
       "columns": [
        {
         "name": "manufacturer_name",
         "dtype": "object",
         "stats": {
          "unique_count": 1,
          "nan_count": 0,
          "categories": [
           {
            "name": "Subaru",
            "count": 5
           }
          ]
         }
        },
        {
         "name": "model_name",
         "dtype": "object",
         "stats": {
          "unique_count": 4,
          "nan_count": 0,
          "categories": [
           {
            "name": "Outback",
            "count": 2
           },
           {
            "name": "Forester",
            "count": 1
           },
           {
            "name": "2 others",
            "count": 2
           }
          ]
         }
        },
        {
         "name": "transmission",
         "dtype": "object",
         "stats": {
          "unique_count": 2,
          "nan_count": 0,
          "categories": [
           {
            "name": "automatic",
            "count": 4
           },
           {
            "name": "mechanical",
            "count": 1
           }
          ]
         }
        },
        {
         "name": "color",
         "dtype": "object",
         "stats": {
          "unique_count": 4,
          "nan_count": 0,
          "categories": [
           {
            "name": "blue",
            "count": 2
           },
           {
            "name": "silver",
            "count": 1
           },
           {
            "name": "2 others",
            "count": 2
           }
          ]
         }
        },
        {
         "name": "odometer_value",
         "dtype": "int64",
         "stats": {
          "unique_count": 5,
          "nan_count": 0,
          "min": "10000",
          "max": "402000",
          "histogram": [
           {
            "bin_start": 10000,
            "bin_end": 49200,
            "count": 1
           },
           {
            "bin_start": 49200,
            "bin_end": 88400,
            "count": 0
           },
           {
            "bin_start": 88400,
            "bin_end": 127600,
            "count": 0
           },
           {
            "bin_start": 127600,
            "bin_end": 166800,
            "count": 0
           },
           {
            "bin_start": 166800,
            "bin_end": 206000,
            "count": 1
           },
           {
            "bin_start": 206000,
            "bin_end": 245200,
            "count": 0
           },
           {
            "bin_start": 245200,
            "bin_end": 284400,
            "count": 1
           },
           {
            "bin_start": 284400,
            "bin_end": 323600,
            "count": 1
           },
           {
            "bin_start": 323600,
            "bin_end": 362800,
            "count": 0
           },
           {
            "bin_start": 362800,
            "bin_end": 402000,
            "count": 1
           }
          ]
         }
        },
        {
         "name": "year_produced",
         "dtype": "int64",
         "stats": {
          "unique_count": 4,
          "nan_count": 0,
          "min": "1999",
          "max": "2010",
          "histogram": [
           {
            "bin_start": 1999,
            "bin_end": 2000.1,
            "count": 1
           },
           {
            "bin_start": 2000.1,
            "bin_end": 2001.2,
            "count": 2
           },
           {
            "bin_start": 2001.2,
            "bin_end": 2002.3,
            "count": 1
           },
           {
            "bin_start": 2002.3,
            "bin_end": 2003.4,
            "count": 0
           },
           {
            "bin_start": 2003.4,
            "bin_end": 2004.5,
            "count": 0
           },
           {
            "bin_start": 2004.5,
            "bin_end": 2005.6,
            "count": 0
           },
           {
            "bin_start": 2005.6,
            "bin_end": 2006.7,
            "count": 0
           },
           {
            "bin_start": 2006.7,
            "bin_end": 2007.8,
            "count": 0
           },
           {
            "bin_start": 2007.8,
            "bin_end": 2008.9,
            "count": 0
           },
           {
            "bin_start": 2008.9,
            "bin_end": 2010,
            "count": 1
           }
          ]
         }
        },
        {
         "name": "engine_fuel",
         "dtype": "object",
         "stats": {
          "unique_count": 1,
          "nan_count": 0,
          "categories": [
           {
            "name": "gasoline",
            "count": 5
           }
          ]
         }
        },
        {
         "name": "engine_has_gas",
         "dtype": "bool",
         "stats": {
          "unique_count": 1,
          "nan_count": 0,
          "categories": [
           {
            "name": "False",
            "count": 5
           }
          ]
         }
        },
        {
         "name": "engine_type",
         "dtype": "object",
         "stats": {
          "unique_count": 1,
          "nan_count": 0,
          "categories": [
           {
            "name": "gasoline",
            "count": 5
           }
          ]
         }
        },
        {
         "name": "engine_capacity",
         "dtype": "float64",
         "stats": {
          "unique_count": 2,
          "nan_count": 0,
          "min": "2.5",
          "max": "3.0",
          "histogram": [
           {
            "bin_start": 2.5,
            "bin_end": 2.55,
            "count": 3
           },
           {
            "bin_start": 2.55,
            "bin_end": 2.6,
            "count": 0
           },
           {
            "bin_start": 2.6,
            "bin_end": 2.65,
            "count": 0
           },
           {
            "bin_start": 2.65,
            "bin_end": 2.7,
            "count": 0
           },
           {
            "bin_start": 2.7,
            "bin_end": 2.75,
            "count": 0
           },
           {
            "bin_start": 2.75,
            "bin_end": 2.8,
            "count": 0
           },
           {
            "bin_start": 2.8,
            "bin_end": 2.85,
            "count": 0
           },
           {
            "bin_start": 2.85,
            "bin_end": 2.9,
            "count": 0
           },
           {
            "bin_start": 2.9,
            "bin_end": 2.95,
            "count": 0
           },
           {
            "bin_start": 2.95,
            "bin_end": 3,
            "count": 2
           }
          ]
         }
        },
        {
         "name": "body_type",
         "dtype": "object",
         "stats": {
          "unique_count": 3,
          "nan_count": 0,
          "categories": [
           {
            "name": "universal",
            "count": 3
           },
           {
            "name": "suv",
            "count": 1
           },
           {
            "name": "sedan",
            "count": 1
           }
          ]
         }
        },
        {
         "name": "has_warranty",
         "dtype": "bool",
         "stats": {
          "unique_count": 1,
          "nan_count": 0,
          "categories": [
           {
            "name": "False",
            "count": 5
           }
          ]
         }
        },
        {
         "name": "state",
         "dtype": "object",
         "stats": {
          "unique_count": 1,
          "nan_count": 0,
          "categories": [
           {
            "name": "owned",
            "count": 5
           }
          ]
         }
        },
        {
         "name": "drivetrain",
         "dtype": "object",
         "stats": {
          "unique_count": 1,
          "nan_count": 0,
          "categories": [
           {
            "name": "all",
            "count": 5
           }
          ]
         }
        },
        {
         "name": "price_usd",
         "dtype": "float64",
         "stats": {
          "unique_count": 5,
          "nan_count": 0,
          "min": "2134.11",
          "max": "10900.0",
          "histogram": [
           {
            "bin_start": 2134.11,
            "bin_end": 3010.699,
            "count": 2
           },
           {
            "bin_start": 3010.699,
            "bin_end": 3887.288,
            "count": 0
           },
           {
            "bin_start": 3887.288,
            "bin_end": 4763.877,
            "count": 0
           },
           {
            "bin_start": 4763.877,
            "bin_end": 5640.466,
            "count": 1
           },
           {
            "bin_start": 5640.466,
            "bin_end": 6517.055,
            "count": 0
           },
           {
            "bin_start": 6517.055,
            "bin_end": 7393.644,
            "count": 0
           },
           {
            "bin_start": 7393.644,
            "bin_end": 8270.233,
            "count": 0
           },
           {
            "bin_start": 8270.233,
            "bin_end": 9146.822,
            "count": 0
           },
           {
            "bin_start": 9146.822,
            "bin_end": 10023.411,
            "count": 1
           },
           {
            "bin_start": 10023.411,
            "bin_end": 10900,
            "count": 1
           }
          ]
         }
        },
        {
         "name": "is_exchangeable",
         "dtype": "bool",
         "stats": {
          "unique_count": 2,
          "nan_count": 0,
          "categories": [
           {
            "name": "True",
            "count": 4
           },
           {
            "name": "False",
            "count": 1
           }
          ]
         }
        },
        {
         "name": "location_region",
         "dtype": "object",
         "stats": {
          "unique_count": 2,
          "nan_count": 0,
          "categories": [
           {
            "name": "Минская обл.",
            "count": 4
           },
           {
            "name": "Гомельская обл.",
            "count": 1
           }
          ]
         }
        },
        {
         "name": "number_of_photos",
         "dtype": "int64",
         "stats": {
          "unique_count": 4,
          "nan_count": 0,
          "min": "4",
          "max": "14",
          "histogram": [
           {
            "bin_start": 4,
            "bin_end": 5,
            "count": 1
           },
           {
            "bin_start": 5,
            "bin_end": 6,
            "count": 0
           },
           {
            "bin_start": 6,
            "bin_end": 7,
            "count": 0
           },
           {
            "bin_start": 7,
            "bin_end": 8,
            "count": 0
           },
           {
            "bin_start": 8,
            "bin_end": 9,
            "count": 0
           },
           {
            "bin_start": 9,
            "bin_end": 10,
            "count": 2
           },
           {
            "bin_start": 10,
            "bin_end": 11,
            "count": 0
           },
           {
            "bin_start": 11,
            "bin_end": 12,
            "count": 0
           },
           {
            "bin_start": 12,
            "bin_end": 13,
            "count": 1
           },
           {
            "bin_start": 13,
            "bin_end": 14,
            "count": 1
           }
          ]
         }
        },
        {
         "name": "up_counter",
         "dtype": "int64",
         "stats": {
          "unique_count": 5,
          "nan_count": 0,
          "min": "7",
          "max": "72",
          "histogram": [
           {
            "bin_start": 7,
            "bin_end": 13.5,
            "count": 2
           },
           {
            "bin_start": 13.5,
            "bin_end": 20,
            "count": 0
           },
           {
            "bin_start": 20,
            "bin_end": 26.5,
            "count": 0
           },
           {
            "bin_start": 26.5,
            "bin_end": 33,
            "count": 0
           },
           {
            "bin_start": 33,
            "bin_end": 39.5,
            "count": 0
           },
           {
            "bin_start": 39.5,
            "bin_end": 46,
            "count": 1
           },
           {
            "bin_start": 46,
            "bin_end": 52.5,
            "count": 0
           },
           {
            "bin_start": 52.5,
            "bin_end": 59,
            "count": 1
           },
           {
            "bin_start": 59,
            "bin_end": 65.5,
            "count": 0
           },
           {
            "bin_start": 65.5,
            "bin_end": 72,
            "count": 1
           }
          ]
         }
        },
        {
         "name": "feature_0",
         "dtype": "bool",
         "stats": {
          "unique_count": 2,
          "nan_count": 0,
          "categories": [
           {
            "name": "False",
            "count": 4
           },
           {
            "name": "True",
            "count": 1
           }
          ]
         }
        },
        {
         "name": "feature_1",
         "dtype": "bool",
         "stats": {
          "unique_count": 2,
          "nan_count": 0,
          "categories": [
           {
            "name": "True",
            "count": 4
           },
           {
            "name": "False",
            "count": 1
           }
          ]
         }
        },
        {
         "name": "feature_2",
         "dtype": "bool",
         "stats": {
          "unique_count": 2,
          "nan_count": 0,
          "categories": [
           {
            "name": "False",
            "count": 4
           },
           {
            "name": "True",
            "count": 1
           }
          ]
         }
        },
        {
         "name": "feature_3",
         "dtype": "bool",
         "stats": {
          "unique_count": 2,
          "nan_count": 0,
          "categories": [
           {
            "name": "False",
            "count": 3
           },
           {
            "name": "True",
            "count": 2
           }
          ]
         }
        },
        {
         "name": "feature_4",
         "dtype": "bool",
         "stats": {
          "unique_count": 2,
          "nan_count": 0,
          "categories": [
           {
            "name": "False",
            "count": 3
           },
           {
            "name": "True",
            "count": 2
           }
          ]
         }
        },
        {
         "name": "feature_5",
         "dtype": "bool",
         "stats": {
          "unique_count": 2,
          "nan_count": 0,
          "categories": [
           {
            "name": "False",
            "count": 3
           },
           {
            "name": "True",
            "count": 2
           }
          ]
         }
        },
        {
         "name": "feature_6",
         "dtype": "bool",
         "stats": {
          "unique_count": 1,
          "nan_count": 0,
          "categories": [
           {
            "name": "False",
            "count": 5
           }
          ]
         }
        },
        {
         "name": "feature_7",
         "dtype": "bool",
         "stats": {
          "unique_count": 2,
          "nan_count": 0,
          "categories": [
           {
            "name": "False",
            "count": 4
           },
           {
            "name": "True",
            "count": 1
           }
          ]
         }
        },
        {
         "name": "feature_8",
         "dtype": "bool",
         "stats": {
          "unique_count": 2,
          "nan_count": 0,
          "categories": [
           {
            "name": "False",
            "count": 3
           },
           {
            "name": "True",
            "count": 2
           }
          ]
         }
        },
        {
         "name": "feature_9",
         "dtype": "bool",
         "stats": {
          "unique_count": 2,
          "nan_count": 0,
          "categories": [
           {
            "name": "True",
            "count": 4
           },
           {
            "name": "False",
            "count": 1
           }
          ]
         }
        },
        {
         "name": "duration_listed",
         "dtype": "int64",
         "stats": {
          "unique_count": 5,
          "nan_count": 0,
          "min": "7",
          "max": "151",
          "histogram": [
           {
            "bin_start": 7,
            "bin_end": 21.4,
            "count": 2
           },
           {
            "bin_start": 21.4,
            "bin_end": 35.8,
            "count": 0
           },
           {
            "bin_start": 35.8,
            "bin_end": 50.2,
            "count": 0
           },
           {
            "bin_start": 50.2,
            "bin_end": 64.6,
            "count": 0
           },
           {
            "bin_start": 64.6,
            "bin_end": 79,
            "count": 0
           },
           {
            "bin_start": 79,
            "bin_end": 93.4,
            "count": 2
           },
           {
            "bin_start": 93.4,
            "bin_end": 107.8,
            "count": 0
           },
           {
            "bin_start": 107.8,
            "bin_end": 122.2,
            "count": 0
           },
           {
            "bin_start": 122.2,
            "bin_end": 136.6,
            "count": 0
           },
           {
            "bin_start": 136.6,
            "bin_end": 151,
            "count": 1
           }
          ]
         }
        },
        {
         "name": "_deepnote_index_column",
         "dtype": "int64"
        }
       ],
       "rows_top": [
        {
         "manufacturer_name": "Subaru",
         "model_name": "Outback",
         "transmission": "automatic",
         "color": "silver",
         "odometer_value": 190000,
         "year_produced": 2010,
         "engine_fuel": "gasoline",
         "engine_has_gas": "False",
         "engine_type": "gasoline",
         "engine_capacity": 2.5,
         "body_type": "universal",
         "has_warranty": "False",
         "state": "owned",
         "drivetrain": "all",
         "price_usd": 10900,
         "is_exchangeable": "False",
         "location_region": "Минская обл.",
         "number_of_photos": 9,
         "up_counter": 13,
         "feature_0": "False",
         "feature_1": "True",
         "feature_2": "True",
         "feature_3": "True",
         "feature_4": "False",
         "feature_5": "True",
         "feature_6": "False",
         "feature_7": "True",
         "feature_8": "True",
         "feature_9": "True",
         "duration_listed": 16,
         "_deepnote_index_column": 0
        },
        {
         "manufacturer_name": "Subaru",
         "model_name": "Outback",
         "transmission": "automatic",
         "color": "blue",
         "odometer_value": 290000,
         "year_produced": 2002,
         "engine_fuel": "gasoline",
         "engine_has_gas": "False",
         "engine_type": "gasoline",
         "engine_capacity": 3,
         "body_type": "universal",
         "has_warranty": "False",
         "state": "owned",
         "drivetrain": "all",
         "price_usd": 5000,
         "is_exchangeable": "True",
         "location_region": "Минская обл.",
         "number_of_photos": 12,
         "up_counter": 54,
         "feature_0": "False",
         "feature_1": "True",
         "feature_2": "False",
         "feature_3": "False",
         "feature_4": "True",
         "feature_5": "True",
         "feature_6": "False",
         "feature_7": "False",
         "feature_8": "False",
         "feature_9": "True",
         "duration_listed": 83,
         "_deepnote_index_column": 1
        },
        {
         "manufacturer_name": "Subaru",
         "model_name": "Forester",
         "transmission": "automatic",
         "color": "red",
         "odometer_value": 402000,
         "year_produced": 2001,
         "engine_fuel": "gasoline",
         "engine_has_gas": "False",
         "engine_type": "gasoline",
         "engine_capacity": 2.5,
         "body_type": "suv",
         "has_warranty": "False",
         "state": "owned",
         "drivetrain": "all",
         "price_usd": 2800,
         "is_exchangeable": "True",
         "location_region": "Минская обл.",
         "number_of_photos": 4,
         "up_counter": 72,
         "feature_0": "False",
         "feature_1": "True",
         "feature_2": "False",
         "feature_3": "False",
         "feature_4": "False",
         "feature_5": "False",
         "feature_6": "False",
         "feature_7": "False",
         "feature_8": "True",
         "feature_9": "True",
         "duration_listed": 151,
         "_deepnote_index_column": 2
        },
        {
         "manufacturer_name": "Subaru",
         "model_name": "Impreza",
         "transmission": "mechanical",
         "color": "blue",
         "odometer_value": 10000,
         "year_produced": 1999,
         "engine_fuel": "gasoline",
         "engine_has_gas": "False",
         "engine_type": "gasoline",
         "engine_capacity": 3,
         "body_type": "sedan",
         "has_warranty": "False",
         "state": "owned",
         "drivetrain": "all",
         "price_usd": 9999,
         "is_exchangeable": "True",
         "location_region": "Минская обл.",
         "number_of_photos": 9,
         "up_counter": 42,
         "feature_0": "True",
         "feature_1": "False",
         "feature_2": "False",
         "feature_3": "False",
         "feature_4": "False",
         "feature_5": "False",
         "feature_6": "False",
         "feature_7": "False",
         "feature_8": "False",
         "feature_9": "False",
         "duration_listed": 86,
         "_deepnote_index_column": 3
        },
        {
         "manufacturer_name": "Subaru",
         "model_name": "Legacy",
         "transmission": "automatic",
         "color": "black",
         "odometer_value": 280000,
         "year_produced": 2001,
         "engine_fuel": "gasoline",
         "engine_has_gas": "False",
         "engine_type": "gasoline",
         "engine_capacity": 2.5,
         "body_type": "universal",
         "has_warranty": "False",
         "state": "owned",
         "drivetrain": "all",
         "price_usd": 2134.11,
         "is_exchangeable": "True",
         "location_region": "Гомельская обл.",
         "number_of_photos": 14,
         "up_counter": 7,
         "feature_0": "False",
         "feature_1": "True",
         "feature_2": "False",
         "feature_3": "True",
         "feature_4": "True",
         "feature_5": "False",
         "feature_6": "False",
         "feature_7": "False",
         "feature_8": "False",
         "feature_9": "True",
         "duration_listed": 7,
         "_deepnote_index_column": 4
        }
       ],
       "rows_bottom": null
      },
      "text/plain": "  manufacturer_name model_name transmission   color  odometer_value  \\\n0            Subaru    Outback    automatic  silver          190000   \n1            Subaru    Outback    automatic    blue          290000   \n2            Subaru   Forester    automatic     red          402000   \n3            Subaru    Impreza   mechanical    blue           10000   \n4            Subaru     Legacy    automatic   black          280000   \n\n   year_produced engine_fuel  engine_has_gas engine_type  engine_capacity  \\\n0           2010    gasoline           False    gasoline              2.5   \n1           2002    gasoline           False    gasoline              3.0   \n2           2001    gasoline           False    gasoline              2.5   \n3           1999    gasoline           False    gasoline              3.0   \n4           2001    gasoline           False    gasoline              2.5   \n\n   ... feature_1  feature_2 feature_3 feature_4  feature_5  feature_6  \\\n0  ...      True       True      True     False       True      False   \n1  ...      True      False     False      True       True      False   \n2  ...      True      False     False     False      False      False   \n3  ...     False      False     False     False      False      False   \n4  ...      True      False      True      True      False      False   \n\n  feature_7  feature_8  feature_9  duration_listed  \n0      True       True       True               16  \n1     False      False       True               83  \n2     False       True       True              151  \n3     False      False      False               86  \n4     False      False       True                7  \n\n[5 rows x 30 columns]",
      "text/html": "<div>\n<style scoped>\n    .dataframe tbody tr th:only-of-type {\n        vertical-align: middle;\n    }\n\n    .dataframe tbody tr th {\n        vertical-align: top;\n    }\n\n    .dataframe thead th {\n        text-align: right;\n    }\n</style>\n<table border=\"1\" class=\"dataframe\">\n  <thead>\n    <tr style=\"text-align: right;\">\n      <th></th>\n      <th>manufacturer_name</th>\n      <th>model_name</th>\n      <th>transmission</th>\n      <th>color</th>\n      <th>odometer_value</th>\n      <th>year_produced</th>\n      <th>engine_fuel</th>\n      <th>engine_has_gas</th>\n      <th>engine_type</th>\n      <th>engine_capacity</th>\n      <th>...</th>\n      <th>feature_1</th>\n      <th>feature_2</th>\n      <th>feature_3</th>\n      <th>feature_4</th>\n      <th>feature_5</th>\n      <th>feature_6</th>\n      <th>feature_7</th>\n      <th>feature_8</th>\n      <th>feature_9</th>\n      <th>duration_listed</th>\n    </tr>\n  </thead>\n  <tbody>\n    <tr>\n      <th>0</th>\n      <td>Subaru</td>\n      <td>Outback</td>\n      <td>automatic</td>\n      <td>silver</td>\n      <td>190000</td>\n      <td>2010</td>\n      <td>gasoline</td>\n      <td>False</td>\n      <td>gasoline</td>\n      <td>2.5</td>\n      <td>...</td>\n      <td>True</td>\n      <td>True</td>\n      <td>True</td>\n      <td>False</td>\n      <td>True</td>\n      <td>False</td>\n      <td>True</td>\n      <td>True</td>\n      <td>True</td>\n      <td>16</td>\n    </tr>\n    <tr>\n      <th>1</th>\n      <td>Subaru</td>\n      <td>Outback</td>\n      <td>automatic</td>\n      <td>blue</td>\n      <td>290000</td>\n      <td>2002</td>\n      <td>gasoline</td>\n      <td>False</td>\n      <td>gasoline</td>\n      <td>3.0</td>\n      <td>...</td>\n      <td>True</td>\n      <td>False</td>\n      <td>False</td>\n      <td>True</td>\n      <td>True</td>\n      <td>False</td>\n      <td>False</td>\n      <td>False</td>\n      <td>True</td>\n      <td>83</td>\n    </tr>\n    <tr>\n      <th>2</th>\n      <td>Subaru</td>\n      <td>Forester</td>\n      <td>automatic</td>\n      <td>red</td>\n      <td>402000</td>\n      <td>2001</td>\n      <td>gasoline</td>\n      <td>False</td>\n      <td>gasoline</td>\n      <td>2.5</td>\n      <td>...</td>\n      <td>True</td>\n      <td>False</td>\n      <td>False</td>\n      <td>False</td>\n      <td>False</td>\n      <td>False</td>\n      <td>False</td>\n      <td>True</td>\n      <td>True</td>\n      <td>151</td>\n    </tr>\n    <tr>\n      <th>3</th>\n      <td>Subaru</td>\n      <td>Impreza</td>\n      <td>mechanical</td>\n      <td>blue</td>\n      <td>10000</td>\n      <td>1999</td>\n      <td>gasoline</td>\n      <td>False</td>\n      <td>gasoline</td>\n      <td>3.0</td>\n      <td>...</td>\n      <td>False</td>\n      <td>False</td>\n      <td>False</td>\n      <td>False</td>\n      <td>False</td>\n      <td>False</td>\n      <td>False</td>\n      <td>False</td>\n      <td>False</td>\n      <td>86</td>\n    </tr>\n    <tr>\n      <th>4</th>\n      <td>Subaru</td>\n      <td>Legacy</td>\n      <td>automatic</td>\n      <td>black</td>\n      <td>280000</td>\n      <td>2001</td>\n      <td>gasoline</td>\n      <td>False</td>\n      <td>gasoline</td>\n      <td>2.5</td>\n      <td>...</td>\n      <td>True</td>\n      <td>False</td>\n      <td>True</td>\n      <td>True</td>\n      <td>False</td>\n      <td>False</td>\n      <td>False</td>\n      <td>False</td>\n      <td>True</td>\n      <td>7</td>\n    </tr>\n  </tbody>\n</table>\n<p>5 rows × 30 columns</p>\n</div>"
     },
     "metadata": {}
    }
   ],
   "execution_count": 71
  },
  {
   "cell_type": "code",
   "source": "pd.get_dummies(data.engine_type)",
   "metadata": {
    "tags": [],
    "deepnote_app_coordinates": {
     "x": 0,
     "y": 0,
     "w": 12,
     "h": 5
    },
    "cell_id": "00057-924530f6-2c30-4f02-8006-b161783210c3",
    "deepnote_to_be_reexecuted": false,
    "source_hash": "bc9e2d94",
    "execution_start": 1633205724987,
    "execution_millis": 72,
    "deepnote_cell_type": "code"
   },
   "outputs": [
    {
     "output_type": "execute_result",
     "execution_count": 72,
     "data": {
      "application/vnd.deepnote.dataframe.v2+json": {
       "row_count": 38531,
       "column_count": 3,
       "columns": [
        {
         "name": "diesel",
         "dtype": "uint8",
         "stats": {
          "unique_count": 2,
          "nan_count": 0,
          "min": "0",
          "max": "1",
          "histogram": [
           {
            "bin_start": 0,
            "bin_end": 0.1,
            "count": 25657
           },
           {
            "bin_start": 0.1,
            "bin_end": 0.2,
            "count": 0
           },
           {
            "bin_start": 0.2,
            "bin_end": 0.30000000000000004,
            "count": 0
           },
           {
            "bin_start": 0.30000000000000004,
            "bin_end": 0.4,
            "count": 0
           },
           {
            "bin_start": 0.4,
            "bin_end": 0.5,
            "count": 0
           },
           {
            "bin_start": 0.5,
            "bin_end": 0.6000000000000001,
            "count": 0
           },
           {
            "bin_start": 0.6000000000000001,
            "bin_end": 0.7000000000000001,
            "count": 0
           },
           {
            "bin_start": 0.7000000000000001,
            "bin_end": 0.8,
            "count": 0
           },
           {
            "bin_start": 0.8,
            "bin_end": 0.9,
            "count": 0
           },
           {
            "bin_start": 0.9,
            "bin_end": 1,
            "count": 12874
           }
          ]
         }
        },
        {
         "name": "electric",
         "dtype": "uint8",
         "stats": {
          "unique_count": 2,
          "nan_count": 0,
          "min": "0",
          "max": "1",
          "histogram": [
           {
            "bin_start": 0,
            "bin_end": 0.1,
            "count": 38521
           },
           {
            "bin_start": 0.1,
            "bin_end": 0.2,
            "count": 0
           },
           {
            "bin_start": 0.2,
            "bin_end": 0.30000000000000004,
            "count": 0
           },
           {
            "bin_start": 0.30000000000000004,
            "bin_end": 0.4,
            "count": 0
           },
           {
            "bin_start": 0.4,
            "bin_end": 0.5,
            "count": 0
           },
           {
            "bin_start": 0.5,
            "bin_end": 0.6000000000000001,
            "count": 0
           },
           {
            "bin_start": 0.6000000000000001,
            "bin_end": 0.7000000000000001,
            "count": 0
           },
           {
            "bin_start": 0.7000000000000001,
            "bin_end": 0.8,
            "count": 0
           },
           {
            "bin_start": 0.8,
            "bin_end": 0.9,
            "count": 0
           },
           {
            "bin_start": 0.9,
            "bin_end": 1,
            "count": 10
           }
          ]
         }
        },
        {
         "name": "gasoline",
         "dtype": "uint8"
        },
        {
         "name": "_deepnote_index_column",
         "dtype": "int64"
        }
       ],
       "rows_top": [
        {
         "diesel": 0,
         "electric": 0,
         "gasoline": 1,
         "_deepnote_index_column": 0
        },
        {
         "diesel": 0,
         "electric": 0,
         "gasoline": 1,
         "_deepnote_index_column": 1
        },
        {
         "diesel": 0,
         "electric": 0,
         "gasoline": 1,
         "_deepnote_index_column": 2
        },
        {
         "diesel": 0,
         "electric": 0,
         "gasoline": 1,
         "_deepnote_index_column": 3
        },
        {
         "diesel": 0,
         "electric": 0,
         "gasoline": 1,
         "_deepnote_index_column": 4
        },
        {
         "diesel": 0,
         "electric": 0,
         "gasoline": 1,
         "_deepnote_index_column": 5
        },
        {
         "diesel": 0,
         "electric": 0,
         "gasoline": 1,
         "_deepnote_index_column": 6
        },
        {
         "diesel": 0,
         "electric": 0,
         "gasoline": 1,
         "_deepnote_index_column": 7
        },
        {
         "diesel": 0,
         "electric": 0,
         "gasoline": 1,
         "_deepnote_index_column": 8
        },
        {
         "diesel": 0,
         "electric": 0,
         "gasoline": 1,
         "_deepnote_index_column": 9
        },
        {
         "diesel": 0,
         "electric": 0,
         "gasoline": 1,
         "_deepnote_index_column": 10
        },
        {
         "diesel": 0,
         "electric": 0,
         "gasoline": 1,
         "_deepnote_index_column": 11
        },
        {
         "diesel": 0,
         "electric": 0,
         "gasoline": 1,
         "_deepnote_index_column": 12
        },
        {
         "diesel": 0,
         "electric": 0,
         "gasoline": 1,
         "_deepnote_index_column": 13
        },
        {
         "diesel": 0,
         "electric": 0,
         "gasoline": 1,
         "_deepnote_index_column": 14
        },
        {
         "diesel": 0,
         "electric": 0,
         "gasoline": 1,
         "_deepnote_index_column": 15
        },
        {
         "diesel": 0,
         "electric": 0,
         "gasoline": 1,
         "_deepnote_index_column": 16
        },
        {
         "diesel": 0,
         "electric": 0,
         "gasoline": 1,
         "_deepnote_index_column": 17
        },
        {
         "diesel": 0,
         "electric": 0,
         "gasoline": 1,
         "_deepnote_index_column": 18
        },
        {
         "diesel": 0,
         "electric": 0,
         "gasoline": 1,
         "_deepnote_index_column": 19
        },
        {
         "diesel": 0,
         "electric": 0,
         "gasoline": 1,
         "_deepnote_index_column": 20
        },
        {
         "diesel": 0,
         "electric": 0,
         "gasoline": 1,
         "_deepnote_index_column": 21
        },
        {
         "diesel": 0,
         "electric": 0,
         "gasoline": 1,
         "_deepnote_index_column": 22
        },
        {
         "diesel": 0,
         "electric": 0,
         "gasoline": 1,
         "_deepnote_index_column": 23
        },
        {
         "diesel": 0,
         "electric": 0,
         "gasoline": 1,
         "_deepnote_index_column": 24
        },
        {
         "diesel": 0,
         "electric": 0,
         "gasoline": 1,
         "_deepnote_index_column": 25
        },
        {
         "diesel": 0,
         "electric": 0,
         "gasoline": 1,
         "_deepnote_index_column": 26
        },
        {
         "diesel": 0,
         "electric": 0,
         "gasoline": 1,
         "_deepnote_index_column": 27
        },
        {
         "diesel": 0,
         "electric": 0,
         "gasoline": 1,
         "_deepnote_index_column": 28
        },
        {
         "diesel": 0,
         "electric": 0,
         "gasoline": 1,
         "_deepnote_index_column": 29
        },
        {
         "diesel": 0,
         "electric": 0,
         "gasoline": 1,
         "_deepnote_index_column": 30
        },
        {
         "diesel": 0,
         "electric": 0,
         "gasoline": 1,
         "_deepnote_index_column": 31
        },
        {
         "diesel": 0,
         "electric": 0,
         "gasoline": 1,
         "_deepnote_index_column": 32
        },
        {
         "diesel": 0,
         "electric": 0,
         "gasoline": 1,
         "_deepnote_index_column": 33
        },
        {
         "diesel": 0,
         "electric": 0,
         "gasoline": 1,
         "_deepnote_index_column": 34
        },
        {
         "diesel": 0,
         "electric": 0,
         "gasoline": 1,
         "_deepnote_index_column": 35
        },
        {
         "diesel": 0,
         "electric": 0,
         "gasoline": 1,
         "_deepnote_index_column": 36
        },
        {
         "diesel": 0,
         "electric": 0,
         "gasoline": 1,
         "_deepnote_index_column": 37
        },
        {
         "diesel": 0,
         "electric": 0,
         "gasoline": 1,
         "_deepnote_index_column": 38
        },
        {
         "diesel": 0,
         "electric": 0,
         "gasoline": 1,
         "_deepnote_index_column": 39
        },
        {
         "diesel": 0,
         "electric": 0,
         "gasoline": 1,
         "_deepnote_index_column": 40
        },
        {
         "diesel": 0,
         "electric": 0,
         "gasoline": 1,
         "_deepnote_index_column": 41
        },
        {
         "diesel": 0,
         "electric": 0,
         "gasoline": 1,
         "_deepnote_index_column": 42
        },
        {
         "diesel": 0,
         "electric": 0,
         "gasoline": 1,
         "_deepnote_index_column": 43
        },
        {
         "diesel": 0,
         "electric": 0,
         "gasoline": 1,
         "_deepnote_index_column": 44
        },
        {
         "diesel": 0,
         "electric": 0,
         "gasoline": 1,
         "_deepnote_index_column": 45
        },
        {
         "diesel": 0,
         "electric": 0,
         "gasoline": 1,
         "_deepnote_index_column": 46
        },
        {
         "diesel": 0,
         "electric": 0,
         "gasoline": 1,
         "_deepnote_index_column": 47
        },
        {
         "diesel": 0,
         "electric": 0,
         "gasoline": 1,
         "_deepnote_index_column": 48
        },
        {
         "diesel": 0,
         "electric": 0,
         "gasoline": 1,
         "_deepnote_index_column": 49
        },
        {
         "diesel": 0,
         "electric": 0,
         "gasoline": 1,
         "_deepnote_index_column": 50
        },
        {
         "diesel": 0,
         "electric": 0,
         "gasoline": 1,
         "_deepnote_index_column": 51
        },
        {
         "diesel": 0,
         "electric": 0,
         "gasoline": 1,
         "_deepnote_index_column": 52
        },
        {
         "diesel": 0,
         "electric": 0,
         "gasoline": 1,
         "_deepnote_index_column": 53
        },
        {
         "diesel": 0,
         "electric": 0,
         "gasoline": 1,
         "_deepnote_index_column": 54
        },
        {
         "diesel": 0,
         "electric": 0,
         "gasoline": 1,
         "_deepnote_index_column": 55
        },
        {
         "diesel": 0,
         "electric": 0,
         "gasoline": 1,
         "_deepnote_index_column": 56
        },
        {
         "diesel": 0,
         "electric": 0,
         "gasoline": 1,
         "_deepnote_index_column": 57
        },
        {
         "diesel": 0,
         "electric": 0,
         "gasoline": 1,
         "_deepnote_index_column": 58
        },
        {
         "diesel": 0,
         "electric": 0,
         "gasoline": 1,
         "_deepnote_index_column": 59
        },
        {
         "diesel": 0,
         "electric": 0,
         "gasoline": 1,
         "_deepnote_index_column": 60
        },
        {
         "diesel": 0,
         "electric": 0,
         "gasoline": 1,
         "_deepnote_index_column": 61
        },
        {
         "diesel": 0,
         "electric": 0,
         "gasoline": 1,
         "_deepnote_index_column": 62
        },
        {
         "diesel": 0,
         "electric": 0,
         "gasoline": 1,
         "_deepnote_index_column": 63
        },
        {
         "diesel": 0,
         "electric": 0,
         "gasoline": 1,
         "_deepnote_index_column": 64
        },
        {
         "diesel": 0,
         "electric": 0,
         "gasoline": 1,
         "_deepnote_index_column": 65
        },
        {
         "diesel": 0,
         "electric": 0,
         "gasoline": 1,
         "_deepnote_index_column": 66
        },
        {
         "diesel": 0,
         "electric": 0,
         "gasoline": 1,
         "_deepnote_index_column": 67
        },
        {
         "diesel": 0,
         "electric": 0,
         "gasoline": 1,
         "_deepnote_index_column": 68
        },
        {
         "diesel": 0,
         "electric": 0,
         "gasoline": 1,
         "_deepnote_index_column": 69
        },
        {
         "diesel": 0,
         "electric": 0,
         "gasoline": 1,
         "_deepnote_index_column": 70
        },
        {
         "diesel": 0,
         "electric": 0,
         "gasoline": 1,
         "_deepnote_index_column": 71
        },
        {
         "diesel": 0,
         "electric": 0,
         "gasoline": 1,
         "_deepnote_index_column": 72
        },
        {
         "diesel": 0,
         "electric": 0,
         "gasoline": 1,
         "_deepnote_index_column": 73
        },
        {
         "diesel": 0,
         "electric": 0,
         "gasoline": 1,
         "_deepnote_index_column": 74
        },
        {
         "diesel": 0,
         "electric": 0,
         "gasoline": 1,
         "_deepnote_index_column": 75
        },
        {
         "diesel": 0,
         "electric": 0,
         "gasoline": 1,
         "_deepnote_index_column": 76
        },
        {
         "diesel": 0,
         "electric": 0,
         "gasoline": 1,
         "_deepnote_index_column": 77
        },
        {
         "diesel": 0,
         "electric": 0,
         "gasoline": 1,
         "_deepnote_index_column": 78
        },
        {
         "diesel": 0,
         "electric": 0,
         "gasoline": 1,
         "_deepnote_index_column": 79
        },
        {
         "diesel": 0,
         "electric": 0,
         "gasoline": 1,
         "_deepnote_index_column": 80
        },
        {
         "diesel": 0,
         "electric": 0,
         "gasoline": 1,
         "_deepnote_index_column": 81
        },
        {
         "diesel": 0,
         "electric": 0,
         "gasoline": 1,
         "_deepnote_index_column": 82
        },
        {
         "diesel": 0,
         "electric": 0,
         "gasoline": 1,
         "_deepnote_index_column": 83
        },
        {
         "diesel": 0,
         "electric": 0,
         "gasoline": 1,
         "_deepnote_index_column": 84
        },
        {
         "diesel": 0,
         "electric": 0,
         "gasoline": 1,
         "_deepnote_index_column": 85
        },
        {
         "diesel": 0,
         "electric": 0,
         "gasoline": 1,
         "_deepnote_index_column": 86
        },
        {
         "diesel": 0,
         "electric": 0,
         "gasoline": 1,
         "_deepnote_index_column": 87
        },
        {
         "diesel": 0,
         "electric": 0,
         "gasoline": 1,
         "_deepnote_index_column": 88
        },
        {
         "diesel": 0,
         "electric": 0,
         "gasoline": 1,
         "_deepnote_index_column": 89
        },
        {
         "diesel": 0,
         "electric": 0,
         "gasoline": 1,
         "_deepnote_index_column": 90
        },
        {
         "diesel": 0,
         "electric": 0,
         "gasoline": 1,
         "_deepnote_index_column": 91
        },
        {
         "diesel": 0,
         "electric": 0,
         "gasoline": 1,
         "_deepnote_index_column": 92
        },
        {
         "diesel": 0,
         "electric": 0,
         "gasoline": 1,
         "_deepnote_index_column": 93
        },
        {
         "diesel": 0,
         "electric": 0,
         "gasoline": 1,
         "_deepnote_index_column": 94
        },
        {
         "diesel": 0,
         "electric": 0,
         "gasoline": 1,
         "_deepnote_index_column": 95
        },
        {
         "diesel": 0,
         "electric": 0,
         "gasoline": 1,
         "_deepnote_index_column": 96
        },
        {
         "diesel": 0,
         "electric": 0,
         "gasoline": 1,
         "_deepnote_index_column": 97
        },
        {
         "diesel": 0,
         "electric": 0,
         "gasoline": 1,
         "_deepnote_index_column": 98
        },
        {
         "diesel": 0,
         "electric": 0,
         "gasoline": 1,
         "_deepnote_index_column": 99
        },
        {
         "diesel": 0,
         "electric": 0,
         "gasoline": 1,
         "_deepnote_index_column": 100
        },
        {
         "diesel": 0,
         "electric": 0,
         "gasoline": 1,
         "_deepnote_index_column": 101
        },
        {
         "diesel": 0,
         "electric": 0,
         "gasoline": 1,
         "_deepnote_index_column": 102
        },
        {
         "diesel": 0,
         "electric": 0,
         "gasoline": 1,
         "_deepnote_index_column": 103
        },
        {
         "diesel": 0,
         "electric": 0,
         "gasoline": 1,
         "_deepnote_index_column": 104
        },
        {
         "diesel": 0,
         "electric": 0,
         "gasoline": 1,
         "_deepnote_index_column": 105
        },
        {
         "diesel": 0,
         "electric": 0,
         "gasoline": 1,
         "_deepnote_index_column": 106
        },
        {
         "diesel": 0,
         "electric": 0,
         "gasoline": 1,
         "_deepnote_index_column": 107
        },
        {
         "diesel": 0,
         "electric": 0,
         "gasoline": 1,
         "_deepnote_index_column": 108
        },
        {
         "diesel": 0,
         "electric": 0,
         "gasoline": 1,
         "_deepnote_index_column": 109
        },
        {
         "diesel": 0,
         "electric": 0,
         "gasoline": 1,
         "_deepnote_index_column": 110
        },
        {
         "diesel": 0,
         "electric": 0,
         "gasoline": 1,
         "_deepnote_index_column": 111
        },
        {
         "diesel": 0,
         "electric": 0,
         "gasoline": 1,
         "_deepnote_index_column": 112
        },
        {
         "diesel": 0,
         "electric": 0,
         "gasoline": 1,
         "_deepnote_index_column": 113
        },
        {
         "diesel": 0,
         "electric": 0,
         "gasoline": 1,
         "_deepnote_index_column": 114
        },
        {
         "diesel": 0,
         "electric": 0,
         "gasoline": 1,
         "_deepnote_index_column": 115
        },
        {
         "diesel": 0,
         "electric": 0,
         "gasoline": 1,
         "_deepnote_index_column": 116
        },
        {
         "diesel": 0,
         "electric": 0,
         "gasoline": 1,
         "_deepnote_index_column": 117
        },
        {
         "diesel": 0,
         "electric": 0,
         "gasoline": 1,
         "_deepnote_index_column": 118
        },
        {
         "diesel": 0,
         "electric": 0,
         "gasoline": 1,
         "_deepnote_index_column": 119
        },
        {
         "diesel": 0,
         "electric": 0,
         "gasoline": 1,
         "_deepnote_index_column": 120
        },
        {
         "diesel": 0,
         "electric": 0,
         "gasoline": 1,
         "_deepnote_index_column": 121
        },
        {
         "diesel": 0,
         "electric": 0,
         "gasoline": 1,
         "_deepnote_index_column": 122
        },
        {
         "diesel": 0,
         "electric": 0,
         "gasoline": 1,
         "_deepnote_index_column": 123
        },
        {
         "diesel": 0,
         "electric": 0,
         "gasoline": 1,
         "_deepnote_index_column": 124
        },
        {
         "diesel": 0,
         "electric": 0,
         "gasoline": 1,
         "_deepnote_index_column": 125
        },
        {
         "diesel": 0,
         "electric": 0,
         "gasoline": 1,
         "_deepnote_index_column": 126
        },
        {
         "diesel": 0,
         "electric": 0,
         "gasoline": 1,
         "_deepnote_index_column": 127
        },
        {
         "diesel": 0,
         "electric": 0,
         "gasoline": 1,
         "_deepnote_index_column": 128
        },
        {
         "diesel": 0,
         "electric": 0,
         "gasoline": 1,
         "_deepnote_index_column": 129
        },
        {
         "diesel": 0,
         "electric": 0,
         "gasoline": 1,
         "_deepnote_index_column": 130
        },
        {
         "diesel": 0,
         "electric": 0,
         "gasoline": 1,
         "_deepnote_index_column": 131
        },
        {
         "diesel": 0,
         "electric": 0,
         "gasoline": 1,
         "_deepnote_index_column": 132
        },
        {
         "diesel": 0,
         "electric": 0,
         "gasoline": 1,
         "_deepnote_index_column": 133
        },
        {
         "diesel": 0,
         "electric": 0,
         "gasoline": 1,
         "_deepnote_index_column": 134
        },
        {
         "diesel": 0,
         "electric": 0,
         "gasoline": 1,
         "_deepnote_index_column": 135
        },
        {
         "diesel": 1,
         "electric": 0,
         "gasoline": 0,
         "_deepnote_index_column": 136
        },
        {
         "diesel": 0,
         "electric": 0,
         "gasoline": 1,
         "_deepnote_index_column": 137
        },
        {
         "diesel": 0,
         "electric": 0,
         "gasoline": 1,
         "_deepnote_index_column": 138
        },
        {
         "diesel": 0,
         "electric": 0,
         "gasoline": 1,
         "_deepnote_index_column": 139
        },
        {
         "diesel": 0,
         "electric": 0,
         "gasoline": 1,
         "_deepnote_index_column": 140
        },
        {
         "diesel": 0,
         "electric": 0,
         "gasoline": 1,
         "_deepnote_index_column": 141
        },
        {
         "diesel": 0,
         "electric": 0,
         "gasoline": 1,
         "_deepnote_index_column": 142
        },
        {
         "diesel": 0,
         "electric": 0,
         "gasoline": 1,
         "_deepnote_index_column": 143
        },
        {
         "diesel": 0,
         "electric": 0,
         "gasoline": 1,
         "_deepnote_index_column": 144
        },
        {
         "diesel": 0,
         "electric": 0,
         "gasoline": 1,
         "_deepnote_index_column": 145
        },
        {
         "diesel": 0,
         "electric": 0,
         "gasoline": 1,
         "_deepnote_index_column": 146
        },
        {
         "diesel": 0,
         "electric": 0,
         "gasoline": 1,
         "_deepnote_index_column": 147
        },
        {
         "diesel": 0,
         "electric": 0,
         "gasoline": 1,
         "_deepnote_index_column": 148
        },
        {
         "diesel": 0,
         "electric": 0,
         "gasoline": 1,
         "_deepnote_index_column": 149
        },
        {
         "diesel": 0,
         "electric": 0,
         "gasoline": 1,
         "_deepnote_index_column": 150
        },
        {
         "diesel": 0,
         "electric": 0,
         "gasoline": 1,
         "_deepnote_index_column": 151
        },
        {
         "diesel": 0,
         "electric": 0,
         "gasoline": 1,
         "_deepnote_index_column": 152
        },
        {
         "diesel": 0,
         "electric": 0,
         "gasoline": 1,
         "_deepnote_index_column": 153
        },
        {
         "diesel": 0,
         "electric": 0,
         "gasoline": 1,
         "_deepnote_index_column": 154
        },
        {
         "diesel": 0,
         "electric": 0,
         "gasoline": 1,
         "_deepnote_index_column": 155
        },
        {
         "diesel": 0,
         "electric": 0,
         "gasoline": 1,
         "_deepnote_index_column": 156
        },
        {
         "diesel": 0,
         "electric": 0,
         "gasoline": 1,
         "_deepnote_index_column": 157
        },
        {
         "diesel": 0,
         "electric": 0,
         "gasoline": 1,
         "_deepnote_index_column": 158
        },
        {
         "diesel": 0,
         "electric": 0,
         "gasoline": 1,
         "_deepnote_index_column": 159
        },
        {
         "diesel": 0,
         "electric": 0,
         "gasoline": 1,
         "_deepnote_index_column": 160
        },
        {
         "diesel": 1,
         "electric": 0,
         "gasoline": 0,
         "_deepnote_index_column": 161
        },
        {
         "diesel": 0,
         "electric": 0,
         "gasoline": 1,
         "_deepnote_index_column": 162
        },
        {
         "diesel": 0,
         "electric": 0,
         "gasoline": 1,
         "_deepnote_index_column": 163
        },
        {
         "diesel": 0,
         "electric": 0,
         "gasoline": 1,
         "_deepnote_index_column": 164
        },
        {
         "diesel": 0,
         "electric": 0,
         "gasoline": 1,
         "_deepnote_index_column": 165
        }
       ],
       "rows_bottom": [
        {
         "diesel": 0,
         "electric": 0,
         "gasoline": 1,
         "_deepnote_index_column": 38364
        },
        {
         "diesel": 0,
         "electric": 0,
         "gasoline": 1,
         "_deepnote_index_column": 38365
        },
        {
         "diesel": 0,
         "electric": 0,
         "gasoline": 1,
         "_deepnote_index_column": 38366
        },
        {
         "diesel": 0,
         "electric": 0,
         "gasoline": 1,
         "_deepnote_index_column": 38367
        },
        {
         "diesel": 0,
         "electric": 0,
         "gasoline": 1,
         "_deepnote_index_column": 38368
        },
        {
         "diesel": 0,
         "electric": 0,
         "gasoline": 1,
         "_deepnote_index_column": 38369
        },
        {
         "diesel": 0,
         "electric": 0,
         "gasoline": 1,
         "_deepnote_index_column": 38370
        },
        {
         "diesel": 1,
         "electric": 0,
         "gasoline": 0,
         "_deepnote_index_column": 38371
        },
        {
         "diesel": 0,
         "electric": 0,
         "gasoline": 1,
         "_deepnote_index_column": 38372
        },
        {
         "diesel": 0,
         "electric": 0,
         "gasoline": 1,
         "_deepnote_index_column": 38373
        },
        {
         "diesel": 0,
         "electric": 0,
         "gasoline": 1,
         "_deepnote_index_column": 38374
        },
        {
         "diesel": 0,
         "electric": 0,
         "gasoline": 1,
         "_deepnote_index_column": 38375
        },
        {
         "diesel": 0,
         "electric": 0,
         "gasoline": 1,
         "_deepnote_index_column": 38376
        },
        {
         "diesel": 0,
         "electric": 0,
         "gasoline": 1,
         "_deepnote_index_column": 38377
        },
        {
         "diesel": 0,
         "electric": 0,
         "gasoline": 1,
         "_deepnote_index_column": 38378
        },
        {
         "diesel": 0,
         "electric": 0,
         "gasoline": 1,
         "_deepnote_index_column": 38379
        },
        {
         "diesel": 0,
         "electric": 0,
         "gasoline": 1,
         "_deepnote_index_column": 38380
        },
        {
         "diesel": 1,
         "electric": 0,
         "gasoline": 0,
         "_deepnote_index_column": 38381
        },
        {
         "diesel": 0,
         "electric": 0,
         "gasoline": 1,
         "_deepnote_index_column": 38382
        },
        {
         "diesel": 0,
         "electric": 0,
         "gasoline": 1,
         "_deepnote_index_column": 38383
        },
        {
         "diesel": 1,
         "electric": 0,
         "gasoline": 0,
         "_deepnote_index_column": 38384
        },
        {
         "diesel": 0,
         "electric": 0,
         "gasoline": 1,
         "_deepnote_index_column": 38385
        },
        {
         "diesel": 1,
         "electric": 0,
         "gasoline": 0,
         "_deepnote_index_column": 38386
        },
        {
         "diesel": 0,
         "electric": 0,
         "gasoline": 1,
         "_deepnote_index_column": 38387
        },
        {
         "diesel": 1,
         "electric": 0,
         "gasoline": 0,
         "_deepnote_index_column": 38388
        },
        {
         "diesel": 0,
         "electric": 0,
         "gasoline": 1,
         "_deepnote_index_column": 38389
        },
        {
         "diesel": 0,
         "electric": 0,
         "gasoline": 1,
         "_deepnote_index_column": 38390
        },
        {
         "diesel": 0,
         "electric": 0,
         "gasoline": 1,
         "_deepnote_index_column": 38391
        },
        {
         "diesel": 1,
         "electric": 0,
         "gasoline": 0,
         "_deepnote_index_column": 38392
        },
        {
         "diesel": 0,
         "electric": 0,
         "gasoline": 1,
         "_deepnote_index_column": 38393
        },
        {
         "diesel": 1,
         "electric": 0,
         "gasoline": 0,
         "_deepnote_index_column": 38394
        },
        {
         "diesel": 1,
         "electric": 0,
         "gasoline": 0,
         "_deepnote_index_column": 38395
        },
        {
         "diesel": 0,
         "electric": 0,
         "gasoline": 1,
         "_deepnote_index_column": 38396
        },
        {
         "diesel": 0,
         "electric": 0,
         "gasoline": 1,
         "_deepnote_index_column": 38397
        },
        {
         "diesel": 1,
         "electric": 0,
         "gasoline": 0,
         "_deepnote_index_column": 38398
        },
        {
         "diesel": 0,
         "electric": 0,
         "gasoline": 1,
         "_deepnote_index_column": 38399
        },
        {
         "diesel": 0,
         "electric": 0,
         "gasoline": 1,
         "_deepnote_index_column": 38400
        },
        {
         "diesel": 0,
         "electric": 0,
         "gasoline": 1,
         "_deepnote_index_column": 38401
        },
        {
         "diesel": 0,
         "electric": 0,
         "gasoline": 1,
         "_deepnote_index_column": 38402
        },
        {
         "diesel": 0,
         "electric": 0,
         "gasoline": 1,
         "_deepnote_index_column": 38403
        },
        {
         "diesel": 0,
         "electric": 0,
         "gasoline": 1,
         "_deepnote_index_column": 38404
        },
        {
         "diesel": 0,
         "electric": 0,
         "gasoline": 1,
         "_deepnote_index_column": 38405
        },
        {
         "diesel": 0,
         "electric": 0,
         "gasoline": 1,
         "_deepnote_index_column": 38406
        },
        {
         "diesel": 0,
         "electric": 0,
         "gasoline": 1,
         "_deepnote_index_column": 38407
        },
        {
         "diesel": 0,
         "electric": 0,
         "gasoline": 1,
         "_deepnote_index_column": 38408
        },
        {
         "diesel": 0,
         "electric": 0,
         "gasoline": 1,
         "_deepnote_index_column": 38409
        },
        {
         "diesel": 0,
         "electric": 0,
         "gasoline": 1,
         "_deepnote_index_column": 38410
        },
        {
         "diesel": 0,
         "electric": 0,
         "gasoline": 1,
         "_deepnote_index_column": 38411
        },
        {
         "diesel": 0,
         "electric": 0,
         "gasoline": 1,
         "_deepnote_index_column": 38412
        },
        {
         "diesel": 0,
         "electric": 0,
         "gasoline": 1,
         "_deepnote_index_column": 38413
        },
        {
         "diesel": 0,
         "electric": 0,
         "gasoline": 1,
         "_deepnote_index_column": 38414
        },
        {
         "diesel": 1,
         "electric": 0,
         "gasoline": 0,
         "_deepnote_index_column": 38415
        },
        {
         "diesel": 0,
         "electric": 0,
         "gasoline": 1,
         "_deepnote_index_column": 38416
        },
        {
         "diesel": 0,
         "electric": 0,
         "gasoline": 1,
         "_deepnote_index_column": 38417
        },
        {
         "diesel": 1,
         "electric": 0,
         "gasoline": 0,
         "_deepnote_index_column": 38418
        },
        {
         "diesel": 0,
         "electric": 0,
         "gasoline": 1,
         "_deepnote_index_column": 38419
        },
        {
         "diesel": 0,
         "electric": 0,
         "gasoline": 1,
         "_deepnote_index_column": 38420
        },
        {
         "diesel": 1,
         "electric": 0,
         "gasoline": 0,
         "_deepnote_index_column": 38421
        },
        {
         "diesel": 1,
         "electric": 0,
         "gasoline": 0,
         "_deepnote_index_column": 38422
        },
        {
         "diesel": 0,
         "electric": 0,
         "gasoline": 1,
         "_deepnote_index_column": 38423
        },
        {
         "diesel": 1,
         "electric": 0,
         "gasoline": 0,
         "_deepnote_index_column": 38424
        },
        {
         "diesel": 0,
         "electric": 0,
         "gasoline": 1,
         "_deepnote_index_column": 38425
        },
        {
         "diesel": 0,
         "electric": 0,
         "gasoline": 1,
         "_deepnote_index_column": 38426
        },
        {
         "diesel": 1,
         "electric": 0,
         "gasoline": 0,
         "_deepnote_index_column": 38427
        },
        {
         "diesel": 0,
         "electric": 0,
         "gasoline": 1,
         "_deepnote_index_column": 38428
        },
        {
         "diesel": 0,
         "electric": 0,
         "gasoline": 1,
         "_deepnote_index_column": 38429
        },
        {
         "diesel": 0,
         "electric": 0,
         "gasoline": 1,
         "_deepnote_index_column": 38430
        },
        {
         "diesel": 0,
         "electric": 0,
         "gasoline": 1,
         "_deepnote_index_column": 38431
        },
        {
         "diesel": 1,
         "electric": 0,
         "gasoline": 0,
         "_deepnote_index_column": 38432
        },
        {
         "diesel": 0,
         "electric": 0,
         "gasoline": 1,
         "_deepnote_index_column": 38433
        },
        {
         "diesel": 0,
         "electric": 0,
         "gasoline": 1,
         "_deepnote_index_column": 38434
        },
        {
         "diesel": 0,
         "electric": 0,
         "gasoline": 1,
         "_deepnote_index_column": 38435
        },
        {
         "diesel": 0,
         "electric": 0,
         "gasoline": 1,
         "_deepnote_index_column": 38436
        },
        {
         "diesel": 0,
         "electric": 0,
         "gasoline": 1,
         "_deepnote_index_column": 38437
        },
        {
         "diesel": 1,
         "electric": 0,
         "gasoline": 0,
         "_deepnote_index_column": 38438
        },
        {
         "diesel": 0,
         "electric": 0,
         "gasoline": 1,
         "_deepnote_index_column": 38439
        },
        {
         "diesel": 0,
         "electric": 0,
         "gasoline": 1,
         "_deepnote_index_column": 38440
        },
        {
         "diesel": 1,
         "electric": 0,
         "gasoline": 0,
         "_deepnote_index_column": 38441
        },
        {
         "diesel": 0,
         "electric": 0,
         "gasoline": 1,
         "_deepnote_index_column": 38442
        },
        {
         "diesel": 0,
         "electric": 0,
         "gasoline": 1,
         "_deepnote_index_column": 38443
        },
        {
         "diesel": 1,
         "electric": 0,
         "gasoline": 0,
         "_deepnote_index_column": 38444
        },
        {
         "diesel": 0,
         "electric": 0,
         "gasoline": 1,
         "_deepnote_index_column": 38445
        },
        {
         "diesel": 0,
         "electric": 0,
         "gasoline": 1,
         "_deepnote_index_column": 38446
        },
        {
         "diesel": 0,
         "electric": 0,
         "gasoline": 1,
         "_deepnote_index_column": 38447
        },
        {
         "diesel": 0,
         "electric": 0,
         "gasoline": 1,
         "_deepnote_index_column": 38448
        },
        {
         "diesel": 0,
         "electric": 0,
         "gasoline": 1,
         "_deepnote_index_column": 38449
        },
        {
         "diesel": 0,
         "electric": 0,
         "gasoline": 1,
         "_deepnote_index_column": 38450
        },
        {
         "diesel": 1,
         "electric": 0,
         "gasoline": 0,
         "_deepnote_index_column": 38451
        },
        {
         "diesel": 0,
         "electric": 0,
         "gasoline": 1,
         "_deepnote_index_column": 38452
        },
        {
         "diesel": 0,
         "electric": 0,
         "gasoline": 1,
         "_deepnote_index_column": 38453
        },
        {
         "diesel": 0,
         "electric": 0,
         "gasoline": 1,
         "_deepnote_index_column": 38454
        },
        {
         "diesel": 0,
         "electric": 0,
         "gasoline": 1,
         "_deepnote_index_column": 38455
        },
        {
         "diesel": 0,
         "electric": 0,
         "gasoline": 1,
         "_deepnote_index_column": 38456
        },
        {
         "diesel": 0,
         "electric": 0,
         "gasoline": 1,
         "_deepnote_index_column": 38457
        },
        {
         "diesel": 0,
         "electric": 0,
         "gasoline": 1,
         "_deepnote_index_column": 38458
        },
        {
         "diesel": 0,
         "electric": 0,
         "gasoline": 1,
         "_deepnote_index_column": 38459
        },
        {
         "diesel": 0,
         "electric": 0,
         "gasoline": 1,
         "_deepnote_index_column": 38460
        },
        {
         "diesel": 0,
         "electric": 0,
         "gasoline": 1,
         "_deepnote_index_column": 38461
        },
        {
         "diesel": 0,
         "electric": 0,
         "gasoline": 1,
         "_deepnote_index_column": 38462
        },
        {
         "diesel": 0,
         "electric": 0,
         "gasoline": 1,
         "_deepnote_index_column": 38463
        },
        {
         "diesel": 0,
         "electric": 0,
         "gasoline": 1,
         "_deepnote_index_column": 38464
        },
        {
         "diesel": 0,
         "electric": 0,
         "gasoline": 1,
         "_deepnote_index_column": 38465
        },
        {
         "diesel": 0,
         "electric": 0,
         "gasoline": 1,
         "_deepnote_index_column": 38466
        },
        {
         "diesel": 0,
         "electric": 0,
         "gasoline": 1,
         "_deepnote_index_column": 38467
        },
        {
         "diesel": 0,
         "electric": 0,
         "gasoline": 1,
         "_deepnote_index_column": 38468
        },
        {
         "diesel": 0,
         "electric": 0,
         "gasoline": 1,
         "_deepnote_index_column": 38469
        },
        {
         "diesel": 0,
         "electric": 0,
         "gasoline": 1,
         "_deepnote_index_column": 38470
        },
        {
         "diesel": 1,
         "electric": 0,
         "gasoline": 0,
         "_deepnote_index_column": 38471
        },
        {
         "diesel": 0,
         "electric": 0,
         "gasoline": 1,
         "_deepnote_index_column": 38472
        },
        {
         "diesel": 1,
         "electric": 0,
         "gasoline": 0,
         "_deepnote_index_column": 38473
        },
        {
         "diesel": 0,
         "electric": 0,
         "gasoline": 1,
         "_deepnote_index_column": 38474
        },
        {
         "diesel": 0,
         "electric": 0,
         "gasoline": 1,
         "_deepnote_index_column": 38475
        },
        {
         "diesel": 1,
         "electric": 0,
         "gasoline": 0,
         "_deepnote_index_column": 38476
        },
        {
         "diesel": 0,
         "electric": 0,
         "gasoline": 1,
         "_deepnote_index_column": 38477
        },
        {
         "diesel": 0,
         "electric": 0,
         "gasoline": 1,
         "_deepnote_index_column": 38478
        },
        {
         "diesel": 0,
         "electric": 0,
         "gasoline": 1,
         "_deepnote_index_column": 38479
        },
        {
         "diesel": 0,
         "electric": 0,
         "gasoline": 1,
         "_deepnote_index_column": 38480
        },
        {
         "diesel": 0,
         "electric": 0,
         "gasoline": 1,
         "_deepnote_index_column": 38481
        },
        {
         "diesel": 0,
         "electric": 0,
         "gasoline": 1,
         "_deepnote_index_column": 38482
        },
        {
         "diesel": 0,
         "electric": 0,
         "gasoline": 1,
         "_deepnote_index_column": 38483
        },
        {
         "diesel": 1,
         "electric": 0,
         "gasoline": 0,
         "_deepnote_index_column": 38484
        },
        {
         "diesel": 0,
         "electric": 0,
         "gasoline": 1,
         "_deepnote_index_column": 38485
        },
        {
         "diesel": 0,
         "electric": 0,
         "gasoline": 1,
         "_deepnote_index_column": 38486
        },
        {
         "diesel": 0,
         "electric": 0,
         "gasoline": 1,
         "_deepnote_index_column": 38487
        },
        {
         "diesel": 1,
         "electric": 0,
         "gasoline": 0,
         "_deepnote_index_column": 38488
        },
        {
         "diesel": 0,
         "electric": 0,
         "gasoline": 1,
         "_deepnote_index_column": 38489
        },
        {
         "diesel": 0,
         "electric": 0,
         "gasoline": 1,
         "_deepnote_index_column": 38490
        },
        {
         "diesel": 0,
         "electric": 0,
         "gasoline": 1,
         "_deepnote_index_column": 38491
        },
        {
         "diesel": 1,
         "electric": 0,
         "gasoline": 0,
         "_deepnote_index_column": 38492
        },
        {
         "diesel": 0,
         "electric": 0,
         "gasoline": 1,
         "_deepnote_index_column": 38493
        },
        {
         "diesel": 1,
         "electric": 0,
         "gasoline": 0,
         "_deepnote_index_column": 38494
        },
        {
         "diesel": 0,
         "electric": 0,
         "gasoline": 1,
         "_deepnote_index_column": 38495
        },
        {
         "diesel": 0,
         "electric": 0,
         "gasoline": 1,
         "_deepnote_index_column": 38496
        },
        {
         "diesel": 0,
         "electric": 0,
         "gasoline": 1,
         "_deepnote_index_column": 38497
        },
        {
         "diesel": 0,
         "electric": 0,
         "gasoline": 1,
         "_deepnote_index_column": 38498
        },
        {
         "diesel": 0,
         "electric": 0,
         "gasoline": 1,
         "_deepnote_index_column": 38499
        },
        {
         "diesel": 0,
         "electric": 0,
         "gasoline": 1,
         "_deepnote_index_column": 38500
        },
        {
         "diesel": 0,
         "electric": 0,
         "gasoline": 1,
         "_deepnote_index_column": 38501
        },
        {
         "diesel": 0,
         "electric": 0,
         "gasoline": 1,
         "_deepnote_index_column": 38502
        },
        {
         "diesel": 0,
         "electric": 0,
         "gasoline": 1,
         "_deepnote_index_column": 38503
        },
        {
         "diesel": 1,
         "electric": 0,
         "gasoline": 0,
         "_deepnote_index_column": 38504
        },
        {
         "diesel": 0,
         "electric": 0,
         "gasoline": 1,
         "_deepnote_index_column": 38505
        },
        {
         "diesel": 1,
         "electric": 0,
         "gasoline": 0,
         "_deepnote_index_column": 38506
        },
        {
         "diesel": 1,
         "electric": 0,
         "gasoline": 0,
         "_deepnote_index_column": 38507
        },
        {
         "diesel": 0,
         "electric": 0,
         "gasoline": 1,
         "_deepnote_index_column": 38508
        },
        {
         "diesel": 0,
         "electric": 0,
         "gasoline": 1,
         "_deepnote_index_column": 38509
        },
        {
         "diesel": 0,
         "electric": 0,
         "gasoline": 1,
         "_deepnote_index_column": 38510
        },
        {
         "diesel": 0,
         "electric": 0,
         "gasoline": 1,
         "_deepnote_index_column": 38511
        },
        {
         "diesel": 0,
         "electric": 0,
         "gasoline": 1,
         "_deepnote_index_column": 38512
        },
        {
         "diesel": 0,
         "electric": 0,
         "gasoline": 1,
         "_deepnote_index_column": 38513
        },
        {
         "diesel": 0,
         "electric": 0,
         "gasoline": 1,
         "_deepnote_index_column": 38514
        },
        {
         "diesel": 0,
         "electric": 0,
         "gasoline": 1,
         "_deepnote_index_column": 38515
        },
        {
         "diesel": 0,
         "electric": 0,
         "gasoline": 1,
         "_deepnote_index_column": 38516
        },
        {
         "diesel": 1,
         "electric": 0,
         "gasoline": 0,
         "_deepnote_index_column": 38517
        },
        {
         "diesel": 0,
         "electric": 0,
         "gasoline": 1,
         "_deepnote_index_column": 38518
        },
        {
         "diesel": 0,
         "electric": 0,
         "gasoline": 1,
         "_deepnote_index_column": 38519
        },
        {
         "diesel": 1,
         "electric": 0,
         "gasoline": 0,
         "_deepnote_index_column": 38520
        },
        {
         "diesel": 0,
         "electric": 0,
         "gasoline": 1,
         "_deepnote_index_column": 38521
        },
        {
         "diesel": 0,
         "electric": 0,
         "gasoline": 1,
         "_deepnote_index_column": 38522
        },
        {
         "diesel": 1,
         "electric": 0,
         "gasoline": 0,
         "_deepnote_index_column": 38523
        },
        {
         "diesel": 0,
         "electric": 0,
         "gasoline": 1,
         "_deepnote_index_column": 38524
        },
        {
         "diesel": 0,
         "electric": 0,
         "gasoline": 1,
         "_deepnote_index_column": 38525
        },
        {
         "diesel": 0,
         "electric": 0,
         "gasoline": 1,
         "_deepnote_index_column": 38526
        },
        {
         "diesel": 1,
         "electric": 0,
         "gasoline": 0,
         "_deepnote_index_column": 38527
        },
        {
         "diesel": 0,
         "electric": 0,
         "gasoline": 1,
         "_deepnote_index_column": 38528
        },
        {
         "diesel": 0,
         "electric": 0,
         "gasoline": 1,
         "_deepnote_index_column": 38529
        },
        {
         "diesel": 0,
         "electric": 0,
         "gasoline": 1,
         "_deepnote_index_column": 38530
        }
       ]
      },
      "text/plain": "       diesel  electric  gasoline\n0           0         0         1\n1           0         0         1\n2           0         0         1\n3           0         0         1\n4           0         0         1\n...       ...       ...       ...\n38526       0         0         1\n38527       1         0         0\n38528       0         0         1\n38529       0         0         1\n38530       0         0         1\n\n[38531 rows x 3 columns]",
      "text/html": "<div>\n<style scoped>\n    .dataframe tbody tr th:only-of-type {\n        vertical-align: middle;\n    }\n\n    .dataframe tbody tr th {\n        vertical-align: top;\n    }\n\n    .dataframe thead th {\n        text-align: right;\n    }\n</style>\n<table border=\"1\" class=\"dataframe\">\n  <thead>\n    <tr style=\"text-align: right;\">\n      <th></th>\n      <th>diesel</th>\n      <th>electric</th>\n      <th>gasoline</th>\n    </tr>\n  </thead>\n  <tbody>\n    <tr>\n      <th>0</th>\n      <td>0</td>\n      <td>0</td>\n      <td>1</td>\n    </tr>\n    <tr>\n      <th>1</th>\n      <td>0</td>\n      <td>0</td>\n      <td>1</td>\n    </tr>\n    <tr>\n      <th>2</th>\n      <td>0</td>\n      <td>0</td>\n      <td>1</td>\n    </tr>\n    <tr>\n      <th>3</th>\n      <td>0</td>\n      <td>0</td>\n      <td>1</td>\n    </tr>\n    <tr>\n      <th>4</th>\n      <td>0</td>\n      <td>0</td>\n      <td>1</td>\n    </tr>\n    <tr>\n      <th>...</th>\n      <td>...</td>\n      <td>...</td>\n      <td>...</td>\n    </tr>\n    <tr>\n      <th>38526</th>\n      <td>0</td>\n      <td>0</td>\n      <td>1</td>\n    </tr>\n    <tr>\n      <th>38527</th>\n      <td>1</td>\n      <td>0</td>\n      <td>0</td>\n    </tr>\n    <tr>\n      <th>38528</th>\n      <td>0</td>\n      <td>0</td>\n      <td>1</td>\n    </tr>\n    <tr>\n      <th>38529</th>\n      <td>0</td>\n      <td>0</td>\n      <td>1</td>\n    </tr>\n    <tr>\n      <th>38530</th>\n      <td>0</td>\n      <td>0</td>\n      <td>1</td>\n    </tr>\n  </tbody>\n</table>\n<p>38531 rows × 3 columns</p>\n</div>"
     },
     "metadata": {}
    }
   ],
   "execution_count": 72
  },
  {
   "cell_type": "code",
   "source": "from sklearn.preprocessing import OneHotEncoder\n\nencoder = OneHotEncoder(handle_unknown='ignore')\n\nencoder.fit(data[['engine_type']].values)",
   "metadata": {
    "tags": [],
    "deepnote_app_coordinates": {
     "x": 0,
     "y": 0,
     "w": 12,
     "h": 5
    },
    "cell_id": "00058-fe4febea-f14d-4ad0-bd7f-17f8be059fbb",
    "deepnote_to_be_reexecuted": false,
    "source_hash": "12676d9d",
    "execution_start": 1633206104873,
    "execution_millis": 26,
    "deepnote_cell_type": "code"
   },
   "outputs": [
    {
     "output_type": "execute_result",
     "execution_count": 77,
     "data": {
      "text/plain": "OneHotEncoder(handle_unknown='ignore')"
     },
     "metadata": {}
    }
   ],
   "execution_count": 77
  },
  {
   "cell_type": "code",
   "source": "encoder.transform([['gasoline'], ['diesel'], ['aceite'], ['electric']]).toarray()",
   "metadata": {
    "tags": [],
    "deepnote_app_coordinates": {
     "x": 0,
     "y": 0,
     "w": 12,
     "h": 5
    },
    "cell_id": "00059-139f815a-a57e-475d-a4f6-c57f1c62e5e2",
    "deepnote_to_be_reexecuted": false,
    "source_hash": "b8153919",
    "execution_start": 1633206313780,
    "execution_millis": 32,
    "deepnote_cell_type": "code"
   },
   "outputs": [
    {
     "output_type": "execute_result",
     "execution_count": 81,
     "data": {
      "text/plain": "array([[0., 0., 1.],\n       [1., 0., 0.],\n       [0., 0., 0.],\n       [0., 1., 0.]])"
     },
     "metadata": {}
    }
   ],
   "execution_count": 81
  },
  {
   "cell_type": "markdown",
   "source": "## Correlaciones\n\nSi 2 variables están correlacionadas, estarían aportando la misma información, por lo que no sería útil tener las 2 variables en el modelo si su correlación es muy alta.\n\nLa forma de encontrar las correlaciones es usando al **covarianza**:\n\n### Varianza\n\n#### $V(x) = {1\\over{n}}{\\sum_{i=1}^n{(x_i - \\bar{x})^2}}$\n\n### Covarianza\n\n#### $Cov(x, y) = {1\\over{n}}{\\sum_{i=1}^n{(x_i - \\bar{x})(y_i - \\bar{y})}}$\n\nPero como las escalas de $x$ y $y$ pueden ser distintas, entonces se usa el **coeficiente de correlación** (ρ):\n\n#### $\\rho = {cov\\over{std(x)std(y)}}$\n\nMientas más alto sea el coeficiente de correlación (más cercano a 1), más alta es la correlación y viceversa (más cercano a 0), y si el valor es cercano a -1, entonces hay una correlación inversa.\n\n### Matriz de covarianza",
   "metadata": {
    "tags": [],
    "deepnote_app_coordinates": {
     "x": 0,
     "y": 0,
     "w": 12,
     "h": 5
    },
    "cell_id": "00060-0c0d0795-8e14-445b-a5c4-9c6fcfd6e756",
    "deepnote_cell_type": "markdown"
   }
  },
  {
   "cell_type": "markdown",
   "source": "<a style='text-decoration:none;line-height:16px;display:flex;color:#5B5B62;padding:10px;justify-content:end;' href='https://deepnote.com?utm_source=created-in-deepnote-cell&projectId=e36e672b-24d4-4dd2-bab2-38a64f83eb6f' target=\"_blank\">\n<img alt='Created in deepnote.com' style='display:inline;max-height:16px;margin:0px;margin-right:7.5px;' src='data:image/svg+xml;base64,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' > </img>\nCreated in <span style='font-weight:600;margin-left:4px;'>Deepnote</span></a>",
   "metadata": {
    "tags": [],
    "created_in_deepnote_cell": true,
    "deepnote_cell_type": "markdown"
   }
  }
 ],
 "nbformat": 4,
 "nbformat_minor": 2,
 "metadata": {
  "orig_nbformat": 2,
  "deepnote": {
   "is_reactive": false
  },
  "deepnote_notebook_id": "f242c679-c61a-4085-a366-40afa017b9a7",
  "deepnote_execution_queue": [],
  "deepnote_app_layout": "article"
 }
}