{
 "cells": [
  {
   "cell_type": "markdown",
   "metadata": {},
   "source": [
    "# Programación Estocástica\n",
    "\n",
    "* Un programa es determinístico si cuando se corre con el mismo *input* produce el mismo *output*.\n",
    "* Los programas determinísticos son muy importantes, pero existen problemas que no pueden resolverse de esta manera.\n",
    "* La programación estocástica permite introducir aleatoriedad a nuestros programas para crear simulaciones que permiten resolver otro tipo de problemas.\n",
    "* Las programas estocásticos se aprovechan de que las distribuciones probabilísticas de un problema se conocen o pueden ser estimadas."
   ]
  },
  {
   "cell_type": "markdown",
   "metadata": {},
   "source": [
    "## Cálculo de Probabilidades\n",
    "\n",
    "* La probabilidad es una medida de la certidumbre asociada a un evento o suceso futuro y suele expresarse como un número entre 0 y 1.\n",
    "* Una probabilidad de 0 significa que un suceso jamás sucederá.\n",
    "* Una probabilidad de 1 significa que un suceso está garantizado de suceder en el futuro.\n",
    "\n",
    "###\n",
    "\n",
    "* Ley del complemento: $P(A) + P(~A) = 1$\n",
    "* Ley multiplicativa: $P(A\\ y\\ B) = P(A) * P(B)$. Los eventos A y B deben ser independientes (mutuamente exclusivos).\n",
    "* Ley aditiva:\n",
    "    * $P(A\\ o\\ B) = P(A) + P(B)$. Los eventos A y B deben ser mutuamente exclusivos.\n",
    "    * $P(A\\ o\\ B) = P(A) + P(B) - P(A\\ y\\ B)$. Esto aplica cuando los eventos son no exclusivos, si son eventos exclusivos entonces $P(A\\ y\\ B) = 0$."
   ]
  },
  {
   "cell_type": "markdown",
   "metadata": {},
   "source": [
    "### Simulación de probabilidades"
   ]
  },
  {
   "cell_type": "code",
   "execution_count": 1,
   "metadata": {},
   "outputs": [
    {
     "name": "stdout",
     "output_type": "stream",
     "text": [
      "The average is 3.492\n"
     ]
    },
    {
     "data": {
      "image/png": "[encoded data removed]",
      "text/plain": [
       "<Figure size 432x288 with 1 Axes>"
      ]
     },
     "metadata": {
      "needs_background": "light"
     },
     "output_type": "display_data"
    }
   ],
   "source": [
    "# Simulation of Tossing a Die to find Average result\n",
    "# Uses a visual representation for the results\n",
    "\n",
    "import matplotlib.pyplot as plt\n",
    "import numpy as np\n",
    "import random\n",
    "\n",
    "\n",
    "def throw_die(data_list, times):\n",
    "    total = 0\n",
    "    for i in range(times):\n",
    "        num = random.randint(1, 6)\n",
    "        total = total + num\n",
    "        data_list[num-1] = data_list[num-1] + 1\n",
    "    average = total * 1.0 / times\n",
    "    return average\n",
    "\n",
    "\n",
    "# use a list to keep the times each number appears\n",
    "test_data = [0, 0, 0, 0, 0, 0]\n",
    "times = 1000  # throw a die n times\n",
    "average = throw_die(test_data, times)\n",
    "print('The average is', average)\n",
    "\n",
    "# Plot the result\n",
    "ind = np.arange(6)  # the x locations for the groups\n",
    "width = 0.5      # the width of the bars\n",
    "fig, ax = plt.subplots()\n",
    "result = ax.bar(ind+width/2, test_data, width, color='r')\n",
    "ax.set_ylabel('Counts')\n",
    "ax.set_title('Throw a Die')\n",
    "ax.set_xticks(ind+width/2)\n",
    "ax.set_xticklabels(('1', '2', '3', '4', '5', '6'))\n",
    "plt.show()\n"
   ]
  },
  {
   "cell_type": "markdown",
   "metadata": {},
   "source": [
    "## Inferencia Estadística\n",
    "\n",
    "* Con las simulaciones podemos calcular las probabilidades de eventos complejos sabiendo las probabilidades de eventos simples.\n",
    "* ¿Qué pasa cuando no sabemos las probabilidades de los eventos simples?\n",
    "* Las técnicas de Inferencia Estadística nos permiten inferir/concluir las propiedades de una población a partir de una muestra aleatoria.\n",
    "\n",
    "> El principio guía de la Inferencia Estadístcia es que una muestra aleatoria tiende a exhibir las mismas propiedades que la población de la que fue extraída. - John Guttag\n",
    "\n",
    "### Falacia del apostador\n",
    "\n",
    "* La falacia del apostador señala que después de un evento extremo, ocurrirán eventos menos extremos para nivelar la media.\n",
    "###\n",
    "* La regresión a la media señala que después de un evento aleatorio extremo, el siguiente evento probablement será menos extremo.\n",
    "\n",
    "### Media\n",
    "\n",
    "* Es una medida de tendencia central.\n",
    "* Comunmente es conocida como el promedio.\n",
    "* La media de una población se denota con el símbolo $\\mu$. La media de una muestra se denota con $\\bar{X}$.\n",
    "\n",
    "###\n",
    "\n",
    "* ### ${\\bar{x}} = {1\\over{n}} \\sum_{i=1}^n {x_i}$\n",
    "\n",
    "###\n",
    "\n",
    "* ### ${x_1 + x_2 + ... + x_n}\\over{n}$\n",
    "\n"
   ]
  },
  {
   "cell_type": "code",
   "execution_count": 2,
   "metadata": {},
   "outputs": [],
   "source": [
    "def media(X: list):\n",
    "    return sum(X) / len(X)\n"
   ]
  },
  {
   "cell_type": "code",
   "execution_count": 3,
   "metadata": {},
   "outputs": [
    {
     "name": "stdout",
     "output_type": "stream",
     "text": [
      "[2, 15, 7, 14, 18, 5, 20, 7, 8, 16, 20, 18, 21, 12, 19, 17, 1, 3, 20, 6]\n",
      "12.45\n"
     ]
    }
   ],
   "source": [
    "import random\n",
    "\n",
    "X = [random.randint(1, 21) for i in range(20)]\n",
    "\n",
    "mu = media(X)\n",
    "\n",
    "print(X)\n",
    "print(mu)"
   ]
  },
  {
   "cell_type": "code",
   "execution_count": 4,
   "metadata": {},
   "outputs": [
    {
     "name": "stdout",
     "output_type": "stream",
     "text": [
      "[15, 12, 18, 7, 9, 13, 12, 21, 21, 3, 20, 16, 5, 10, 4, 11, 6, 9, 20, 3]\n",
      "11.75\n"
     ]
    }
   ],
   "source": [
    "X = [random.randint(1, 21) for i in range(20)]\n",
    "\n",
    "mu = media(X)\n",
    "\n",
    "print(X)\n",
    "print(mu)"
   ]
  },
  {
   "cell_type": "markdown",
   "metadata": {},
   "source": [
    "### Varianza y Desviacíón estándar\n",
    "\n",
    "* La varianza mide qué tan propagados se encuentran un conjunto de valores aleatorios de su media.\n",
    "* Mientras que la media nos da una idea de dónde se encuentran los valores, la varianza nos dice que tan dispersos se encuentran.\n",
    "* La varianza siempre debe entenderse con respecto a la media.\n",
    "\n",
    "### $Var(X) = {1\\over{n}} \\sum_{i=1}^n(x_i - \\mu)^2$\n",
    "\n",
    "* La desviación estándar es la raíz cuadrada de la varianza.\n",
    "* Nos permite entender, también, la propagación y se debe entender siempre relacionado a la media.\n",
    "* La ventaja sobre la varianza es que la desviación estándar está en las mismas unidades que la media.\n",
    "\n",
    "\n"
   ]
  },
  {
   "cell_type": "code",
   "execution_count": 5,
   "metadata": {},
   "outputs": [],
   "source": [
    "def varianza(X: list):\n",
    "    mu = media(X)\n",
    "\n",
    "    suma = 0\n",
    "\n",
    "    for x in X:\n",
    "        suma += (x - mu) ** 2\n",
    "\n",
    "    return suma / len(X)"
   ]
  },
  {
   "cell_type": "code",
   "execution_count": 6,
   "metadata": {},
   "outputs": [],
   "source": [
    "def desviacion_estandar(X: list):\n",
    "    return varianza(X) ** 0.5"
   ]
  },
  {
   "cell_type": "code",
   "execution_count": 7,
   "metadata": {},
   "outputs": [
    {
     "name": "stdout",
     "output_type": "stream",
     "text": [
      "Muestra:\n",
      " [9, 10, 19, 6, 21, 14, 1, 7, 11, 14, 17, 4, 13, 8, 14, 1, 10, 6, 21, 6]\n",
      "Media =  10.6\n",
      "Varianza =  34.13999999999999\n",
      "Desviación estándar = 5.842944463196616\n"
     ]
    }
   ],
   "source": [
    "X = [random.randint(1, 21) for i in range(20)]\n",
    "\n",
    "mu = media(X)\n",
    "Var = varianza(X)\n",
    "std = desviacion_estandar(X)\n",
    "\n",
    "print('Muestra:\\n', X)\n",
    "print('Media = ', mu)\n",
    "print('Varianza = ', Var)\n",
    "print('Desviación estándar =', std)"
   ]
  },
  {
   "cell_type": "markdown",
   "metadata": {},
   "source": [
    "### Distribución normal\n",
    "\n",
    "* Es una de las distribuciones más recurrentes en cualquier ámbito.\n",
    "* Se define completamente por su media y su desviación estándar.\n",
    "* Permite calcular intervalos de confianza con la regla empírica.\n",
    "\n",
    "### $f(x) = {1\\over{\\sigma\\sqrt{2\\pi}}}e^{-{1\\over2}({{x - \\mu}\\over{\\sigma}})^2}$"
   ]
  },
  {
   "cell_type": "code",
   "execution_count": 8,
   "metadata": {},
   "outputs": [
    {
     "data": {
      "image/png": "[encoded data removed]",
      "text/plain": [
       "<Figure size 432x288 with 1 Axes>"
      ]
     },
     "metadata": {},
     "output_type": "display_data"
    }
   ],
   "source": [
    "import matplotlib.pyplot as plt\n",
    "import numpy as np\n",
    "import scipy.stats as stats\n",
    "import math\n",
    "\n",
    "plt.style.use('seaborn-darkgrid')\n",
    "\n",
    "mu = 10\n",
    "sigma = 1\n",
    "\n",
    "x = np.linspace(mu - 3*sigma, mu + 3*sigma, 100)\n",
    "\n",
    "plt.plot(x, stats.norm.pdf(x, mu, sigma))\n",
    "\n",
    "plt.ylabel('Densidad')\n",
    "plt.xlim([0, 20])\n",
    "plt.show()"
   ]
  },
  {
   "cell_type": "code",
   "execution_count": 9,
   "metadata": {},
   "outputs": [
    {
     "data": {
      "image/png": "[encoded data removed]",
      "text/plain": [
       "<Figure size 432x288 with 1 Axes>"
      ]
     },
     "metadata": {},
     "output_type": "display_data"
    }
   ],
   "source": [
    "\n",
    "mu = 10\n",
    "sigma = 3\n",
    "\n",
    "x = np.linspace(mu - 3*sigma, mu + 3*sigma, 100)\n",
    "\n",
    "plt.plot(x, stats.norm.pdf(x, mu, sigma))\n",
    "\n",
    "plt.ylabel('Densidad')\n",
    "plt.xlim([0, 20])\n",
    "plt.show()"
   ]
  },
  {
   "cell_type": "markdown",
   "metadata": {},
   "source": [
    "#### Regla empírica\n",
    "\n",
    "* También conocida como la regla 68-95-99.7\n",
    "* Señala cuál es la dispersión de los datos un una distribución normal a uno, dos y tres sigmas.\n",
    "* Permite calcular probabilidades con la densidad de la distribución normal.\n",
    "\n",
    "- $Pr(\\mu - 1\\sigma \\le X \\le \\mu + 1\\sigma) \\approx 0.6827$\n",
    "- $Pr(\\mu - 2\\sigma \\le X \\le \\mu + 2\\sigma) \\approx 0.9545$\n",
    "- $Pr(\\mu - 3\\sigma \\le X \\le \\mu + 3\\sigma) \\approx 0.9973$"
   ]
  }
 ],
 "metadata": {
  "interpreter": {
   "hash": "e7370f93d1d0cde622a1f8e1c04877d8463912d04d973331ad4851f04de6915a"
  },
  "kernelspec": {
   "display_name": "Python 3.9.9 64-bit",
   "language": "python",
   "name": "python3"
  },
  "language_info": {
   "codemirror_mode": {
    "name": "ipython",
    "version": 3
   },
   "file_extension": ".py",
   "mimetype": "text/x-python",
   "name": "python",
   "nbconvert_exporter": "python",
   "pygments_lexer": "ipython3",
   "version": "3.9.9"
  },
  "orig_nbformat": 4
 },
 "nbformat": 4,
 "nbformat_minor": 2
}
